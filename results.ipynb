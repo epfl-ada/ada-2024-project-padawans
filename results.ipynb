{
 "cells": [
  {
   "cell_type": "markdown",
   "metadata": {},
   "source": [
    "# TITLE"
   ]
  },
  {
   "cell_type": "markdown",
   "metadata": {},
   "source": [
    "# Introduction\n",
    "\n",
    "To fill"
   ]
  },
  {
   "cell_type": "markdown",
   "metadata": {},
   "source": [
    "<div style=\"border-left: 6px solid rgba(69, 157, 185, 1);border-radius:5px; box-shadow: 3px 3px 3px rgba(221, 221, 221, 1);\" >\n",
    "    <p style=\"background-color: rgba(69, 157, 185, 0.1); font-weight:bold; padding: 8px 0 8px 15px;\">Analysis</p>\n",
    "    <div style=\"padding: 0 0 2px 10px;\">\n",
    "    \n",
    "**What will be covered :**\n",
    "- **Part 1 :** Data Exploration and Processing\n",
    "- **Part 2 :** Data Analysis\n",
    "- **Part 3 :** Is LDA a feasible method for our data ?\n",
    "\n",
    "</div></div>\n",
    "<br/>\n",
    "\n",
    "---"
   ]
  },
  {
   "cell_type": "markdown",
   "metadata": {},
   "source": [
    "# Part 1: Data Exploration and Processing"
   ]
  },
  {
   "cell_type": "markdown",
   "metadata": {},
   "source": [
    "### Import libraries"
   ]
  },
  {
   "cell_type": "code",
   "execution_count": 1,
   "metadata": {
    "execution": {
     "iopub.execute_input": "2024-11-14T16:04:49.410647Z",
     "iopub.status.busy": "2024-11-14T16:04:49.409150Z",
     "iopub.status.idle": "2024-11-14T16:05:11.809555Z",
     "shell.execute_reply": "2024-11-14T16:05:11.806769Z",
     "shell.execute_reply.started": "2024-11-14T16:04:49.410542Z"
    }
   },
   "outputs": [
    {
     "name": "stderr",
     "output_type": "stream",
     "text": [
      "c:\\Users\\babou\\EPFL\\Software\\Anaconda\\envs\\ada\\Lib\\site-packages\\tqdm\\auto.py:21: TqdmWarning: IProgress not found. Please update jupyter and ipywidgets. See https://ipywidgets.readthedocs.io/en/stable/user_install.html\n",
      "  from .autonotebook import tqdm as notebook_tqdm\n"
     ]
    }
   ],
   "source": [
    "import numpy as np\n",
    "import pandas as pd\n",
    "import matplotlib.pyplot as plt \n",
    "import matplotlib.ticker as mtick\n",
    "import plotly.graph_objects as go\n",
    "import ast\n",
    "\n",
    "# LDA\n",
    "import spacy\n",
    "import nltk\n",
    "#nltk.download('punkt')\n",
    "#nltk.download('stopwords')\n",
    "# gensim is a popular library for topic modelling\n",
    "from gensim.corpora import Dictionary\n",
    "from gensim.models import LdaModel\n",
    "from nltk.tokenize import word_tokenize\n",
    "from nltk.corpus import stopwords\n",
    "import pickle\n",
    "\n",
    "\n",
    "from imdb import IMDb\n",
    "import re\n",
    "import kagglehub # To extract synopsis dataframes\n",
    "\n",
    "\n",
    "\n"
   ]
  },
  {
   "cell_type": "markdown",
   "metadata": {},
   "source": [
    "## 1.1 Dataset exploration "
   ]
  },
  {
   "cell_type": "markdown",
   "metadata": {},
   "source": [
    "### Load initial movie dataset"
   ]
  },
  {
   "cell_type": "code",
   "execution_count": 2,
   "metadata": {
    "execution": {
     "iopub.execute_input": "2024-11-14T16:05:55.685760Z",
     "iopub.status.busy": "2024-11-14T16:05:55.684654Z",
     "iopub.status.idle": "2024-11-14T16:05:56.142062Z",
     "shell.execute_reply": "2024-11-14T16:05:56.141228Z",
     "shell.execute_reply.started": "2024-11-14T16:05:55.685676Z"
    }
   },
   "outputs": [
    {
     "name": "stdout",
     "output_type": "stream",
     "text": [
      "The dataset contains 81741 movies and 9 features\n"
     ]
    },
    {
     "data": {
      "text/html": [
       "<div>\n",
       "<style scoped>\n",
       "    .dataframe tbody tr th:only-of-type {\n",
       "        vertical-align: middle;\n",
       "    }\n",
       "\n",
       "    .dataframe tbody tr th {\n",
       "        vertical-align: top;\n",
       "    }\n",
       "\n",
       "    .dataframe thead th {\n",
       "        text-align: right;\n",
       "    }\n",
       "</style>\n",
       "<table border=\"1\" class=\"dataframe\">\n",
       "  <thead>\n",
       "    <tr style=\"text-align: right;\">\n",
       "      <th></th>\n",
       "      <th>Wikipedia movie ID</th>\n",
       "      <th>Freebase movie ID</th>\n",
       "      <th>Movie name</th>\n",
       "      <th>Movie release date</th>\n",
       "      <th>Movie box office revenue</th>\n",
       "      <th>Movie runtime</th>\n",
       "      <th>Movie languages</th>\n",
       "      <th>Movie countries</th>\n",
       "      <th>Movie genres</th>\n",
       "    </tr>\n",
       "  </thead>\n",
       "  <tbody>\n",
       "    <tr>\n",
       "      <th>0</th>\n",
       "      <td>975900</td>\n",
       "      <td>/m/03vyhn</td>\n",
       "      <td>Ghosts of Mars</td>\n",
       "      <td>2001-08-24</td>\n",
       "      <td>14010832.0</td>\n",
       "      <td>98.0</td>\n",
       "      <td>{\"/m/02h40lc\": \"English Language\"}</td>\n",
       "      <td>{\"/m/09c7w0\": \"United States of America\"}</td>\n",
       "      <td>{\"/m/01jfsb\": \"Thriller\", \"/m/06n90\": \"Science...</td>\n",
       "    </tr>\n",
       "    <tr>\n",
       "      <th>1</th>\n",
       "      <td>3196793</td>\n",
       "      <td>/m/08yl5d</td>\n",
       "      <td>Getting Away with Murder: The JonBenét Ramsey ...</td>\n",
       "      <td>2000-02-16</td>\n",
       "      <td>NaN</td>\n",
       "      <td>95.0</td>\n",
       "      <td>{\"/m/02h40lc\": \"English Language\"}</td>\n",
       "      <td>{\"/m/09c7w0\": \"United States of America\"}</td>\n",
       "      <td>{\"/m/02n4kr\": \"Mystery\", \"/m/03bxz7\": \"Biograp...</td>\n",
       "    </tr>\n",
       "    <tr>\n",
       "      <th>2</th>\n",
       "      <td>28463795</td>\n",
       "      <td>/m/0crgdbh</td>\n",
       "      <td>Brun bitter</td>\n",
       "      <td>1988</td>\n",
       "      <td>NaN</td>\n",
       "      <td>83.0</td>\n",
       "      <td>{\"/m/05f_3\": \"Norwegian Language\"}</td>\n",
       "      <td>{\"/m/05b4w\": \"Norway\"}</td>\n",
       "      <td>{\"/m/0lsxr\": \"Crime Fiction\", \"/m/07s9rl0\": \"D...</td>\n",
       "    </tr>\n",
       "    <tr>\n",
       "      <th>3</th>\n",
       "      <td>9363483</td>\n",
       "      <td>/m/0285_cd</td>\n",
       "      <td>White Of The Eye</td>\n",
       "      <td>1987</td>\n",
       "      <td>NaN</td>\n",
       "      <td>110.0</td>\n",
       "      <td>{\"/m/02h40lc\": \"English Language\"}</td>\n",
       "      <td>{\"/m/07ssc\": \"United Kingdom\"}</td>\n",
       "      <td>{\"/m/01jfsb\": \"Thriller\", \"/m/0glj9q\": \"Erotic...</td>\n",
       "    </tr>\n",
       "    <tr>\n",
       "      <th>4</th>\n",
       "      <td>261236</td>\n",
       "      <td>/m/01mrr1</td>\n",
       "      <td>A Woman in Flames</td>\n",
       "      <td>1983</td>\n",
       "      <td>NaN</td>\n",
       "      <td>106.0</td>\n",
       "      <td>{\"/m/04306rv\": \"German Language\"}</td>\n",
       "      <td>{\"/m/0345h\": \"Germany\"}</td>\n",
       "      <td>{\"/m/07s9rl0\": \"Drama\"}</td>\n",
       "    </tr>\n",
       "  </tbody>\n",
       "</table>\n",
       "</div>"
      ],
      "text/plain": [
       "   Wikipedia movie ID Freebase movie ID  \\\n",
       "0              975900         /m/03vyhn   \n",
       "1             3196793         /m/08yl5d   \n",
       "2            28463795        /m/0crgdbh   \n",
       "3             9363483        /m/0285_cd   \n",
       "4              261236         /m/01mrr1   \n",
       "\n",
       "                                          Movie name Movie release date  \\\n",
       "0                                     Ghosts of Mars         2001-08-24   \n",
       "1  Getting Away with Murder: The JonBenét Ramsey ...         2000-02-16   \n",
       "2                                        Brun bitter               1988   \n",
       "3                                   White Of The Eye               1987   \n",
       "4                                  A Woman in Flames               1983   \n",
       "\n",
       "   Movie box office revenue  Movie runtime  \\\n",
       "0                14010832.0           98.0   \n",
       "1                       NaN           95.0   \n",
       "2                       NaN           83.0   \n",
       "3                       NaN          110.0   \n",
       "4                       NaN          106.0   \n",
       "\n",
       "                      Movie languages  \\\n",
       "0  {\"/m/02h40lc\": \"English Language\"}   \n",
       "1  {\"/m/02h40lc\": \"English Language\"}   \n",
       "2  {\"/m/05f_3\": \"Norwegian Language\"}   \n",
       "3  {\"/m/02h40lc\": \"English Language\"}   \n",
       "4   {\"/m/04306rv\": \"German Language\"}   \n",
       "\n",
       "                             Movie countries  \\\n",
       "0  {\"/m/09c7w0\": \"United States of America\"}   \n",
       "1  {\"/m/09c7w0\": \"United States of America\"}   \n",
       "2                     {\"/m/05b4w\": \"Norway\"}   \n",
       "3             {\"/m/07ssc\": \"United Kingdom\"}   \n",
       "4                    {\"/m/0345h\": \"Germany\"}   \n",
       "\n",
       "                                        Movie genres  \n",
       "0  {\"/m/01jfsb\": \"Thriller\", \"/m/06n90\": \"Science...  \n",
       "1  {\"/m/02n4kr\": \"Mystery\", \"/m/03bxz7\": \"Biograp...  \n",
       "2  {\"/m/0lsxr\": \"Crime Fiction\", \"/m/07s9rl0\": \"D...  \n",
       "3  {\"/m/01jfsb\": \"Thriller\", \"/m/0glj9q\": \"Erotic...  \n",
       "4                            {\"/m/07s9rl0\": \"Drama\"}  "
      ]
     },
     "execution_count": 2,
     "metadata": {},
     "output_type": "execute_result"
    }
   ],
   "source": [
    "movie_columnns =['Wikipedia movie ID','Freebase movie ID', 'Movie name', 'Movie release date', 'Movie box office revenue', 'Movie runtime', 'Movie languages', 'Movie countries', 'Movie genres']\n",
    "movie = pd.read_csv('data/movie.metadata.tsv', sep='\\t', header=None, names=movie_columnns)\n",
    "print('The dataset contains', movie.shape[0], 'movies and',movie.shape[1] , 'features')\n",
    "movie.head()"
   ]
  },
  {
   "cell_type": "markdown",
   "metadata": {},
   "source": [
    "# COMMENT WHAT IS THE FEATURE COMPOSTION "
   ]
  },
  {
   "cell_type": "code",
   "execution_count": 3,
   "metadata": {
    "execution": {
     "iopub.execute_input": "2024-11-14T16:05:12.828231Z",
     "iopub.status.busy": "2024-11-14T16:05:12.827983Z",
     "iopub.status.idle": "2024-11-14T16:05:12.917510Z",
     "shell.execute_reply": "2024-11-14T16:05:12.915955Z",
     "shell.execute_reply.started": "2024-11-14T16:05:12.828208Z"
    }
   },
   "outputs": [
    {
     "name": "stdout",
     "output_type": "stream",
     "text": [
      "<class 'pandas.core.frame.DataFrame'>\n",
      "RangeIndex: 81741 entries, 0 to 81740\n",
      "Data columns (total 9 columns):\n",
      " #   Column                    Non-Null Count  Dtype  \n",
      "---  ------                    --------------  -----  \n",
      " 0   Wikipedia movie ID        81741 non-null  int64  \n",
      " 1   Freebase movie ID         81741 non-null  object \n",
      " 2   Movie name                81741 non-null  object \n",
      " 3   Movie release date        74839 non-null  object \n",
      " 4   Movie box office revenue  8401 non-null   float64\n",
      " 5   Movie runtime             61291 non-null  float64\n",
      " 6   Movie languages           81741 non-null  object \n",
      " 7   Movie countries           81741 non-null  object \n",
      " 8   Movie genres              81741 non-null  object \n",
      "dtypes: float64(2), int64(1), object(6)\n",
      "memory usage: 5.6+ MB\n"
     ]
    }
   ],
   "source": [
    "movie.info()"
   ]
  },
  {
   "cell_type": "markdown",
   "metadata": {},
   "source": [
    "# QUICK COMMENT ABOUT THE TYPE"
   ]
  },
  {
   "cell_type": "markdown",
   "metadata": {},
   "source": [
    "We decide to remove the Freebase movie ID as it is no longer actively used and since for our analysis we are not interested in the movie runtime we drop this column too. "
   ]
  },
  {
   "cell_type": "code",
   "execution_count": 4,
   "metadata": {
    "execution": {
     "iopub.execute_input": "2024-11-14T16:05:12.920697Z",
     "iopub.status.busy": "2024-11-14T16:05:12.920365Z",
     "iopub.status.idle": "2024-11-14T16:05:12.952916Z",
     "shell.execute_reply": "2024-11-14T16:05:12.950458Z",
     "shell.execute_reply.started": "2024-11-14T16:05:12.920669Z"
    }
   },
   "outputs": [
    {
     "data": {
      "text/html": [
       "<div>\n",
       "<style scoped>\n",
       "    .dataframe tbody tr th:only-of-type {\n",
       "        vertical-align: middle;\n",
       "    }\n",
       "\n",
       "    .dataframe tbody tr th {\n",
       "        vertical-align: top;\n",
       "    }\n",
       "\n",
       "    .dataframe thead th {\n",
       "        text-align: right;\n",
       "    }\n",
       "</style>\n",
       "<table border=\"1\" class=\"dataframe\">\n",
       "  <thead>\n",
       "    <tr style=\"text-align: right;\">\n",
       "      <th></th>\n",
       "      <th>Wikipedia movie ID</th>\n",
       "      <th>Movie name</th>\n",
       "      <th>Movie release date</th>\n",
       "      <th>Movie box office revenue</th>\n",
       "      <th>Movie languages</th>\n",
       "      <th>Movie countries</th>\n",
       "      <th>Movie genres</th>\n",
       "    </tr>\n",
       "  </thead>\n",
       "  <tbody>\n",
       "    <tr>\n",
       "      <th>0</th>\n",
       "      <td>975900</td>\n",
       "      <td>Ghosts of Mars</td>\n",
       "      <td>2001-08-24</td>\n",
       "      <td>14010832.0</td>\n",
       "      <td>{\"/m/02h40lc\": \"English Language\"}</td>\n",
       "      <td>{\"/m/09c7w0\": \"United States of America\"}</td>\n",
       "      <td>{\"/m/01jfsb\": \"Thriller\", \"/m/06n90\": \"Science...</td>\n",
       "    </tr>\n",
       "    <tr>\n",
       "      <th>1</th>\n",
       "      <td>3196793</td>\n",
       "      <td>Getting Away with Murder: The JonBenét Ramsey ...</td>\n",
       "      <td>2000-02-16</td>\n",
       "      <td>NaN</td>\n",
       "      <td>{\"/m/02h40lc\": \"English Language\"}</td>\n",
       "      <td>{\"/m/09c7w0\": \"United States of America\"}</td>\n",
       "      <td>{\"/m/02n4kr\": \"Mystery\", \"/m/03bxz7\": \"Biograp...</td>\n",
       "    </tr>\n",
       "    <tr>\n",
       "      <th>2</th>\n",
       "      <td>28463795</td>\n",
       "      <td>Brun bitter</td>\n",
       "      <td>1988</td>\n",
       "      <td>NaN</td>\n",
       "      <td>{\"/m/05f_3\": \"Norwegian Language\"}</td>\n",
       "      <td>{\"/m/05b4w\": \"Norway\"}</td>\n",
       "      <td>{\"/m/0lsxr\": \"Crime Fiction\", \"/m/07s9rl0\": \"D...</td>\n",
       "    </tr>\n",
       "    <tr>\n",
       "      <th>3</th>\n",
       "      <td>9363483</td>\n",
       "      <td>White Of The Eye</td>\n",
       "      <td>1987</td>\n",
       "      <td>NaN</td>\n",
       "      <td>{\"/m/02h40lc\": \"English Language\"}</td>\n",
       "      <td>{\"/m/07ssc\": \"United Kingdom\"}</td>\n",
       "      <td>{\"/m/01jfsb\": \"Thriller\", \"/m/0glj9q\": \"Erotic...</td>\n",
       "    </tr>\n",
       "    <tr>\n",
       "      <th>4</th>\n",
       "      <td>261236</td>\n",
       "      <td>A Woman in Flames</td>\n",
       "      <td>1983</td>\n",
       "      <td>NaN</td>\n",
       "      <td>{\"/m/04306rv\": \"German Language\"}</td>\n",
       "      <td>{\"/m/0345h\": \"Germany\"}</td>\n",
       "      <td>{\"/m/07s9rl0\": \"Drama\"}</td>\n",
       "    </tr>\n",
       "  </tbody>\n",
       "</table>\n",
       "</div>"
      ],
      "text/plain": [
       "   Wikipedia movie ID                                         Movie name  \\\n",
       "0              975900                                     Ghosts of Mars   \n",
       "1             3196793  Getting Away with Murder: The JonBenét Ramsey ...   \n",
       "2            28463795                                        Brun bitter   \n",
       "3             9363483                                   White Of The Eye   \n",
       "4              261236                                  A Woman in Flames   \n",
       "\n",
       "  Movie release date  Movie box office revenue  \\\n",
       "0         2001-08-24                14010832.0   \n",
       "1         2000-02-16                       NaN   \n",
       "2               1988                       NaN   \n",
       "3               1987                       NaN   \n",
       "4               1983                       NaN   \n",
       "\n",
       "                      Movie languages  \\\n",
       "0  {\"/m/02h40lc\": \"English Language\"}   \n",
       "1  {\"/m/02h40lc\": \"English Language\"}   \n",
       "2  {\"/m/05f_3\": \"Norwegian Language\"}   \n",
       "3  {\"/m/02h40lc\": \"English Language\"}   \n",
       "4   {\"/m/04306rv\": \"German Language\"}   \n",
       "\n",
       "                             Movie countries  \\\n",
       "0  {\"/m/09c7w0\": \"United States of America\"}   \n",
       "1  {\"/m/09c7w0\": \"United States of America\"}   \n",
       "2                     {\"/m/05b4w\": \"Norway\"}   \n",
       "3             {\"/m/07ssc\": \"United Kingdom\"}   \n",
       "4                    {\"/m/0345h\": \"Germany\"}   \n",
       "\n",
       "                                        Movie genres  \n",
       "0  {\"/m/01jfsb\": \"Thriller\", \"/m/06n90\": \"Science...  \n",
       "1  {\"/m/02n4kr\": \"Mystery\", \"/m/03bxz7\": \"Biograp...  \n",
       "2  {\"/m/0lsxr\": \"Crime Fiction\", \"/m/07s9rl0\": \"D...  \n",
       "3  {\"/m/01jfsb\": \"Thriller\", \"/m/0glj9q\": \"Erotic...  \n",
       "4                            {\"/m/07s9rl0\": \"Drama\"}  "
      ]
     },
     "execution_count": 4,
     "metadata": {},
     "output_type": "execute_result"
    }
   ],
   "source": [
    "movie_drop = movie.drop(['Freebase movie ID', 'Movie runtime'], axis=1)\n",
    "movie_drop.head()\n"
   ]
  },
  {
   "cell_type": "markdown",
   "metadata": {},
   "source": [
    "## CHNAGE COMMENT"
   ]
  },
  {
   "cell_type": "markdown",
   "metadata": {},
   "source": [
    "The three following column of our dataset: Movie languages,\tMovie countries and Movie genres are formatted differently"
   ]
  },
  {
   "cell_type": "code",
   "execution_count": 5,
   "metadata": {
    "execution": {
     "iopub.execute_input": "2024-11-14T16:05:12.957244Z",
     "iopub.status.busy": "2024-11-14T16:05:12.956257Z",
     "iopub.status.idle": "2024-11-14T16:05:12.975776Z",
     "shell.execute_reply": "2024-11-14T16:05:12.973754Z",
     "shell.execute_reply.started": "2024-11-14T16:05:12.957167Z"
    }
   },
   "outputs": [],
   "source": [
    "def convert_to_list(df, column_name):\n",
    "    #Convert to dictionnary \n",
    "    df[column_name] = df[column_name].apply(lambda x: ast.literal_eval(x) if isinstance(x, str) else x)\n",
    "    #Convert to list\n",
    "    df[column_name] = df[column_name].apply(lambda x: list(x.values()) if isinstance(x, dict) else None)\n",
    "    return df[column_name]"
   ]
  },
  {
   "cell_type": "code",
   "execution_count": 6,
   "metadata": {
    "execution": {
     "iopub.execute_input": "2024-11-14T16:05:12.979825Z",
     "iopub.status.busy": "2024-11-14T16:05:12.978919Z",
     "iopub.status.idle": "2024-11-14T16:05:18.808314Z",
     "shell.execute_reply": "2024-11-14T16:05:18.807581Z",
     "shell.execute_reply.started": "2024-11-14T16:05:12.979751Z"
    }
   },
   "outputs": [],
   "source": [
    "movies_df = movie_drop.copy()\n",
    "movies_df['Movie genres'] = convert_to_list(movies_df, 'Movie genres')\n",
    "movies_df['Movie languages'] = convert_to_list(movies_df, 'Movie languages')\n",
    "movies_df['Movie countries'] = convert_to_list(movies_df, 'Movie countries')"
   ]
  },
  {
   "cell_type": "code",
   "execution_count": 7,
   "metadata": {
    "execution": {
     "iopub.execute_input": "2024-11-14T16:05:18.809485Z",
     "iopub.status.busy": "2024-11-14T16:05:18.809191Z",
     "iopub.status.idle": "2024-11-14T16:05:18.829855Z",
     "shell.execute_reply": "2024-11-14T16:05:18.828317Z",
     "shell.execute_reply.started": "2024-11-14T16:05:18.809460Z"
    }
   },
   "outputs": [
    {
     "data": {
      "text/html": [
       "<div>\n",
       "<style scoped>\n",
       "    .dataframe tbody tr th:only-of-type {\n",
       "        vertical-align: middle;\n",
       "    }\n",
       "\n",
       "    .dataframe tbody tr th {\n",
       "        vertical-align: top;\n",
       "    }\n",
       "\n",
       "    .dataframe thead th {\n",
       "        text-align: right;\n",
       "    }\n",
       "</style>\n",
       "<table border=\"1\" class=\"dataframe\">\n",
       "  <thead>\n",
       "    <tr style=\"text-align: right;\">\n",
       "      <th></th>\n",
       "      <th>Wikipedia movie ID</th>\n",
       "      <th>Movie name</th>\n",
       "      <th>Movie release date</th>\n",
       "      <th>Movie box office revenue</th>\n",
       "      <th>Movie languages</th>\n",
       "      <th>Movie countries</th>\n",
       "      <th>Movie genres</th>\n",
       "    </tr>\n",
       "  </thead>\n",
       "  <tbody>\n",
       "    <tr>\n",
       "      <th>0</th>\n",
       "      <td>975900</td>\n",
       "      <td>Ghosts of Mars</td>\n",
       "      <td>2001-08-24</td>\n",
       "      <td>14010832.0</td>\n",
       "      <td>[English Language]</td>\n",
       "      <td>[United States of America]</td>\n",
       "      <td>[Thriller, Science Fiction, Horror, Adventure,...</td>\n",
       "    </tr>\n",
       "    <tr>\n",
       "      <th>1</th>\n",
       "      <td>3196793</td>\n",
       "      <td>Getting Away with Murder: The JonBenét Ramsey ...</td>\n",
       "      <td>2000-02-16</td>\n",
       "      <td>NaN</td>\n",
       "      <td>[English Language]</td>\n",
       "      <td>[United States of America]</td>\n",
       "      <td>[Mystery, Biographical film, Drama, Crime Drama]</td>\n",
       "    </tr>\n",
       "    <tr>\n",
       "      <th>2</th>\n",
       "      <td>28463795</td>\n",
       "      <td>Brun bitter</td>\n",
       "      <td>1988</td>\n",
       "      <td>NaN</td>\n",
       "      <td>[Norwegian Language]</td>\n",
       "      <td>[Norway]</td>\n",
       "      <td>[Crime Fiction, Drama]</td>\n",
       "    </tr>\n",
       "    <tr>\n",
       "      <th>3</th>\n",
       "      <td>9363483</td>\n",
       "      <td>White Of The Eye</td>\n",
       "      <td>1987</td>\n",
       "      <td>NaN</td>\n",
       "      <td>[English Language]</td>\n",
       "      <td>[United Kingdom]</td>\n",
       "      <td>[Thriller, Erotic thriller, Psychological thri...</td>\n",
       "    </tr>\n",
       "    <tr>\n",
       "      <th>4</th>\n",
       "      <td>261236</td>\n",
       "      <td>A Woman in Flames</td>\n",
       "      <td>1983</td>\n",
       "      <td>NaN</td>\n",
       "      <td>[German Language]</td>\n",
       "      <td>[Germany]</td>\n",
       "      <td>[Drama]</td>\n",
       "    </tr>\n",
       "  </tbody>\n",
       "</table>\n",
       "</div>"
      ],
      "text/plain": [
       "   Wikipedia movie ID                                         Movie name  \\\n",
       "0              975900                                     Ghosts of Mars   \n",
       "1             3196793  Getting Away with Murder: The JonBenét Ramsey ...   \n",
       "2            28463795                                        Brun bitter   \n",
       "3             9363483                                   White Of The Eye   \n",
       "4              261236                                  A Woman in Flames   \n",
       "\n",
       "  Movie release date  Movie box office revenue       Movie languages  \\\n",
       "0         2001-08-24                14010832.0    [English Language]   \n",
       "1         2000-02-16                       NaN    [English Language]   \n",
       "2               1988                       NaN  [Norwegian Language]   \n",
       "3               1987                       NaN    [English Language]   \n",
       "4               1983                       NaN     [German Language]   \n",
       "\n",
       "              Movie countries  \\\n",
       "0  [United States of America]   \n",
       "1  [United States of America]   \n",
       "2                    [Norway]   \n",
       "3            [United Kingdom]   \n",
       "4                   [Germany]   \n",
       "\n",
       "                                        Movie genres  \n",
       "0  [Thriller, Science Fiction, Horror, Adventure,...  \n",
       "1   [Mystery, Biographical film, Drama, Crime Drama]  \n",
       "2                             [Crime Fiction, Drama]  \n",
       "3  [Thriller, Erotic thriller, Psychological thri...  \n",
       "4                                            [Drama]  "
      ]
     },
     "execution_count": 7,
     "metadata": {},
     "output_type": "execute_result"
    }
   ],
   "source": [
    "movies_df.head()"
   ]
  },
  {
   "cell_type": "markdown",
   "metadata": {},
   "source": [
    "We can now see that the columns containing information about movie languages, countries, and genres are indeed formatted as lists. "
   ]
  },
  {
   "cell_type": "markdown",
   "metadata": {},
   "source": [
    "For our analysis, having the full release date isn't necessary, just the year is enough. Therefore, we convert the release date into a year format (e.g. 1995-07-21 becomes 1995)."
   ]
  },
  {
   "cell_type": "code",
   "execution_count": 8,
   "metadata": {
    "execution": {
     "iopub.execute_input": "2024-11-14T16:05:18.831365Z",
     "iopub.status.busy": "2024-11-14T16:05:18.831072Z",
     "iopub.status.idle": "2024-11-14T16:05:41.397719Z",
     "shell.execute_reply": "2024-11-14T16:05:41.395357Z",
     "shell.execute_reply.started": "2024-11-14T16:05:18.831338Z"
    }
   },
   "outputs": [
    {
     "name": "stdout",
     "output_type": "stream",
     "text": [
      "0    2001\n",
      "1    2000\n",
      "2    1988\n",
      "3    1987\n",
      "4    1983\n",
      "Name: Movie release date, dtype: Int64\n"
     ]
    }
   ],
   "source": [
    "def extract_year(value):\n",
    "    # Check if the value is a year (4-digit number) and return it as is\n",
    "    if isinstance(value, int) or (isinstance(value, str) and value.isdigit() and len(value) == 4):\n",
    "        return int(value)\n",
    "    # Try to convert complete date strings to datetime and extract the year\n",
    "    try:\n",
    "        return pd.to_datetime(value).year\n",
    "    except (ValueError, TypeError):\n",
    "        return np.nan  # Return NaN if conversion fails\n",
    "\n",
    "movies_df['Movie release date'] = movies_df['Movie release date'].apply(extract_year).astype('Int64')\n",
    "\n",
    "print(movies_df['Movie release date'].head())"
   ]
  },
  {
   "cell_type": "markdown",
   "metadata": {},
   "source": [
    "## EXPLAIN WHY INTERSTED ON SUMMARY (LDA)"
   ]
  },
  {
   "cell_type": "code",
   "execution_count": 9,
   "metadata": {
    "execution": {
     "iopub.execute_input": "2024-11-14T16:05:41.399999Z",
     "iopub.status.busy": "2024-11-14T16:05:41.399662Z",
     "iopub.status.idle": "2024-11-14T16:05:46.245685Z",
     "shell.execute_reply": "2024-11-14T16:05:46.244316Z",
     "shell.execute_reply.started": "2024-11-14T16:05:41.399971Z"
    }
   },
   "outputs": [],
   "source": [
    "sum_columns = ['Wikipedia movie ID','Plot summary']\n",
    "sum_df = pd.read_csv('data/plot_summaries.txt', sep='\\t', header=None)\n",
    "sum_df.columns = sum_columns"
   ]
  },
  {
   "cell_type": "code",
   "execution_count": 10,
   "metadata": {
    "execution": {
     "iopub.execute_input": "2024-11-14T16:05:46.247428Z",
     "iopub.status.busy": "2024-11-14T16:05:46.247117Z",
     "iopub.status.idle": "2024-11-14T16:05:46.297041Z",
     "shell.execute_reply": "2024-11-14T16:05:46.294883Z",
     "shell.execute_reply.started": "2024-11-14T16:05:46.247379Z"
    }
   },
   "outputs": [
    {
     "data": {
      "text/plain": [
       "count    42303.000000\n",
       "mean      1784.034229\n",
       "std       1808.925536\n",
       "min         99.000000\n",
       "25%        508.000000\n",
       "50%       1079.000000\n",
       "75%       2604.500000\n",
       "max      28159.000000\n",
       "Name: summary_length, dtype: float64"
      ]
     },
     "execution_count": 10,
     "metadata": {},
     "output_type": "execute_result"
    }
   ],
   "source": [
    "# Length of each plot summary\n",
    "sum_df['summary_length'] = sum_df['Plot summary'].apply(len)\n",
    "sum_df['summary_length'].describe()"
   ]
  },
  {
   "cell_type": "markdown",
   "metadata": {},
   "source": [
    "# SAY SOMETHING LIKE TOO SMALL AND INCOMPLETE FRO WHAT ANALYSIS WE WWANT TO DO so we chose synopsis"
   ]
  },
  {
   "cell_type": "markdown",
   "metadata": {},
   "source": [
    "+ small explanation about the dataset "
   ]
  },
  {
   "cell_type": "code",
   "execution_count": 11,
   "metadata": {
    "execution": {
     "iopub.execute_input": "2024-11-14T16:05:46.298734Z",
     "iopub.status.busy": "2024-11-14T16:05:46.298298Z",
     "iopub.status.idle": "2024-11-14T16:05:47.484294Z",
     "shell.execute_reply": "2024-11-14T16:05:47.479552Z",
     "shell.execute_reply.started": "2024-11-14T16:05:46.298694Z"
    }
   },
   "outputs": [
    {
     "name": "stdout",
     "output_type": "stream",
     "text": [
      "This synopsis dataframe is of size: (14828, 6)\n"
     ]
    },
    {
     "data": {
      "text/html": [
       "<div>\n",
       "<style scoped>\n",
       "    .dataframe tbody tr th:only-of-type {\n",
       "        vertical-align: middle;\n",
       "    }\n",
       "\n",
       "    .dataframe tbody tr th {\n",
       "        vertical-align: top;\n",
       "    }\n",
       "\n",
       "    .dataframe thead th {\n",
       "        text-align: right;\n",
       "    }\n",
       "</style>\n",
       "<table border=\"1\" class=\"dataframe\">\n",
       "  <thead>\n",
       "    <tr style=\"text-align: right;\">\n",
       "      <th></th>\n",
       "      <th>imdb_id</th>\n",
       "      <th>title</th>\n",
       "      <th>plot_synopsis</th>\n",
       "      <th>tags</th>\n",
       "      <th>split</th>\n",
       "      <th>synopsis_source</th>\n",
       "    </tr>\n",
       "  </thead>\n",
       "  <tbody>\n",
       "    <tr>\n",
       "      <th>0</th>\n",
       "      <td>tt0057603</td>\n",
       "      <td>I tre volti della paura</td>\n",
       "      <td>Note: this synopsis is for the orginal Italian...</td>\n",
       "      <td>cult, horror, gothic, murder, atmospheric</td>\n",
       "      <td>train</td>\n",
       "      <td>imdb</td>\n",
       "    </tr>\n",
       "    <tr>\n",
       "      <th>1</th>\n",
       "      <td>tt1733125</td>\n",
       "      <td>Dungeons &amp; Dragons: The Book of Vile Darkness</td>\n",
       "      <td>Two thousand years ago, Nhagruul the Foul, a s...</td>\n",
       "      <td>violence</td>\n",
       "      <td>train</td>\n",
       "      <td>imdb</td>\n",
       "    </tr>\n",
       "    <tr>\n",
       "      <th>2</th>\n",
       "      <td>tt0033045</td>\n",
       "      <td>The Shop Around the Corner</td>\n",
       "      <td>Matuschek's, a gift store in Budapest, is the ...</td>\n",
       "      <td>romantic</td>\n",
       "      <td>test</td>\n",
       "      <td>imdb</td>\n",
       "    </tr>\n",
       "    <tr>\n",
       "      <th>3</th>\n",
       "      <td>tt0113862</td>\n",
       "      <td>Mr. Holland's Opus</td>\n",
       "      <td>Glenn Holland, not a morning person by anyone'...</td>\n",
       "      <td>inspiring, romantic, stupid, feel-good</td>\n",
       "      <td>train</td>\n",
       "      <td>imdb</td>\n",
       "    </tr>\n",
       "    <tr>\n",
       "      <th>4</th>\n",
       "      <td>tt0086250</td>\n",
       "      <td>Scarface</td>\n",
       "      <td>In May 1980, a Cuban man named Tony Montana (A...</td>\n",
       "      <td>cruelty, murder, dramatic, cult, violence, atm...</td>\n",
       "      <td>val</td>\n",
       "      <td>imdb</td>\n",
       "    </tr>\n",
       "  </tbody>\n",
       "</table>\n",
       "</div>"
      ],
      "text/plain": [
       "     imdb_id                                          title  \\\n",
       "0  tt0057603                        I tre volti della paura   \n",
       "1  tt1733125  Dungeons & Dragons: The Book of Vile Darkness   \n",
       "2  tt0033045                     The Shop Around the Corner   \n",
       "3  tt0113862                             Mr. Holland's Opus   \n",
       "4  tt0086250                                       Scarface   \n",
       "\n",
       "                                       plot_synopsis  \\\n",
       "0  Note: this synopsis is for the orginal Italian...   \n",
       "1  Two thousand years ago, Nhagruul the Foul, a s...   \n",
       "2  Matuschek's, a gift store in Budapest, is the ...   \n",
       "3  Glenn Holland, not a morning person by anyone'...   \n",
       "4  In May 1980, a Cuban man named Tony Montana (A...   \n",
       "\n",
       "                                                tags  split synopsis_source  \n",
       "0          cult, horror, gothic, murder, atmospheric  train            imdb  \n",
       "1                                           violence  train            imdb  \n",
       "2                                           romantic   test            imdb  \n",
       "3             inspiring, romantic, stupid, feel-good  train            imdb  \n",
       "4  cruelty, murder, dramatic, cult, violence, atm...    val            imdb  "
      ]
     },
     "execution_count": 11,
     "metadata": {},
     "output_type": "execute_result"
    }
   ],
   "source": [
    "# Load data\n",
    "synopsis = pd.read_csv('Data/mpst_full_data.csv')\n",
    "\n",
    "# Check data shape\n",
    "print(\"This synopsis dataframe is of size:\", synopsis.shape)\n",
    "\n",
    "# Display df\n",
    "synopsis.head()"
   ]
  },
  {
   "cell_type": "code",
   "execution_count": 12,
   "metadata": {
    "execution": {
     "iopub.status.busy": "2024-11-14T16:05:47.485067Z",
     "iopub.status.idle": "2024-11-14T16:05:47.486909Z",
     "shell.execute_reply": "2024-11-14T16:05:47.485275Z",
     "shell.execute_reply.started": "2024-11-14T16:05:47.485259Z"
    }
   },
   "outputs": [
    {
     "data": {
      "text/plain": [
       "count    14828.000000\n",
       "mean      5139.938090\n",
       "std       4939.950638\n",
       "min        442.000000\n",
       "25%       2494.750000\n",
       "50%       3827.000000\n",
       "75%       5760.000000\n",
       "max      63959.000000\n",
       "Name: plot_length, dtype: float64"
      ]
     },
     "execution_count": 12,
     "metadata": {},
     "output_type": "execute_result"
    }
   ],
   "source": [
    "# Length of each plot summary\n",
    "size_synopsis = synopsis.copy()\n",
    "size_synopsis['plot_length'] = synopsis['plot_synopsis'].apply(len)\n",
    "size_synopsis['plot_length'].describe()"
   ]
  },
  {
   "cell_type": "markdown",
   "metadata": {},
   "source": [
    "### Comment\n",
    "The dataframe offers extra movie tags and the full movie synopsis which would give the LDA more context to group movies together. On the other hand there a only 14'828 rows which is consequently smaller than the initial dataframe. We make the choice to reduce the dataset but gain precision on the themes generated by the LDA. Another important notice is that this dataframe uses imdb_id not wikipedia movie ids."
   ]
  },
  {
   "cell_type": "markdown",
   "metadata": {},
   "source": [
    "# ALSO COMPARE TO MOVIE SUMMARY LENGTH "
   ]
  },
  {
   "cell_type": "markdown",
   "metadata": {},
   "source": [
    "In this dataset there is also column that we are not interested about so we drop them."
   ]
  },
  {
   "cell_type": "code",
   "execution_count": 13,
   "metadata": {
    "execution": {
     "iopub.status.busy": "2024-11-14T16:05:47.488399Z",
     "iopub.status.idle": "2024-11-14T16:05:47.488785Z",
     "shell.execute_reply": "2024-11-14T16:05:47.488633Z",
     "shell.execute_reply.started": "2024-11-14T16:05:47.488617Z"
    }
   },
   "outputs": [
    {
     "data": {
      "text/html": [
       "<div>\n",
       "<style scoped>\n",
       "    .dataframe tbody tr th:only-of-type {\n",
       "        vertical-align: middle;\n",
       "    }\n",
       "\n",
       "    .dataframe tbody tr th {\n",
       "        vertical-align: top;\n",
       "    }\n",
       "\n",
       "    .dataframe thead th {\n",
       "        text-align: right;\n",
       "    }\n",
       "</style>\n",
       "<table border=\"1\" class=\"dataframe\">\n",
       "  <thead>\n",
       "    <tr style=\"text-align: right;\">\n",
       "      <th></th>\n",
       "      <th>imdb_id</th>\n",
       "      <th>plot_synopsis</th>\n",
       "      <th>tags</th>\n",
       "      <th>Wikipedia movie ID</th>\n",
       "      <th>Movie name</th>\n",
       "      <th>Movie release date</th>\n",
       "      <th>Movie box office revenue</th>\n",
       "      <th>Movie languages</th>\n",
       "      <th>Movie countries</th>\n",
       "      <th>Movie genres</th>\n",
       "    </tr>\n",
       "  </thead>\n",
       "  <tbody>\n",
       "    <tr>\n",
       "      <th>0</th>\n",
       "      <td>tt1733125</td>\n",
       "      <td>Two thousand years ago, Nhagruul the Foul, a s...</td>\n",
       "      <td>violence</td>\n",
       "      <td>30855958</td>\n",
       "      <td>Dungeons &amp; Dragons: The Book of Vile Darkness</td>\n",
       "      <td>2012</td>\n",
       "      <td>NaN</td>\n",
       "      <td>[]</td>\n",
       "      <td>[United Kingdom]</td>\n",
       "      <td>[Fantasy]</td>\n",
       "    </tr>\n",
       "    <tr>\n",
       "      <th>1</th>\n",
       "      <td>tt0033045</td>\n",
       "      <td>Matuschek's, a gift store in Budapest, is the ...</td>\n",
       "      <td>romantic</td>\n",
       "      <td>76353</td>\n",
       "      <td>The Shop Around the Corner</td>\n",
       "      <td>1940</td>\n",
       "      <td>NaN</td>\n",
       "      <td>[English Language]</td>\n",
       "      <td>[United States of America]</td>\n",
       "      <td>[Romantic comedy, Workplace Comedy, Black-and-...</td>\n",
       "    </tr>\n",
       "    <tr>\n",
       "      <th>2</th>\n",
       "      <td>tt0113862</td>\n",
       "      <td>Glenn Holland, not a morning person by anyone'...</td>\n",
       "      <td>inspiring, romantic, stupid, feel-good</td>\n",
       "      <td>171076</td>\n",
       "      <td>Mr. Holland's Opus</td>\n",
       "      <td>1995</td>\n",
       "      <td>106269971.0</td>\n",
       "      <td>[English Language, American Sign Language]</td>\n",
       "      <td>[United States of America]</td>\n",
       "      <td>[Inspirational Drama, Family Film, Drama, Musi...</td>\n",
       "    </tr>\n",
       "    <tr>\n",
       "      <th>3</th>\n",
       "      <td>tt0086250</td>\n",
       "      <td>In May 1980, a Cuban man named Tony Montana (A...</td>\n",
       "      <td>cruelty, murder, dramatic, cult, violence, atm...</td>\n",
       "      <td>76331</td>\n",
       "      <td>Scarface</td>\n",
       "      <td>1932</td>\n",
       "      <td>NaN</td>\n",
       "      <td>[Italian Language, English Language]</td>\n",
       "      <td>[United States of America]</td>\n",
       "      <td>[Crime Fiction, Gangster Film, Black-and-white...</td>\n",
       "    </tr>\n",
       "    <tr>\n",
       "      <th>4</th>\n",
       "      <td>tt0086250</td>\n",
       "      <td>In May 1980, a Cuban man named Tony Montana (A...</td>\n",
       "      <td>cruelty, murder, dramatic, cult, violence, atm...</td>\n",
       "      <td>267848</td>\n",
       "      <td>Scarface</td>\n",
       "      <td>1983</td>\n",
       "      <td>65884703.0</td>\n",
       "      <td>[English Language, Spanish Language]</td>\n",
       "      <td>[United States of America]</td>\n",
       "      <td>[Crime Fiction, Thriller, Gangster Film, Actio...</td>\n",
       "    </tr>\n",
       "  </tbody>\n",
       "</table>\n",
       "</div>"
      ],
      "text/plain": [
       "     imdb_id                                      plot_synopsis  \\\n",
       "0  tt1733125  Two thousand years ago, Nhagruul the Foul, a s...   \n",
       "1  tt0033045  Matuschek's, a gift store in Budapest, is the ...   \n",
       "2  tt0113862  Glenn Holland, not a morning person by anyone'...   \n",
       "3  tt0086250  In May 1980, a Cuban man named Tony Montana (A...   \n",
       "4  tt0086250  In May 1980, a Cuban man named Tony Montana (A...   \n",
       "\n",
       "                                                tags  Wikipedia movie ID  \\\n",
       "0                                           violence            30855958   \n",
       "1                                           romantic               76353   \n",
       "2             inspiring, romantic, stupid, feel-good              171076   \n",
       "3  cruelty, murder, dramatic, cult, violence, atm...               76331   \n",
       "4  cruelty, murder, dramatic, cult, violence, atm...              267848   \n",
       "\n",
       "                                      Movie name  Movie release date  \\\n",
       "0  Dungeons & Dragons: The Book of Vile Darkness                2012   \n",
       "1                     The Shop Around the Corner                1940   \n",
       "2                             Mr. Holland's Opus                1995   \n",
       "3                                       Scarface                1932   \n",
       "4                                       Scarface                1983   \n",
       "\n",
       "   Movie box office revenue                             Movie languages  \\\n",
       "0                       NaN                                          []   \n",
       "1                       NaN                          [English Language]   \n",
       "2               106269971.0  [English Language, American Sign Language]   \n",
       "3                       NaN        [Italian Language, English Language]   \n",
       "4                65884703.0        [English Language, Spanish Language]   \n",
       "\n",
       "              Movie countries  \\\n",
       "0            [United Kingdom]   \n",
       "1  [United States of America]   \n",
       "2  [United States of America]   \n",
       "3  [United States of America]   \n",
       "4  [United States of America]   \n",
       "\n",
       "                                        Movie genres  \n",
       "0                                          [Fantasy]  \n",
       "1  [Romantic comedy, Workplace Comedy, Black-and-...  \n",
       "2  [Inspirational Drama, Family Film, Drama, Musi...  \n",
       "3  [Crime Fiction, Gangster Film, Black-and-white...  \n",
       "4  [Crime Fiction, Thriller, Gangster Film, Actio...  "
      ]
     },
     "execution_count": 13,
     "metadata": {},
     "output_type": "execute_result"
    }
   ],
   "source": [
    "movies_syn = synopsis.merge(movies_df, left_on='title', right_on='Movie name', how='inner')\n",
    "movies_syn.drop(columns=['title', 'split', 'synopsis_source'], inplace=True)\n",
    "movies_syn.head()"
   ]
  },
  {
   "cell_type": "code",
   "execution_count": 14,
   "metadata": {
    "execution": {
     "iopub.status.busy": "2024-11-14T16:05:47.489750Z",
     "iopub.status.idle": "2024-11-14T16:05:47.490087Z",
     "shell.execute_reply": "2024-11-14T16:05:47.489938Z",
     "shell.execute_reply.started": "2024-11-14T16:05:47.489923Z"
    }
   },
   "outputs": [
    {
     "name": "stdout",
     "output_type": "stream",
     "text": [
      "We only lost 94 movies by merging the two dataset by the titles of the movies.\n"
     ]
    }
   ],
   "source": [
    "lost_rows = synopsis.shape[0] - movies_syn.shape[0]\n",
    "print(f\"We only lost {lost_rows} movies by merging the two dataset by the titles of the movies.\")"
   ]
  },
  {
   "cell_type": "markdown",
   "metadata": {},
   "source": [
    "### Comment\n",
    "\n",
    "1. Movie loss\n",
    "\n",
    "\n",
    "The size fo the dataframe has not significantly changed, only 94 movies did not match. Our original movie df contained most of the movies present in the synopsis df.\n",
    "\n",
    "2. Same title\n",
    "\n",
    "\n",
    "We also observe that Scarface appears twice since there was a remake. For the rest for the analysis we will assume that if the name of the movie is exactly the same, the synopsis is pretty similar for both movies (if not the same!)."
   ]
  },
  {
   "cell_type": "markdown",
   "metadata": {},
   "source": [
    "# COMMENT FOR ANALYSSIS ALSO INTERESTED IN RATINGS\n",
    "We found a IMDB dataset online. "
   ]
  },
  {
   "cell_type": "code",
   "execution_count": 15,
   "metadata": {
    "execution": {
     "iopub.status.busy": "2024-11-14T16:05:47.490793Z",
     "iopub.status.idle": "2024-11-14T16:05:47.491116Z",
     "shell.execute_reply": "2024-11-14T16:05:47.490971Z",
     "shell.execute_reply.started": "2024-11-14T16:05:47.490956Z"
    }
   },
   "outputs": [],
   "source": [
    "ratings_df = pd.read_csv('data/title.ratings.tsv', sep='\\t')\n",
    "ratings_df = ratings_df.rename(columns={'tconst': 'imdb_id'})"
   ]
  },
  {
   "cell_type": "markdown",
   "metadata": {},
   "source": [
    "We rename the column to match the name our dataset"
   ]
  },
  {
   "cell_type": "code",
   "execution_count": 16,
   "metadata": {
    "execution": {
     "iopub.status.busy": "2024-11-14T16:05:47.491943Z",
     "iopub.status.idle": "2024-11-14T16:05:47.492316Z",
     "shell.execute_reply": "2024-11-14T16:05:47.492161Z",
     "shell.execute_reply.started": "2024-11-14T16:05:47.492145Z"
    }
   },
   "outputs": [
    {
     "data": {
      "text/html": [
       "<div>\n",
       "<style scoped>\n",
       "    .dataframe tbody tr th:only-of-type {\n",
       "        vertical-align: middle;\n",
       "    }\n",
       "\n",
       "    .dataframe tbody tr th {\n",
       "        vertical-align: top;\n",
       "    }\n",
       "\n",
       "    .dataframe thead th {\n",
       "        text-align: right;\n",
       "    }\n",
       "</style>\n",
       "<table border=\"1\" class=\"dataframe\">\n",
       "  <thead>\n",
       "    <tr style=\"text-align: right;\">\n",
       "      <th></th>\n",
       "      <th>imdb_id</th>\n",
       "      <th>plot_synopsis</th>\n",
       "      <th>tags</th>\n",
       "      <th>Wikipedia movie ID</th>\n",
       "      <th>Movie name</th>\n",
       "      <th>Movie release date</th>\n",
       "      <th>Movie box office revenue</th>\n",
       "      <th>Movie languages</th>\n",
       "      <th>Movie countries</th>\n",
       "      <th>Movie genres</th>\n",
       "      <th>averageRating</th>\n",
       "      <th>numVotes</th>\n",
       "    </tr>\n",
       "  </thead>\n",
       "  <tbody>\n",
       "    <tr>\n",
       "      <th>0</th>\n",
       "      <td>tt1733125</td>\n",
       "      <td>Two thousand years ago, Nhagruul the Foul, a s...</td>\n",
       "      <td>violence</td>\n",
       "      <td>30855958</td>\n",
       "      <td>Dungeons &amp; Dragons: The Book of Vile Darkness</td>\n",
       "      <td>2012</td>\n",
       "      <td>NaN</td>\n",
       "      <td>[]</td>\n",
       "      <td>[United Kingdom]</td>\n",
       "      <td>[Fantasy]</td>\n",
       "      <td>4.4</td>\n",
       "      <td>2722</td>\n",
       "    </tr>\n",
       "    <tr>\n",
       "      <th>1</th>\n",
       "      <td>tt0033045</td>\n",
       "      <td>Matuschek's, a gift store in Budapest, is the ...</td>\n",
       "      <td>romantic</td>\n",
       "      <td>76353</td>\n",
       "      <td>The Shop Around the Corner</td>\n",
       "      <td>1940</td>\n",
       "      <td>NaN</td>\n",
       "      <td>[English Language]</td>\n",
       "      <td>[United States of America]</td>\n",
       "      <td>[Romantic comedy, Workplace Comedy, Black-and-...</td>\n",
       "      <td>8.0</td>\n",
       "      <td>39430</td>\n",
       "    </tr>\n",
       "    <tr>\n",
       "      <th>2</th>\n",
       "      <td>tt0113862</td>\n",
       "      <td>Glenn Holland, not a morning person by anyone'...</td>\n",
       "      <td>inspiring, romantic, stupid, feel-good</td>\n",
       "      <td>171076</td>\n",
       "      <td>Mr. Holland's Opus</td>\n",
       "      <td>1995</td>\n",
       "      <td>106269971.0</td>\n",
       "      <td>[English Language, American Sign Language]</td>\n",
       "      <td>[United States of America]</td>\n",
       "      <td>[Inspirational Drama, Family Film, Drama, Musi...</td>\n",
       "      <td>7.3</td>\n",
       "      <td>42246</td>\n",
       "    </tr>\n",
       "    <tr>\n",
       "      <th>3</th>\n",
       "      <td>tt0086250</td>\n",
       "      <td>In May 1980, a Cuban man named Tony Montana (A...</td>\n",
       "      <td>cruelty, murder, dramatic, cult, violence, atm...</td>\n",
       "      <td>76331</td>\n",
       "      <td>Scarface</td>\n",
       "      <td>1932</td>\n",
       "      <td>NaN</td>\n",
       "      <td>[Italian Language, English Language]</td>\n",
       "      <td>[United States of America]</td>\n",
       "      <td>[Crime Fiction, Gangster Film, Black-and-white...</td>\n",
       "      <td>8.3</td>\n",
       "      <td>939727</td>\n",
       "    </tr>\n",
       "    <tr>\n",
       "      <th>4</th>\n",
       "      <td>tt0086250</td>\n",
       "      <td>In May 1980, a Cuban man named Tony Montana (A...</td>\n",
       "      <td>cruelty, murder, dramatic, cult, violence, atm...</td>\n",
       "      <td>267848</td>\n",
       "      <td>Scarface</td>\n",
       "      <td>1983</td>\n",
       "      <td>65884703.0</td>\n",
       "      <td>[English Language, Spanish Language]</td>\n",
       "      <td>[United States of America]</td>\n",
       "      <td>[Crime Fiction, Thriller, Gangster Film, Actio...</td>\n",
       "      <td>8.3</td>\n",
       "      <td>939727</td>\n",
       "    </tr>\n",
       "  </tbody>\n",
       "</table>\n",
       "</div>"
      ],
      "text/plain": [
       "     imdb_id                                      plot_synopsis  \\\n",
       "0  tt1733125  Two thousand years ago, Nhagruul the Foul, a s...   \n",
       "1  tt0033045  Matuschek's, a gift store in Budapest, is the ...   \n",
       "2  tt0113862  Glenn Holland, not a morning person by anyone'...   \n",
       "3  tt0086250  In May 1980, a Cuban man named Tony Montana (A...   \n",
       "4  tt0086250  In May 1980, a Cuban man named Tony Montana (A...   \n",
       "\n",
       "                                                tags  Wikipedia movie ID  \\\n",
       "0                                           violence            30855958   \n",
       "1                                           romantic               76353   \n",
       "2             inspiring, romantic, stupid, feel-good              171076   \n",
       "3  cruelty, murder, dramatic, cult, violence, atm...               76331   \n",
       "4  cruelty, murder, dramatic, cult, violence, atm...              267848   \n",
       "\n",
       "                                      Movie name  Movie release date  \\\n",
       "0  Dungeons & Dragons: The Book of Vile Darkness                2012   \n",
       "1                     The Shop Around the Corner                1940   \n",
       "2                             Mr. Holland's Opus                1995   \n",
       "3                                       Scarface                1932   \n",
       "4                                       Scarface                1983   \n",
       "\n",
       "   Movie box office revenue                             Movie languages  \\\n",
       "0                       NaN                                          []   \n",
       "1                       NaN                          [English Language]   \n",
       "2               106269971.0  [English Language, American Sign Language]   \n",
       "3                       NaN        [Italian Language, English Language]   \n",
       "4                65884703.0        [English Language, Spanish Language]   \n",
       "\n",
       "              Movie countries  \\\n",
       "0            [United Kingdom]   \n",
       "1  [United States of America]   \n",
       "2  [United States of America]   \n",
       "3  [United States of America]   \n",
       "4  [United States of America]   \n",
       "\n",
       "                                        Movie genres  averageRating  numVotes  \n",
       "0                                          [Fantasy]            4.4      2722  \n",
       "1  [Romantic comedy, Workplace Comedy, Black-and-...            8.0     39430  \n",
       "2  [Inspirational Drama, Family Film, Drama, Musi...            7.3     42246  \n",
       "3  [Crime Fiction, Gangster Film, Black-and-white...            8.3    939727  \n",
       "4  [Crime Fiction, Thriller, Gangster Film, Actio...            8.3    939727  "
      ]
     },
     "execution_count": 16,
     "metadata": {},
     "output_type": "execute_result"
    }
   ],
   "source": [
    "movies_ratings = pd.merge(movies_syn,ratings_df,on='imdb_id',how='inner')\n",
    "movies_ratings.head()"
   ]
  },
  {
   "cell_type": "markdown",
   "metadata": {},
   "source": [
    "Our dataset is now complete for the analysis, however we need to check the NaN values before"
   ]
  },
  {
   "cell_type": "code",
   "execution_count": 17,
   "metadata": {
    "execution": {
     "iopub.status.busy": "2024-11-14T16:05:47.493178Z",
     "iopub.status.idle": "2024-11-14T16:05:47.493540Z",
     "shell.execute_reply": "2024-11-14T16:05:47.493363Z",
     "shell.execute_reply.started": "2024-11-14T16:05:47.493348Z"
    }
   },
   "outputs": [
    {
     "data": {
      "image/png": "[encoded data removed]",
      "text/plain": [
       "<Figure size 1200x600 with 1 Axes>"
      ]
     },
     "metadata": {},
     "output_type": "display_data"
    }
   ],
   "source": [
    "# Calculate percentage of NaN values in each column\n",
    "na_percentage = (movies_ratings.isna().sum() / len(movies_ratings)) * 100\n",
    "na_percentage = na_percentage.sort_index()\n",
    "\n",
    "# Plot\n",
    "plt.figure(figsize=(12, 6))\n",
    "bars = na_percentage.plot(kind='bar', color='skyblue', width=0.8)  \n",
    "\n",
    "# Add percentage labels on top of each bar\n",
    "for i, value in enumerate(na_percentage):\n",
    "    plt.text(i, value + 1, f'{value:.1f}%', ha='center', va='bottom', fontsize=10)  \n",
    "\n",
    "plt.xlabel('Columns')\n",
    "plt.xticks(rotation=45, ha='right')  \n",
    "plt.ylabel('Percentage of NaN Values (%)')\n",
    "plt.ylim(top =73)\n",
    "plt.title('Percentage of NaN Values per Column')\n",
    "plt.tight_layout()  \n",
    "\n",
    "plt.show()\n"
   ]
  },
  {
   "cell_type": "markdown",
   "metadata": {},
   "source": [
    "Two columns contain NaN values. We need to handle. BETTER COMMENT"
   ]
  },
  {
   "cell_type": "markdown",
   "metadata": {},
   "source": [
    "We remove the years that are NaN as we are intereseted in the release years"
   ]
  },
  {
   "cell_type": "code",
   "execution_count": 18,
   "metadata": {
    "execution": {
     "iopub.status.busy": "2024-11-14T16:05:47.494560Z",
     "iopub.status.idle": "2024-11-14T16:05:47.494901Z",
     "shell.execute_reply": "2024-11-14T16:05:47.494738Z",
     "shell.execute_reply.started": "2024-11-14T16:05:47.494724Z"
    }
   },
   "outputs": [
    {
     "name": "stdout",
     "output_type": "stream",
     "text": [
      "Movie release date\n",
      "False    14253\n",
      "True       433\n",
      "Name: count, dtype: int64\n"
     ]
    },
    {
     "data": {
      "text/plain": [
       "False"
      ]
     },
     "execution_count": 18,
     "metadata": {},
     "output_type": "execute_result"
    }
   ],
   "source": [
    "print(movies_ratings['Movie release date'].isna().value_counts())\n",
    "movies_df_cleaned = movies_ratings.dropna(subset=['Movie release date'])\n",
    "\n",
    "movies_df_cleaned['Movie release date'].isna().any()"
   ]
  },
  {
   "cell_type": "markdown",
   "metadata": {},
   "source": [
    "After realizing the high number of NaN values in the box-office revenue column, we decided to complete this data as much as possible with the IMDB library."
   ]
  },
  {
   "cell_type": "code",
   "execution_count": 19,
   "metadata": {
    "execution": {
     "iopub.status.busy": "2024-11-14T16:05:47.495747Z",
     "iopub.status.idle": "2024-11-14T16:05:47.496082Z",
     "shell.execute_reply": "2024-11-14T16:05:47.495936Z",
     "shell.execute_reply.started": "2024-11-14T16:05:47.495921Z"
    }
   },
   "outputs": [
    {
     "name": "stderr",
     "output_type": "stream",
     "text": [
      "C:\\Users\\babou\\AppData\\Local\\Temp\\ipykernel_122888\\1721423630.py:6: SettingWithCopyWarning: \n",
      "A value is trying to be set on a copy of a slice from a DataFrame.\n",
      "Try using .loc[row_indexer,col_indexer] = value instead\n",
      "\n",
      "See the caveats in the documentation: https://pandas.pydata.org/pandas-docs/stable/user_guide/indexing.html#returning-a-view-versus-a-copy\n",
      "  movies_df_cleaned['imdb_id'] = movies_df_cleaned['imdb_id'].apply(lambda x : clean_ids(x, 'tt'))\n"
     ]
    }
   ],
   "source": [
    "def clean_ids(s, pattern=' '): #remove in string a pattern\n",
    "    s = str(s).replace(pattern, '')\n",
    "    return s\n",
    "\n",
    "#Get the right imdb_id by removing 'tt' in front of IDs\n",
    "movies_df_cleaned['imdb_id'] = movies_df_cleaned['imdb_id'].apply(lambda x : clean_ids(x, 'tt'))\n",
    "\n",
    "#Create a dic telling if 'Movie box office revenue' is a NaN or not\n",
    "isnan_dic = movies_df_cleaned['Movie box office revenue'].isna()\n",
    "\n",
    "def get_box_office(imdb_ID): #return the box-office revenue for a specific imdb_id\n",
    "    ia = IMDb()\n",
    "    movie = ia.get_movie(imdb_ID)\n",
    "    box_office = movie.get('box office')\n",
    "    if box_office and 'Cumulative Worldwide Gross' in box_office:\n",
    "        box_office_num = float(re.sub(r'[^\\d.]', '', box_office['Cumulative Worldwide Gross']))\n",
    "        #box_office_num = float(box_office['Cumulative Worldwide Gross'].replace('$', '').replace(',', ''))\n",
    "        return box_office_num\n",
    "    return None  # Return None if no box office data is found\n"
   ]
  },
  {
   "cell_type": "code",
   "execution_count": 20,
   "metadata": {
    "execution": {
     "iopub.status.busy": "2024-11-14T16:05:47.497092Z",
     "iopub.status.idle": "2024-11-14T16:05:47.497449Z",
     "shell.execute_reply": "2024-11-14T16:05:47.497273Z",
     "shell.execute_reply.started": "2024-11-14T16:05:47.497258Z"
    }
   },
   "outputs": [
    {
     "name": "stdout",
     "output_type": "stream",
     "text": [
      "The initial box-office was nan, we find with Imdb library None\n",
      "The initial box-office was nan, we find with Imdb library 380000.0\n",
      "The initial box-office was 106269971.0, we find with Imdb library 106269971.0\n"
     ]
    }
   ],
   "source": [
    "#Quick checks\n",
    "index_case1 = 0\n",
    "index_case2 = 1\n",
    "index_case3 = 2\n",
    "print(f\"The initial box-office was {movies_df_cleaned.iloc[index_case1]['Movie box office revenue']}, we find with Imdb library {get_box_office(movies_df_cleaned.iloc[index_case1]['imdb_id'])}\")\n",
    "print(f\"The initial box-office was {movies_df_cleaned.iloc[index_case2]['Movie box office revenue']}, we find with Imdb library {get_box_office(movies_df_cleaned.iloc[index_case2]['imdb_id'])}\")\n",
    "print(f\"The initial box-office was {movies_df_cleaned.iloc[index_case3]['Movie box office revenue']}, we find with Imdb library {get_box_office(movies_df_cleaned.iloc[index_case3]['imdb_id'])}\")"
   ]
  },
  {
   "cell_type": "markdown",
   "metadata": {},
   "source": [
    "We are indeed getting more box-office data, and recovering the same value in cases where we already had data ! Let's now apply the function on the whole dataset."
   ]
  },
  {
   "cell_type": "code",
   "execution_count": 21,
   "metadata": {
    "execution": {
     "iopub.status.busy": "2024-11-14T16:05:47.498545Z",
     "iopub.status.idle": "2024-11-14T16:05:47.498881Z",
     "shell.execute_reply": "2024-11-14T16:05:47.498725Z",
     "shell.execute_reply.started": "2024-11-14T16:05:47.498711Z"
    }
   },
   "outputs": [],
   "source": [
    "#Apply on the whole dataset\n",
    "run = False #Run is very long, directly use the file in Data directory\n",
    "if run:\n",
    "    box_offices = movies_df_cleaned.apply(lambda x: get_box_office(x['imdb_id']) if isnan_dic[x.name] else x['Movie box office revenue'], axis=1) #Try to get the box-office from Imdb only if we don't already have it\n",
    "    movies_df_cleaned.insert(len(movies_df_cleaned.columns), 'IMDB Box-office', box_offices)"
   ]
  },
  {
   "cell_type": "code",
   "execution_count": 22,
   "metadata": {
    "execution": {
     "iopub.status.busy": "2024-11-14T16:05:47.499972Z",
     "iopub.status.idle": "2024-11-14T16:05:47.500311Z",
     "shell.execute_reply": "2024-11-14T16:05:47.500163Z",
     "shell.execute_reply.started": "2024-11-14T16:05:47.500148Z"
    }
   },
   "outputs": [],
   "source": [
    "movies_synopsis_comp = movies_df_cleaned.copy()"
   ]
  },
  {
   "cell_type": "code",
   "execution_count": 23,
   "metadata": {
    "execution": {
     "iopub.status.busy": "2024-11-14T16:05:47.501268Z",
     "iopub.status.idle": "2024-11-14T16:05:47.501630Z",
     "shell.execute_reply": "2024-11-14T16:05:47.501479Z",
     "shell.execute_reply.started": "2024-11-14T16:05:47.501464Z"
    }
   },
   "outputs": [
    {
     "data": {
      "text/html": [
       "<div>\n",
       "<style scoped>\n",
       "    .dataframe tbody tr th:only-of-type {\n",
       "        vertical-align: middle;\n",
       "    }\n",
       "\n",
       "    .dataframe tbody tr th {\n",
       "        vertical-align: top;\n",
       "    }\n",
       "\n",
       "    .dataframe thead th {\n",
       "        text-align: right;\n",
       "    }\n",
       "</style>\n",
       "<table border=\"1\" class=\"dataframe\">\n",
       "  <thead>\n",
       "    <tr style=\"text-align: right;\">\n",
       "      <th></th>\n",
       "      <th>imdb_id</th>\n",
       "      <th>plot_synopsis</th>\n",
       "      <th>tags</th>\n",
       "      <th>synopsis_source</th>\n",
       "      <th>Wikipedia movie ID</th>\n",
       "      <th>Freebase movie ID</th>\n",
       "      <th>Movie name</th>\n",
       "      <th>Movie release date</th>\n",
       "      <th>Movie box office revenue</th>\n",
       "      <th>Movie runtime</th>\n",
       "      <th>Movie languages</th>\n",
       "      <th>Movie countries</th>\n",
       "      <th>Movie genres</th>\n",
       "      <th>IMDB Box-office</th>\n",
       "    </tr>\n",
       "  </thead>\n",
       "  <tbody>\n",
       "    <tr>\n",
       "      <th>0</th>\n",
       "      <td>1733125</td>\n",
       "      <td>Two thousand years ago, Nhagruul the Foul, a s...</td>\n",
       "      <td>violence</td>\n",
       "      <td>imdb</td>\n",
       "      <td>30855958</td>\n",
       "      <td>/m/0gfjl1f</td>\n",
       "      <td>Dungeons &amp; Dragons: The Book of Vile Darkness</td>\n",
       "      <td>2012-08-09</td>\n",
       "      <td>NaN</td>\n",
       "      <td>90.0</td>\n",
       "      <td>{}</td>\n",
       "      <td>{\"/m/07ssc\": \"United Kingdom\"}</td>\n",
       "      <td>{\"/m/01hmnh\": \"Fantasy\"}</td>\n",
       "      <td>NaN</td>\n",
       "    </tr>\n",
       "    <tr>\n",
       "      <th>1</th>\n",
       "      <td>33045</td>\n",
       "      <td>Matuschek's, a gift store in Budapest, is the ...</td>\n",
       "      <td>romantic</td>\n",
       "      <td>imdb</td>\n",
       "      <td>76353</td>\n",
       "      <td>/m/0k4bt</td>\n",
       "      <td>The Shop Around the Corner</td>\n",
       "      <td>1940-01-12</td>\n",
       "      <td>NaN</td>\n",
       "      <td>98.0</td>\n",
       "      <td>{\"/m/02h40lc\": \"English Language\"}</td>\n",
       "      <td>{\"/m/09c7w0\": \"United States of America\"}</td>\n",
       "      <td>{\"/m/06cvj\": \"Romantic comedy\", \"/m/0hj3nyp\": ...</td>\n",
       "      <td>380000.0</td>\n",
       "    </tr>\n",
       "    <tr>\n",
       "      <th>2</th>\n",
       "      <td>113862</td>\n",
       "      <td>Glenn Holland, not a morning person by anyone'...</td>\n",
       "      <td>inspiring, romantic, stupid, feel-good</td>\n",
       "      <td>imdb</td>\n",
       "      <td>171076</td>\n",
       "      <td>/m/016z98</td>\n",
       "      <td>Mr. Holland's Opus</td>\n",
       "      <td>1995-12-29</td>\n",
       "      <td>106269971.0</td>\n",
       "      <td>130.0</td>\n",
       "      <td>{\"/m/02h40lc\": \"English Language\", \"/m/0my5\": ...</td>\n",
       "      <td>{\"/m/09c7w0\": \"United States of America\"}</td>\n",
       "      <td>{\"/m/0hj3n84\": \"Inspirational Drama\", \"/m/0hqx...</td>\n",
       "      <td>106269971.0</td>\n",
       "    </tr>\n",
       "    <tr>\n",
       "      <th>3</th>\n",
       "      <td>86250</td>\n",
       "      <td>In May 1980, a Cuban man named Tony Montana (A...</td>\n",
       "      <td>cruelty, murder, dramatic, cult, violence, atm...</td>\n",
       "      <td>imdb</td>\n",
       "      <td>76331</td>\n",
       "      <td>/m/0k44g</td>\n",
       "      <td>Scarface</td>\n",
       "      <td>1932</td>\n",
       "      <td>NaN</td>\n",
       "      <td>94.0</td>\n",
       "      <td>{\"/m/02bjrlw\": \"Italian Language\", \"/m/02h40lc...</td>\n",
       "      <td>{\"/m/09c7w0\": \"United States of America\"}</td>\n",
       "      <td>{\"/m/0lsxr\": \"Crime Fiction\", \"/m/0gw5w78\": \"G...</td>\n",
       "      <td>65884703.0</td>\n",
       "    </tr>\n",
       "    <tr>\n",
       "      <th>4</th>\n",
       "      <td>86250</td>\n",
       "      <td>In May 1980, a Cuban man named Tony Montana (A...</td>\n",
       "      <td>cruelty, murder, dramatic, cult, violence, atm...</td>\n",
       "      <td>imdb</td>\n",
       "      <td>267848</td>\n",
       "      <td>/m/01nln3</td>\n",
       "      <td>Scarface</td>\n",
       "      <td>1983-12-01</td>\n",
       "      <td>65884703.0</td>\n",
       "      <td>170.0</td>\n",
       "      <td>{\"/m/02h40lc\": \"English Language\", \"/m/06nm1\":...</td>\n",
       "      <td>{\"/m/09c7w0\": \"United States of America\"}</td>\n",
       "      <td>{\"/m/0lsxr\": \"Crime Fiction\", \"/m/01jfsb\": \"Th...</td>\n",
       "      <td>65884703.0</td>\n",
       "    </tr>\n",
       "  </tbody>\n",
       "</table>\n",
       "</div>"
      ],
      "text/plain": [
       "   imdb_id                                      plot_synopsis  \\\n",
       "0  1733125  Two thousand years ago, Nhagruul the Foul, a s...   \n",
       "1    33045  Matuschek's, a gift store in Budapest, is the ...   \n",
       "2   113862  Glenn Holland, not a morning person by anyone'...   \n",
       "3    86250  In May 1980, a Cuban man named Tony Montana (A...   \n",
       "4    86250  In May 1980, a Cuban man named Tony Montana (A...   \n",
       "\n",
       "                                                tags synopsis_source  \\\n",
       "0                                           violence            imdb   \n",
       "1                                           romantic            imdb   \n",
       "2             inspiring, romantic, stupid, feel-good            imdb   \n",
       "3  cruelty, murder, dramatic, cult, violence, atm...            imdb   \n",
       "4  cruelty, murder, dramatic, cult, violence, atm...            imdb   \n",
       "\n",
       "   Wikipedia movie ID Freebase movie ID  \\\n",
       "0            30855958        /m/0gfjl1f   \n",
       "1               76353          /m/0k4bt   \n",
       "2              171076         /m/016z98   \n",
       "3               76331          /m/0k44g   \n",
       "4              267848         /m/01nln3   \n",
       "\n",
       "                                      Movie name Movie release date  \\\n",
       "0  Dungeons & Dragons: The Book of Vile Darkness         2012-08-09   \n",
       "1                     The Shop Around the Corner         1940-01-12   \n",
       "2                             Mr. Holland's Opus         1995-12-29   \n",
       "3                                       Scarface               1932   \n",
       "4                                       Scarface         1983-12-01   \n",
       "\n",
       "   Movie box office revenue  Movie runtime  \\\n",
       "0                       NaN           90.0   \n",
       "1                       NaN           98.0   \n",
       "2               106269971.0          130.0   \n",
       "3                       NaN           94.0   \n",
       "4                65884703.0          170.0   \n",
       "\n",
       "                                     Movie languages  \\\n",
       "0                                                 {}   \n",
       "1                 {\"/m/02h40lc\": \"English Language\"}   \n",
       "2  {\"/m/02h40lc\": \"English Language\", \"/m/0my5\": ...   \n",
       "3  {\"/m/02bjrlw\": \"Italian Language\", \"/m/02h40lc...   \n",
       "4  {\"/m/02h40lc\": \"English Language\", \"/m/06nm1\":...   \n",
       "\n",
       "                             Movie countries  \\\n",
       "0             {\"/m/07ssc\": \"United Kingdom\"}   \n",
       "1  {\"/m/09c7w0\": \"United States of America\"}   \n",
       "2  {\"/m/09c7w0\": \"United States of America\"}   \n",
       "3  {\"/m/09c7w0\": \"United States of America\"}   \n",
       "4  {\"/m/09c7w0\": \"United States of America\"}   \n",
       "\n",
       "                                        Movie genres  IMDB Box-office  \n",
       "0                           {\"/m/01hmnh\": \"Fantasy\"}              NaN  \n",
       "1  {\"/m/06cvj\": \"Romantic comedy\", \"/m/0hj3nyp\": ...         380000.0  \n",
       "2  {\"/m/0hj3n84\": \"Inspirational Drama\", \"/m/0hqx...      106269971.0  \n",
       "3  {\"/m/0lsxr\": \"Crime Fiction\", \"/m/0gw5w78\": \"G...       65884703.0  \n",
       "4  {\"/m/0lsxr\": \"Crime Fiction\", \"/m/01jfsb\": \"Th...       65884703.0  "
      ]
     },
     "metadata": {},
     "output_type": "display_data"
    }
   ],
   "source": [
    "#Here is the file with completed box-office from Imdb (last column)\n",
    "movies_synopsis_comp = pd.read_csv('Data/movies_synopsis_comp.csv')\n",
    "display(movies_synopsis_comp.head())"
   ]
  },
  {
   "cell_type": "markdown",
   "metadata": {},
   "source": [
    "### Comment\n",
    "\n",
    "We completed some of the missing data, but how much did we improve ?"
   ]
  },
  {
   "cell_type": "code",
   "execution_count": 24,
   "metadata": {
    "execution": {
     "iopub.status.busy": "2024-11-14T16:05:47.502567Z",
     "iopub.status.idle": "2024-11-14T16:05:47.502909Z",
     "shell.execute_reply": "2024-11-14T16:05:47.502750Z",
     "shell.execute_reply.started": "2024-11-14T16:05:47.502736Z"
    }
   },
   "outputs": [
    {
     "name": "stdout",
     "output_type": "stream",
     "text": [
      "We went from 63.48% of NaN values to 54.8%.\n"
     ]
    }
   ],
   "source": [
    "#Improvement in NaN values in box-office\n",
    "na_percentage_box_init = (movies_synopsis_comp['Movie box office revenue'].isna().sum() / len(movies_synopsis_comp)) * 100\n",
    "na_percentage_box_imdb = (movies_synopsis_comp['IMDB Box-office'].isna().sum() / len(movies_synopsis_comp)) * 100\n",
    "print(f\"We went from {round(na_percentage_box_init,2)}% of NaN values to {round(na_percentage_box_imdb,2)}%.\")"
   ]
  },
  {
   "cell_type": "code",
   "execution_count": 25,
   "metadata": {
    "execution": {
     "iopub.status.busy": "2024-11-14T16:05:47.503771Z",
     "iopub.status.idle": "2024-11-14T16:05:47.504105Z",
     "shell.execute_reply": "2024-11-14T16:05:47.503958Z",
     "shell.execute_reply.started": "2024-11-14T16:05:47.503943Z"
    }
   },
   "outputs": [],
   "source": [
    "#Remove the old revenue column as we don't need it anymore\n",
    "movies_synopsis_comp.drop('Movie box office revenue', axis=1, inplace=True)"
   ]
  },
  {
   "cell_type": "markdown",
   "metadata": {},
   "source": [
    "### Comment\n",
    "The increase is a bit deceiving. The IMDB library is missing a lot of box-offices too. We suspect the IMDB library to mabe block when there are too many requests, giving more NaN values than there actually are. In the end that's still an increase of 24% in box-office data size, which will help us for our analysis."
   ]
  },
  {
   "cell_type": "markdown",
   "metadata": {},
   "source": [
    "## COMMENT HOW HANDLE MISSING VALUES"
   ]
  },
  {
   "cell_type": "markdown",
   "metadata": {},
   "source": [
    "# PART 2: Data Analysis"
   ]
  },
  {
   "cell_type": "markdown",
   "metadata": {},
   "source": [
    "### A CHANGER AVEC movie_final = movies_synopsis_comp.copy() MAIS J'AVAIS PAS LE DATASET"
   ]
  },
  {
   "cell_type": "code",
   "execution_count": 26,
   "metadata": {
    "execution": {
     "iopub.status.busy": "2024-11-14T16:05:47.505319Z",
     "iopub.status.idle": "2024-11-14T16:05:47.505695Z",
     "shell.execute_reply": "2024-11-14T16:05:47.505543Z",
     "shell.execute_reply.started": "2024-11-14T16:05:47.505526Z"
    }
   },
   "outputs": [],
   "source": [
    "movie_final = movies_df_cleaned.copy() # deep copy"
   ]
  },
  {
   "cell_type": "markdown",
   "metadata": {},
   "source": [
    "### Movies' genres exploration"
   ]
  },
  {
   "cell_type": "code",
   "execution_count": 60,
   "metadata": {
    "execution": {
     "iopub.status.busy": "2024-11-14T16:05:47.506695Z",
     "iopub.status.idle": "2024-11-14T16:05:47.507024Z",
     "shell.execute_reply": "2024-11-14T16:05:47.506877Z",
     "shell.execute_reply.started": "2024-11-14T16:05:47.506863Z"
    }
   },
   "outputs": [
    {
     "name": "stdout",
     "output_type": "stream",
     "text": [
      "Number of unique genres: 333\n"
     ]
    }
   ],
   "source": [
    "all_genres = movie_final['Movie genres'].explode() # Changes elements from a list to a row\n",
    "\n",
    "num_unique_genre = all_genres.nunique() # Creates list which each type of genre in all_genres\n",
    "print(\"Number of unique genres:\", num_unique_genre)"
   ]
  },
  {
   "cell_type": "code",
   "execution_count": 28,
   "metadata": {
    "execution": {
     "iopub.status.busy": "2024-11-14T16:05:47.507810Z",
     "iopub.status.idle": "2024-11-14T16:05:47.508140Z",
     "shell.execute_reply": "2024-11-14T16:05:47.507992Z",
     "shell.execute_reply.started": "2024-11-14T16:05:47.507977Z"
    }
   },
   "outputs": [
    {
     "data": {
      "image/png": "[encoded data removed]",
      "text/plain": [
       "<Figure size 1000x800 with 1 Axes>"
      ]
     },
     "metadata": {},
     "output_type": "display_data"
    }
   ],
   "source": [
    "# Plot the number of movies per top 30 genres\n",
    "\n",
    "genres_counts = all_genres.value_counts() \n",
    "\n",
    "plt.figure(figsize=(10, 8))\n",
    "bars = genres_counts.head(30).sort_values(ascending=True).plot(kind='barh', color='lightgreen') # kind='barh' allows us to flip the axis\n",
    "\n",
    "for index, value in enumerate(genres_counts.head(30).sort_values(ascending=True)):\n",
    "    plt.text(value, index, str(value), va='center')\n",
    "\n",
    "plt.xlabel('Number of Movies', fontsize=16)\n",
    "plt.ylabel('Genres', fontsize=16)\n",
    "plt.title('Number of Movies per Genre', fontsize=16)  \n",
    "\n",
    "plt.show()"
   ]
  },
  {
   "cell_type": "markdown",
   "metadata": {},
   "source": [
    "Drama is the clear leader when it comes to movie genres, followed by Comedy and Romance. This makes sense since these genres appeal to a wide range of audiences. Genres like Thriller, Action, and Documentary are also popular, showing that people enjoy excitement and real-life stories. On the other end, niche genres like 'Cult' and 'Political drama' are much less common, which isn't surprising given their more specific audience.\n",
    "\n",
    "Here we decided to show only the top 30 genres to keep the chart clear and easy to read."
   ]
  },
  {
   "cell_type": "markdown",
   "metadata": {},
   "source": [
    "### Movies Box office exploration"
   ]
  },
  {
   "cell_type": "code",
   "execution_count": 29,
   "metadata": {
    "execution": {
     "iopub.status.busy": "2024-11-14T16:05:47.508979Z",
     "iopub.status.idle": "2024-11-14T16:05:47.509318Z",
     "shell.execute_reply": "2024-11-14T16:05:47.509173Z",
     "shell.execute_reply.started": "2024-11-14T16:05:47.509158Z"
    }
   },
   "outputs": [],
   "source": [
    "# Faire plot "
   ]
  },
  {
   "cell_type": "markdown",
   "metadata": {},
   "source": [
    "### Movies Ratings exploration"
   ]
  },
  {
   "cell_type": "code",
   "execution_count": 30,
   "metadata": {
    "execution": {
     "iopub.status.busy": "2024-11-14T16:05:47.510632Z",
     "iopub.status.idle": "2024-11-14T16:05:47.510934Z",
     "shell.execute_reply": "2024-11-14T16:05:47.510803Z",
     "shell.execute_reply.started": "2024-11-14T16:05:47.510790Z"
    }
   },
   "outputs": [
    {
     "data": {
      "text/plain": [
       "count    14253.000000\n",
       "mean         6.378678\n",
       "std          1.072958\n",
       "min          1.300000\n",
       "25%          5.800000\n",
       "50%          6.500000\n",
       "75%          7.100000\n",
       "max          9.300000\n",
       "Name: averageRating, dtype: float64"
      ]
     },
     "execution_count": 30,
     "metadata": {},
     "output_type": "execute_result"
    }
   ],
   "source": [
    "movie_final['averageRating'].describe()"
   ]
  },
  {
   "cell_type": "code",
   "execution_count": 90,
   "metadata": {
    "execution": {
     "iopub.status.busy": "2024-11-14T16:05:47.511846Z",
     "iopub.status.idle": "2024-11-14T16:05:47.512208Z",
     "shell.execute_reply": "2024-11-14T16:05:47.512050Z",
     "shell.execute_reply.started": "2024-11-14T16:05:47.512034Z"
    }
   },
   "outputs": [
    {
     "data": {
      "image/png": "[encoded data removed]",
      "text/plain": [
       "<Figure size 1000x600 with 1 Axes>"
      ]
     },
     "metadata": {},
     "output_type": "display_data"
    }
   ],
   "source": [
    "# Plotting the bar chart\n",
    "plt.figure(figsize=(10, 6))\n",
    "\n",
    "plt.hist(movie_final['averageRating'], bins=movie_final['averageRating'].nunique())\n",
    "plt.title('Number of Movies by Rating')\n",
    "plt.xlabel('Average Rating')\n",
    "plt.ylabel('Number of Movies')\n",
    "\n",
    "plt.xlim(0, 10)\n",
    "ticks = np.arange(0, 10.1, 1)\n",
    "plt.xticks(ticks)\n",
    "\n",
    "plt.grid(axis='y', linestyle='--', alpha=0.5)\n",
    "\n",
    "plt.show()"
   ]
  },
  {
   "cell_type": "markdown",
   "metadata": {},
   "source": [
    "It seems that raters tend to find movies rather good on average. Extreme ratings are very rare (<1 and >9)."
   ]
  },
  {
   "cell_type": "markdown",
   "metadata": {},
   "source": [
    "### Movies countries exploration"
   ]
  },
  {
   "cell_type": "code",
   "execution_count": 96,
   "metadata": {
    "execution": {
     "iopub.status.busy": "2024-11-14T16:05:47.513203Z",
     "iopub.status.idle": "2024-11-14T16:05:47.513549Z",
     "shell.execute_reply": "2024-11-14T16:05:47.513380Z",
     "shell.execute_reply.started": "2024-11-14T16:05:47.513365Z"
    }
   },
   "outputs": [
    {
     "name": "stdout",
     "output_type": "stream",
     "text": [
      "Movie countries\n",
      "United States of America    10205\n",
      "United Kingdom               2268\n",
      "France                        757\n",
      "Germany                       650\n",
      "India                         647\n",
      "Name: count, dtype: int64\n"
     ]
    }
   ],
   "source": [
    "# Number of movies per country\n",
    "all_countries = movie_final['Movie countries'].explode()\n",
    "countries_counts = all_countries.value_counts()\n",
    "print(countries_counts.head())"
   ]
  },
  {
   "cell_type": "code",
   "execution_count": 95,
   "metadata": {
    "execution": {
     "iopub.status.busy": "2024-11-14T16:05:47.517218Z",
     "iopub.status.idle": "2024-11-14T16:05:47.517592Z",
     "shell.execute_reply": "2024-11-14T16:05:47.517438Z",
     "shell.execute_reply.started": "2024-11-14T16:05:47.517396Z"
    }
   },
   "outputs": [
    {
     "name": "stdout",
     "output_type": "stream",
     "text": [
      "Number of unique countries: 109\n"
     ]
    }
   ],
   "source": [
    "num_unique_countries = all_countries.nunique()\n",
    "print(\"Number of unique countries:\", num_unique_countries)"
   ]
  },
  {
   "cell_type": "code",
   "execution_count": 98,
   "metadata": {
    "execution": {
     "iopub.status.busy": "2024-11-14T16:05:47.518367Z",
     "iopub.status.idle": "2024-11-14T16:05:47.518728Z",
     "shell.execute_reply": "2024-11-14T16:05:47.518580Z",
     "shell.execute_reply.started": "2024-11-14T16:05:47.518564Z"
    }
   },
   "outputs": [
    {
     "data": {
      "image/png": "[encoded data removed]",
      "text/plain": [
       "<Figure size 1000x800 with 1 Axes>"
      ]
     },
     "metadata": {},
     "output_type": "display_data"
    }
   ],
   "source": [
    "# Plot the top 30 countries with most amount of movies\n",
    "plt.figure(figsize=(10, 8))\n",
    "bars = countries_counts.head(30).sort_values(ascending=True).plot(kind='barh', color='lightcoral')\n",
    "\n",
    "for index, value in enumerate(countries_counts.head(30).sort_values(ascending=True)):\n",
    "    plt.text(value, index, str(value), va='center')\n",
    "\n",
    "plt.xlabel('Number of Movies', fontsize=16)\n",
    "plt.ylabel('Countries', fontsize=16)\n",
    "plt.title('Number of Movies per Country', fontsize=16)  \n",
    "plt.xscale('log') # Easier to visualise with log scale\n",
    "plt.show()"
   ]
  },
  {
   "cell_type": "markdown",
   "metadata": {},
   "source": [
    "The United States has the most movies by far, showing its huge impact on the film industry. The United Kingdoms and France come next, followed by Germany, India and Canada who also produce numerous movies.\n",
    "\n",
    "We decided to show only the top 30 countries to keep the chart clear and easy to read. \n",
    "\n",
    "For better readibility we used a log scale on the x axis."
   ]
  },
  {
   "cell_type": "markdown",
   "metadata": {},
   "source": [
    "### Movies languages exploration"
   ]
  },
  {
   "cell_type": "code",
   "execution_count": 99,
   "metadata": {
    "execution": {
     "iopub.status.busy": "2024-11-14T16:05:47.519507Z",
     "iopub.status.idle": "2024-11-14T16:05:47.519836Z",
     "shell.execute_reply": "2024-11-14T16:05:47.519688Z",
     "shell.execute_reply.started": "2024-11-14T16:05:47.519673Z"
    }
   },
   "outputs": [
    {
     "name": "stdout",
     "output_type": "stream",
     "text": [
      "Movie languages\n",
      "English Language    11712\n",
      "French Language       755\n",
      "Spanish Language      531\n",
      "Hindi Language        505\n",
      "German Language       414\n",
      "Name: count, dtype: int64\n"
     ]
    }
   ],
   "source": [
    "# Number of movies with a certain language available\n",
    "all_languages = movie_final['Movie languages'].explode()\n",
    "language_counts = all_languages.value_counts()\n",
    "print(language_counts.head())"
   ]
  },
  {
   "cell_type": "code",
   "execution_count": 100,
   "metadata": {
    "execution": {
     "iopub.status.busy": "2024-11-14T16:05:47.520642Z",
     "iopub.status.idle": "2024-11-14T16:05:47.520999Z",
     "shell.execute_reply": "2024-11-14T16:05:47.520829Z",
     "shell.execute_reply.started": "2024-11-14T16:05:47.520815Z"
    }
   },
   "outputs": [
    {
     "name": "stdout",
     "output_type": "stream",
     "text": [
      "The dataset contains 148 unique languages.\n"
     ]
    }
   ],
   "source": [
    "num_unique_languages = all_languages.nunique()\n",
    "print(\"The dataset contains\", num_unique_languages, \"unique languages.\")"
   ]
  },
  {
   "cell_type": "code",
   "execution_count": 37,
   "metadata": {
    "execution": {
     "iopub.status.busy": "2024-11-14T16:05:47.521782Z",
     "iopub.status.idle": "2024-11-14T16:05:47.522128Z",
     "shell.execute_reply": "2024-11-14T16:05:47.521963Z",
     "shell.execute_reply.started": "2024-11-14T16:05:47.521948Z"
    }
   },
   "outputs": [
    {
     "data": {
      "image/png": "[encoded data removed]",
      "text/plain": [
       "<Figure size 1000x800 with 1 Axes>"
      ]
     },
     "metadata": {},
     "output_type": "display_data"
    }
   ],
   "source": [
    "# Plot the number of movies per language \n",
    "plt.figure(figsize=(10, 8))\n",
    "bars = language_counts.head(20).sort_values(ascending=True).plot(kind='barh', color='lightblue')\n",
    "\n",
    "for index, value in enumerate(language_counts.head(20).sort_values(ascending=True)):\n",
    "    plt.text(value, index, str(value), va='center')\n",
    "\n",
    "plt.xlabel('Number of Movies',fontsize=14)\n",
    "plt.ylabel('Languages',fontsize=14)\n",
    "plt.title('Number of Movies of top 20 Languages', fontsize=14)\n",
    "plt.xscale('log')\n",
    "plt.show()"
   ]
  },
  {
   "cell_type": "markdown",
   "metadata": {},
   "source": [
    "As previously seen, English is largely dominant. This can be attributed to its role as a global lingua franca, making films more accessible to international audiences. Additionally, major movie industries in countries like the United Kingdom and other English-speaking regions contribute to the high number of English-language films.\n",
    "\n",
    "For better visibility, we chose to display only the top 20 languages in this chart. It is also noticeable that the number of movies per language drops off quickly after the most common languages, highlighting the dominance of a few major languages in movie production and a long tail of less commonly represented languages. For better readibility we used a log scale on the x axis."
   ]
  },
  {
   "cell_type": "markdown",
   "metadata": {},
   "source": [
    "### Movies release year exploration"
   ]
  },
  {
   "cell_type": "markdown",
   "metadata": {},
   "source": [
    "Here we do a general analysis about the total number of movies released each year."
   ]
  },
  {
   "cell_type": "code",
   "execution_count": 112,
   "metadata": {
    "execution": {
     "iopub.status.busy": "2024-11-14T16:05:47.522950Z",
     "iopub.status.idle": "2024-11-14T16:05:47.523277Z",
     "shell.execute_reply": "2024-11-14T16:05:47.523130Z",
     "shell.execute_reply.started": "2024-11-14T16:05:47.523116Z"
    }
   },
   "outputs": [
    {
     "data": {
      "text/plain": [
       "count        14253.0\n",
       "mean     1982.087911\n",
       "std         26.22879\n",
       "min           1899.0\n",
       "25%           1965.0\n",
       "50%           1990.0\n",
       "75%           2004.0\n",
       "max           2016.0\n",
       "Name: Movie release date, dtype: Float64"
      ]
     },
     "execution_count": 112,
     "metadata": {},
     "output_type": "execute_result"
    }
   ],
   "source": [
    "all_years = movie_final['Movie release date'].explode()\n",
    "years_counts = all_years.value_counts()\n",
    "all_years.describe()"
   ]
  },
  {
   "cell_type": "code",
   "execution_count": 132,
   "metadata": {},
   "outputs": [
    {
     "data": {
      "image/png": "[encoded data removed]",
      "text/plain": [
       "<Figure size 1000x600 with 1 Axes>"
      ]
     },
     "metadata": {},
     "output_type": "display_data"
    }
   ],
   "source": [
    "# Number of movies per year\n",
    "\n",
    "plt.figure(figsize=(10, 6))  \n",
    "plot_years_counts = all_years.value_counts().sort_index().plot(kind='bar', width=1)\n",
    "\n",
    "plt.xlabel('Years', fontsize=16 )\n",
    "plt.ylabel('Number of Movies', fontsize=16)\n",
    "plt.title('Number of Movies per Year', fontsize=16)\n",
    "\n",
    "plt.xticks(range(0, len(all_years.value_counts().sort_index()), 5), \n",
    "           all_years.value_counts().sort_index().index[::5], \n",
    "           rotation=45)\n",
    "\n",
    "plt.show()"
   ]
  },
  {
   "cell_type": "markdown",
   "metadata": {},
   "source": [
    "The movie production has grown steadily over time, with a big jump starting in the 1990s and peaking in the early 2000s. The increase after the 1980s is likely due to better technology and more people making movies around the world. The early years have fewer movies because the film industry was just getting started. Data starting from 2012 is incomplete (e.g. the dataset contains only one movie in 2016)."
   ]
  },
  {
   "cell_type": "markdown",
   "metadata": {},
   "source": [
    "### Movies per decade for most important countries"
   ]
  },
  {
   "cell_type": "code",
   "execution_count": 40,
   "metadata": {
    "execution": {
     "iopub.status.busy": "2024-11-14T16:05:47.525511Z",
     "iopub.status.idle": "2024-11-14T16:05:47.525842Z",
     "shell.execute_reply": "2024-11-14T16:05:47.525694Z",
     "shell.execute_reply.started": "2024-11-14T16:05:47.525679Z"
    }
   },
   "outputs": [],
   "source": [
    "# Get top 10 countries releasing movies\n",
    "top_10_countries = countries_counts.head(10).index\n",
    "\n",
    "# Get one country per row (since some movies contain more than one country)\n",
    "expanded_df = movie_final.explode('Movie countries')\n",
    "\n",
    "top_countries_df = expanded_df[expanded_df['Movie countries'].isin(top_10_countries)]"
   ]
  },
  {
   "cell_type": "code",
   "execution_count": 149,
   "metadata": {},
   "outputs": [],
   "source": [
    "# Using loc to safely add the 'Decade' column\n",
    "top_countries_df.loc[:, 'Decade'] = (top_countries_df['Movie release date'] // 10) * 10\n",
    "\n",
    "# Group by decade and country, count the number of movies\n",
    "movies_per_decade_countries = top_countries_df.groupby(['Decade', 'Movie countries']).size().unstack(fill_value=0)\n"
   ]
  },
  {
   "cell_type": "code",
   "execution_count": 150,
   "metadata": {
    "execution": {
     "iopub.status.busy": "2024-11-14T16:05:47.527919Z",
     "iopub.status.idle": "2024-11-14T16:05:47.528248Z",
     "shell.execute_reply": "2024-11-14T16:05:47.528102Z",
     "shell.execute_reply.started": "2024-11-14T16:05:47.528088Z"
    }
   },
   "outputs": [
    {
     "data": {
      "application/vnd.plotly.v1+json": {
       "config": {
        "plotlyServerURL": "https://plot.ly"
       },
       "data": [
        {
         "customdata": [
          0,
          0,
          0,
          0.38022813688212925,
          0.44052863436123346,
          0,
          0.30272452068617556,
          0,
          1.1825572801182558,
          4.411001556824079,
          2.0223152022315203,
          3.0200675541426585,
          2.4752475247524752
         ],
         "hovertemplate": "Percentage: %{customdata:.2f}%",
         "name": "Australia",
         "type": "bar",
         "x": [
          1890,
          1900,
          1910,
          1920,
          1930,
          1940,
          1950,
          1960,
          1970,
          1980,
          1990,
          2000,
          2010
         ],
         "y": [
          0,
          0,
          0,
          1,
          3,
          0,
          3,
          0,
          16,
          85,
          58,
          152,
          30
         ]
        },
        {
         "customdata": [
          0,
          0,
          0,
          0,
          0.44052863436123346,
          0.11890606420927467,
          0.30272452068617556,
          1.5312131919905771,
          1.9216555801921655,
          3.7882719252724444,
          3.5564853556485354,
          6.417643552553149,
          4.9504950495049505
         ],
         "hovertemplate": "Percentage: %{customdata:.2f}%",
         "name": "Canada",
         "type": "bar",
         "x": [
          1890,
          1900,
          1910,
          1920,
          1930,
          1940,
          1950,
          1960,
          1970,
          1980,
          1990,
          2000,
          2010
         ],
         "y": [
          0,
          0,
          0,
          0,
          3,
          1,
          3,
          13,
          26,
          73,
          102,
          323,
          60
         ]
        },
        {
         "customdata": [
          100,
          32.432432432432435,
          6.046511627906977,
          3.041825095057034,
          1.7621145374449338,
          2.140309155766944,
          2.522704339051463,
          3.297997644287397,
          4.138950480413895,
          4.25531914893617,
          4.637377963737796,
          5.404331412676336,
          6.765676567656766
         ],
         "hovertemplate": "Percentage: %{customdata:.2f}%",
         "name": "France",
         "type": "bar",
         "x": [
          1890,
          1900,
          1910,
          1920,
          1930,
          1940,
          1950,
          1960,
          1970,
          1980,
          1990,
          2000,
          2010
         ],
         "y": [
          4,
          24,
          13,
          8,
          12,
          18,
          25,
          28,
          56,
          82,
          133,
          272,
          82
         ]
        },
        {
         "customdata": [
          0,
          0,
          5.5813953488372094,
          7.984790874524715,
          1.908957415565345,
          0.713436385255648,
          0.20181634712411706,
          0.7067137809187279,
          1.8477457501847745,
          1.0897768552153606,
          3.1380753138075312,
          8.066759388038943,
          3.9603960396039604
         ],
         "hovertemplate": "Percentage: %{customdata:.2f}%",
         "name": "Germany",
         "type": "bar",
         "x": [
          1890,
          1900,
          1910,
          1920,
          1930,
          1940,
          1950,
          1960,
          1970,
          1980,
          1990,
          2000,
          2010
         ],
         "y": [
          0,
          0,
          12,
          21,
          13,
          6,
          2,
          6,
          25,
          21,
          90,
          406,
          48
         ]
        },
        {
         "customdata": [
          0,
          0,
          0,
          0.38022813688212925,
          0.2936857562408223,
          1.426872770511296,
          2.2199798183652875,
          5.064782096584216,
          3.252032520325203,
          3.6844836533471716,
          4.044630404463041,
          5.245380488774091,
          5.9405940594059405
         ],
         "hovertemplate": "Percentage: %{customdata:.2f}%",
         "name": "India",
         "type": "bar",
         "x": [
          1890,
          1900,
          1910,
          1920,
          1930,
          1940,
          1950,
          1960,
          1970,
          1980,
          1990,
          2000,
          2010
         ],
         "y": [
          0,
          0,
          0,
          1,
          2,
          12,
          22,
          43,
          44,
          71,
          116,
          264,
          72
         ]
        },
        {
         "customdata": [
          0,
          12.162162162162161,
          0.9302325581395349,
          0.7604562737642585,
          0.14684287812041116,
          1.070154577883472,
          3.5317860746720484,
          5.1825677267373385,
          4.951958610495196,
          2.6466009340944474,
          1.394700139470014,
          1.8875422213391615,
          0.6600660066006601
         ],
         "hovertemplate": "Percentage: %{customdata:.2f}%",
         "name": "Italy",
         "type": "bar",
         "x": [
          1890,
          1900,
          1910,
          1920,
          1930,
          1940,
          1950,
          1960,
          1970,
          1980,
          1990,
          2000,
          2010
         ],
         "y": [
          0,
          9,
          2,
          2,
          1,
          9,
          35,
          44,
          67,
          51,
          40,
          95,
          8
         ]
        },
        {
         "customdata": [
          0,
          0,
          0,
          0,
          0,
          0,
          0.7063572149344097,
          0.8244994110718492,
          0.5173688100517368,
          2.075765438505449,
          3.5564853556485354,
          1.8875422213391615,
          1.4026402640264026
         ],
         "hovertemplate": "Percentage: %{customdata:.2f}%",
         "name": "Japan",
         "type": "bar",
         "x": [
          1890,
          1900,
          1910,
          1920,
          1930,
          1940,
          1950,
          1960,
          1970,
          1980,
          1990,
          2000,
          2010
         ],
         "y": [
          0,
          0,
          0,
          0,
          0,
          0,
          7,
          7,
          7,
          40,
          102,
          95,
          17
         ]
        },
        {
         "customdata": [
          0,
          0,
          0,
          0,
          0,
          0.11890606420927467,
          0.7063572149344097,
          0.5889281507656066,
          2.6607538802660753,
          1.0378827192527245,
          0.7322175732217573,
          1.688853566461355,
          1.5676567656765676
         ],
         "hovertemplate": "Percentage: %{customdata:.2f}%",
         "name": "Spain",
         "type": "bar",
         "x": [
          1890,
          1900,
          1910,
          1920,
          1930,
          1940,
          1950,
          1960,
          1970,
          1980,
          1990,
          2000,
          2010
         ],
         "y": [
          0,
          0,
          0,
          0,
          0,
          1,
          7,
          5,
          36,
          20,
          21,
          85,
          19
         ]
        },
        {
         "customdata": [
          0,
          4.054054054054054,
          14.883720930232558,
          12.547528517110266,
          9.397944199706314,
          9.63139120095125,
          13.72351160443996,
          25.08833922261484,
          21.13821138211382,
          12.76595744680851,
          12.09902370990237,
          13.312139876813035,
          12.953795379537954
         ],
         "hovertemplate": "Percentage: %{customdata:.2f}%",
         "name": "United Kingdom",
         "type": "bar",
         "x": [
          1890,
          1900,
          1910,
          1920,
          1930,
          1940,
          1950,
          1960,
          1970,
          1980,
          1990,
          2000,
          2010
         ],
         "y": [
          0,
          3,
          32,
          33,
          64,
          81,
          136,
          213,
          286,
          246,
          347,
          670,
          157
         ]
        },
        {
         "customdata": [
          0,
          51.351351351351354,
          72.55813953488372,
          74.90494296577947,
          85.6093979441997,
          84.78002378121285,
          75.78203834510596,
          57.714958775029444,
          58.38876570583888,
          64.24494032174364,
          64.8186889818689,
          53.06973971786211,
          59.32343234323432
         ],
         "hovertemplate": "Percentage: %{customdata:.2f}%",
         "name": "United States of America",
         "type": "bar",
         "x": [
          1890,
          1900,
          1910,
          1920,
          1930,
          1940,
          1950,
          1960,
          1970,
          1980,
          1990,
          2000,
          2010
         ],
         "y": [
          0,
          38,
          156,
          197,
          583,
          713,
          751,
          490,
          790,
          1238,
          1859,
          2671,
          719
         ]
        }
       ],
       "layout": {
        "barmode": "stack",
        "hovermode": "x",
        "legend": {
         "title": {
          "text": "Country"
         }
        },
        "template": {
         "data": {
          "bar": [
           {
            "error_x": {
             "color": "#2a3f5f"
            },
            "error_y": {
             "color": "#2a3f5f"
            },
            "marker": {
             "line": {
              "color": "#E5ECF6",
              "width": 0.5
             },
             "pattern": {
              "fillmode": "overlay",
              "size": 10,
              "solidity": 0.2
             }
            },
            "type": "bar"
           }
          ],
          "barpolar": [
           {
            "marker": {
             "line": {
              "color": "#E5ECF6",
              "width": 0.5
             },
             "pattern": {
              "fillmode": "overlay",
              "size": 10,
              "solidity": 0.2
             }
            },
            "type": "barpolar"
           }
          ],
          "carpet": [
           {
            "aaxis": {
             "endlinecolor": "#2a3f5f",
             "gridcolor": "white",
             "linecolor": "white",
             "minorgridcolor": "white",
             "startlinecolor": "#2a3f5f"
            },
            "baxis": {
             "endlinecolor": "#2a3f5f",
             "gridcolor": "white",
             "linecolor": "white",
             "minorgridcolor": "white",
             "startlinecolor": "#2a3f5f"
            },
            "type": "carpet"
           }
          ],
          "choropleth": [
           {
            "colorbar": {
             "outlinewidth": 0,
             "ticks": ""
            },
            "type": "choropleth"
           }
          ],
          "contour": [
           {
            "colorbar": {
             "outlinewidth": 0,
             "ticks": ""
            },
            "colorscale": [
             [
              0,
              "#0d0887"
             ],
             [
              0.1111111111111111,
              "#46039f"
             ],
             [
              0.2222222222222222,
              "#7201a8"
             ],
             [
              0.3333333333333333,
              "#9c179e"
             ],
             [
              0.4444444444444444,
              "#bd3786"
             ],
             [
              0.5555555555555556,
              "#d8576b"
             ],
             [
              0.6666666666666666,
              "#ed7953"
             ],
             [
              0.7777777777777778,
              "#fb9f3a"
             ],
             [
              0.8888888888888888,
              "#fdca26"
             ],
             [
              1,
              "#f0f921"
             ]
            ],
            "type": "contour"
           }
          ],
          "contourcarpet": [
           {
            "colorbar": {
             "outlinewidth": 0,
             "ticks": ""
            },
            "type": "contourcarpet"
           }
          ],
          "heatmap": [
           {
            "colorbar": {
             "outlinewidth": 0,
             "ticks": ""
            },
            "colorscale": [
             [
              0,
              "#0d0887"
             ],
             [
              0.1111111111111111,
              "#46039f"
             ],
             [
              0.2222222222222222,
              "#7201a8"
             ],
             [
              0.3333333333333333,
              "#9c179e"
             ],
             [
              0.4444444444444444,
              "#bd3786"
             ],
             [
              0.5555555555555556,
              "#d8576b"
             ],
             [
              0.6666666666666666,
              "#ed7953"
             ],
             [
              0.7777777777777778,
              "#fb9f3a"
             ],
             [
              0.8888888888888888,
              "#fdca26"
             ],
             [
              1,
              "#f0f921"
             ]
            ],
            "type": "heatmap"
           }
          ],
          "heatmapgl": [
           {
            "colorbar": {
             "outlinewidth": 0,
             "ticks": ""
            },
            "colorscale": [
             [
              0,
              "#0d0887"
             ],
             [
              0.1111111111111111,
              "#46039f"
             ],
             [
              0.2222222222222222,
              "#7201a8"
             ],
             [
              0.3333333333333333,
              "#9c179e"
             ],
             [
              0.4444444444444444,
              "#bd3786"
             ],
             [
              0.5555555555555556,
              "#d8576b"
             ],
             [
              0.6666666666666666,
              "#ed7953"
             ],
             [
              0.7777777777777778,
              "#fb9f3a"
             ],
             [
              0.8888888888888888,
              "#fdca26"
             ],
             [
              1,
              "#f0f921"
             ]
            ],
            "type": "heatmapgl"
           }
          ],
          "histogram": [
           {
            "marker": {
             "pattern": {
              "fillmode": "overlay",
              "size": 10,
              "solidity": 0.2
             }
            },
            "type": "histogram"
           }
          ],
          "histogram2d": [
           {
            "colorbar": {
             "outlinewidth": 0,
             "ticks": ""
            },
            "colorscale": [
             [
              0,
              "#0d0887"
             ],
             [
              0.1111111111111111,
              "#46039f"
             ],
             [
              0.2222222222222222,
              "#7201a8"
             ],
             [
              0.3333333333333333,
              "#9c179e"
             ],
             [
              0.4444444444444444,
              "#bd3786"
             ],
             [
              0.5555555555555556,
              "#d8576b"
             ],
             [
              0.6666666666666666,
              "#ed7953"
             ],
             [
              0.7777777777777778,
              "#fb9f3a"
             ],
             [
              0.8888888888888888,
              "#fdca26"
             ],
             [
              1,
              "#f0f921"
             ]
            ],
            "type": "histogram2d"
           }
          ],
          "histogram2dcontour": [
           {
            "colorbar": {
             "outlinewidth": 0,
             "ticks": ""
            },
            "colorscale": [
             [
              0,
              "#0d0887"
             ],
             [
              0.1111111111111111,
              "#46039f"
             ],
             [
              0.2222222222222222,
              "#7201a8"
             ],
             [
              0.3333333333333333,
              "#9c179e"
             ],
             [
              0.4444444444444444,
              "#bd3786"
             ],
             [
              0.5555555555555556,
              "#d8576b"
             ],
             [
              0.6666666666666666,
              "#ed7953"
             ],
             [
              0.7777777777777778,
              "#fb9f3a"
             ],
             [
              0.8888888888888888,
              "#fdca26"
             ],
             [
              1,
              "#f0f921"
             ]
            ],
            "type": "histogram2dcontour"
           }
          ],
          "mesh3d": [
           {
            "colorbar": {
             "outlinewidth": 0,
             "ticks": ""
            },
            "type": "mesh3d"
           }
          ],
          "parcoords": [
           {
            "line": {
             "colorbar": {
              "outlinewidth": 0,
              "ticks": ""
             }
            },
            "type": "parcoords"
           }
          ],
          "pie": [
           {
            "automargin": true,
            "type": "pie"
           }
          ],
          "scatter": [
           {
            "fillpattern": {
             "fillmode": "overlay",
             "size": 10,
             "solidity": 0.2
            },
            "type": "scatter"
           }
          ],
          "scatter3d": [
           {
            "line": {
             "colorbar": {
              "outlinewidth": 0,
              "ticks": ""
             }
            },
            "marker": {
             "colorbar": {
              "outlinewidth": 0,
              "ticks": ""
             }
            },
            "type": "scatter3d"
           }
          ],
          "scattercarpet": [
           {
            "marker": {
             "colorbar": {
              "outlinewidth": 0,
              "ticks": ""
             }
            },
            "type": "scattercarpet"
           }
          ],
          "scattergeo": [
           {
            "marker": {
             "colorbar": {
              "outlinewidth": 0,
              "ticks": ""
             }
            },
            "type": "scattergeo"
           }
          ],
          "scattergl": [
           {
            "marker": {
             "colorbar": {
              "outlinewidth": 0,
              "ticks": ""
             }
            },
            "type": "scattergl"
           }
          ],
          "scattermapbox": [
           {
            "marker": {
             "colorbar": {
              "outlinewidth": 0,
              "ticks": ""
             }
            },
            "type": "scattermapbox"
           }
          ],
          "scatterpolar": [
           {
            "marker": {
             "colorbar": {
              "outlinewidth": 0,
              "ticks": ""
             }
            },
            "type": "scatterpolar"
           }
          ],
          "scatterpolargl": [
           {
            "marker": {
             "colorbar": {
              "outlinewidth": 0,
              "ticks": ""
             }
            },
            "type": "scatterpolargl"
           }
          ],
          "scatterternary": [
           {
            "marker": {
             "colorbar": {
              "outlinewidth": 0,
              "ticks": ""
             }
            },
            "type": "scatterternary"
           }
          ],
          "surface": [
           {
            "colorbar": {
             "outlinewidth": 0,
             "ticks": ""
            },
            "colorscale": [
             [
              0,
              "#0d0887"
             ],
             [
              0.1111111111111111,
              "#46039f"
             ],
             [
              0.2222222222222222,
              "#7201a8"
             ],
             [
              0.3333333333333333,
              "#9c179e"
             ],
             [
              0.4444444444444444,
              "#bd3786"
             ],
             [
              0.5555555555555556,
              "#d8576b"
             ],
             [
              0.6666666666666666,
              "#ed7953"
             ],
             [
              0.7777777777777778,
              "#fb9f3a"
             ],
             [
              0.8888888888888888,
              "#fdca26"
             ],
             [
              1,
              "#f0f921"
             ]
            ],
            "type": "surface"
           }
          ],
          "table": [
           {
            "cells": {
             "fill": {
              "color": "#EBF0F8"
             },
             "line": {
              "color": "white"
             }
            },
            "header": {
             "fill": {
              "color": "#C8D4E3"
             },
             "line": {
              "color": "white"
             }
            },
            "type": "table"
           }
          ]
         },
         "layout": {
          "annotationdefaults": {
           "arrowcolor": "#2a3f5f",
           "arrowhead": 0,
           "arrowwidth": 1
          },
          "autotypenumbers": "strict",
          "coloraxis": {
           "colorbar": {
            "outlinewidth": 0,
            "ticks": ""
           }
          },
          "colorscale": {
           "diverging": [
            [
             0,
             "#8e0152"
            ],
            [
             0.1,
             "#c51b7d"
            ],
            [
             0.2,
             "#de77ae"
            ],
            [
             0.3,
             "#f1b6da"
            ],
            [
             0.4,
             "#fde0ef"
            ],
            [
             0.5,
             "#f7f7f7"
            ],
            [
             0.6,
             "#e6f5d0"
            ],
            [
             0.7,
             "#b8e186"
            ],
            [
             0.8,
             "#7fbc41"
            ],
            [
             0.9,
             "#4d9221"
            ],
            [
             1,
             "#276419"
            ]
           ],
           "sequential": [
            [
             0,
             "#0d0887"
            ],
            [
             0.1111111111111111,
             "#46039f"
            ],
            [
             0.2222222222222222,
             "#7201a8"
            ],
            [
             0.3333333333333333,
             "#9c179e"
            ],
            [
             0.4444444444444444,
             "#bd3786"
            ],
            [
             0.5555555555555556,
             "#d8576b"
            ],
            [
             0.6666666666666666,
             "#ed7953"
            ],
            [
             0.7777777777777778,
             "#fb9f3a"
            ],
            [
             0.8888888888888888,
             "#fdca26"
            ],
            [
             1,
             "#f0f921"
            ]
           ],
           "sequentialminus": [
            [
             0,
             "#0d0887"
            ],
            [
             0.1111111111111111,
             "#46039f"
            ],
            [
             0.2222222222222222,
             "#7201a8"
            ],
            [
             0.3333333333333333,
             "#9c179e"
            ],
            [
             0.4444444444444444,
             "#bd3786"
            ],
            [
             0.5555555555555556,
             "#d8576b"
            ],
            [
             0.6666666666666666,
             "#ed7953"
            ],
            [
             0.7777777777777778,
             "#fb9f3a"
            ],
            [
             0.8888888888888888,
             "#fdca26"
            ],
            [
             1,
             "#f0f921"
            ]
           ]
          },
          "colorway": [
           "#636efa",
           "#EF553B",
           "#00cc96",
           "#ab63fa",
           "#FFA15A",
           "#19d3f3",
           "#FF6692",
           "#B6E880",
           "#FF97FF",
           "#FECB52"
          ],
          "font": {
           "color": "#2a3f5f"
          },
          "geo": {
           "bgcolor": "white",
           "lakecolor": "white",
           "landcolor": "#E5ECF6",
           "showlakes": true,
           "showland": true,
           "subunitcolor": "white"
          },
          "hoverlabel": {
           "align": "left"
          },
          "hovermode": "closest",
          "mapbox": {
           "style": "light"
          },
          "paper_bgcolor": "white",
          "plot_bgcolor": "#E5ECF6",
          "polar": {
           "angularaxis": {
            "gridcolor": "white",
            "linecolor": "white",
            "ticks": ""
           },
           "bgcolor": "#E5ECF6",
           "radialaxis": {
            "gridcolor": "white",
            "linecolor": "white",
            "ticks": ""
           }
          },
          "scene": {
           "xaxis": {
            "backgroundcolor": "#E5ECF6",
            "gridcolor": "white",
            "gridwidth": 2,
            "linecolor": "white",
            "showbackground": true,
            "ticks": "",
            "zerolinecolor": "white"
           },
           "yaxis": {
            "backgroundcolor": "#E5ECF6",
            "gridcolor": "white",
            "gridwidth": 2,
            "linecolor": "white",
            "showbackground": true,
            "ticks": "",
            "zerolinecolor": "white"
           },
           "zaxis": {
            "backgroundcolor": "#E5ECF6",
            "gridcolor": "white",
            "gridwidth": 2,
            "linecolor": "white",
            "showbackground": true,
            "ticks": "",
            "zerolinecolor": "white"
           }
          },
          "shapedefaults": {
           "line": {
            "color": "#2a3f5f"
           }
          },
          "ternary": {
           "aaxis": {
            "gridcolor": "white",
            "linecolor": "white",
            "ticks": ""
           },
           "baxis": {
            "gridcolor": "white",
            "linecolor": "white",
            "ticks": ""
           },
           "bgcolor": "#E5ECF6",
           "caxis": {
            "gridcolor": "white",
            "linecolor": "white",
            "ticks": ""
           }
          },
          "title": {
           "x": 0.05
          },
          "xaxis": {
           "automargin": true,
           "gridcolor": "white",
           "linecolor": "white",
           "ticks": "",
           "title": {
            "standoff": 15
           },
           "zerolinecolor": "white",
           "zerolinewidth": 2
          },
          "yaxis": {
           "automargin": true,
           "gridcolor": "white",
           "linecolor": "white",
           "ticks": "",
           "title": {
            "standoff": 15
           },
           "zerolinecolor": "white",
           "zerolinewidth": 2
          }
         }
        },
        "title": {
         "text": "Proportion of Movies Produced by Top 10 Countries per Decade"
        },
        "xaxis": {
         "title": {
          "text": "Decade"
         }
        },
        "yaxis": {
         "title": {
          "text": "Number of Movies"
         }
        }
       }
      }
     },
     "metadata": {},
     "output_type": "display_data"
    }
   ],
   "source": [
    "# Create the interactive figure\n",
    "fig = go.Figure()\n",
    "\n",
    "for country in movies_per_decade_countries.columns:\n",
    "    fig.add_trace(go.Bar(\n",
    "        x=movies_per_decade_countries.index, # Decades\n",
    "        y=movies_per_decade_countries[country], # Number of movies\n",
    "        name=country,\n",
    "        hovertemplate='Percentage: %{customdata:.2f}%',\n",
    "        customdata=100 * movies_per_decade_countries[country] / movies_per_decade_countries.sum(axis=1)\n",
    "    ))\n",
    "\n",
    "fig.update_layout(\n",
    "    title='Proportion of Movies Produced by Top 10 Countries per Decade',\n",
    "    xaxis_title='Decade',\n",
    "    yaxis_title='Number of Movies',\n",
    "    barmode='stack',\n",
    "    legend_title='Country',\n",
    "    hovermode='x'\n",
    ")\n",
    "\n",
    "fig.show()\n"
   ]
  },
  {
   "cell_type": "markdown",
   "metadata": {},
   "source": [
    "The U.S. consistently dominates movie production across all decades, though its share decreases over time from near-total dominance in the early 20th century to around 40-50% in the later decades. Other countries, such as India, the UK, and France, start contributing more significantly from the 1950s onward, indicating a diversification in global movie production over the decades."
   ]
  },
  {
   "cell_type": "markdown",
   "metadata": {},
   "source": [
    "### How do the genres of the released movies vary depending on the decade?"
   ]
  },
  {
   "cell_type": "code",
   "execution_count": 178,
   "metadata": {
    "execution": {
     "iopub.status.busy": "2024-11-14T16:05:47.529060Z",
     "iopub.status.idle": "2024-11-14T16:05:47.529443Z",
     "shell.execute_reply": "2024-11-14T16:05:47.529242Z",
     "shell.execute_reply.started": "2024-11-14T16:05:47.529227Z"
    }
   },
   "outputs": [
    {
     "name": "stderr",
     "output_type": "stream",
     "text": [
      "C:\\Users\\babou\\AppData\\Local\\Temp\\ipykernel_122888\\849323056.py:15: FutureWarning:\n",
      "\n",
      "DataFrame.groupby with axis=1 is deprecated. Do `frame.T.groupby(...)` without axis instead.\n",
      "\n"
     ]
    }
   ],
   "source": [
    "# Get top 20 genres releasing movies\n",
    "top_20_genres = genres_counts.head(20).index\n",
    "\n",
    "# Get one country per row\n",
    "expanded_df_genre = movie_final.explode('Movie genres')\n",
    "\n",
    "# The top 20\n",
    "top_genres_df_20 = expanded_df_genre[expanded_df_genre['Movie genres'].isin(top_20_genres)]\n",
    "\n",
    "movies_per_year_genres_20 = top_genres_df_20.groupby(['Movie genres', 'Movie release date']).size().unstack(fill_value=0)\n",
    "# Remove the first decade (1890s) from the movies per decade data since it only has a few movies\n",
    "movies_per_year_genres_20 = movies_per_year_genres_20.loc[:, movies_per_year_genres_20.columns >= 1900]\n",
    "# Remove the last decade (2010s) from the movies per decade data since it has missing years\n",
    "movies_per_year_genres_20 = movies_per_year_genres_20.loc[:, movies_per_year_genres_20.columns < 2010]\n",
    "movies_per_decade_genres_20 = movies_per_year_genres_20.groupby((movies_per_year_genres_20.columns // 10) * 10, axis=1).sum()\n",
    "\n",
    "\n",
    "movies_per_decade_genres_20_percentage = movies_per_decade_genres_20.div(movies_per_decade_genres_20.sum(axis=1), axis=0)\n"
   ]
  },
  {
   "cell_type": "markdown",
   "metadata": {},
   "source": [
    "We decide to keep only the top 20 genres so that our graph stay clear but you can adjust this number if needed. "
   ]
  },
  {
   "cell_type": "code",
   "execution_count": 179,
   "metadata": {
    "execution": {
     "iopub.status.busy": "2024-11-14T16:05:47.530330Z",
     "iopub.status.idle": "2024-11-14T16:05:47.530804Z",
     "shell.execute_reply": "2024-11-14T16:05:47.530582Z",
     "shell.execute_reply.started": "2024-11-14T16:05:47.530561Z"
    }
   },
   "outputs": [],
   "source": [
    "movies_per_decade_by_genre = movies_per_decade_genres_20.T\n",
    "\n",
    "# Ensure your DataFrame `movies_per_decade_by_genre_normalized` is defined and normalized\n",
    "movies_per_decade_by_genre_normalized = movies_per_decade_by_genre.div(movies_per_decade_by_genre.sum(axis=1), axis=0)"
   ]
  },
  {
   "cell_type": "code",
   "execution_count": 180,
   "metadata": {
    "execution": {
     "iopub.status.busy": "2024-11-14T16:05:47.531687Z",
     "iopub.status.idle": "2024-11-14T16:05:47.532029Z",
     "shell.execute_reply": "2024-11-14T16:05:47.531881Z",
     "shell.execute_reply.started": "2024-11-14T16:05:47.531866Z"
    }
   },
   "outputs": [
    {
     "data": {
      "application/vnd.plotly.v1+json": {
       "config": {
        "plotlyServerURL": "https://plot.ly"
       },
       "data": [
        {
         "name": "1900s",
         "type": "bar",
         "visible": true,
         "x": [
          "Action",
          "Action/Adventure",
          "Adventure",
          "Black-and-white",
          "Comedy",
          "Crime Fiction",
          "Crime Thriller",
          "Drama",
          "Family Film",
          "Fantasy",
          "Film adaptation",
          "Horror",
          "Indie",
          "Mystery",
          "Period piece",
          "Romance Film",
          "Romantic drama",
          "Science Fiction",
          "Thriller",
          "World cinema"
         ],
         "y": [
          0,
          0,
          0,
          0.26,
          0,
          0,
          0,
          0.33,
          0.01,
          0.08,
          0,
          0.02,
          0.25,
          0,
          0,
          0.05,
          0,
          0,
          0,
          0
         ]
        },
        {
         "name": "1910s",
         "type": "bar",
         "visible": false,
         "x": [
          "Action",
          "Action/Adventure",
          "Adventure",
          "Black-and-white",
          "Comedy",
          "Crime Fiction",
          "Crime Thriller",
          "Drama",
          "Family Film",
          "Fantasy",
          "Film adaptation",
          "Horror",
          "Indie",
          "Mystery",
          "Period piece",
          "Romance Film",
          "Romantic drama",
          "Science Fiction",
          "Thriller",
          "World cinema"
         ],
         "y": [
          0.004282655246252677,
          0.004282655246252677,
          0.03640256959314775,
          0.2826552462526767,
          0.029978586723768737,
          0,
          0,
          0.29978586723768735,
          0.0021413276231263384,
          0.047109207708779445,
          0,
          0.021413276231263382,
          0.22483940042826553,
          0,
          0,
          0.02569593147751606,
          0,
          0.01284796573875803,
          0.006423982869379015,
          0.0021413276231263384
         ]
        },
        {
         "name": "1920s",
         "type": "bar",
         "visible": false,
         "x": [
          "Action",
          "Action/Adventure",
          "Adventure",
          "Black-and-white",
          "Comedy",
          "Crime Fiction",
          "Crime Thriller",
          "Drama",
          "Family Film",
          "Fantasy",
          "Film adaptation",
          "Horror",
          "Indie",
          "Mystery",
          "Period piece",
          "Romance Film",
          "Romantic drama",
          "Science Fiction",
          "Thriller",
          "World cinema"
         ],
         "y": [
          0.02857142857142857,
          0.033766233766233764,
          0.02727272727272727,
          0.23636363636363636,
          0.04415584415584416,
          0.04935064935064935,
          0.005194805194805195,
          0.20909090909090908,
          0.01038961038961039,
          0.02207792207792208,
          0.02207792207792208,
          0.02727272727272727,
          0.16103896103896104,
          0.02207792207792208,
          0.0025974025974025974,
          0.04415584415584416,
          0.016883116883116882,
          0.011688311688311689,
          0.016883116883116882,
          0.00909090909090909
         ]
        },
        {
         "name": "1930s",
         "type": "bar",
         "visible": false,
         "x": [
          "Action",
          "Action/Adventure",
          "Adventure",
          "Black-and-white",
          "Comedy",
          "Crime Fiction",
          "Crime Thriller",
          "Drama",
          "Family Film",
          "Fantasy",
          "Film adaptation",
          "Horror",
          "Indie",
          "Mystery",
          "Period piece",
          "Romance Film",
          "Romantic drama",
          "Science Fiction",
          "Thriller",
          "World cinema"
         ],
         "y": [
          0.052525252525252523,
          0.0398989898989899,
          0.05808080808080808,
          0.22424242424242424,
          0.06666666666666667,
          0.04040404040404041,
          0.014141414141414142,
          0.1691919191919192,
          0.03232323232323232,
          0.01919191919191919,
          0.03838383838383838,
          0.04292929292929293,
          0.0015151515151515152,
          0.04242424242424243,
          0.010606060606060607,
          0.07323232323232323,
          0.022222222222222223,
          0.009595959595959595,
          0.03838383838383838,
          0.00404040404040404
         ]
        },
        {
         "name": "1940s",
         "type": "bar",
         "visible": false,
         "x": [
          "Action",
          "Action/Adventure",
          "Adventure",
          "Black-and-white",
          "Comedy",
          "Crime Fiction",
          "Crime Thriller",
          "Drama",
          "Family Film",
          "Fantasy",
          "Film adaptation",
          "Horror",
          "Indie",
          "Mystery",
          "Period piece",
          "Romance Film",
          "Romantic drama",
          "Science Fiction",
          "Thriller",
          "World cinema"
         ],
         "y": [
          0.03641571194762684,
          0.027004909983633387,
          0.04132569558101473,
          0.1751227495908347,
          0.07201309328968904,
          0.06096563011456629,
          0.03273322422258593,
          0.19230769230769232,
          0.03150572831423895,
          0.023731587561374796,
          0.02823240589198036,
          0.022913256955810146,
          0.0004091653027823241,
          0.057283142389525366,
          0.008592471358428805,
          0.07283142389525368,
          0.027414075286415714,
          0.007364975450081833,
          0.07283142389525368,
          0.00900163666121113
         ]
        },
        {
         "name": "1950s",
         "type": "bar",
         "visible": false,
         "x": [
          "Action",
          "Action/Adventure",
          "Adventure",
          "Black-and-white",
          "Comedy",
          "Crime Fiction",
          "Crime Thriller",
          "Drama",
          "Family Film",
          "Fantasy",
          "Film adaptation",
          "Horror",
          "Indie",
          "Mystery",
          "Period piece",
          "Romance Film",
          "Romantic drama",
          "Science Fiction",
          "Thriller",
          "World cinema"
         ],
         "y": [
          0.0468213058419244,
          0.04939862542955326,
          0.05111683848797251,
          0.08247422680412371,
          0.05412371134020619,
          0.061855670103092786,
          0.024484536082474227,
          0.21950171821305842,
          0.0429553264604811,
          0.02276632302405498,
          0.03307560137457045,
          0.040807560137457045,
          0.005154639175257732,
          0.03307560137457045,
          0.011597938144329897,
          0.07989690721649484,
          0.028780068728522335,
          0.03350515463917526,
          0.06486254295532647,
          0.013745704467353952
         ]
        },
        {
         "name": "1960s",
         "type": "bar",
         "visible": false,
         "x": [
          "Action",
          "Action/Adventure",
          "Adventure",
          "Black-and-white",
          "Comedy",
          "Crime Fiction",
          "Crime Thriller",
          "Drama",
          "Family Film",
          "Fantasy",
          "Film adaptation",
          "Horror",
          "Indie",
          "Mystery",
          "Period piece",
          "Romance Film",
          "Romantic drama",
          "Science Fiction",
          "Thriller",
          "World cinema"
         ],
         "y": [
          0.06350710900473934,
          0.05829383886255924,
          0.05781990521327014,
          0.04691943127962085,
          0.08862559241706161,
          0.04123222748815166,
          0.015165876777251185,
          0.2,
          0.043601895734597156,
          0.02132701421800948,
          0.04170616113744076,
          0.05545023696682464,
          0.02037914691943128,
          0.027488151658767772,
          0.009478672985781991,
          0.06587677725118483,
          0.023222748815165877,
          0.025118483412322274,
          0.06540284360189573,
          0.029383886255924172
         ]
        },
        {
         "name": "1970s",
         "type": "bar",
         "visible": false,
         "x": [
          "Action",
          "Action/Adventure",
          "Adventure",
          "Black-and-white",
          "Comedy",
          "Crime Fiction",
          "Crime Thriller",
          "Drama",
          "Family Film",
          "Fantasy",
          "Film adaptation",
          "Horror",
          "Indie",
          "Mystery",
          "Period piece",
          "Romance Film",
          "Romantic drama",
          "Science Fiction",
          "Thriller",
          "World cinema"
         ],
         "y": [
          0.07585335018963338,
          0.0632111251580278,
          0.046460176991150445,
          0.004424778761061947,
          0.06415929203539823,
          0.061946902654867256,
          0.026232616940581543,
          0.18141592920353983,
          0.02370417193426043,
          0.021175726927939318,
          0.03824273072060683,
          0.0793299620733249,
          0.03002528445006321,
          0.0388748419721871,
          0.030973451327433628,
          0.04077117572692794,
          0.01738305941845765,
          0.034450063211125155,
          0.09576485461441214,
          0.025600505689001265
         ]
        },
        {
         "name": "1980s",
         "type": "bar",
         "visible": false,
         "x": [
          "Action",
          "Action/Adventure",
          "Adventure",
          "Black-and-white",
          "Comedy",
          "Crime Fiction",
          "Crime Thriller",
          "Drama",
          "Family Film",
          "Fantasy",
          "Film adaptation",
          "Horror",
          "Indie",
          "Mystery",
          "Period piece",
          "Romance Film",
          "Romantic drama",
          "Science Fiction",
          "Thriller",
          "World cinema"
         ],
         "y": [
          0.075045759609518,
          0.06447020540980272,
          0.052471018913971934,
          0.0014236322961155175,
          0.09233272320520643,
          0.05104738661785642,
          0.024405125076266018,
          0.14744763066910718,
          0.03803131991051454,
          0.03925157616432784,
          0.02216798861094163,
          0.07219849501728696,
          0.04230221679886109,
          0.02989627821842587,
          0.017083587553386213,
          0.04942037827943868,
          0.02216798861094163,
          0.04555623347569656,
          0.08745169818995323,
          0.025828757372381533
         ]
        },
        {
         "name": "1990s",
         "type": "bar",
         "visible": false,
         "x": [
          "Action",
          "Action/Adventure",
          "Adventure",
          "Black-and-white",
          "Comedy",
          "Crime Fiction",
          "Crime Thriller",
          "Drama",
          "Family Film",
          "Fantasy",
          "Film adaptation",
          "Horror",
          "Indie",
          "Mystery",
          "Period piece",
          "Romance Film",
          "Romantic drama",
          "Science Fiction",
          "Thriller",
          "World cinema"
         ],
         "y": [
          0.07252478609262529,
          0.05256009778622844,
          0.042509846529947035,
          0.0012223278554936846,
          0.09642808637783512,
          0.060844764362352304,
          0.03300285209832948,
          0.15618633709085972,
          0.04020100502512563,
          0.03666983566481054,
          0.02879261170718457,
          0.038299606138802116,
          0.04128751867445335,
          0.026483770202363168,
          0.03150889583050387,
          0.06478337634116528,
          0.028928425913350535,
          0.026347955996197204,
          0.09683552899633302,
          0.02458237131603966
         ]
        },
        {
         "name": "2000s",
         "type": "bar",
         "visible": false,
         "x": [
          "Action",
          "Action/Adventure",
          "Adventure",
          "Black-and-white",
          "Comedy",
          "Crime Fiction",
          "Crime Thriller",
          "Drama",
          "Family Film",
          "Fantasy",
          "Film adaptation",
          "Horror",
          "Indie",
          "Mystery",
          "Period piece",
          "Romance Film",
          "Romantic drama",
          "Science Fiction",
          "Thriller",
          "World cinema"
         ],
         "y": [
          0.06784850926672038,
          0.052699435938759066,
          0.03682514101531023,
          0.0008058017727639,
          0.08686543110394843,
          0.054552780016116034,
          0.031184528605962932,
          0.15616438356164383,
          0.02643029814665592,
          0.030862207896857372,
          0.024496373892022562,
          0.056889605157131345,
          0.04633360193392425,
          0.03263497179693795,
          0.0273972602739726,
          0.06269137792103142,
          0.026994359387590653,
          0.029814665592264304,
          0.10668815471394037,
          0.04182111200644641
         ]
        }
       ],
       "layout": {
        "barmode": "group",
        "height": 600,
        "sliders": [
         {
          "active": 0,
          "currentvalue": {
           "prefix": "Decade: "
          },
          "pad": {
           "t": 50
          },
          "steps": [
           {
            "args": [
             {
              "visible": [
               true,
               false,
               false,
               false,
               false,
               false,
               false,
               false,
               false,
               false,
               false
              ]
             }
            ],
            "label": "1900s",
            "method": "update"
           },
           {
            "args": [
             {
              "visible": [
               false,
               true,
               false,
               false,
               false,
               false,
               false,
               false,
               false,
               false,
               false
              ]
             }
            ],
            "label": "1910s",
            "method": "update"
           },
           {
            "args": [
             {
              "visible": [
               false,
               false,
               true,
               false,
               false,
               false,
               false,
               false,
               false,
               false,
               false
              ]
             }
            ],
            "label": "1920s",
            "method": "update"
           },
           {
            "args": [
             {
              "visible": [
               false,
               false,
               false,
               true,
               false,
               false,
               false,
               false,
               false,
               false,
               false
              ]
             }
            ],
            "label": "1930s",
            "method": "update"
           },
           {
            "args": [
             {
              "visible": [
               false,
               false,
               false,
               false,
               true,
               false,
               false,
               false,
               false,
               false,
               false
              ]
             }
            ],
            "label": "1940s",
            "method": "update"
           },
           {
            "args": [
             {
              "visible": [
               false,
               false,
               false,
               false,
               false,
               true,
               false,
               false,
               false,
               false,
               false
              ]
             }
            ],
            "label": "1950s",
            "method": "update"
           },
           {
            "args": [
             {
              "visible": [
               false,
               false,
               false,
               false,
               false,
               false,
               true,
               false,
               false,
               false,
               false
              ]
             }
            ],
            "label": "1960s",
            "method": "update"
           },
           {
            "args": [
             {
              "visible": [
               false,
               false,
               false,
               false,
               false,
               false,
               false,
               true,
               false,
               false,
               false
              ]
             }
            ],
            "label": "1970s",
            "method": "update"
           },
           {
            "args": [
             {
              "visible": [
               false,
               false,
               false,
               false,
               false,
               false,
               false,
               false,
               true,
               false,
               false
              ]
             }
            ],
            "label": "1980s",
            "method": "update"
           },
           {
            "args": [
             {
              "visible": [
               false,
               false,
               false,
               false,
               false,
               false,
               false,
               false,
               false,
               true,
               false
              ]
             }
            ],
            "label": "1990s",
            "method": "update"
           },
           {
            "args": [
             {
              "visible": [
               false,
               false,
               false,
               false,
               false,
               false,
               false,
               false,
               false,
               false,
               true
              ]
             }
            ],
            "label": "2000s",
            "method": "update"
           }
          ]
         }
        ],
        "template": {
         "data": {
          "bar": [
           {
            "error_x": {
             "color": "#2a3f5f"
            },
            "error_y": {
             "color": "#2a3f5f"
            },
            "marker": {
             "line": {
              "color": "#E5ECF6",
              "width": 0.5
             },
             "pattern": {
              "fillmode": "overlay",
              "size": 10,
              "solidity": 0.2
             }
            },
            "type": "bar"
           }
          ],
          "barpolar": [
           {
            "marker": {
             "line": {
              "color": "#E5ECF6",
              "width": 0.5
             },
             "pattern": {
              "fillmode": "overlay",
              "size": 10,
              "solidity": 0.2
             }
            },
            "type": "barpolar"
           }
          ],
          "carpet": [
           {
            "aaxis": {
             "endlinecolor": "#2a3f5f",
             "gridcolor": "white",
             "linecolor": "white",
             "minorgridcolor": "white",
             "startlinecolor": "#2a3f5f"
            },
            "baxis": {
             "endlinecolor": "#2a3f5f",
             "gridcolor": "white",
             "linecolor": "white",
             "minorgridcolor": "white",
             "startlinecolor": "#2a3f5f"
            },
            "type": "carpet"
           }
          ],
          "choropleth": [
           {
            "colorbar": {
             "outlinewidth": 0,
             "ticks": ""
            },
            "type": "choropleth"
           }
          ],
          "contour": [
           {
            "colorbar": {
             "outlinewidth": 0,
             "ticks": ""
            },
            "colorscale": [
             [
              0,
              "#0d0887"
             ],
             [
              0.1111111111111111,
              "#46039f"
             ],
             [
              0.2222222222222222,
              "#7201a8"
             ],
             [
              0.3333333333333333,
              "#9c179e"
             ],
             [
              0.4444444444444444,
              "#bd3786"
             ],
             [
              0.5555555555555556,
              "#d8576b"
             ],
             [
              0.6666666666666666,
              "#ed7953"
             ],
             [
              0.7777777777777778,
              "#fb9f3a"
             ],
             [
              0.8888888888888888,
              "#fdca26"
             ],
             [
              1,
              "#f0f921"
             ]
            ],
            "type": "contour"
           }
          ],
          "contourcarpet": [
           {
            "colorbar": {
             "outlinewidth": 0,
             "ticks": ""
            },
            "type": "contourcarpet"
           }
          ],
          "heatmap": [
           {
            "colorbar": {
             "outlinewidth": 0,
             "ticks": ""
            },
            "colorscale": [
             [
              0,
              "#0d0887"
             ],
             [
              0.1111111111111111,
              "#46039f"
             ],
             [
              0.2222222222222222,
              "#7201a8"
             ],
             [
              0.3333333333333333,
              "#9c179e"
             ],
             [
              0.4444444444444444,
              "#bd3786"
             ],
             [
              0.5555555555555556,
              "#d8576b"
             ],
             [
              0.6666666666666666,
              "#ed7953"
             ],
             [
              0.7777777777777778,
              "#fb9f3a"
             ],
             [
              0.8888888888888888,
              "#fdca26"
             ],
             [
              1,
              "#f0f921"
             ]
            ],
            "type": "heatmap"
           }
          ],
          "heatmapgl": [
           {
            "colorbar": {
             "outlinewidth": 0,
             "ticks": ""
            },
            "colorscale": [
             [
              0,
              "#0d0887"
             ],
             [
              0.1111111111111111,
              "#46039f"
             ],
             [
              0.2222222222222222,
              "#7201a8"
             ],
             [
              0.3333333333333333,
              "#9c179e"
             ],
             [
              0.4444444444444444,
              "#bd3786"
             ],
             [
              0.5555555555555556,
              "#d8576b"
             ],
             [
              0.6666666666666666,
              "#ed7953"
             ],
             [
              0.7777777777777778,
              "#fb9f3a"
             ],
             [
              0.8888888888888888,
              "#fdca26"
             ],
             [
              1,
              "#f0f921"
             ]
            ],
            "type": "heatmapgl"
           }
          ],
          "histogram": [
           {
            "marker": {
             "pattern": {
              "fillmode": "overlay",
              "size": 10,
              "solidity": 0.2
             }
            },
            "type": "histogram"
           }
          ],
          "histogram2d": [
           {
            "colorbar": {
             "outlinewidth": 0,
             "ticks": ""
            },
            "colorscale": [
             [
              0,
              "#0d0887"
             ],
             [
              0.1111111111111111,
              "#46039f"
             ],
             [
              0.2222222222222222,
              "#7201a8"
             ],
             [
              0.3333333333333333,
              "#9c179e"
             ],
             [
              0.4444444444444444,
              "#bd3786"
             ],
             [
              0.5555555555555556,
              "#d8576b"
             ],
             [
              0.6666666666666666,
              "#ed7953"
             ],
             [
              0.7777777777777778,
              "#fb9f3a"
             ],
             [
              0.8888888888888888,
              "#fdca26"
             ],
             [
              1,
              "#f0f921"
             ]
            ],
            "type": "histogram2d"
           }
          ],
          "histogram2dcontour": [
           {
            "colorbar": {
             "outlinewidth": 0,
             "ticks": ""
            },
            "colorscale": [
             [
              0,
              "#0d0887"
             ],
             [
              0.1111111111111111,
              "#46039f"
             ],
             [
              0.2222222222222222,
              "#7201a8"
             ],
             [
              0.3333333333333333,
              "#9c179e"
             ],
             [
              0.4444444444444444,
              "#bd3786"
             ],
             [
              0.5555555555555556,
              "#d8576b"
             ],
             [
              0.6666666666666666,
              "#ed7953"
             ],
             [
              0.7777777777777778,
              "#fb9f3a"
             ],
             [
              0.8888888888888888,
              "#fdca26"
             ],
             [
              1,
              "#f0f921"
             ]
            ],
            "type": "histogram2dcontour"
           }
          ],
          "mesh3d": [
           {
            "colorbar": {
             "outlinewidth": 0,
             "ticks": ""
            },
            "type": "mesh3d"
           }
          ],
          "parcoords": [
           {
            "line": {
             "colorbar": {
              "outlinewidth": 0,
              "ticks": ""
             }
            },
            "type": "parcoords"
           }
          ],
          "pie": [
           {
            "automargin": true,
            "type": "pie"
           }
          ],
          "scatter": [
           {
            "fillpattern": {
             "fillmode": "overlay",
             "size": 10,
             "solidity": 0.2
            },
            "type": "scatter"
           }
          ],
          "scatter3d": [
           {
            "line": {
             "colorbar": {
              "outlinewidth": 0,
              "ticks": ""
             }
            },
            "marker": {
             "colorbar": {
              "outlinewidth": 0,
              "ticks": ""
             }
            },
            "type": "scatter3d"
           }
          ],
          "scattercarpet": [
           {
            "marker": {
             "colorbar": {
              "outlinewidth": 0,
              "ticks": ""
             }
            },
            "type": "scattercarpet"
           }
          ],
          "scattergeo": [
           {
            "marker": {
             "colorbar": {
              "outlinewidth": 0,
              "ticks": ""
             }
            },
            "type": "scattergeo"
           }
          ],
          "scattergl": [
           {
            "marker": {
             "colorbar": {
              "outlinewidth": 0,
              "ticks": ""
             }
            },
            "type": "scattergl"
           }
          ],
          "scattermapbox": [
           {
            "marker": {
             "colorbar": {
              "outlinewidth": 0,
              "ticks": ""
             }
            },
            "type": "scattermapbox"
           }
          ],
          "scatterpolar": [
           {
            "marker": {
             "colorbar": {
              "outlinewidth": 0,
              "ticks": ""
             }
            },
            "type": "scatterpolar"
           }
          ],
          "scatterpolargl": [
           {
            "marker": {
             "colorbar": {
              "outlinewidth": 0,
              "ticks": ""
             }
            },
            "type": "scatterpolargl"
           }
          ],
          "scatterternary": [
           {
            "marker": {
             "colorbar": {
              "outlinewidth": 0,
              "ticks": ""
             }
            },
            "type": "scatterternary"
           }
          ],
          "surface": [
           {
            "colorbar": {
             "outlinewidth": 0,
             "ticks": ""
            },
            "colorscale": [
             [
              0,
              "#0d0887"
             ],
             [
              0.1111111111111111,
              "#46039f"
             ],
             [
              0.2222222222222222,
              "#7201a8"
             ],
             [
              0.3333333333333333,
              "#9c179e"
             ],
             [
              0.4444444444444444,
              "#bd3786"
             ],
             [
              0.5555555555555556,
              "#d8576b"
             ],
             [
              0.6666666666666666,
              "#ed7953"
             ],
             [
              0.7777777777777778,
              "#fb9f3a"
             ],
             [
              0.8888888888888888,
              "#fdca26"
             ],
             [
              1,
              "#f0f921"
             ]
            ],
            "type": "surface"
           }
          ],
          "table": [
           {
            "cells": {
             "fill": {
              "color": "#EBF0F8"
             },
             "line": {
              "color": "white"
             }
            },
            "header": {
             "fill": {
              "color": "#C8D4E3"
             },
             "line": {
              "color": "white"
             }
            },
            "type": "table"
           }
          ]
         },
         "layout": {
          "annotationdefaults": {
           "arrowcolor": "#2a3f5f",
           "arrowhead": 0,
           "arrowwidth": 1
          },
          "autotypenumbers": "strict",
          "coloraxis": {
           "colorbar": {
            "outlinewidth": 0,
            "ticks": ""
           }
          },
          "colorscale": {
           "diverging": [
            [
             0,
             "#8e0152"
            ],
            [
             0.1,
             "#c51b7d"
            ],
            [
             0.2,
             "#de77ae"
            ],
            [
             0.3,
             "#f1b6da"
            ],
            [
             0.4,
             "#fde0ef"
            ],
            [
             0.5,
             "#f7f7f7"
            ],
            [
             0.6,
             "#e6f5d0"
            ],
            [
             0.7,
             "#b8e186"
            ],
            [
             0.8,
             "#7fbc41"
            ],
            [
             0.9,
             "#4d9221"
            ],
            [
             1,
             "#276419"
            ]
           ],
           "sequential": [
            [
             0,
             "#0d0887"
            ],
            [
             0.1111111111111111,
             "#46039f"
            ],
            [
             0.2222222222222222,
             "#7201a8"
            ],
            [
             0.3333333333333333,
             "#9c179e"
            ],
            [
             0.4444444444444444,
             "#bd3786"
            ],
            [
             0.5555555555555556,
             "#d8576b"
            ],
            [
             0.6666666666666666,
             "#ed7953"
            ],
            [
             0.7777777777777778,
             "#fb9f3a"
            ],
            [
             0.8888888888888888,
             "#fdca26"
            ],
            [
             1,
             "#f0f921"
            ]
           ],
           "sequentialminus": [
            [
             0,
             "#0d0887"
            ],
            [
             0.1111111111111111,
             "#46039f"
            ],
            [
             0.2222222222222222,
             "#7201a8"
            ],
            [
             0.3333333333333333,
             "#9c179e"
            ],
            [
             0.4444444444444444,
             "#bd3786"
            ],
            [
             0.5555555555555556,
             "#d8576b"
            ],
            [
             0.6666666666666666,
             "#ed7953"
            ],
            [
             0.7777777777777778,
             "#fb9f3a"
            ],
            [
             0.8888888888888888,
             "#fdca26"
            ],
            [
             1,
             "#f0f921"
            ]
           ]
          },
          "colorway": [
           "#636efa",
           "#EF553B",
           "#00cc96",
           "#ab63fa",
           "#FFA15A",
           "#19d3f3",
           "#FF6692",
           "#B6E880",
           "#FF97FF",
           "#FECB52"
          ],
          "font": {
           "color": "#2a3f5f"
          },
          "geo": {
           "bgcolor": "white",
           "lakecolor": "white",
           "landcolor": "#E5ECF6",
           "showlakes": true,
           "showland": true,
           "subunitcolor": "white"
          },
          "hoverlabel": {
           "align": "left"
          },
          "hovermode": "closest",
          "mapbox": {
           "style": "light"
          },
          "paper_bgcolor": "white",
          "plot_bgcolor": "#E5ECF6",
          "polar": {
           "angularaxis": {
            "gridcolor": "white",
            "linecolor": "white",
            "ticks": ""
           },
           "bgcolor": "#E5ECF6",
           "radialaxis": {
            "gridcolor": "white",
            "linecolor": "white",
            "ticks": ""
           }
          },
          "scene": {
           "xaxis": {
            "backgroundcolor": "#E5ECF6",
            "gridcolor": "white",
            "gridwidth": 2,
            "linecolor": "white",
            "showbackground": true,
            "ticks": "",
            "zerolinecolor": "white"
           },
           "yaxis": {
            "backgroundcolor": "#E5ECF6",
            "gridcolor": "white",
            "gridwidth": 2,
            "linecolor": "white",
            "showbackground": true,
            "ticks": "",
            "zerolinecolor": "white"
           },
           "zaxis": {
            "backgroundcolor": "#E5ECF6",
            "gridcolor": "white",
            "gridwidth": 2,
            "linecolor": "white",
            "showbackground": true,
            "ticks": "",
            "zerolinecolor": "white"
           }
          },
          "shapedefaults": {
           "line": {
            "color": "#2a3f5f"
           }
          },
          "ternary": {
           "aaxis": {
            "gridcolor": "white",
            "linecolor": "white",
            "ticks": ""
           },
           "baxis": {
            "gridcolor": "white",
            "linecolor": "white",
            "ticks": ""
           },
           "bgcolor": "#E5ECF6",
           "caxis": {
            "gridcolor": "white",
            "linecolor": "white",
            "ticks": ""
           }
          },
          "title": {
           "x": 0.05
          },
          "xaxis": {
           "automargin": true,
           "gridcolor": "white",
           "linecolor": "white",
           "ticks": "",
           "title": {
            "standoff": 15
           },
           "zerolinecolor": "white",
           "zerolinewidth": 2
          },
          "yaxis": {
           "automargin": true,
           "gridcolor": "white",
           "linecolor": "white",
           "ticks": "",
           "title": {
            "standoff": 15
           },
           "zerolinecolor": "white",
           "zerolinewidth": 2
          }
         }
        },
        "title": {
         "text": "Proportion of Movies Released by Genre in Each Decade"
        },
        "width": 1000,
        "xaxis": {
         "title": {
          "text": "Genre"
         }
        },
        "yaxis": {
         "range": [
          0,
          0.33
         ],
         "tickformat": ".1%",
         "title": {
          "text": "Percentage of Movies"
         }
        }
       }
      }
     },
     "metadata": {},
     "output_type": "display_data"
    }
   ],
   "source": [
    "# Create an interactive figure\n",
    "fig = go.Figure()\n",
    "\n",
    "# Iterate through each decade and create a bar plot for it\n",
    "for decade in movies_per_decade_by_genre_normalized.index:\n",
    "    fig.add_trace(go.Bar(\n",
    "        x=movies_per_decade_by_genre_normalized.columns,\n",
    "        y=movies_per_decade_by_genre_normalized.loc[decade], # Convert to percentage\n",
    "        name=f'{decade}s',\n",
    "        visible=False # Initially set all traces to invisible\n",
    "    ))\n",
    "\n",
    "# Set the first decade to be visible\n",
    "fig.data[0].visible = True\n",
    "\n",
    "# Create the slider steps\n",
    "steps = []\n",
    "for i, decade in enumerate(movies_per_decade_by_genre_normalized.index):\n",
    "    step = dict(\n",
    "        method=\"update\",\n",
    "        args=[{\"visible\": [False] * len(fig.data)}], # Hide all traces\n",
    "        label=f\"{decade}s\"\n",
    "    )\n",
    "    step[\"args\"][0][\"visible\"][i] = True # Set the current decade's trace to visible\n",
    "    steps.append(step)\n",
    "\n",
    "# Determine the maximum value for the y-axis\n",
    "max_y_value = movies_per_decade_by_genre_normalized.max().max()\n",
    "\n",
    "# Create slider\n",
    "sliders = [dict(\n",
    "    active=0,\n",
    "    currentvalue={\"prefix\": \"Decade: \"},\n",
    "    pad={\"t\": 50},\n",
    "    steps=steps\n",
    ")]\n",
    "\n",
    "# Update the layout to include the slider and fix y-axis range\n",
    "fig.update_layout(\n",
    "    sliders=sliders,\n",
    "    title='Proportion of Movies Released by Genre in Each Decade',\n",
    "    xaxis_title='Genre',\n",
    "    yaxis_title='Percentage of Movies',\n",
    "    yaxis=dict(\n",
    "        tickformat=\".1%\",\n",
    "        range=[0, max_y_value] # Fix y-axis range from 0 to the maximum value\n",
    "    ),\n",
    "    barmode='group',\n",
    "    width=1000, # Set figure width\n",
    "    height=600 # Set figure height\n",
    ")\n",
    "\n",
    "# Show the plot\n",
    "fig.show()"
   ]
  },
  {
   "cell_type": "markdown",
   "metadata": {},
   "source": [
    "From the 1900s to the 1970s we go from 25% to nearly 0% of Black-and-White movies, this is naturally due to the creation of color cinema in the 1902. It is once again easy to notice the consistant prevalence of the drama genre which only gets smaller due to the arrival of more nuenced genres in the 1920s. Indie movies are popular from the 1900s to the 1920s and later never rise above 5%. Starting from the 1930s, comedy, romance and thrillers keep a steady popularity."
   ]
  },
  {
   "cell_type": "code",
   "execution_count": 181,
   "metadata": {},
   "outputs": [
    {
     "data": {
      "application/vnd.plotly.v1+json": {
       "config": {
        "plotlyServerURL": "https://plot.ly"
       },
       "data": [
        {
         "name": "Action",
         "type": "bar",
         "visible": true,
         "x": [
          1900,
          1910,
          1920,
          1930,
          1940,
          1950,
          1960,
          1970,
          1980,
          1990,
          2000
         ],
         "y": [
          0,
          0.0008179959100204499,
          0.00899795501022495,
          0.0425357873210634,
          0.03640081799591002,
          0.04458077709611452,
          0.054805725971370144,
          0.09815950920245399,
          0.150920245398773,
          0.2184049079754601,
          0.3443762781186094
         ]
        },
        {
         "name": "Action/Adventure",
         "type": "bar",
         "visible": false,
         "x": [
          1900,
          1910,
          1920,
          1930,
          1940,
          1950,
          1960,
          1970,
          1980,
          1990,
          2000
         ],
         "y": [
          0,
          0.001015744032503809,
          0.013204672422549517,
          0.04012188928390046,
          0.0335195530726257,
          0.05840528186896902,
          0.062468257998984256,
          0.1015744032503809,
          0.16099542915185372,
          0.19654647028948705,
          0.33214829862874556
         ]
        },
        {
         "name": "Adventure",
         "type": "bar",
         "visible": false,
         "x": [
          1900,
          1910,
          1920,
          1930,
          1940,
          1950,
          1960,
          1970,
          1980,
          1990,
          2000
         ],
         "y": [
          0,
          0.010179640718562874,
          0.012574850299401197,
          0.0688622754491018,
          0.06047904191616767,
          0.07125748502994012,
          0.07305389221556886,
          0.08802395209580838,
          0.15449101796407186,
          0.18742514970059881,
          0.27365269461077846
         ]
        },
        {
         "name": "Black-and-white",
         "type": "bar",
         "visible": false,
         "x": [
          1900,
          1910,
          1920,
          1930,
          1940,
          1950,
          1960,
          1970,
          1980,
          1990,
          2000
         ],
         "y": [
          0.016850291639662993,
          0.08554763447828904,
          0.11795204147764096,
          0.28775113415424497,
          0.27738172391445237,
          0.12443292287751134,
          0.06416072585871678,
          0.009073233959818535,
          0.004536616979909268,
          0.005832793259883344,
          0.0064808813998703824
         ]
        },
        {
         "name": "Comedy",
         "type": "bar",
         "visible": false,
         "x": [
          1900,
          1910,
          1920,
          1930,
          1940,
          1950,
          1960,
          1970,
          1980,
          1990,
          2000
         ],
         "y": [
          0,
          0.00449582530507386,
          0.010918432883750802,
          0.04238921001926782,
          0.056518946692357096,
          0.04046242774566474,
          0.060051380860629416,
          0.06518946692357097,
          0.1457931920359666,
          0.22800256904303148,
          0.34617854849068724
         ]
        },
        {
         "name": "Crime Fiction",
         "type": "bar",
         "visible": false,
         "x": [
          1900,
          1910,
          1920,
          1930,
          1940,
          1950,
          1960,
          1970,
          1980,
          1990,
          2000
         ],
         "y": [
          0,
          0,
          0.018357487922705314,
          0.03864734299516908,
          0.07198067632850241,
          0.06956521739130435,
          0.042028985507246375,
          0.09468599033816426,
          0.121256038647343,
          0.21642512077294687,
          0.32705314009661834
         ]
        },
        {
         "name": "Crime Thriller",
         "type": "bar",
         "visible": false,
         "x": [
          1900,
          1910,
          1920,
          1930,
          1940,
          1950,
          1960,
          1970,
          1980,
          1990,
          2000
         ],
         "y": [
          0,
          0,
          0.0038684719535783366,
          0.027079303675048357,
          0.07736943907156674,
          0.0551257253384913,
          0.030947775628626693,
          0.08027079303675048,
          0.11605415860735009,
          0.23500967117988394,
          0.3742746615087041
         ]
        },
        {
         "name": "Drama",
         "type": "bar",
         "visible": false,
         "x": [
          1900,
          1910,
          1920,
          1930,
          1940,
          1950,
          1960,
          1970,
          1980,
          1990,
          2000
         ],
         "y": [
          0.005109150023223409,
          0.021675181916705373,
          0.024926459204211177,
          0.051865613872116426,
          0.07276668214893947,
          0.0791144139959746,
          0.06533519120606905,
          0.08886824585849203,
          0.11224647778293853,
          0.178046137172937,
          0.30004644681839293
         ]
        },
        {
         "name": "Family Film",
         "type": "bar",
         "visible": false,
         "x": [
          1900,
          1910,
          1920,
          1930,
          1940,
          1950,
          1960,
          1970,
          1980,
          1990,
          2000
         ],
         "y": [
          0.0008136696501220504,
          0.0008136696501220504,
          0.006509357200976403,
          0.05207485760781123,
          0.06265256305939788,
          0.08136696501220504,
          0.07485760781122865,
          0.061025223759153785,
          0.15215622457282343,
          0.24084621643612694,
          0.26688364524003255
         ]
        },
        {
         "name": "Fantasy",
         "type": "bar",
         "visible": false,
         "x": [
          1900,
          1910,
          1920,
          1930,
          1940,
          1950,
          1960,
          1970,
          1980,
          1990,
          2000
         ],
         "y": [
          0.006932409012131715,
          0.019064124783362217,
          0.014731369150779897,
          0.03292894280762565,
          0.05025996533795494,
          0.04592720970537262,
          0.0389948006932409,
          0.05805892547660312,
          0.16724436741767765,
          0.2339688041594454,
          0.33188908145580587
         ]
        },
        {
         "name": "Film adaptation",
         "type": "bar",
         "visible": false,
         "x": [
          1900,
          1910,
          1920,
          1930,
          1940,
          1950,
          1960,
          1970,
          1980,
          1990,
          2000
         ],
         "y": [
          0,
          0,
          0.015843429636533086,
          0.07082945013979497,
          0.06430568499534017,
          0.0717614165890028,
          0.08201304753028892,
          0.11276794035414725,
          0.1015843429636533,
          0.19757688723205966,
          0.2833178005591799
         ]
        },
        {
         "name": "Horror",
         "type": "bar",
         "visible": false,
         "x": [
          1900,
          1910,
          1920,
          1930,
          1940,
          1950,
          1960,
          1970,
          1980,
          1990,
          2000
         ],
         "y": [
          0.00101010101010101,
          0.005050505050505051,
          0.010606060606060607,
          0.04292929292929293,
          0.028282828282828285,
          0.047979797979797977,
          0.05909090909090909,
          0.12676767676767678,
          0.17929292929292928,
          0.14242424242424243,
          0.3565656565656566
         ]
        },
        {
         "name": "Indie",
         "type": "bar",
         "visible": false,
         "x": [
          1900,
          1910,
          1920,
          1930,
          1940,
          1950,
          1960,
          1970,
          1980,
          1990,
          2000
         ],
         "y": [
          0.016722408026755852,
          0.07023411371237458,
          0.08294314381270904,
          0.002006688963210702,
          0.0006688963210702341,
          0.008026755852842809,
          0.028762541806020066,
          0.06354515050167224,
          0.1391304347826087,
          0.20334448160535118,
          0.38461538461538464
         ]
        },
        {
         "name": "Mystery",
         "type": "bar",
         "visible": false,
         "x": [
          1900,
          1910,
          1920,
          1930,
          1940,
          1950,
          1960,
          1970,
          1980,
          1990,
          2000
         ],
         "y": [
          0,
          0,
          0.013643659711075442,
          0.06741573033707865,
          0.11235955056179775,
          0.06179775280898876,
          0.04654895666131621,
          0.09871589085072231,
          0.11797752808988764,
          0.1565008025682183,
          0.32504012841091495
         ]
        },
        {
         "name": "Period piece",
         "type": "bar",
         "visible": false,
         "x": [
          1900,
          1910,
          1920,
          1930,
          1940,
          1950,
          1960,
          1970,
          1980,
          1990,
          2000
         ],
         "y": [
          0,
          0,
          0.002366863905325444,
          0.02485207100591716,
          0.02485207100591716,
          0.03195266272189349,
          0.023668639053254437,
          0.11597633136094675,
          0.09940828402366864,
          0.27455621301775146,
          0.40236686390532544
         ]
        },
        {
         "name": "Romance Film",
         "type": "bar",
         "visible": false,
         "x": [
          1900,
          1910,
          1920,
          1930,
          1940,
          1950,
          1960,
          1970,
          1980,
          1990,
          2000
         ],
         "y": [
          0.0021496130696474634,
          0.005159071367153913,
          0.014617368873602751,
          0.06233877901977644,
          0.0765262252794497,
          0.07996560619088564,
          0.05975924333619948,
          0.055460017196904556,
          0.10447119518486672,
          0.205073086844368,
          0.3344797936371453
         ]
        },
        {
         "name": "Romantic drama",
         "type": "bar",
         "visible": false,
         "x": [
          1900,
          1910,
          1920,
          1930,
          1940,
          1950,
          1960,
          1970,
          1980,
          1990,
          2000
         ],
         "y": [
          0,
          0,
          0.01365546218487395,
          0.046218487394957986,
          0.0703781512605042,
          0.0703781512605042,
          0.051470588235294115,
          0.05777310924369748,
          0.11449579831932773,
          0.22373949579831934,
          0.35189075630252103
         ]
        },
        {
         "name": "Science Fiction",
         "type": "bar",
         "visible": false,
         "x": [
          1900,
          1910,
          1920,
          1930,
          1940,
          1950,
          1960,
          1970,
          1980,
          1990,
          2000
         ],
         "y": [
          0,
          0.005555555555555556,
          0.008333333333333333,
          0.017592592592592594,
          0.016666666666666666,
          0.07222222222222222,
          0.049074074074074076,
          0.10092592592592593,
          0.2074074074074074,
          0.17962962962962964,
          0.3425925925925926
         ]
        },
        {
         "name": "Thriller",
         "type": "bar",
         "visible": false,
         "x": [
          1900,
          1910,
          1920,
          1930,
          1940,
          1950,
          1960,
          1970,
          1980,
          1990,
          2000
         ],
         "y": [
          0,
          0.0009011715229798738,
          0.0039050765995794533,
          0.022829678582156804,
          0.053469510363472514,
          0.04535896665665365,
          0.0414538900570742,
          0.09101832382096725,
          0.1291679182937819,
          0.21417843196155,
          0.39771703214178433
         ]
        },
        {
         "name": "World cinema",
         "type": "bar",
         "visible": false,
         "x": [
          1900,
          1910,
          1920,
          1930,
          1940,
          1950,
          1960,
          1970,
          1980,
          1990,
          2000
         ],
         "y": [
          0,
          0.0009615384615384616,
          0.006730769230769231,
          0.007692307692307693,
          0.021153846153846155,
          0.03076923076923077,
          0.05961538461538462,
          0.07788461538461539,
          0.12211538461538461,
          0.17403846153846153,
          0.49903846153846154
         ]
        }
       ],
       "layout": {
        "height": 500,
        "sliders": [
         {
          "active": 0,
          "currentvalue": {
           "prefix": "Genre: "
          },
          "pad": {
           "t": 50
          },
          "steps": [
           {
            "args": [
             {
              "visible": [
               true,
               false,
               false,
               false,
               false,
               false,
               false,
               false,
               false,
               false,
               false,
               false,
               false,
               false,
               false,
               false,
               false,
               false,
               false,
               false
              ]
             }
            ],
            "label": "Action",
            "method": "update"
           },
           {
            "args": [
             {
              "visible": [
               false,
               true,
               false,
               false,
               false,
               false,
               false,
               false,
               false,
               false,
               false,
               false,
               false,
               false,
               false,
               false,
               false,
               false,
               false,
               false
              ]
             }
            ],
            "label": "Action/Adventure",
            "method": "update"
           },
           {
            "args": [
             {
              "visible": [
               false,
               false,
               true,
               false,
               false,
               false,
               false,
               false,
               false,
               false,
               false,
               false,
               false,
               false,
               false,
               false,
               false,
               false,
               false,
               false
              ]
             }
            ],
            "label": "Adventure",
            "method": "update"
           },
           {
            "args": [
             {
              "visible": [
               false,
               false,
               false,
               true,
               false,
               false,
               false,
               false,
               false,
               false,
               false,
               false,
               false,
               false,
               false,
               false,
               false,
               false,
               false,
               false
              ]
             }
            ],
            "label": "Black-and-white",
            "method": "update"
           },
           {
            "args": [
             {
              "visible": [
               false,
               false,
               false,
               false,
               true,
               false,
               false,
               false,
               false,
               false,
               false,
               false,
               false,
               false,
               false,
               false,
               false,
               false,
               false,
               false
              ]
             }
            ],
            "label": "Comedy",
            "method": "update"
           },
           {
            "args": [
             {
              "visible": [
               false,
               false,
               false,
               false,
               false,
               true,
               false,
               false,
               false,
               false,
               false,
               false,
               false,
               false,
               false,
               false,
               false,
               false,
               false,
               false
              ]
             }
            ],
            "label": "Crime Fiction",
            "method": "update"
           },
           {
            "args": [
             {
              "visible": [
               false,
               false,
               false,
               false,
               false,
               false,
               true,
               false,
               false,
               false,
               false,
               false,
               false,
               false,
               false,
               false,
               false,
               false,
               false,
               false
              ]
             }
            ],
            "label": "Crime Thriller",
            "method": "update"
           },
           {
            "args": [
             {
              "visible": [
               false,
               false,
               false,
               false,
               false,
               false,
               false,
               true,
               false,
               false,
               false,
               false,
               false,
               false,
               false,
               false,
               false,
               false,
               false,
               false
              ]
             }
            ],
            "label": "Drama",
            "method": "update"
           },
           {
            "args": [
             {
              "visible": [
               false,
               false,
               false,
               false,
               false,
               false,
               false,
               false,
               true,
               false,
               false,
               false,
               false,
               false,
               false,
               false,
               false,
               false,
               false,
               false
              ]
             }
            ],
            "label": "Family Film",
            "method": "update"
           },
           {
            "args": [
             {
              "visible": [
               false,
               false,
               false,
               false,
               false,
               false,
               false,
               false,
               false,
               true,
               false,
               false,
               false,
               false,
               false,
               false,
               false,
               false,
               false,
               false
              ]
             }
            ],
            "label": "Fantasy",
            "method": "update"
           },
           {
            "args": [
             {
              "visible": [
               false,
               false,
               false,
               false,
               false,
               false,
               false,
               false,
               false,
               false,
               true,
               false,
               false,
               false,
               false,
               false,
               false,
               false,
               false,
               false
              ]
             }
            ],
            "label": "Film adaptation",
            "method": "update"
           },
           {
            "args": [
             {
              "visible": [
               false,
               false,
               false,
               false,
               false,
               false,
               false,
               false,
               false,
               false,
               false,
               true,
               false,
               false,
               false,
               false,
               false,
               false,
               false,
               false
              ]
             }
            ],
            "label": "Horror",
            "method": "update"
           },
           {
            "args": [
             {
              "visible": [
               false,
               false,
               false,
               false,
               false,
               false,
               false,
               false,
               false,
               false,
               false,
               false,
               true,
               false,
               false,
               false,
               false,
               false,
               false,
               false
              ]
             }
            ],
            "label": "Indie",
            "method": "update"
           },
           {
            "args": [
             {
              "visible": [
               false,
               false,
               false,
               false,
               false,
               false,
               false,
               false,
               false,
               false,
               false,
               false,
               false,
               true,
               false,
               false,
               false,
               false,
               false,
               false
              ]
             }
            ],
            "label": "Mystery",
            "method": "update"
           },
           {
            "args": [
             {
              "visible": [
               false,
               false,
               false,
               false,
               false,
               false,
               false,
               false,
               false,
               false,
               false,
               false,
               false,
               false,
               true,
               false,
               false,
               false,
               false,
               false
              ]
             }
            ],
            "label": "Period piece",
            "method": "update"
           },
           {
            "args": [
             {
              "visible": [
               false,
               false,
               false,
               false,
               false,
               false,
               false,
               false,
               false,
               false,
               false,
               false,
               false,
               false,
               false,
               true,
               false,
               false,
               false,
               false
              ]
             }
            ],
            "label": "Romance Film",
            "method": "update"
           },
           {
            "args": [
             {
              "visible": [
               false,
               false,
               false,
               false,
               false,
               false,
               false,
               false,
               false,
               false,
               false,
               false,
               false,
               false,
               false,
               false,
               true,
               false,
               false,
               false
              ]
             }
            ],
            "label": "Romantic drama",
            "method": "update"
           },
           {
            "args": [
             {
              "visible": [
               false,
               false,
               false,
               false,
               false,
               false,
               false,
               false,
               false,
               false,
               false,
               false,
               false,
               false,
               false,
               false,
               false,
               true,
               false,
               false
              ]
             }
            ],
            "label": "Science Fiction",
            "method": "update"
           },
           {
            "args": [
             {
              "visible": [
               false,
               false,
               false,
               false,
               false,
               false,
               false,
               false,
               false,
               false,
               false,
               false,
               false,
               false,
               false,
               false,
               false,
               false,
               true,
               false
              ]
             }
            ],
            "label": "Thriller",
            "method": "update"
           },
           {
            "args": [
             {
              "visible": [
               false,
               false,
               false,
               false,
               false,
               false,
               false,
               false,
               false,
               false,
               false,
               false,
               false,
               false,
               false,
               false,
               false,
               false,
               false,
               true
              ]
             }
            ],
            "label": "World cinema",
            "method": "update"
           }
          ]
         }
        ],
        "template": {
         "data": {
          "bar": [
           {
            "error_x": {
             "color": "#2a3f5f"
            },
            "error_y": {
             "color": "#2a3f5f"
            },
            "marker": {
             "line": {
              "color": "#E5ECF6",
              "width": 0.5
             },
             "pattern": {
              "fillmode": "overlay",
              "size": 10,
              "solidity": 0.2
             }
            },
            "type": "bar"
           }
          ],
          "barpolar": [
           {
            "marker": {
             "line": {
              "color": "#E5ECF6",
              "width": 0.5
             },
             "pattern": {
              "fillmode": "overlay",
              "size": 10,
              "solidity": 0.2
             }
            },
            "type": "barpolar"
           }
          ],
          "carpet": [
           {
            "aaxis": {
             "endlinecolor": "#2a3f5f",
             "gridcolor": "white",
             "linecolor": "white",
             "minorgridcolor": "white",
             "startlinecolor": "#2a3f5f"
            },
            "baxis": {
             "endlinecolor": "#2a3f5f",
             "gridcolor": "white",
             "linecolor": "white",
             "minorgridcolor": "white",
             "startlinecolor": "#2a3f5f"
            },
            "type": "carpet"
           }
          ],
          "choropleth": [
           {
            "colorbar": {
             "outlinewidth": 0,
             "ticks": ""
            },
            "type": "choropleth"
           }
          ],
          "contour": [
           {
            "colorbar": {
             "outlinewidth": 0,
             "ticks": ""
            },
            "colorscale": [
             [
              0,
              "#0d0887"
             ],
             [
              0.1111111111111111,
              "#46039f"
             ],
             [
              0.2222222222222222,
              "#7201a8"
             ],
             [
              0.3333333333333333,
              "#9c179e"
             ],
             [
              0.4444444444444444,
              "#bd3786"
             ],
             [
              0.5555555555555556,
              "#d8576b"
             ],
             [
              0.6666666666666666,
              "#ed7953"
             ],
             [
              0.7777777777777778,
              "#fb9f3a"
             ],
             [
              0.8888888888888888,
              "#fdca26"
             ],
             [
              1,
              "#f0f921"
             ]
            ],
            "type": "contour"
           }
          ],
          "contourcarpet": [
           {
            "colorbar": {
             "outlinewidth": 0,
             "ticks": ""
            },
            "type": "contourcarpet"
           }
          ],
          "heatmap": [
           {
            "colorbar": {
             "outlinewidth": 0,
             "ticks": ""
            },
            "colorscale": [
             [
              0,
              "#0d0887"
             ],
             [
              0.1111111111111111,
              "#46039f"
             ],
             [
              0.2222222222222222,
              "#7201a8"
             ],
             [
              0.3333333333333333,
              "#9c179e"
             ],
             [
              0.4444444444444444,
              "#bd3786"
             ],
             [
              0.5555555555555556,
              "#d8576b"
             ],
             [
              0.6666666666666666,
              "#ed7953"
             ],
             [
              0.7777777777777778,
              "#fb9f3a"
             ],
             [
              0.8888888888888888,
              "#fdca26"
             ],
             [
              1,
              "#f0f921"
             ]
            ],
            "type": "heatmap"
           }
          ],
          "heatmapgl": [
           {
            "colorbar": {
             "outlinewidth": 0,
             "ticks": ""
            },
            "colorscale": [
             [
              0,
              "#0d0887"
             ],
             [
              0.1111111111111111,
              "#46039f"
             ],
             [
              0.2222222222222222,
              "#7201a8"
             ],
             [
              0.3333333333333333,
              "#9c179e"
             ],
             [
              0.4444444444444444,
              "#bd3786"
             ],
             [
              0.5555555555555556,
              "#d8576b"
             ],
             [
              0.6666666666666666,
              "#ed7953"
             ],
             [
              0.7777777777777778,
              "#fb9f3a"
             ],
             [
              0.8888888888888888,
              "#fdca26"
             ],
             [
              1,
              "#f0f921"
             ]
            ],
            "type": "heatmapgl"
           }
          ],
          "histogram": [
           {
            "marker": {
             "pattern": {
              "fillmode": "overlay",
              "size": 10,
              "solidity": 0.2
             }
            },
            "type": "histogram"
           }
          ],
          "histogram2d": [
           {
            "colorbar": {
             "outlinewidth": 0,
             "ticks": ""
            },
            "colorscale": [
             [
              0,
              "#0d0887"
             ],
             [
              0.1111111111111111,
              "#46039f"
             ],
             [
              0.2222222222222222,
              "#7201a8"
             ],
             [
              0.3333333333333333,
              "#9c179e"
             ],
             [
              0.4444444444444444,
              "#bd3786"
             ],
             [
              0.5555555555555556,
              "#d8576b"
             ],
             [
              0.6666666666666666,
              "#ed7953"
             ],
             [
              0.7777777777777778,
              "#fb9f3a"
             ],
             [
              0.8888888888888888,
              "#fdca26"
             ],
             [
              1,
              "#f0f921"
             ]
            ],
            "type": "histogram2d"
           }
          ],
          "histogram2dcontour": [
           {
            "colorbar": {
             "outlinewidth": 0,
             "ticks": ""
            },
            "colorscale": [
             [
              0,
              "#0d0887"
             ],
             [
              0.1111111111111111,
              "#46039f"
             ],
             [
              0.2222222222222222,
              "#7201a8"
             ],
             [
              0.3333333333333333,
              "#9c179e"
             ],
             [
              0.4444444444444444,
              "#bd3786"
             ],
             [
              0.5555555555555556,
              "#d8576b"
             ],
             [
              0.6666666666666666,
              "#ed7953"
             ],
             [
              0.7777777777777778,
              "#fb9f3a"
             ],
             [
              0.8888888888888888,
              "#fdca26"
             ],
             [
              1,
              "#f0f921"
             ]
            ],
            "type": "histogram2dcontour"
           }
          ],
          "mesh3d": [
           {
            "colorbar": {
             "outlinewidth": 0,
             "ticks": ""
            },
            "type": "mesh3d"
           }
          ],
          "parcoords": [
           {
            "line": {
             "colorbar": {
              "outlinewidth": 0,
              "ticks": ""
             }
            },
            "type": "parcoords"
           }
          ],
          "pie": [
           {
            "automargin": true,
            "type": "pie"
           }
          ],
          "scatter": [
           {
            "fillpattern": {
             "fillmode": "overlay",
             "size": 10,
             "solidity": 0.2
            },
            "type": "scatter"
           }
          ],
          "scatter3d": [
           {
            "line": {
             "colorbar": {
              "outlinewidth": 0,
              "ticks": ""
             }
            },
            "marker": {
             "colorbar": {
              "outlinewidth": 0,
              "ticks": ""
             }
            },
            "type": "scatter3d"
           }
          ],
          "scattercarpet": [
           {
            "marker": {
             "colorbar": {
              "outlinewidth": 0,
              "ticks": ""
             }
            },
            "type": "scattercarpet"
           }
          ],
          "scattergeo": [
           {
            "marker": {
             "colorbar": {
              "outlinewidth": 0,
              "ticks": ""
             }
            },
            "type": "scattergeo"
           }
          ],
          "scattergl": [
           {
            "marker": {
             "colorbar": {
              "outlinewidth": 0,
              "ticks": ""
             }
            },
            "type": "scattergl"
           }
          ],
          "scattermapbox": [
           {
            "marker": {
             "colorbar": {
              "outlinewidth": 0,
              "ticks": ""
             }
            },
            "type": "scattermapbox"
           }
          ],
          "scatterpolar": [
           {
            "marker": {
             "colorbar": {
              "outlinewidth": 0,
              "ticks": ""
             }
            },
            "type": "scatterpolar"
           }
          ],
          "scatterpolargl": [
           {
            "marker": {
             "colorbar": {
              "outlinewidth": 0,
              "ticks": ""
             }
            },
            "type": "scatterpolargl"
           }
          ],
          "scatterternary": [
           {
            "marker": {
             "colorbar": {
              "outlinewidth": 0,
              "ticks": ""
             }
            },
            "type": "scatterternary"
           }
          ],
          "surface": [
           {
            "colorbar": {
             "outlinewidth": 0,
             "ticks": ""
            },
            "colorscale": [
             [
              0,
              "#0d0887"
             ],
             [
              0.1111111111111111,
              "#46039f"
             ],
             [
              0.2222222222222222,
              "#7201a8"
             ],
             [
              0.3333333333333333,
              "#9c179e"
             ],
             [
              0.4444444444444444,
              "#bd3786"
             ],
             [
              0.5555555555555556,
              "#d8576b"
             ],
             [
              0.6666666666666666,
              "#ed7953"
             ],
             [
              0.7777777777777778,
              "#fb9f3a"
             ],
             [
              0.8888888888888888,
              "#fdca26"
             ],
             [
              1,
              "#f0f921"
             ]
            ],
            "type": "surface"
           }
          ],
          "table": [
           {
            "cells": {
             "fill": {
              "color": "#EBF0F8"
             },
             "line": {
              "color": "white"
             }
            },
            "header": {
             "fill": {
              "color": "#C8D4E3"
             },
             "line": {
              "color": "white"
             }
            },
            "type": "table"
           }
          ]
         },
         "layout": {
          "annotationdefaults": {
           "arrowcolor": "#2a3f5f",
           "arrowhead": 0,
           "arrowwidth": 1
          },
          "autotypenumbers": "strict",
          "coloraxis": {
           "colorbar": {
            "outlinewidth": 0,
            "ticks": ""
           }
          },
          "colorscale": {
           "diverging": [
            [
             0,
             "#8e0152"
            ],
            [
             0.1,
             "#c51b7d"
            ],
            [
             0.2,
             "#de77ae"
            ],
            [
             0.3,
             "#f1b6da"
            ],
            [
             0.4,
             "#fde0ef"
            ],
            [
             0.5,
             "#f7f7f7"
            ],
            [
             0.6,
             "#e6f5d0"
            ],
            [
             0.7,
             "#b8e186"
            ],
            [
             0.8,
             "#7fbc41"
            ],
            [
             0.9,
             "#4d9221"
            ],
            [
             1,
             "#276419"
            ]
           ],
           "sequential": [
            [
             0,
             "#0d0887"
            ],
            [
             0.1111111111111111,
             "#46039f"
            ],
            [
             0.2222222222222222,
             "#7201a8"
            ],
            [
             0.3333333333333333,
             "#9c179e"
            ],
            [
             0.4444444444444444,
             "#bd3786"
            ],
            [
             0.5555555555555556,
             "#d8576b"
            ],
            [
             0.6666666666666666,
             "#ed7953"
            ],
            [
             0.7777777777777778,
             "#fb9f3a"
            ],
            [
             0.8888888888888888,
             "#fdca26"
            ],
            [
             1,
             "#f0f921"
            ]
           ],
           "sequentialminus": [
            [
             0,
             "#0d0887"
            ],
            [
             0.1111111111111111,
             "#46039f"
            ],
            [
             0.2222222222222222,
             "#7201a8"
            ],
            [
             0.3333333333333333,
             "#9c179e"
            ],
            [
             0.4444444444444444,
             "#bd3786"
            ],
            [
             0.5555555555555556,
             "#d8576b"
            ],
            [
             0.6666666666666666,
             "#ed7953"
            ],
            [
             0.7777777777777778,
             "#fb9f3a"
            ],
            [
             0.8888888888888888,
             "#fdca26"
            ],
            [
             1,
             "#f0f921"
            ]
           ]
          },
          "colorway": [
           "#636efa",
           "#EF553B",
           "#00cc96",
           "#ab63fa",
           "#FFA15A",
           "#19d3f3",
           "#FF6692",
           "#B6E880",
           "#FF97FF",
           "#FECB52"
          ],
          "font": {
           "color": "#2a3f5f"
          },
          "geo": {
           "bgcolor": "white",
           "lakecolor": "white",
           "landcolor": "#E5ECF6",
           "showlakes": true,
           "showland": true,
           "subunitcolor": "white"
          },
          "hoverlabel": {
           "align": "left"
          },
          "hovermode": "closest",
          "mapbox": {
           "style": "light"
          },
          "paper_bgcolor": "white",
          "plot_bgcolor": "#E5ECF6",
          "polar": {
           "angularaxis": {
            "gridcolor": "white",
            "linecolor": "white",
            "ticks": ""
           },
           "bgcolor": "#E5ECF6",
           "radialaxis": {
            "gridcolor": "white",
            "linecolor": "white",
            "ticks": ""
           }
          },
          "scene": {
           "xaxis": {
            "backgroundcolor": "#E5ECF6",
            "gridcolor": "white",
            "gridwidth": 2,
            "linecolor": "white",
            "showbackground": true,
            "ticks": "",
            "zerolinecolor": "white"
           },
           "yaxis": {
            "backgroundcolor": "#E5ECF6",
            "gridcolor": "white",
            "gridwidth": 2,
            "linecolor": "white",
            "showbackground": true,
            "ticks": "",
            "zerolinecolor": "white"
           },
           "zaxis": {
            "backgroundcolor": "#E5ECF6",
            "gridcolor": "white",
            "gridwidth": 2,
            "linecolor": "white",
            "showbackground": true,
            "ticks": "",
            "zerolinecolor": "white"
           }
          },
          "shapedefaults": {
           "line": {
            "color": "#2a3f5f"
           }
          },
          "ternary": {
           "aaxis": {
            "gridcolor": "white",
            "linecolor": "white",
            "ticks": ""
           },
           "baxis": {
            "gridcolor": "white",
            "linecolor": "white",
            "ticks": ""
           },
           "bgcolor": "#E5ECF6",
           "caxis": {
            "gridcolor": "white",
            "linecolor": "white",
            "ticks": ""
           }
          },
          "title": {
           "x": 0.05
          },
          "xaxis": {
           "automargin": true,
           "gridcolor": "white",
           "linecolor": "white",
           "ticks": "",
           "title": {
            "standoff": 15
           },
           "zerolinecolor": "white",
           "zerolinewidth": 2
          },
          "yaxis": {
           "automargin": true,
           "gridcolor": "white",
           "linecolor": "white",
           "ticks": "",
           "title": {
            "standoff": 15
           },
           "zerolinecolor": "white",
           "zerolinewidth": 2
          }
         }
        },
        "title": {
         "text": "Proportion of Movies Released per Decade by Selected Genre"
        },
        "width": 900,
        "xaxis": {
         "title": {
          "text": "Decade"
         }
        },
        "yaxis": {
         "range": [
          0,
          0.5
         ],
         "tickformat": ".1%",
         "title": {
          "text": "Percentage of Movies"
         }
        }
       }
      }
     },
     "metadata": {},
     "output_type": "display_data"
    }
   ],
   "source": [
    "fig = go.Figure()\n",
    "\n",
    "# Loop through each genre to add a bar trace for it\n",
    "for genre in movies_per_decade_genres_20_percentage.index:\n",
    "    fig.add_trace(go.Bar(\n",
    "        x=movies_per_decade_genres_20_percentage.columns, # Decades\n",
    "        y=movies_per_decade_genres_20_percentage.loc[genre], # Percentage values for each decade\n",
    "        name=genre,\n",
    "        visible=False # Initially set all traces to invisible\n",
    "    ))\n",
    "\n",
    "# Set the first genre to be visible\n",
    "fig.data[0].visible = True\n",
    "\n",
    "# Create slider steps, each step corresponding to a genre\n",
    "steps = []\n",
    "for i, genre in enumerate(movies_per_decade_genres_20_percentage.index):\n",
    "    step = dict(\n",
    "        method=\"update\",\n",
    "        args=[{\"visible\": [False] * len(fig.data)}], # Start by hiding all traces\n",
    "        label=genre\n",
    "    )\n",
    "    # Set the current genre's trace to be visible\n",
    "    step[\"args\"][0][\"visible\"][i] = True\n",
    "    steps.append(step)\n",
    "\n",
    "# Define the slider with steps for each genre\n",
    "sliders = [dict(\n",
    "    active=0,\n",
    "    currentvalue={\"prefix\": \"Genre: \"},\n",
    "    pad={\"t\": 50},\n",
    "    steps=steps\n",
    ")]\n",
    "\n",
    "# Update layout to include the slider and labels\n",
    "fig.update_layout(\n",
    "    sliders=sliders,\n",
    "    title='Proportion of Movies Released per Decade by Selected Genre',\n",
    "    xaxis_title='Decade',\n",
    "    yaxis_title='Percentage of Movies',\n",
    "    yaxis=dict(tickformat=\".1%\", range=[0, 0.5]), # Ensuring y-axis is consistently scaled\n",
    "    width=900,\n",
    "    height=500\n",
    ")\n",
    "\n",
    "# Show the plot\n",
    "fig.show()\n"
   ]
  },
  {
   "cell_type": "markdown",
   "metadata": {},
   "source": [
    "Thanks to this plot it is much easier to see how the different movie genres' popularity fare through time. Do keep in mind that new movie genres appear through the years which causes an inevitable small decrease of movies in a each category even if their respective popularity might not change."
   ]
  },
  {
   "cell_type": "markdown",
   "metadata": {},
   "source": [
    "# Part 3: Latent Dirichlet Allocation (LDA)\n",
    "To group movies together based on something more precise than their genre, we will use Latent Dirichlet Allocation. LDA offers a way to cluster together movies that reflect similar themes, based on textual descriptions. The model is based on unsupervised learning, as the subjects are not known. However the movie summaries only give us too few informations to use LDA. That's why we will extract the synopsis of the movies through another dataset called \"Movie Plot Synopses with Tags\" (MPST). Those synopsis are around 10 times longer than the summaries, giving way more informations to the LDA model."
   ]
  },
  {
   "cell_type": "markdown",
   "metadata": {},
   "source": [
    "## 3.1 Can we observe movies' topics using LDA?"
   ]
  },
  {
   "cell_type": "markdown",
   "metadata": {},
   "source": [
    "### Preprocessing\n",
    "Removing stop words and names before using LDA is important as those very frequent words are not used to predict themes + lowercase "
   ]
  },
  {
   "cell_type": "markdown",
   "metadata": {},
   "source": [
    "**Note:** The following cell performs named entity removal and stopword filtering on movie synopses. It takes a while to run, since it processes a large dataset. To skip this cell you can use the preprocessed sentences saved in `Data/processed_sentences.plk` instead by setting `run_processing` to `False`.\n"
   ]
  },
  {
   "cell_type": "code",
   "execution_count": 47,
   "metadata": {
    "execution": {
     "iopub.execute_input": "2024-11-14T16:17:54.104062Z",
     "iopub.status.busy": "2024-11-14T16:17:54.102654Z",
     "iopub.status.idle": "2024-11-14T16:17:54.125053Z",
     "shell.execute_reply": "2024-11-14T16:17:54.122642Z",
     "shell.execute_reply.started": "2024-11-14T16:17:54.103969Z"
    }
   },
   "outputs": [],
   "source": [
    "## To put in a python file\n",
    "\n",
    "def remove_named_entities(text):\n",
    "        doc = nlp(text)\n",
    "        return ' '.join([token.text for token in doc if token.ent_type_ != \"PERSON\"])  # Exclude PERSON entities\n",
    "\n",
    "\n",
    "\n",
    "def synopses_processing(sentences):\n",
    "\n",
    "    # ADD DOCSTRING\n",
    "    # Load the spaCy model to remove named entities\n",
    "    nlp = spacy.load(\"en_core_web_sm\")\n",
    "    \n",
    "    stop_words = set(stopwords.words('english'))\n",
    "    \n",
    "    # Remove named entities\n",
    "    cleaned_sentences= [remove_named_entities(doc) for doc in sentences]\n",
    "    print(\"After removing names their are\", len(cleaned_sentences), \"sentences\")\n",
    "    \n",
    "    # Remove stop words and lowercase word\n",
    "    processed_sentences = [\n",
    "        [word for word in word_tokenize(sentence.lower()) if word.isalnum() and word not in stop_words]\n",
    "        for sentence in cleaned_sentences\n",
    "    ]\n",
    "\n",
    "    return processed_sentences\n"
   ]
  },
  {
   "cell_type": "code",
   "execution_count": 49,
   "metadata": {
    "execution": {
     "iopub.execute_input": "2024-11-14T16:17:02.571112Z",
     "iopub.status.busy": "2024-11-14T16:17:02.570059Z",
     "iopub.status.idle": "2024-11-14T16:17:04.598034Z",
     "shell.execute_reply": "2024-11-14T16:17:04.596592Z",
     "shell.execute_reply.started": "2024-11-14T16:17:02.571031Z"
    }
   },
   "outputs": [],
   "source": [
    "# Set this to False to use precomputed processed_sentences.plk\n",
    "run_processing = False\n",
    "\n",
    "if run_processing:\n",
    "\n",
    "    # Get all synopses\n",
    "    sentences = movies_synopsis['plot_synopsis'].tolist()\n",
    "\n",
    "    # Lower case, Remove stop words and named entities\n",
    "    processed_sentences = synopses_processing(sentences)\n",
    "    \n",
    "    # Save processed sentences to a file\n",
    "    with open(\"data/processed_sentences.pkl\", \"wb\") as file:\n",
    "        pickle.dump(processed_sentences, file)\n",
    "else:\n",
    "    # Load all processed data\n",
    "    with open(\"data/processed_sentences.pkl\", \"rb\") as file:\n",
    "        processed_sentences = pickle.load(file)\n"
   ]
  },
  {
   "cell_type": "markdown",
   "metadata": {},
   "source": [
    "**Note:** The following cell builds a dictionary from the processed sentences, converts those sentences into a bag-of-words representation, and then trains an LDA model to extract 10 topics from the text data. It takes a while to run, since it processes a large dataset. To skip this cell you can use the precomputed model saved in `Data/lda_model.model` instead by setting `run_processing` to `False`."
   ]
  },
  {
   "cell_type": "markdown",
   "metadata": {
    "execution": {
     "iopub.execute_input": "2024-11-14T16:09:05.846717Z",
     "iopub.status.busy": "2024-11-14T16:09:05.844484Z",
     "iopub.status.idle": "2024-11-14T16:09:05.856753Z",
     "shell.execute_reply": "2024-11-14T16:09:05.854511Z",
     "shell.execute_reply.started": "2024-11-14T16:09:05.846622Z"
    }
   },
   "source": [
    "### LDA model"
   ]
  },
  {
   "cell_type": "code",
   "execution_count": 53,
   "metadata": {
    "execution": {
     "iopub.execute_input": "2024-11-14T16:07:52.365307Z",
     "iopub.status.busy": "2024-11-14T16:07:52.364657Z",
     "iopub.status.idle": "2024-11-14T16:07:52.851848Z",
     "shell.execute_reply": "2024-11-14T16:07:52.849494Z",
     "shell.execute_reply.started": "2024-11-14T16:07:52.365260Z"
    }
   },
   "outputs": [
    {
     "ename": "FileNotFoundError",
     "evalue": "[Errno 2] No such file or directory: 'src/models/lda_model.model.expElogbeta.npy'",
     "output_type": "error",
     "traceback": [
      "\u001b[1;31m---------------------------------------------------------------------------\u001b[0m",
      "\u001b[1;31mFileNotFoundError\u001b[0m                         Traceback (most recent call last)",
      "Cell \u001b[1;32mIn[53], line 18\u001b[0m\n\u001b[0;32m     16\u001b[0m     dictionary\u001b[38;5;241m.\u001b[39msave(\u001b[38;5;124m\"\u001b[39m\u001b[38;5;124msrc/models/dictionary.dict\u001b[39m\u001b[38;5;124m\"\u001b[39m)\n\u001b[0;32m     17\u001b[0m \u001b[38;5;28;01melse\u001b[39;00m:\n\u001b[1;32m---> 18\u001b[0m     lda_model \u001b[38;5;241m=\u001b[39m LdaModel\u001b[38;5;241m.\u001b[39mload(\u001b[38;5;124m\"\u001b[39m\u001b[38;5;124msrc/models/lda_model.model\u001b[39m\u001b[38;5;124m\"\u001b[39m)\n",
      "File \u001b[1;32mc:\\Users\\babou\\EPFL\\Software\\Anaconda\\envs\\ada\\Lib\\site-packages\\gensim\\models\\ldamodel.py:1663\u001b[0m, in \u001b[0;36mLdaModel.load\u001b[1;34m(cls, fname, *args, **kwargs)\u001b[0m\n\u001b[0;32m   1634\u001b[0m \u001b[38;5;250m\u001b[39m\u001b[38;5;124;03m\"\"\"Load a previously saved :class:`gensim.models.ldamodel.LdaModel` from file.\u001b[39;00m\n\u001b[0;32m   1635\u001b[0m \n\u001b[0;32m   1636\u001b[0m \u001b[38;5;124;03mSee Also\u001b[39;00m\n\u001b[1;32m   (...)\u001b[0m\n\u001b[0;32m   1660\u001b[0m \n\u001b[0;32m   1661\u001b[0m \u001b[38;5;124;03m\"\"\"\u001b[39;00m\n\u001b[0;32m   1662\u001b[0m kwargs[\u001b[38;5;124m'\u001b[39m\u001b[38;5;124mmmap\u001b[39m\u001b[38;5;124m'\u001b[39m] \u001b[38;5;241m=\u001b[39m kwargs\u001b[38;5;241m.\u001b[39mget(\u001b[38;5;124m'\u001b[39m\u001b[38;5;124mmmap\u001b[39m\u001b[38;5;124m'\u001b[39m, \u001b[38;5;28;01mNone\u001b[39;00m)\n\u001b[1;32m-> 1663\u001b[0m result \u001b[38;5;241m=\u001b[39m \u001b[38;5;28msuper\u001b[39m(LdaModel, \u001b[38;5;28mcls\u001b[39m)\u001b[38;5;241m.\u001b[39mload(fname, \u001b[38;5;241m*\u001b[39margs, \u001b[38;5;241m*\u001b[39m\u001b[38;5;241m*\u001b[39mkwargs)\n\u001b[0;32m   1665\u001b[0m \u001b[38;5;66;03m# check if `random_state` attribute has been set after main pickle load\u001b[39;00m\n\u001b[0;32m   1666\u001b[0m \u001b[38;5;66;03m# if set -> the model to be loaded was saved using a >= 0.13.2 version of Gensim\u001b[39;00m\n\u001b[0;32m   1667\u001b[0m \u001b[38;5;66;03m# if not set -> the model to be loaded was saved using a < 0.13.2 version of Gensim,\u001b[39;00m\n\u001b[0;32m   1668\u001b[0m \u001b[38;5;66;03m# so set `random_state` as the default value\u001b[39;00m\n\u001b[0;32m   1669\u001b[0m \u001b[38;5;28;01mif\u001b[39;00m \u001b[38;5;129;01mnot\u001b[39;00m \u001b[38;5;28mhasattr\u001b[39m(result, \u001b[38;5;124m'\u001b[39m\u001b[38;5;124mrandom_state\u001b[39m\u001b[38;5;124m'\u001b[39m):\n",
      "File \u001b[1;32mc:\\Users\\babou\\EPFL\\Software\\Anaconda\\envs\\ada\\Lib\\site-packages\\gensim\\utils.py:486\u001b[0m, in \u001b[0;36mSaveLoad.load\u001b[1;34m(cls, fname, mmap)\u001b[0m\n\u001b[0;32m    483\u001b[0m compress, subname \u001b[38;5;241m=\u001b[39m SaveLoad\u001b[38;5;241m.\u001b[39m_adapt_by_suffix(fname)\n\u001b[0;32m    485\u001b[0m obj \u001b[38;5;241m=\u001b[39m unpickle(fname)\n\u001b[1;32m--> 486\u001b[0m obj\u001b[38;5;241m.\u001b[39m_load_specials(fname, mmap, compress, subname)\n\u001b[0;32m    487\u001b[0m obj\u001b[38;5;241m.\u001b[39madd_lifecycle_event(\u001b[38;5;124m\"\u001b[39m\u001b[38;5;124mloaded\u001b[39m\u001b[38;5;124m\"\u001b[39m, fname\u001b[38;5;241m=\u001b[39mfname)\n\u001b[0;32m    488\u001b[0m \u001b[38;5;28;01mreturn\u001b[39;00m obj\n",
      "File \u001b[1;32mc:\\Users\\babou\\EPFL\\Software\\Anaconda\\envs\\ada\\Lib\\site-packages\\gensim\\utils.py:528\u001b[0m, in \u001b[0;36mSaveLoad._load_specials\u001b[1;34m(self, fname, mmap, compress, subname)\u001b[0m\n\u001b[0;32m    526\u001b[0m     val \u001b[38;5;241m=\u001b[39m np\u001b[38;5;241m.\u001b[39mload(subname(fname, attrib))[\u001b[38;5;124m'\u001b[39m\u001b[38;5;124mval\u001b[39m\u001b[38;5;124m'\u001b[39m]\n\u001b[0;32m    527\u001b[0m \u001b[38;5;28;01melse\u001b[39;00m:\n\u001b[1;32m--> 528\u001b[0m     val \u001b[38;5;241m=\u001b[39m np\u001b[38;5;241m.\u001b[39mload(subname(fname, attrib), mmap_mode\u001b[38;5;241m=\u001b[39mmmap)\n\u001b[0;32m    530\u001b[0m \u001b[38;5;28;01mwith\u001b[39;00m ignore_deprecation_warning():\n\u001b[0;32m    531\u001b[0m     \u001b[38;5;28msetattr\u001b[39m(\u001b[38;5;28mself\u001b[39m, attrib, val)\n",
      "File \u001b[1;32mc:\\Users\\babou\\EPFL\\Software\\Anaconda\\envs\\ada\\Lib\\site-packages\\numpy\\lib\\npyio.py:427\u001b[0m, in \u001b[0;36mload\u001b[1;34m(file, mmap_mode, allow_pickle, fix_imports, encoding, max_header_size)\u001b[0m\n\u001b[0;32m    425\u001b[0m     own_fid \u001b[38;5;241m=\u001b[39m \u001b[38;5;28;01mFalse\u001b[39;00m\n\u001b[0;32m    426\u001b[0m \u001b[38;5;28;01melse\u001b[39;00m:\n\u001b[1;32m--> 427\u001b[0m     fid \u001b[38;5;241m=\u001b[39m stack\u001b[38;5;241m.\u001b[39menter_context(\u001b[38;5;28mopen\u001b[39m(os_fspath(file), \u001b[38;5;124m\"\u001b[39m\u001b[38;5;124mrb\u001b[39m\u001b[38;5;124m\"\u001b[39m))\n\u001b[0;32m    428\u001b[0m     own_fid \u001b[38;5;241m=\u001b[39m \u001b[38;5;28;01mTrue\u001b[39;00m\n\u001b[0;32m    430\u001b[0m \u001b[38;5;66;03m# Code to distinguish from NumPy binary files and pickles.\u001b[39;00m\n",
      "\u001b[1;31mFileNotFoundError\u001b[0m: [Errno 2] No such file or directory: 'src/models/lda_model.model.expElogbeta.npy'"
     ]
    }
   ],
   "source": [
    "# Set this to False to use precomputed processed_sentences.plk\n",
    "run_processing = False\n",
    "\n",
    "if run_processing:\n",
    "    # Maps each word to a unique integer ID\n",
    "    dictionary = Dictionary(processed_sentences)\n",
    "    \n",
    "    # Convert sentences into a bags of words (BoW)\n",
    "    corpus = [dictionary.doc2bow(sentence) for sentence in processed_sentences]\n",
    "    \n",
    "    # Train LDA model\n",
    "    lda_model = LdaModel(corpus=corpus, id2word=dictionary, num_topics=10, random_state=42, passes=10, iterations=50)\n",
    "\n",
    "    # Save dic and model\n",
    "    lda_model.save(\"src/models/lda_model.model\")\n",
    "    dictionary.save(\"src/models/dictionary.dict\")\n",
    "else:\n",
    "    lda_model = LdaModel.load(\"src/models/lda_model.model\")"
   ]
  },
  {
   "cell_type": "markdown",
   "metadata": {},
   "source": [
    "### Resulting Topcis\n",
    "Let's now look at what 10 topics the movies were clustered in"
   ]
  },
  {
   "cell_type": "code",
   "execution_count": 54,
   "metadata": {
    "execution": {
     "iopub.execute_input": "2024-11-14T16:08:23.991152Z",
     "iopub.status.busy": "2024-11-14T16:08:23.989590Z",
     "iopub.status.idle": "2024-11-14T16:08:24.028380Z",
     "shell.execute_reply": "2024-11-14T16:08:24.025691Z",
     "shell.execute_reply.started": "2024-11-14T16:08:23.991038Z"
    }
   },
   "outputs": [
    {
     "ename": "NameError",
     "evalue": "name 'lda_model' is not defined",
     "output_type": "error",
     "traceback": [
      "\u001b[1;31m---------------------------------------------------------------------------\u001b[0m",
      "\u001b[1;31mNameError\u001b[0m                                 Traceback (most recent call last)",
      "Cell \u001b[1;32mIn[54], line 1\u001b[0m\n\u001b[1;32m----> 1\u001b[0m \u001b[38;5;28;01mfor\u001b[39;00m topic_id, topic_words \u001b[38;5;129;01min\u001b[39;00m lda_model\u001b[38;5;241m.\u001b[39mprint_topics(num_words\u001b[38;5;241m=\u001b[39m\u001b[38;5;241m7\u001b[39m):\n\u001b[0;32m      2\u001b[0m     \u001b[38;5;28mprint\u001b[39m(\u001b[38;5;124mf\u001b[39m\u001b[38;5;124m\"\u001b[39m\u001b[38;5;124mTopic \u001b[39m\u001b[38;5;132;01m{\u001b[39;00mtopic_id\u001b[38;5;132;01m}\u001b[39;00m\u001b[38;5;124m: \u001b[39m\u001b[38;5;132;01m{\u001b[39;00mtopic_words\u001b[38;5;132;01m}\u001b[39;00m\u001b[38;5;124m\"\u001b[39m)\n",
      "\u001b[1;31mNameError\u001b[0m: name 'lda_model' is not defined"
     ]
    }
   ],
   "source": [
    "for topic_id, topic_words in lda_model.print_topics(num_words=7):\n",
    "    print(f\"Topic {topic_id}: {topic_words}\")"
   ]
  },
  {
   "cell_type": "markdown",
   "metadata": {
    "jp-MarkdownHeadingCollapsed": true
   },
   "source": [
    "### Is this approach feasible with our data?\n",
    "This approcah seems promising! With very basic preprocessing can already interpret some themes:\n",
    "\n",
    "\n",
    "| Topic | Keywords                       | Theme           |\n",
    "|-------|--------------------------------|-----------------|\n",
    "| 0     | Police, Kill, Detective        | Detective       |\n",
    "| 1     | War, Team                      | War             |\n",
    "| 2     | Hamlet, Macbeth                | Shakespeare     |\n",
    "| 3     | Father, Love                   | Family          |\n",
    "| 4     | Town, Sheriff, Horse           | Western         |\n",
    "| 5     | Ship, Treasure                 | Pirate          |\n",
    "| 6     | Prince, Castle                 | Fairy Tale      |\n",
    "| 7     | Money, Job                     | Business        |\n",
    "| 8     | ?                              | ?               |\n",
    "| 9     | ?                              | ?               |\n",
    "\n",
    "### Observations and Improvements\n",
    "But we also observe that this still has room for improvement:\n",
    "\n",
    "- Topics 9 still carries many names thus for further analysis the `named entity removal` step should be fine tuned. \n",
    "\n",
    "- `Lemmatization` should be applied to avoid reoccurences of declinaison of the same word (e.g killed and kill in topic 0).\n",
    "\n",
    "- The `parameters` such as number of topics, passes and the number of iterations are not chosen optimally which leaves room for improvement.  "
   ]
  }
 ],
 "metadata": {
  "kernelspec": {
   "display_name": "ada",
   "language": "python",
   "name": "python3"
  },
  "language_info": {
   "codemirror_mode": {
    "name": "ipython",
    "version": 3
   },
   "file_extension": ".py",
   "mimetype": "text/x-python",
   "name": "python",
   "nbconvert_exporter": "python",
   "pygments_lexer": "ipython3",
   "version": "3.11.9"
  }
 },
 "nbformat": 4,
 "nbformat_minor": 4
}
