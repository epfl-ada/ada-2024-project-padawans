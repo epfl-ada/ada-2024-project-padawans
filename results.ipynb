{
 "cells": [
  {
   "cell_type": "markdown",
   "metadata": {},
   "source": [
    "# TITLE"
   ]
  },
  {
   "cell_type": "markdown",
   "metadata": {},
   "source": [
    "# Introduction\n",
    "\n",
    "To fill"
   ]
  },
  {
   "cell_type": "markdown",
   "metadata": {},
   "source": [
    "<div style=\"border-left: 6px solid rgba(69, 157, 185, 1);border-radius:5px; box-shadow: 3px 3px 3px rgba(221, 221, 221, 1);\" >\n",
    "    <p style=\"background-color: rgba(69, 157, 185, 0.1); font-weight:bold; padding: 8px 0 8px 15px;\">Analysis</p>\n",
    "    <div style=\"padding: 0 0 2px 10px;\">\n",
    "    \n",
    "**What will be covered :**\n",
    "- **Part 1 :** Data Exploration and Processing\n",
    "- **Part 2 :** Data Analysis\n",
    "- **Part 3 :** Is LDA a feasible method for our data ?\n",
    "\n",
    "</div></div>\n",
    "<br/>\n",
    "\n",
    "---"
   ]
  },
  {
   "cell_type": "markdown",
   "metadata": {},
   "source": [
    "# Part 1: Data Exploration and Processing"
   ]
  },
  {
   "cell_type": "markdown",
   "metadata": {},
   "source": [
    "### Import libraries"
   ]
  },
  {
   "cell_type": "code",
   "execution_count": 1,
   "metadata": {
    "execution": {
     "iopub.execute_input": "2024-11-14T16:04:49.410647Z",
     "iopub.status.busy": "2024-11-14T16:04:49.409150Z",
     "iopub.status.idle": "2024-11-14T16:05:11.809555Z",
     "shell.execute_reply": "2024-11-14T16:05:11.806769Z",
     "shell.execute_reply.started": "2024-11-14T16:04:49.410542Z"
    }
   },
   "outputs": [],
   "source": [
    "import numpy as np\n",
    "import pandas as pd\n",
    "import matplotlib.pyplot as plt \n",
    "import matplotlib.ticker as mtick\n",
    "import plotly.graph_objects as go\n",
    "import ast\n",
    "\n",
    "# LDA\n",
    "import spacy\n",
    "import nltk\n",
    "#nltk.download('punkt')\n",
    "#nltk.download('stopwords')\n",
    "# gensim is a popular library for topic modelling\n",
    "from gensim.corpora import Dictionary\n",
    "from gensim.models import LdaModel\n",
    "from nltk.tokenize import word_tokenize\n",
    "from nltk.corpus import stopwords\n",
    "import pickle\n",
    "\n",
    "\n",
    "from imdb import IMDb\n",
    "import re\n",
    "import kagglehub # To extract synopsis dataframes\n",
    "\n",
    "\n",
    "\n"
   ]
  },
  {
   "cell_type": "markdown",
   "metadata": {},
   "source": [
    "## 1.1 Dataset exploration "
   ]
  },
  {
   "cell_type": "markdown",
   "metadata": {},
   "source": [
    "### Load initial movie dataset"
   ]
  },
  {
   "cell_type": "code",
   "execution_count": 2,
   "metadata": {
    "execution": {
     "iopub.execute_input": "2024-11-14T16:05:55.685760Z",
     "iopub.status.busy": "2024-11-14T16:05:55.684654Z",
     "iopub.status.idle": "2024-11-14T16:05:56.142062Z",
     "shell.execute_reply": "2024-11-14T16:05:56.141228Z",
     "shell.execute_reply.started": "2024-11-14T16:05:55.685676Z"
    }
   },
   "outputs": [
    {
     "name": "stdout",
     "output_type": "stream",
     "text": [
      "The dataset contains 81741 movies and 9 features\n"
     ]
    },
    {
     "data": {
      "text/html": [
       "<div>\n",
       "<style scoped>\n",
       "    .dataframe tbody tr th:only-of-type {\n",
       "        vertical-align: middle;\n",
       "    }\n",
       "\n",
       "    .dataframe tbody tr th {\n",
       "        vertical-align: top;\n",
       "    }\n",
       "\n",
       "    .dataframe thead th {\n",
       "        text-align: right;\n",
       "    }\n",
       "</style>\n",
       "<table border=\"1\" class=\"dataframe\">\n",
       "  <thead>\n",
       "    <tr style=\"text-align: right;\">\n",
       "      <th></th>\n",
       "      <th>Wikipedia movie ID</th>\n",
       "      <th>Freebase movie ID</th>\n",
       "      <th>Movie name</th>\n",
       "      <th>Movie release date</th>\n",
       "      <th>Movie box office revenue</th>\n",
       "      <th>Movie runtime</th>\n",
       "      <th>Movie languages</th>\n",
       "      <th>Movie countries</th>\n",
       "      <th>Movie genres</th>\n",
       "    </tr>\n",
       "  </thead>\n",
       "  <tbody>\n",
       "    <tr>\n",
       "      <th>0</th>\n",
       "      <td>975900</td>\n",
       "      <td>/m/03vyhn</td>\n",
       "      <td>Ghosts of Mars</td>\n",
       "      <td>2001-08-24</td>\n",
       "      <td>14010832.0</td>\n",
       "      <td>98.0</td>\n",
       "      <td>{\"/m/02h40lc\": \"English Language\"}</td>\n",
       "      <td>{\"/m/09c7w0\": \"United States of America\"}</td>\n",
       "      <td>{\"/m/01jfsb\": \"Thriller\", \"/m/06n90\": \"Science...</td>\n",
       "    </tr>\n",
       "    <tr>\n",
       "      <th>1</th>\n",
       "      <td>3196793</td>\n",
       "      <td>/m/08yl5d</td>\n",
       "      <td>Getting Away with Murder: The JonBenét Ramsey ...</td>\n",
       "      <td>2000-02-16</td>\n",
       "      <td>NaN</td>\n",
       "      <td>95.0</td>\n",
       "      <td>{\"/m/02h40lc\": \"English Language\"}</td>\n",
       "      <td>{\"/m/09c7w0\": \"United States of America\"}</td>\n",
       "      <td>{\"/m/02n4kr\": \"Mystery\", \"/m/03bxz7\": \"Biograp...</td>\n",
       "    </tr>\n",
       "    <tr>\n",
       "      <th>2</th>\n",
       "      <td>28463795</td>\n",
       "      <td>/m/0crgdbh</td>\n",
       "      <td>Brun bitter</td>\n",
       "      <td>1988</td>\n",
       "      <td>NaN</td>\n",
       "      <td>83.0</td>\n",
       "      <td>{\"/m/05f_3\": \"Norwegian Language\"}</td>\n",
       "      <td>{\"/m/05b4w\": \"Norway\"}</td>\n",
       "      <td>{\"/m/0lsxr\": \"Crime Fiction\", \"/m/07s9rl0\": \"D...</td>\n",
       "    </tr>\n",
       "    <tr>\n",
       "      <th>3</th>\n",
       "      <td>9363483</td>\n",
       "      <td>/m/0285_cd</td>\n",
       "      <td>White Of The Eye</td>\n",
       "      <td>1987</td>\n",
       "      <td>NaN</td>\n",
       "      <td>110.0</td>\n",
       "      <td>{\"/m/02h40lc\": \"English Language\"}</td>\n",
       "      <td>{\"/m/07ssc\": \"United Kingdom\"}</td>\n",
       "      <td>{\"/m/01jfsb\": \"Thriller\", \"/m/0glj9q\": \"Erotic...</td>\n",
       "    </tr>\n",
       "    <tr>\n",
       "      <th>4</th>\n",
       "      <td>261236</td>\n",
       "      <td>/m/01mrr1</td>\n",
       "      <td>A Woman in Flames</td>\n",
       "      <td>1983</td>\n",
       "      <td>NaN</td>\n",
       "      <td>106.0</td>\n",
       "      <td>{\"/m/04306rv\": \"German Language\"}</td>\n",
       "      <td>{\"/m/0345h\": \"Germany\"}</td>\n",
       "      <td>{\"/m/07s9rl0\": \"Drama\"}</td>\n",
       "    </tr>\n",
       "  </tbody>\n",
       "</table>\n",
       "</div>"
      ],
      "text/plain": [
       "   Wikipedia movie ID Freebase movie ID  \\\n",
       "0              975900         /m/03vyhn   \n",
       "1             3196793         /m/08yl5d   \n",
       "2            28463795        /m/0crgdbh   \n",
       "3             9363483        /m/0285_cd   \n",
       "4              261236         /m/01mrr1   \n",
       "\n",
       "                                          Movie name Movie release date  \\\n",
       "0                                     Ghosts of Mars         2001-08-24   \n",
       "1  Getting Away with Murder: The JonBenét Ramsey ...         2000-02-16   \n",
       "2                                        Brun bitter               1988   \n",
       "3                                   White Of The Eye               1987   \n",
       "4                                  A Woman in Flames               1983   \n",
       "\n",
       "   Movie box office revenue  Movie runtime  \\\n",
       "0                14010832.0           98.0   \n",
       "1                       NaN           95.0   \n",
       "2                       NaN           83.0   \n",
       "3                       NaN          110.0   \n",
       "4                       NaN          106.0   \n",
       "\n",
       "                      Movie languages  \\\n",
       "0  {\"/m/02h40lc\": \"English Language\"}   \n",
       "1  {\"/m/02h40lc\": \"English Language\"}   \n",
       "2  {\"/m/05f_3\": \"Norwegian Language\"}   \n",
       "3  {\"/m/02h40lc\": \"English Language\"}   \n",
       "4   {\"/m/04306rv\": \"German Language\"}   \n",
       "\n",
       "                             Movie countries  \\\n",
       "0  {\"/m/09c7w0\": \"United States of America\"}   \n",
       "1  {\"/m/09c7w0\": \"United States of America\"}   \n",
       "2                     {\"/m/05b4w\": \"Norway\"}   \n",
       "3             {\"/m/07ssc\": \"United Kingdom\"}   \n",
       "4                    {\"/m/0345h\": \"Germany\"}   \n",
       "\n",
       "                                        Movie genres  \n",
       "0  {\"/m/01jfsb\": \"Thriller\", \"/m/06n90\": \"Science...  \n",
       "1  {\"/m/02n4kr\": \"Mystery\", \"/m/03bxz7\": \"Biograp...  \n",
       "2  {\"/m/0lsxr\": \"Crime Fiction\", \"/m/07s9rl0\": \"D...  \n",
       "3  {\"/m/01jfsb\": \"Thriller\", \"/m/0glj9q\": \"Erotic...  \n",
       "4                            {\"/m/07s9rl0\": \"Drama\"}  "
      ]
     },
     "execution_count": 2,
     "metadata": {},
     "output_type": "execute_result"
    }
   ],
   "source": [
    "movie_columnns =['Wikipedia movie ID','Freebase movie ID', 'Movie name', 'Movie release date', 'Movie box office revenue', 'Movie runtime', 'Movie languages', 'Movie countries', 'Movie genres']\n",
    "movie = pd.read_csv('data/movie.metadata.tsv', sep='\\t', header=None, names=movie_columnns)\n",
    "print('The dataset contains', movie.shape[0], 'movies and',movie.shape[1] , 'features')\n",
    "movie.head()"
   ]
  },
  {
   "cell_type": "markdown",
   "metadata": {},
   "source": [
    "# COMMENT WHAT IS THE FEATURE COMPOSTION "
   ]
  },
  {
   "cell_type": "code",
   "execution_count": 3,
   "metadata": {
    "execution": {
     "iopub.execute_input": "2024-11-14T16:05:12.828231Z",
     "iopub.status.busy": "2024-11-14T16:05:12.827983Z",
     "iopub.status.idle": "2024-11-14T16:05:12.917510Z",
     "shell.execute_reply": "2024-11-14T16:05:12.915955Z",
     "shell.execute_reply.started": "2024-11-14T16:05:12.828208Z"
    }
   },
   "outputs": [
    {
     "name": "stdout",
     "output_type": "stream",
     "text": [
      "<class 'pandas.core.frame.DataFrame'>\n",
      "RangeIndex: 81741 entries, 0 to 81740\n",
      "Data columns (total 9 columns):\n",
      " #   Column                    Non-Null Count  Dtype  \n",
      "---  ------                    --------------  -----  \n",
      " 0   Wikipedia movie ID        81741 non-null  int64  \n",
      " 1   Freebase movie ID         81741 non-null  object \n",
      " 2   Movie name                81741 non-null  object \n",
      " 3   Movie release date        74839 non-null  object \n",
      " 4   Movie box office revenue  8401 non-null   float64\n",
      " 5   Movie runtime             61291 non-null  float64\n",
      " 6   Movie languages           81741 non-null  object \n",
      " 7   Movie countries           81741 non-null  object \n",
      " 8   Movie genres              81741 non-null  object \n",
      "dtypes: float64(2), int64(1), object(6)\n",
      "memory usage: 5.6+ MB\n"
     ]
    }
   ],
   "source": [
    "movie.info()"
   ]
  },
  {
   "cell_type": "markdown",
   "metadata": {},
   "source": [
    "# QUICK COMMENT ABOUT THE TYPE"
   ]
  },
  {
   "cell_type": "markdown",
   "metadata": {},
   "source": [
    "We decide to remove the Freebase movie ID as it is no longer actively used and since for our analysis we are not interested in the movie runtime we drop this column too. "
   ]
  },
  {
   "cell_type": "code",
   "execution_count": 4,
   "metadata": {
    "execution": {
     "iopub.execute_input": "2024-11-14T16:05:12.920697Z",
     "iopub.status.busy": "2024-11-14T16:05:12.920365Z",
     "iopub.status.idle": "2024-11-14T16:05:12.952916Z",
     "shell.execute_reply": "2024-11-14T16:05:12.950458Z",
     "shell.execute_reply.started": "2024-11-14T16:05:12.920669Z"
    }
   },
   "outputs": [
    {
     "data": {
      "text/html": [
       "<div>\n",
       "<style scoped>\n",
       "    .dataframe tbody tr th:only-of-type {\n",
       "        vertical-align: middle;\n",
       "    }\n",
       "\n",
       "    .dataframe tbody tr th {\n",
       "        vertical-align: top;\n",
       "    }\n",
       "\n",
       "    .dataframe thead th {\n",
       "        text-align: right;\n",
       "    }\n",
       "</style>\n",
       "<table border=\"1\" class=\"dataframe\">\n",
       "  <thead>\n",
       "    <tr style=\"text-align: right;\">\n",
       "      <th></th>\n",
       "      <th>Wikipedia movie ID</th>\n",
       "      <th>Movie name</th>\n",
       "      <th>Movie release date</th>\n",
       "      <th>Movie box office revenue</th>\n",
       "      <th>Movie languages</th>\n",
       "      <th>Movie countries</th>\n",
       "      <th>Movie genres</th>\n",
       "    </tr>\n",
       "  </thead>\n",
       "  <tbody>\n",
       "    <tr>\n",
       "      <th>0</th>\n",
       "      <td>975900</td>\n",
       "      <td>Ghosts of Mars</td>\n",
       "      <td>2001-08-24</td>\n",
       "      <td>14010832.0</td>\n",
       "      <td>{\"/m/02h40lc\": \"English Language\"}</td>\n",
       "      <td>{\"/m/09c7w0\": \"United States of America\"}</td>\n",
       "      <td>{\"/m/01jfsb\": \"Thriller\", \"/m/06n90\": \"Science...</td>\n",
       "    </tr>\n",
       "    <tr>\n",
       "      <th>1</th>\n",
       "      <td>3196793</td>\n",
       "      <td>Getting Away with Murder: The JonBenét Ramsey ...</td>\n",
       "      <td>2000-02-16</td>\n",
       "      <td>NaN</td>\n",
       "      <td>{\"/m/02h40lc\": \"English Language\"}</td>\n",
       "      <td>{\"/m/09c7w0\": \"United States of America\"}</td>\n",
       "      <td>{\"/m/02n4kr\": \"Mystery\", \"/m/03bxz7\": \"Biograp...</td>\n",
       "    </tr>\n",
       "    <tr>\n",
       "      <th>2</th>\n",
       "      <td>28463795</td>\n",
       "      <td>Brun bitter</td>\n",
       "      <td>1988</td>\n",
       "      <td>NaN</td>\n",
       "      <td>{\"/m/05f_3\": \"Norwegian Language\"}</td>\n",
       "      <td>{\"/m/05b4w\": \"Norway\"}</td>\n",
       "      <td>{\"/m/0lsxr\": \"Crime Fiction\", \"/m/07s9rl0\": \"D...</td>\n",
       "    </tr>\n",
       "    <tr>\n",
       "      <th>3</th>\n",
       "      <td>9363483</td>\n",
       "      <td>White Of The Eye</td>\n",
       "      <td>1987</td>\n",
       "      <td>NaN</td>\n",
       "      <td>{\"/m/02h40lc\": \"English Language\"}</td>\n",
       "      <td>{\"/m/07ssc\": \"United Kingdom\"}</td>\n",
       "      <td>{\"/m/01jfsb\": \"Thriller\", \"/m/0glj9q\": \"Erotic...</td>\n",
       "    </tr>\n",
       "    <tr>\n",
       "      <th>4</th>\n",
       "      <td>261236</td>\n",
       "      <td>A Woman in Flames</td>\n",
       "      <td>1983</td>\n",
       "      <td>NaN</td>\n",
       "      <td>{\"/m/04306rv\": \"German Language\"}</td>\n",
       "      <td>{\"/m/0345h\": \"Germany\"}</td>\n",
       "      <td>{\"/m/07s9rl0\": \"Drama\"}</td>\n",
       "    </tr>\n",
       "  </tbody>\n",
       "</table>\n",
       "</div>"
      ],
      "text/plain": [
       "   Wikipedia movie ID                                         Movie name  \\\n",
       "0              975900                                     Ghosts of Mars   \n",
       "1             3196793  Getting Away with Murder: The JonBenét Ramsey ...   \n",
       "2            28463795                                        Brun bitter   \n",
       "3             9363483                                   White Of The Eye   \n",
       "4              261236                                  A Woman in Flames   \n",
       "\n",
       "  Movie release date  Movie box office revenue  \\\n",
       "0         2001-08-24                14010832.0   \n",
       "1         2000-02-16                       NaN   \n",
       "2               1988                       NaN   \n",
       "3               1987                       NaN   \n",
       "4               1983                       NaN   \n",
       "\n",
       "                      Movie languages  \\\n",
       "0  {\"/m/02h40lc\": \"English Language\"}   \n",
       "1  {\"/m/02h40lc\": \"English Language\"}   \n",
       "2  {\"/m/05f_3\": \"Norwegian Language\"}   \n",
       "3  {\"/m/02h40lc\": \"English Language\"}   \n",
       "4   {\"/m/04306rv\": \"German Language\"}   \n",
       "\n",
       "                             Movie countries  \\\n",
       "0  {\"/m/09c7w0\": \"United States of America\"}   \n",
       "1  {\"/m/09c7w0\": \"United States of America\"}   \n",
       "2                     {\"/m/05b4w\": \"Norway\"}   \n",
       "3             {\"/m/07ssc\": \"United Kingdom\"}   \n",
       "4                    {\"/m/0345h\": \"Germany\"}   \n",
       "\n",
       "                                        Movie genres  \n",
       "0  {\"/m/01jfsb\": \"Thriller\", \"/m/06n90\": \"Science...  \n",
       "1  {\"/m/02n4kr\": \"Mystery\", \"/m/03bxz7\": \"Biograp...  \n",
       "2  {\"/m/0lsxr\": \"Crime Fiction\", \"/m/07s9rl0\": \"D...  \n",
       "3  {\"/m/01jfsb\": \"Thriller\", \"/m/0glj9q\": \"Erotic...  \n",
       "4                            {\"/m/07s9rl0\": \"Drama\"}  "
      ]
     },
     "execution_count": 4,
     "metadata": {},
     "output_type": "execute_result"
    }
   ],
   "source": [
    "movie_drop = movie.drop(['Freebase movie ID', 'Movie runtime'], axis=1)\n",
    "movie_drop.head()\n"
   ]
  },
  {
   "cell_type": "markdown",
   "metadata": {},
   "source": [
    "## CHNAGE COMMENT"
   ]
  },
  {
   "cell_type": "markdown",
   "metadata": {},
   "source": [
    "The three following column of our dataset: Movie languages,\tMovie countries and Movie genres are formatted differently"
   ]
  },
  {
   "cell_type": "code",
   "execution_count": 5,
   "metadata": {
    "execution": {
     "iopub.execute_input": "2024-11-14T16:05:12.957244Z",
     "iopub.status.busy": "2024-11-14T16:05:12.956257Z",
     "iopub.status.idle": "2024-11-14T16:05:12.975776Z",
     "shell.execute_reply": "2024-11-14T16:05:12.973754Z",
     "shell.execute_reply.started": "2024-11-14T16:05:12.957167Z"
    }
   },
   "outputs": [],
   "source": [
    "def convert_to_list(df, column_name):\n",
    "    #Convert to dictionnary \n",
    "    df[column_name] = df[column_name].apply(lambda x: ast.literal_eval(x) if isinstance(x, str) else x)\n",
    "    #Convert to list\n",
    "    df[column_name] = df[column_name].apply(lambda x: list(x.values()) if isinstance(x, dict) else None)\n",
    "    return df[column_name]"
   ]
  },
  {
   "cell_type": "code",
   "execution_count": 6,
   "metadata": {
    "execution": {
     "iopub.execute_input": "2024-11-14T16:05:12.979825Z",
     "iopub.status.busy": "2024-11-14T16:05:12.978919Z",
     "iopub.status.idle": "2024-11-14T16:05:18.808314Z",
     "shell.execute_reply": "2024-11-14T16:05:18.807581Z",
     "shell.execute_reply.started": "2024-11-14T16:05:12.979751Z"
    }
   },
   "outputs": [],
   "source": [
    "movies_df = movie_drop.copy()\n",
    "movies_df['Movie genres'] = convert_to_list(movies_df, 'Movie genres')\n",
    "movies_df['Movie languages'] = convert_to_list(movies_df, 'Movie languages')\n",
    "movies_df['Movie countries'] = convert_to_list(movies_df, 'Movie countries')"
   ]
  },
  {
   "cell_type": "code",
   "execution_count": 7,
   "metadata": {
    "execution": {
     "iopub.execute_input": "2024-11-14T16:05:18.809485Z",
     "iopub.status.busy": "2024-11-14T16:05:18.809191Z",
     "iopub.status.idle": "2024-11-14T16:05:18.829855Z",
     "shell.execute_reply": "2024-11-14T16:05:18.828317Z",
     "shell.execute_reply.started": "2024-11-14T16:05:18.809460Z"
    }
   },
   "outputs": [
    {
     "data": {
      "text/html": [
       "<div>\n",
       "<style scoped>\n",
       "    .dataframe tbody tr th:only-of-type {\n",
       "        vertical-align: middle;\n",
       "    }\n",
       "\n",
       "    .dataframe tbody tr th {\n",
       "        vertical-align: top;\n",
       "    }\n",
       "\n",
       "    .dataframe thead th {\n",
       "        text-align: right;\n",
       "    }\n",
       "</style>\n",
       "<table border=\"1\" class=\"dataframe\">\n",
       "  <thead>\n",
       "    <tr style=\"text-align: right;\">\n",
       "      <th></th>\n",
       "      <th>Wikipedia movie ID</th>\n",
       "      <th>Movie name</th>\n",
       "      <th>Movie release date</th>\n",
       "      <th>Movie box office revenue</th>\n",
       "      <th>Movie languages</th>\n",
       "      <th>Movie countries</th>\n",
       "      <th>Movie genres</th>\n",
       "    </tr>\n",
       "  </thead>\n",
       "  <tbody>\n",
       "    <tr>\n",
       "      <th>0</th>\n",
       "      <td>975900</td>\n",
       "      <td>Ghosts of Mars</td>\n",
       "      <td>2001-08-24</td>\n",
       "      <td>14010832.0</td>\n",
       "      <td>[English Language]</td>\n",
       "      <td>[United States of America]</td>\n",
       "      <td>[Thriller, Science Fiction, Horror, Adventure,...</td>\n",
       "    </tr>\n",
       "    <tr>\n",
       "      <th>1</th>\n",
       "      <td>3196793</td>\n",
       "      <td>Getting Away with Murder: The JonBenét Ramsey ...</td>\n",
       "      <td>2000-02-16</td>\n",
       "      <td>NaN</td>\n",
       "      <td>[English Language]</td>\n",
       "      <td>[United States of America]</td>\n",
       "      <td>[Mystery, Biographical film, Drama, Crime Drama]</td>\n",
       "    </tr>\n",
       "    <tr>\n",
       "      <th>2</th>\n",
       "      <td>28463795</td>\n",
       "      <td>Brun bitter</td>\n",
       "      <td>1988</td>\n",
       "      <td>NaN</td>\n",
       "      <td>[Norwegian Language]</td>\n",
       "      <td>[Norway]</td>\n",
       "      <td>[Crime Fiction, Drama]</td>\n",
       "    </tr>\n",
       "    <tr>\n",
       "      <th>3</th>\n",
       "      <td>9363483</td>\n",
       "      <td>White Of The Eye</td>\n",
       "      <td>1987</td>\n",
       "      <td>NaN</td>\n",
       "      <td>[English Language]</td>\n",
       "      <td>[United Kingdom]</td>\n",
       "      <td>[Thriller, Erotic thriller, Psychological thri...</td>\n",
       "    </tr>\n",
       "    <tr>\n",
       "      <th>4</th>\n",
       "      <td>261236</td>\n",
       "      <td>A Woman in Flames</td>\n",
       "      <td>1983</td>\n",
       "      <td>NaN</td>\n",
       "      <td>[German Language]</td>\n",
       "      <td>[Germany]</td>\n",
       "      <td>[Drama]</td>\n",
       "    </tr>\n",
       "  </tbody>\n",
       "</table>\n",
       "</div>"
      ],
      "text/plain": [
       "   Wikipedia movie ID                                         Movie name  \\\n",
       "0              975900                                     Ghosts of Mars   \n",
       "1             3196793  Getting Away with Murder: The JonBenét Ramsey ...   \n",
       "2            28463795                                        Brun bitter   \n",
       "3             9363483                                   White Of The Eye   \n",
       "4              261236                                  A Woman in Flames   \n",
       "\n",
       "  Movie release date  Movie box office revenue       Movie languages  \\\n",
       "0         2001-08-24                14010832.0    [English Language]   \n",
       "1         2000-02-16                       NaN    [English Language]   \n",
       "2               1988                       NaN  [Norwegian Language]   \n",
       "3               1987                       NaN    [English Language]   \n",
       "4               1983                       NaN     [German Language]   \n",
       "\n",
       "              Movie countries  \\\n",
       "0  [United States of America]   \n",
       "1  [United States of America]   \n",
       "2                    [Norway]   \n",
       "3            [United Kingdom]   \n",
       "4                   [Germany]   \n",
       "\n",
       "                                        Movie genres  \n",
       "0  [Thriller, Science Fiction, Horror, Adventure,...  \n",
       "1   [Mystery, Biographical film, Drama, Crime Drama]  \n",
       "2                             [Crime Fiction, Drama]  \n",
       "3  [Thriller, Erotic thriller, Psychological thri...  \n",
       "4                                            [Drama]  "
      ]
     },
     "execution_count": 7,
     "metadata": {},
     "output_type": "execute_result"
    }
   ],
   "source": [
    "movies_df.head()"
   ]
  },
  {
   "cell_type": "markdown",
   "metadata": {},
   "source": [
    "We can now see that the columns containing information about movie languages, countries, and genres are indeed formatted as lists. "
   ]
  },
  {
   "cell_type": "markdown",
   "metadata": {},
   "source": [
    "For our analysis, having the full release date isn't necessary, just the year is enough. Therefore, we convert the release date into a year format (e.g. 1995-07-21 becomes 1995)."
   ]
  },
  {
   "cell_type": "code",
   "execution_count": 8,
   "metadata": {
    "execution": {
     "iopub.execute_input": "2024-11-14T16:05:18.831365Z",
     "iopub.status.busy": "2024-11-14T16:05:18.831072Z",
     "iopub.status.idle": "2024-11-14T16:05:41.397719Z",
     "shell.execute_reply": "2024-11-14T16:05:41.395357Z",
     "shell.execute_reply.started": "2024-11-14T16:05:18.831338Z"
    }
   },
   "outputs": [
    {
     "name": "stdout",
     "output_type": "stream",
     "text": [
      "0    2001\n",
      "1    2000\n",
      "2    1988\n",
      "3    1987\n",
      "4    1983\n",
      "Name: Movie release date, dtype: Int64\n"
     ]
    }
   ],
   "source": [
    "def extract_year(value):\n",
    "    # Check if the value is a year (4-digit number) and return it as is\n",
    "    if isinstance(value, int) or (isinstance(value, str) and value.isdigit() and len(value) == 4):\n",
    "        return int(value)\n",
    "    # Try to convert complete date strings to datetime and extract the year\n",
    "    try:\n",
    "        return pd.to_datetime(value).year\n",
    "    except (ValueError, TypeError):\n",
    "        return np.nan  # Return NaN if conversion fails\n",
    "\n",
    "movies_df['Movie release date'] = movies_df['Movie release date'].apply(extract_year).astype('Int64')\n",
    "\n",
    "print(movies_df['Movie release date'].head())"
   ]
  },
  {
   "cell_type": "markdown",
   "metadata": {},
   "source": [
    "## EXPLAIN WHY INTERSTED ON SUMMARY (LDA)"
   ]
  },
  {
   "cell_type": "code",
   "execution_count": 9,
   "metadata": {
    "execution": {
     "iopub.execute_input": "2024-11-14T16:05:41.399999Z",
     "iopub.status.busy": "2024-11-14T16:05:41.399662Z",
     "iopub.status.idle": "2024-11-14T16:05:46.245685Z",
     "shell.execute_reply": "2024-11-14T16:05:46.244316Z",
     "shell.execute_reply.started": "2024-11-14T16:05:41.399971Z"
    }
   },
   "outputs": [],
   "source": [
    "sum_columns = ['Wikipedia movie ID','Plot summary']\n",
    "sum_df = pd.read_csv('data/plot_summaries.txt', sep='\\t', header=None)\n",
    "sum_df.columns = sum_columns"
   ]
  },
  {
   "cell_type": "code",
   "execution_count": 10,
   "metadata": {
    "execution": {
     "iopub.execute_input": "2024-11-14T16:05:46.247428Z",
     "iopub.status.busy": "2024-11-14T16:05:46.247117Z",
     "iopub.status.idle": "2024-11-14T16:05:46.297041Z",
     "shell.execute_reply": "2024-11-14T16:05:46.294883Z",
     "shell.execute_reply.started": "2024-11-14T16:05:46.247379Z"
    }
   },
   "outputs": [
    {
     "data": {
      "text/plain": [
       "count    42303.000000\n",
       "mean      1784.034229\n",
       "std       1808.925536\n",
       "min         99.000000\n",
       "25%        508.000000\n",
       "50%       1079.000000\n",
       "75%       2604.500000\n",
       "max      28159.000000\n",
       "Name: summary_length, dtype: float64"
      ]
     },
     "execution_count": 10,
     "metadata": {},
     "output_type": "execute_result"
    }
   ],
   "source": [
    "# Length of each plot summary\n",
    "sum_df['summary_length'] = sum_df['Plot summary'].apply(len)\n",
    "sum_df['summary_length'].describe()"
   ]
  },
  {
   "cell_type": "markdown",
   "metadata": {},
   "source": [
    "# SAY SOMETHING LIKE TOO SMALL AND INCOMPLETE FRO WHAT ANALYSIS WE WWANT TO DO so we chose synopsis"
   ]
  },
  {
   "cell_type": "markdown",
   "metadata": {},
   "source": [
    "+ small explanation about the dataset "
   ]
  },
  {
   "cell_type": "code",
   "execution_count": 11,
   "metadata": {
    "execution": {
     "iopub.execute_input": "2024-11-14T16:05:46.298734Z",
     "iopub.status.busy": "2024-11-14T16:05:46.298298Z",
     "iopub.status.idle": "2024-11-14T16:05:47.484294Z",
     "shell.execute_reply": "2024-11-14T16:05:47.479552Z",
     "shell.execute_reply.started": "2024-11-14T16:05:46.298694Z"
    }
   },
   "outputs": [
    {
     "name": "stdout",
     "output_type": "stream",
     "text": [
      "This synopsis dataframe is of size: (14828, 6)\n"
     ]
    },
    {
     "data": {
      "text/html": [
       "<div>\n",
       "<style scoped>\n",
       "    .dataframe tbody tr th:only-of-type {\n",
       "        vertical-align: middle;\n",
       "    }\n",
       "\n",
       "    .dataframe tbody tr th {\n",
       "        vertical-align: top;\n",
       "    }\n",
       "\n",
       "    .dataframe thead th {\n",
       "        text-align: right;\n",
       "    }\n",
       "</style>\n",
       "<table border=\"1\" class=\"dataframe\">\n",
       "  <thead>\n",
       "    <tr style=\"text-align: right;\">\n",
       "      <th></th>\n",
       "      <th>imdb_id</th>\n",
       "      <th>title</th>\n",
       "      <th>plot_synopsis</th>\n",
       "      <th>tags</th>\n",
       "      <th>split</th>\n",
       "      <th>synopsis_source</th>\n",
       "    </tr>\n",
       "  </thead>\n",
       "  <tbody>\n",
       "    <tr>\n",
       "      <th>0</th>\n",
       "      <td>tt0057603</td>\n",
       "      <td>I tre volti della paura</td>\n",
       "      <td>Note: this synopsis is for the orginal Italian...</td>\n",
       "      <td>cult, horror, gothic, murder, atmospheric</td>\n",
       "      <td>train</td>\n",
       "      <td>imdb</td>\n",
       "    </tr>\n",
       "    <tr>\n",
       "      <th>1</th>\n",
       "      <td>tt1733125</td>\n",
       "      <td>Dungeons &amp; Dragons: The Book of Vile Darkness</td>\n",
       "      <td>Two thousand years ago, Nhagruul the Foul, a s...</td>\n",
       "      <td>violence</td>\n",
       "      <td>train</td>\n",
       "      <td>imdb</td>\n",
       "    </tr>\n",
       "    <tr>\n",
       "      <th>2</th>\n",
       "      <td>tt0033045</td>\n",
       "      <td>The Shop Around the Corner</td>\n",
       "      <td>Matuschek's, a gift store in Budapest, is the ...</td>\n",
       "      <td>romantic</td>\n",
       "      <td>test</td>\n",
       "      <td>imdb</td>\n",
       "    </tr>\n",
       "    <tr>\n",
       "      <th>3</th>\n",
       "      <td>tt0113862</td>\n",
       "      <td>Mr. Holland's Opus</td>\n",
       "      <td>Glenn Holland, not a morning person by anyone'...</td>\n",
       "      <td>inspiring, romantic, stupid, feel-good</td>\n",
       "      <td>train</td>\n",
       "      <td>imdb</td>\n",
       "    </tr>\n",
       "    <tr>\n",
       "      <th>4</th>\n",
       "      <td>tt0086250</td>\n",
       "      <td>Scarface</td>\n",
       "      <td>In May 1980, a Cuban man named Tony Montana (A...</td>\n",
       "      <td>cruelty, murder, dramatic, cult, violence, atm...</td>\n",
       "      <td>val</td>\n",
       "      <td>imdb</td>\n",
       "    </tr>\n",
       "  </tbody>\n",
       "</table>\n",
       "</div>"
      ],
      "text/plain": [
       "     imdb_id                                          title  \\\n",
       "0  tt0057603                        I tre volti della paura   \n",
       "1  tt1733125  Dungeons & Dragons: The Book of Vile Darkness   \n",
       "2  tt0033045                     The Shop Around the Corner   \n",
       "3  tt0113862                             Mr. Holland's Opus   \n",
       "4  tt0086250                                       Scarface   \n",
       "\n",
       "                                       plot_synopsis  \\\n",
       "0  Note: this synopsis is for the orginal Italian...   \n",
       "1  Two thousand years ago, Nhagruul the Foul, a s...   \n",
       "2  Matuschek's, a gift store in Budapest, is the ...   \n",
       "3  Glenn Holland, not a morning person by anyone'...   \n",
       "4  In May 1980, a Cuban man named Tony Montana (A...   \n",
       "\n",
       "                                                tags  split synopsis_source  \n",
       "0          cult, horror, gothic, murder, atmospheric  train            imdb  \n",
       "1                                           violence  train            imdb  \n",
       "2                                           romantic   test            imdb  \n",
       "3             inspiring, romantic, stupid, feel-good  train            imdb  \n",
       "4  cruelty, murder, dramatic, cult, violence, atm...    val            imdb  "
      ]
     },
     "execution_count": 11,
     "metadata": {},
     "output_type": "execute_result"
    }
   ],
   "source": [
    "# Load data\n",
    "synopsis = pd.read_csv('Data/mpst_full_data.csv')\n",
    "\n",
    "# Check data shape\n",
    "print(\"This synopsis dataframe is of size:\", synopsis.shape)\n",
    "\n",
    "# Display df\n",
    "synopsis.head()"
   ]
  },
  {
   "cell_type": "code",
   "execution_count": 12,
   "metadata": {
    "execution": {
     "iopub.status.busy": "2024-11-14T16:05:47.485067Z",
     "iopub.status.idle": "2024-11-14T16:05:47.486909Z",
     "shell.execute_reply": "2024-11-14T16:05:47.485275Z",
     "shell.execute_reply.started": "2024-11-14T16:05:47.485259Z"
    }
   },
   "outputs": [
    {
     "data": {
      "text/plain": [
       "count    14828.000000\n",
       "mean      5139.938090\n",
       "std       4939.950638\n",
       "min        442.000000\n",
       "25%       2494.750000\n",
       "50%       3827.000000\n",
       "75%       5760.000000\n",
       "max      63959.000000\n",
       "Name: plot_length, dtype: float64"
      ]
     },
     "execution_count": 12,
     "metadata": {},
     "output_type": "execute_result"
    }
   ],
   "source": [
    "# Length of each plot summary\n",
    "size_synopsis = synopsis.copy()\n",
    "size_synopsis['plot_length'] = synopsis['plot_synopsis'].apply(len)\n",
    "size_synopsis['plot_length'].describe()"
   ]
  },
  {
   "cell_type": "markdown",
   "metadata": {},
   "source": [
    "### Comment\n",
    "The dataframe offers extra movie tags and the full movie synopsis which would give the LDA more context to group movies together. On the other hand there a only 14'828 rows which is consequently smaller than the initial dataframe. We make the choice to reduce the dataset but gain precision on the themes generated by the LDA. Another important notice is that this dataframe uses imdb_id not wikipedia movie ids."
   ]
  },
  {
   "cell_type": "markdown",
   "metadata": {},
   "source": [
    "# ALSO COMPARE TO MOVIE SUMMARY LENGTH "
   ]
  },
  {
   "cell_type": "markdown",
   "metadata": {},
   "source": [
    "In this dataset there is also column that we are not interested about so we drop them."
   ]
  },
  {
   "cell_type": "code",
   "execution_count": 13,
   "metadata": {
    "execution": {
     "iopub.status.busy": "2024-11-14T16:05:47.488399Z",
     "iopub.status.idle": "2024-11-14T16:05:47.488785Z",
     "shell.execute_reply": "2024-11-14T16:05:47.488633Z",
     "shell.execute_reply.started": "2024-11-14T16:05:47.488617Z"
    }
   },
   "outputs": [
    {
     "data": {
      "text/html": [
       "<div>\n",
       "<style scoped>\n",
       "    .dataframe tbody tr th:only-of-type {\n",
       "        vertical-align: middle;\n",
       "    }\n",
       "\n",
       "    .dataframe tbody tr th {\n",
       "        vertical-align: top;\n",
       "    }\n",
       "\n",
       "    .dataframe thead th {\n",
       "        text-align: right;\n",
       "    }\n",
       "</style>\n",
       "<table border=\"1\" class=\"dataframe\">\n",
       "  <thead>\n",
       "    <tr style=\"text-align: right;\">\n",
       "      <th></th>\n",
       "      <th>imdb_id</th>\n",
       "      <th>plot_synopsis</th>\n",
       "      <th>tags</th>\n",
       "      <th>Wikipedia movie ID</th>\n",
       "      <th>Movie name</th>\n",
       "      <th>Movie release date</th>\n",
       "      <th>Movie box office revenue</th>\n",
       "      <th>Movie languages</th>\n",
       "      <th>Movie countries</th>\n",
       "      <th>Movie genres</th>\n",
       "    </tr>\n",
       "  </thead>\n",
       "  <tbody>\n",
       "    <tr>\n",
       "      <th>0</th>\n",
       "      <td>tt1733125</td>\n",
       "      <td>Two thousand years ago, Nhagruul the Foul, a s...</td>\n",
       "      <td>violence</td>\n",
       "      <td>30855958</td>\n",
       "      <td>Dungeons &amp; Dragons: The Book of Vile Darkness</td>\n",
       "      <td>2012</td>\n",
       "      <td>NaN</td>\n",
       "      <td>[]</td>\n",
       "      <td>[United Kingdom]</td>\n",
       "      <td>[Fantasy]</td>\n",
       "    </tr>\n",
       "    <tr>\n",
       "      <th>1</th>\n",
       "      <td>tt0033045</td>\n",
       "      <td>Matuschek's, a gift store in Budapest, is the ...</td>\n",
       "      <td>romantic</td>\n",
       "      <td>76353</td>\n",
       "      <td>The Shop Around the Corner</td>\n",
       "      <td>1940</td>\n",
       "      <td>NaN</td>\n",
       "      <td>[English Language]</td>\n",
       "      <td>[United States of America]</td>\n",
       "      <td>[Romantic comedy, Workplace Comedy, Black-and-...</td>\n",
       "    </tr>\n",
       "    <tr>\n",
       "      <th>2</th>\n",
       "      <td>tt0113862</td>\n",
       "      <td>Glenn Holland, not a morning person by anyone'...</td>\n",
       "      <td>inspiring, romantic, stupid, feel-good</td>\n",
       "      <td>171076</td>\n",
       "      <td>Mr. Holland's Opus</td>\n",
       "      <td>1995</td>\n",
       "      <td>106269971.0</td>\n",
       "      <td>[English Language, American Sign Language]</td>\n",
       "      <td>[United States of America]</td>\n",
       "      <td>[Inspirational Drama, Family Film, Drama, Musi...</td>\n",
       "    </tr>\n",
       "    <tr>\n",
       "      <th>3</th>\n",
       "      <td>tt0086250</td>\n",
       "      <td>In May 1980, a Cuban man named Tony Montana (A...</td>\n",
       "      <td>cruelty, murder, dramatic, cult, violence, atm...</td>\n",
       "      <td>76331</td>\n",
       "      <td>Scarface</td>\n",
       "      <td>1932</td>\n",
       "      <td>NaN</td>\n",
       "      <td>[Italian Language, English Language]</td>\n",
       "      <td>[United States of America]</td>\n",
       "      <td>[Crime Fiction, Gangster Film, Black-and-white...</td>\n",
       "    </tr>\n",
       "    <tr>\n",
       "      <th>4</th>\n",
       "      <td>tt0086250</td>\n",
       "      <td>In May 1980, a Cuban man named Tony Montana (A...</td>\n",
       "      <td>cruelty, murder, dramatic, cult, violence, atm...</td>\n",
       "      <td>267848</td>\n",
       "      <td>Scarface</td>\n",
       "      <td>1983</td>\n",
       "      <td>65884703.0</td>\n",
       "      <td>[English Language, Spanish Language]</td>\n",
       "      <td>[United States of America]</td>\n",
       "      <td>[Crime Fiction, Thriller, Gangster Film, Actio...</td>\n",
       "    </tr>\n",
       "  </tbody>\n",
       "</table>\n",
       "</div>"
      ],
      "text/plain": [
       "     imdb_id                                      plot_synopsis  \\\n",
       "0  tt1733125  Two thousand years ago, Nhagruul the Foul, a s...   \n",
       "1  tt0033045  Matuschek's, a gift store in Budapest, is the ...   \n",
       "2  tt0113862  Glenn Holland, not a morning person by anyone'...   \n",
       "3  tt0086250  In May 1980, a Cuban man named Tony Montana (A...   \n",
       "4  tt0086250  In May 1980, a Cuban man named Tony Montana (A...   \n",
       "\n",
       "                                                tags  Wikipedia movie ID  \\\n",
       "0                                           violence            30855958   \n",
       "1                                           romantic               76353   \n",
       "2             inspiring, romantic, stupid, feel-good              171076   \n",
       "3  cruelty, murder, dramatic, cult, violence, atm...               76331   \n",
       "4  cruelty, murder, dramatic, cult, violence, atm...              267848   \n",
       "\n",
       "                                      Movie name  Movie release date  \\\n",
       "0  Dungeons & Dragons: The Book of Vile Darkness                2012   \n",
       "1                     The Shop Around the Corner                1940   \n",
       "2                             Mr. Holland's Opus                1995   \n",
       "3                                       Scarface                1932   \n",
       "4                                       Scarface                1983   \n",
       "\n",
       "   Movie box office revenue                             Movie languages  \\\n",
       "0                       NaN                                          []   \n",
       "1                       NaN                          [English Language]   \n",
       "2               106269971.0  [English Language, American Sign Language]   \n",
       "3                       NaN        [Italian Language, English Language]   \n",
       "4                65884703.0        [English Language, Spanish Language]   \n",
       "\n",
       "              Movie countries  \\\n",
       "0            [United Kingdom]   \n",
       "1  [United States of America]   \n",
       "2  [United States of America]   \n",
       "3  [United States of America]   \n",
       "4  [United States of America]   \n",
       "\n",
       "                                        Movie genres  \n",
       "0                                          [Fantasy]  \n",
       "1  [Romantic comedy, Workplace Comedy, Black-and-...  \n",
       "2  [Inspirational Drama, Family Film, Drama, Musi...  \n",
       "3  [Crime Fiction, Gangster Film, Black-and-white...  \n",
       "4  [Crime Fiction, Thriller, Gangster Film, Actio...  "
      ]
     },
     "execution_count": 13,
     "metadata": {},
     "output_type": "execute_result"
    }
   ],
   "source": [
    "movies_syn = synopsis.merge(movies_df, left_on='title', right_on='Movie name', how='inner')\n",
    "movies_syn.drop(columns=['title', 'split', 'synopsis_source'], inplace=True)\n",
    "movies_syn.head()"
   ]
  },
  {
   "cell_type": "code",
   "execution_count": 14,
   "metadata": {
    "execution": {
     "iopub.status.busy": "2024-11-14T16:05:47.489750Z",
     "iopub.status.idle": "2024-11-14T16:05:47.490087Z",
     "shell.execute_reply": "2024-11-14T16:05:47.489938Z",
     "shell.execute_reply.started": "2024-11-14T16:05:47.489923Z"
    }
   },
   "outputs": [
    {
     "name": "stdout",
     "output_type": "stream",
     "text": [
      "We only lost 94 movies by merging the two dataset by the titles of the movies.\n"
     ]
    }
   ],
   "source": [
    "lost_rows = synopsis.shape[0] - movies_syn.shape[0]\n",
    "print(f\"We only lost {lost_rows} movies by merging the two dataset by the titles of the movies.\")"
   ]
  },
  {
   "cell_type": "markdown",
   "metadata": {},
   "source": [
    "### Comment\n",
    "\n",
    "1. Movie loss\n",
    "\n",
    "\n",
    "The size fo the dataframe has not significantly changed, only 94 movies did not match. Our original movie df contained most of the movies present in the synopsis df.\n",
    "\n",
    "2. Same title\n",
    "\n",
    "\n",
    "We also observe that Scarface appears twice since there was a remake. For the rest for the analysis we will assume that if the name of the movie is exactly the same, the synopsis is pretty similar for both movies (if not the same!)."
   ]
  },
  {
   "cell_type": "markdown",
   "metadata": {},
   "source": [
    "# COMMENT FOR ANALYSSIS ALSO INTERESTED IN RATINGS\n",
    "We found a IMDB dataset online. "
   ]
  },
  {
   "cell_type": "code",
   "execution_count": 24,
   "metadata": {
    "execution": {
     "iopub.status.busy": "2024-11-14T16:05:47.490793Z",
     "iopub.status.idle": "2024-11-14T16:05:47.491116Z",
     "shell.execute_reply": "2024-11-14T16:05:47.490971Z",
     "shell.execute_reply.started": "2024-11-14T16:05:47.490956Z"
    }
   },
   "outputs": [],
   "source": [
    "ratings_df = pd.read_csv('data/title.ratings.tsv', sep='\\t')\n",
    "ratings_df = ratings_df.rename(columns={'tconst': 'imdb_id'})"
   ]
  },
  {
   "cell_type": "markdown",
   "metadata": {},
   "source": [
    "We rename the column to match the name our dataset"
   ]
  },
  {
   "cell_type": "code",
   "execution_count": 25,
   "metadata": {
    "execution": {
     "iopub.status.busy": "2024-11-14T16:05:47.491943Z",
     "iopub.status.idle": "2024-11-14T16:05:47.492316Z",
     "shell.execute_reply": "2024-11-14T16:05:47.492161Z",
     "shell.execute_reply.started": "2024-11-14T16:05:47.492145Z"
    }
   },
   "outputs": [
    {
     "data": {
      "text/html": [
       "<div>\n",
       "<style scoped>\n",
       "    .dataframe tbody tr th:only-of-type {\n",
       "        vertical-align: middle;\n",
       "    }\n",
       "\n",
       "    .dataframe tbody tr th {\n",
       "        vertical-align: top;\n",
       "    }\n",
       "\n",
       "    .dataframe thead th {\n",
       "        text-align: right;\n",
       "    }\n",
       "</style>\n",
       "<table border=\"1\" class=\"dataframe\">\n",
       "  <thead>\n",
       "    <tr style=\"text-align: right;\">\n",
       "      <th></th>\n",
       "      <th>imdb_id</th>\n",
       "      <th>plot_synopsis</th>\n",
       "      <th>tags</th>\n",
       "      <th>Wikipedia movie ID</th>\n",
       "      <th>Movie name</th>\n",
       "      <th>Movie release date</th>\n",
       "      <th>Movie box office revenue</th>\n",
       "      <th>Movie languages</th>\n",
       "      <th>Movie countries</th>\n",
       "      <th>Movie genres</th>\n",
       "      <th>averageRating</th>\n",
       "      <th>numVotes</th>\n",
       "    </tr>\n",
       "  </thead>\n",
       "  <tbody>\n",
       "    <tr>\n",
       "      <th>0</th>\n",
       "      <td>tt1733125</td>\n",
       "      <td>Two thousand years ago, Nhagruul the Foul, a s...</td>\n",
       "      <td>violence</td>\n",
       "      <td>30855958</td>\n",
       "      <td>Dungeons &amp; Dragons: The Book of Vile Darkness</td>\n",
       "      <td>2012</td>\n",
       "      <td>NaN</td>\n",
       "      <td>[]</td>\n",
       "      <td>[United Kingdom]</td>\n",
       "      <td>[Fantasy]</td>\n",
       "      <td>4.4</td>\n",
       "      <td>2722</td>\n",
       "    </tr>\n",
       "    <tr>\n",
       "      <th>1</th>\n",
       "      <td>tt0033045</td>\n",
       "      <td>Matuschek's, a gift store in Budapest, is the ...</td>\n",
       "      <td>romantic</td>\n",
       "      <td>76353</td>\n",
       "      <td>The Shop Around the Corner</td>\n",
       "      <td>1940</td>\n",
       "      <td>NaN</td>\n",
       "      <td>[English Language]</td>\n",
       "      <td>[United States of America]</td>\n",
       "      <td>[Romantic comedy, Workplace Comedy, Black-and-...</td>\n",
       "      <td>8.0</td>\n",
       "      <td>39430</td>\n",
       "    </tr>\n",
       "    <tr>\n",
       "      <th>2</th>\n",
       "      <td>tt0113862</td>\n",
       "      <td>Glenn Holland, not a morning person by anyone'...</td>\n",
       "      <td>inspiring, romantic, stupid, feel-good</td>\n",
       "      <td>171076</td>\n",
       "      <td>Mr. Holland's Opus</td>\n",
       "      <td>1995</td>\n",
       "      <td>106269971.0</td>\n",
       "      <td>[English Language, American Sign Language]</td>\n",
       "      <td>[United States of America]</td>\n",
       "      <td>[Inspirational Drama, Family Film, Drama, Musi...</td>\n",
       "      <td>7.3</td>\n",
       "      <td>42246</td>\n",
       "    </tr>\n",
       "    <tr>\n",
       "      <th>3</th>\n",
       "      <td>tt0086250</td>\n",
       "      <td>In May 1980, a Cuban man named Tony Montana (A...</td>\n",
       "      <td>cruelty, murder, dramatic, cult, violence, atm...</td>\n",
       "      <td>76331</td>\n",
       "      <td>Scarface</td>\n",
       "      <td>1932</td>\n",
       "      <td>NaN</td>\n",
       "      <td>[Italian Language, English Language]</td>\n",
       "      <td>[United States of America]</td>\n",
       "      <td>[Crime Fiction, Gangster Film, Black-and-white...</td>\n",
       "      <td>8.3</td>\n",
       "      <td>939727</td>\n",
       "    </tr>\n",
       "    <tr>\n",
       "      <th>4</th>\n",
       "      <td>tt0086250</td>\n",
       "      <td>In May 1980, a Cuban man named Tony Montana (A...</td>\n",
       "      <td>cruelty, murder, dramatic, cult, violence, atm...</td>\n",
       "      <td>267848</td>\n",
       "      <td>Scarface</td>\n",
       "      <td>1983</td>\n",
       "      <td>65884703.0</td>\n",
       "      <td>[English Language, Spanish Language]</td>\n",
       "      <td>[United States of America]</td>\n",
       "      <td>[Crime Fiction, Thriller, Gangster Film, Actio...</td>\n",
       "      <td>8.3</td>\n",
       "      <td>939727</td>\n",
       "    </tr>\n",
       "  </tbody>\n",
       "</table>\n",
       "</div>"
      ],
      "text/plain": [
       "     imdb_id                                      plot_synopsis  \\\n",
       "0  tt1733125  Two thousand years ago, Nhagruul the Foul, a s...   \n",
       "1  tt0033045  Matuschek's, a gift store in Budapest, is the ...   \n",
       "2  tt0113862  Glenn Holland, not a morning person by anyone'...   \n",
       "3  tt0086250  In May 1980, a Cuban man named Tony Montana (A...   \n",
       "4  tt0086250  In May 1980, a Cuban man named Tony Montana (A...   \n",
       "\n",
       "                                                tags  Wikipedia movie ID  \\\n",
       "0                                           violence            30855958   \n",
       "1                                           romantic               76353   \n",
       "2             inspiring, romantic, stupid, feel-good              171076   \n",
       "3  cruelty, murder, dramatic, cult, violence, atm...               76331   \n",
       "4  cruelty, murder, dramatic, cult, violence, atm...              267848   \n",
       "\n",
       "                                      Movie name  Movie release date  \\\n",
       "0  Dungeons & Dragons: The Book of Vile Darkness                2012   \n",
       "1                     The Shop Around the Corner                1940   \n",
       "2                             Mr. Holland's Opus                1995   \n",
       "3                                       Scarface                1932   \n",
       "4                                       Scarface                1983   \n",
       "\n",
       "   Movie box office revenue                             Movie languages  \\\n",
       "0                       NaN                                          []   \n",
       "1                       NaN                          [English Language]   \n",
       "2               106269971.0  [English Language, American Sign Language]   \n",
       "3                       NaN        [Italian Language, English Language]   \n",
       "4                65884703.0        [English Language, Spanish Language]   \n",
       "\n",
       "              Movie countries  \\\n",
       "0            [United Kingdom]   \n",
       "1  [United States of America]   \n",
       "2  [United States of America]   \n",
       "3  [United States of America]   \n",
       "4  [United States of America]   \n",
       "\n",
       "                                        Movie genres  averageRating  numVotes  \n",
       "0                                          [Fantasy]            4.4      2722  \n",
       "1  [Romantic comedy, Workplace Comedy, Black-and-...            8.0     39430  \n",
       "2  [Inspirational Drama, Family Film, Drama, Musi...            7.3     42246  \n",
       "3  [Crime Fiction, Gangster Film, Black-and-white...            8.3    939727  \n",
       "4  [Crime Fiction, Thriller, Gangster Film, Actio...            8.3    939727  "
      ]
     },
     "execution_count": 25,
     "metadata": {},
     "output_type": "execute_result"
    }
   ],
   "source": [
    "movies_ratings = pd.merge(movies_syn,ratings_df,on='imdb_id',how='inner')\n",
    "movies_ratings.head()"
   ]
  },
  {
   "cell_type": "code",
   "execution_count": null,
   "metadata": {},
   "outputs": [],
   "source": [
    "# save .csv file to import it in box_office_extraction.py\n",
    "movies_ratings.to_csv('Data/movies_ratings.csv', index=False)"
   ]
  },
  {
   "cell_type": "markdown",
   "metadata": {},
   "source": [
    "Our dataset is now complete for the analysis, however we need to check the NaN values before"
   ]
  },
  {
   "cell_type": "code",
   "execution_count": 19,
   "metadata": {
    "execution": {
     "iopub.status.busy": "2024-11-14T16:05:47.493178Z",
     "iopub.status.idle": "2024-11-14T16:05:47.493540Z",
     "shell.execute_reply": "2024-11-14T16:05:47.493363Z",
     "shell.execute_reply.started": "2024-11-14T16:05:47.493348Z"
    }
   },
   "outputs": [
    {
     "data": {
      "image/png": "[encoded data removed]",
      "text/plain": [
       "<Figure size 1200x600 with 1 Axes>"
      ]
     },
     "metadata": {},
     "output_type": "display_data"
    }
   ],
   "source": [
    "# Calculate percentage of NaN values in each column\n",
    "na_percentage = (movies_ratings.isna().sum() / len(movies_ratings)) * 100\n",
    "na_percentage = na_percentage.sort_index()\n",
    "\n",
    "# Plot\n",
    "plt.figure(figsize=(12, 6))\n",
    "bars = na_percentage.plot(kind='bar', color='skyblue', width=0.8)  \n",
    "\n",
    "# Add percentage labels on top of each bar\n",
    "for i, value in enumerate(na_percentage):\n",
    "    plt.text(i, value + 1, f'{value:.1f}%', ha='center', va='bottom', fontsize=10)  \n",
    "\n",
    "plt.xlabel('Columns')\n",
    "plt.xticks(rotation=45, ha='right')  \n",
    "plt.ylabel('Percentage of NaN Values (%)')\n",
    "plt.ylim(top =73)\n",
    "plt.title('Percentage of NaN Values per Column')\n",
    "plt.tight_layout()  \n",
    "\n",
    "plt.show()\n"
   ]
  },
  {
   "cell_type": "markdown",
   "metadata": {},
   "source": [
    "After realizing the high number of NaN values in the box-office revenue column, we decided to complete this data as much as possible with the IMDB library."
   ]
  },
  {
   "cell_type": "code",
   "execution_count": 42,
   "metadata": {},
   "outputs": [
    {
     "data": {
      "text/html": [
       "<div>\n",
       "<style scoped>\n",
       "    .dataframe tbody tr th:only-of-type {\n",
       "        vertical-align: middle;\n",
       "    }\n",
       "\n",
       "    .dataframe tbody tr th {\n",
       "        vertical-align: top;\n",
       "    }\n",
       "\n",
       "    .dataframe thead th {\n",
       "        text-align: right;\n",
       "    }\n",
       "</style>\n",
       "<table border=\"1\" class=\"dataframe\">\n",
       "  <thead>\n",
       "    <tr style=\"text-align: right;\">\n",
       "      <th></th>\n",
       "      <th>imdb_id</th>\n",
       "      <th>plot_synopsis</th>\n",
       "      <th>tags</th>\n",
       "      <th>Wikipedia movie ID</th>\n",
       "      <th>Movie name</th>\n",
       "      <th>Movie release date</th>\n",
       "      <th>Movie box office revenue</th>\n",
       "      <th>Movie languages</th>\n",
       "      <th>Movie countries</th>\n",
       "      <th>Movie genres</th>\n",
       "      <th>averageRating</th>\n",
       "      <th>numVotes</th>\n",
       "      <th>IMDB Box-office</th>\n",
       "    </tr>\n",
       "  </thead>\n",
       "  <tbody>\n",
       "    <tr>\n",
       "      <th>0</th>\n",
       "      <td>tt1733125</td>\n",
       "      <td>Two thousand years ago, Nhagruul the Foul, a s...</td>\n",
       "      <td>violence</td>\n",
       "      <td>30855958</td>\n",
       "      <td>Dungeons &amp; Dragons: The Book of Vile Darkness</td>\n",
       "      <td>2012</td>\n",
       "      <td>NaN</td>\n",
       "      <td>[]</td>\n",
       "      <td>[United Kingdom]</td>\n",
       "      <td>[Fantasy]</td>\n",
       "      <td>4.4</td>\n",
       "      <td>2722</td>\n",
       "      <td>NaN</td>\n",
       "    </tr>\n",
       "    <tr>\n",
       "      <th>1</th>\n",
       "      <td>tt0033045</td>\n",
       "      <td>Matuschek's, a gift store in Budapest, is the ...</td>\n",
       "      <td>romantic</td>\n",
       "      <td>76353</td>\n",
       "      <td>The Shop Around the Corner</td>\n",
       "      <td>1940</td>\n",
       "      <td>NaN</td>\n",
       "      <td>[English Language]</td>\n",
       "      <td>[United States of America]</td>\n",
       "      <td>[Romantic comedy, Workplace Comedy, Black-and-...</td>\n",
       "      <td>8.0</td>\n",
       "      <td>39430</td>\n",
       "      <td>380000.0</td>\n",
       "    </tr>\n",
       "    <tr>\n",
       "      <th>2</th>\n",
       "      <td>tt0113862</td>\n",
       "      <td>Glenn Holland, not a morning person by anyone'...</td>\n",
       "      <td>inspiring, romantic, stupid, feel-good</td>\n",
       "      <td>171076</td>\n",
       "      <td>Mr. Holland's Opus</td>\n",
       "      <td>1995</td>\n",
       "      <td>106269971.0</td>\n",
       "      <td>[English Language, American Sign Language]</td>\n",
       "      <td>[United States of America]</td>\n",
       "      <td>[Inspirational Drama, Family Film, Drama, Musi...</td>\n",
       "      <td>7.3</td>\n",
       "      <td>42246</td>\n",
       "      <td>106269971.0</td>\n",
       "    </tr>\n",
       "    <tr>\n",
       "      <th>3</th>\n",
       "      <td>tt0086250</td>\n",
       "      <td>In May 1980, a Cuban man named Tony Montana (A...</td>\n",
       "      <td>cruelty, murder, dramatic, cult, violence, atm...</td>\n",
       "      <td>76331</td>\n",
       "      <td>Scarface</td>\n",
       "      <td>1932</td>\n",
       "      <td>NaN</td>\n",
       "      <td>[Italian Language, English Language]</td>\n",
       "      <td>[United States of America]</td>\n",
       "      <td>[Crime Fiction, Gangster Film, Black-and-white...</td>\n",
       "      <td>8.3</td>\n",
       "      <td>939727</td>\n",
       "      <td>65884703.0</td>\n",
       "    </tr>\n",
       "    <tr>\n",
       "      <th>4</th>\n",
       "      <td>tt0086250</td>\n",
       "      <td>In May 1980, a Cuban man named Tony Montana (A...</td>\n",
       "      <td>cruelty, murder, dramatic, cult, violence, atm...</td>\n",
       "      <td>267848</td>\n",
       "      <td>Scarface</td>\n",
       "      <td>1983</td>\n",
       "      <td>65884703.0</td>\n",
       "      <td>[English Language, Spanish Language]</td>\n",
       "      <td>[United States of America]</td>\n",
       "      <td>[Crime Fiction, Thriller, Gangster Film, Actio...</td>\n",
       "      <td>8.3</td>\n",
       "      <td>939727</td>\n",
       "      <td>65884703.0</td>\n",
       "    </tr>\n",
       "  </tbody>\n",
       "</table>\n",
       "</div>"
      ],
      "text/plain": [
       "     imdb_id                                      plot_synopsis  \\\n",
       "0  tt1733125  Two thousand years ago, Nhagruul the Foul, a s...   \n",
       "1  tt0033045  Matuschek's, a gift store in Budapest, is the ...   \n",
       "2  tt0113862  Glenn Holland, not a morning person by anyone'...   \n",
       "3  tt0086250  In May 1980, a Cuban man named Tony Montana (A...   \n",
       "4  tt0086250  In May 1980, a Cuban man named Tony Montana (A...   \n",
       "\n",
       "                                                tags  Wikipedia movie ID  \\\n",
       "0                                           violence            30855958   \n",
       "1                                           romantic               76353   \n",
       "2             inspiring, romantic, stupid, feel-good              171076   \n",
       "3  cruelty, murder, dramatic, cult, violence, atm...               76331   \n",
       "4  cruelty, murder, dramatic, cult, violence, atm...              267848   \n",
       "\n",
       "                                      Movie name  Movie release date  \\\n",
       "0  Dungeons & Dragons: The Book of Vile Darkness                2012   \n",
       "1                     The Shop Around the Corner                1940   \n",
       "2                             Mr. Holland's Opus                1995   \n",
       "3                                       Scarface                1932   \n",
       "4                                       Scarface                1983   \n",
       "\n",
       "   Movie box office revenue                             Movie languages  \\\n",
       "0                       NaN                                          []   \n",
       "1                       NaN                          [English Language]   \n",
       "2               106269971.0  [English Language, American Sign Language]   \n",
       "3                       NaN        [Italian Language, English Language]   \n",
       "4                65884703.0        [English Language, Spanish Language]   \n",
       "\n",
       "              Movie countries  \\\n",
       "0            [United Kingdom]   \n",
       "1  [United States of America]   \n",
       "2  [United States of America]   \n",
       "3  [United States of America]   \n",
       "4  [United States of America]   \n",
       "\n",
       "                                        Movie genres  averageRating  numVotes  \\\n",
       "0                                          [Fantasy]            4.4      2722   \n",
       "1  [Romantic comedy, Workplace Comedy, Black-and-...            8.0     39430   \n",
       "2  [Inspirational Drama, Family Film, Drama, Musi...            7.3     42246   \n",
       "3  [Crime Fiction, Gangster Film, Black-and-white...            8.3    939727   \n",
       "4  [Crime Fiction, Thriller, Gangster Film, Actio...            8.3    939727   \n",
       "\n",
       "   IMDB Box-office  \n",
       "0              NaN  \n",
       "1         380000.0  \n",
       "2      106269971.0  \n",
       "3       65884703.0  \n",
       "4       65884703.0  "
      ]
     },
     "metadata": {},
     "output_type": "display_data"
    }
   ],
   "source": [
    "#Here is the file with completed box-office from Imdb (last column)\n",
    "new_movies_dataset = pd.read_csv('Data/movies_synopsis_comp.csv')\n",
    "\n",
    "# Add IMDB box office to original dataset\n",
    "IMDB_box_office = new_movies_dataset['IMDB Box-office']\n",
    "\n",
    "movies_ratings['IMDB Box-office'] = IMDB_box_office\n",
    "\n",
    "display(movies_ratings.head())"
   ]
  },
  {
   "cell_type": "markdown",
   "metadata": {},
   "source": [
    "Two columns contain NaN values. We need to handle. BETTER COMMENT"
   ]
  },
  {
   "cell_type": "markdown",
   "metadata": {},
   "source": [
    "We remove the years that are NaN as we are intereseted in the release years"
   ]
  },
  {
   "cell_type": "code",
   "execution_count": 44,
   "metadata": {
    "execution": {
     "iopub.status.busy": "2024-11-14T16:05:47.494560Z",
     "iopub.status.idle": "2024-11-14T16:05:47.494901Z",
     "shell.execute_reply": "2024-11-14T16:05:47.494738Z",
     "shell.execute_reply.started": "2024-11-14T16:05:47.494724Z"
    }
   },
   "outputs": [
    {
     "name": "stdout",
     "output_type": "stream",
     "text": [
      "Movie release date\n",
      "False    14253\n",
      "True       433\n",
      "Name: count, dtype: int64\n"
     ]
    },
    {
     "data": {
      "text/plain": [
       "False"
      ]
     },
     "execution_count": 44,
     "metadata": {},
     "output_type": "execute_result"
    }
   ],
   "source": [
    "print(movies_ratings['Movie release date'].isna().value_counts())\n",
    "movies_df_cleaned = movies_ratings.dropna(subset=['Movie release date'])\n",
    "\n",
    "movies_df_cleaned['Movie release date'].isna().any()"
   ]
  },
  {
   "cell_type": "code",
   "execution_count": 46,
   "metadata": {},
   "outputs": [
    {
     "data": {
      "text/html": [
       "<div>\n",
       "<style scoped>\n",
       "    .dataframe tbody tr th:only-of-type {\n",
       "        vertical-align: middle;\n",
       "    }\n",
       "\n",
       "    .dataframe tbody tr th {\n",
       "        vertical-align: top;\n",
       "    }\n",
       "\n",
       "    .dataframe thead th {\n",
       "        text-align: right;\n",
       "    }\n",
       "</style>\n",
       "<table border=\"1\" class=\"dataframe\">\n",
       "  <thead>\n",
       "    <tr style=\"text-align: right;\">\n",
       "      <th></th>\n",
       "      <th>imdb_id</th>\n",
       "      <th>plot_synopsis</th>\n",
       "      <th>tags</th>\n",
       "      <th>Wikipedia movie ID</th>\n",
       "      <th>Movie name</th>\n",
       "      <th>Movie release date</th>\n",
       "      <th>Movie box office revenue</th>\n",
       "      <th>Movie languages</th>\n",
       "      <th>Movie countries</th>\n",
       "      <th>Movie genres</th>\n",
       "      <th>averageRating</th>\n",
       "      <th>numVotes</th>\n",
       "      <th>IMDB Box-office</th>\n",
       "    </tr>\n",
       "  </thead>\n",
       "  <tbody>\n",
       "    <tr>\n",
       "      <th>0</th>\n",
       "      <td>tt1733125</td>\n",
       "      <td>Two thousand years ago, Nhagruul the Foul, a s...</td>\n",
       "      <td>violence</td>\n",
       "      <td>30855958</td>\n",
       "      <td>Dungeons &amp; Dragons: The Book of Vile Darkness</td>\n",
       "      <td>2012</td>\n",
       "      <td>NaN</td>\n",
       "      <td>[]</td>\n",
       "      <td>[United Kingdom]</td>\n",
       "      <td>[Fantasy]</td>\n",
       "      <td>4.4</td>\n",
       "      <td>2722</td>\n",
       "      <td>NaN</td>\n",
       "    </tr>\n",
       "    <tr>\n",
       "      <th>1</th>\n",
       "      <td>tt0033045</td>\n",
       "      <td>Matuschek's, a gift store in Budapest, is the ...</td>\n",
       "      <td>romantic</td>\n",
       "      <td>76353</td>\n",
       "      <td>The Shop Around the Corner</td>\n",
       "      <td>1940</td>\n",
       "      <td>NaN</td>\n",
       "      <td>[English Language]</td>\n",
       "      <td>[United States of America]</td>\n",
       "      <td>[Romantic comedy, Workplace Comedy, Black-and-...</td>\n",
       "      <td>8.0</td>\n",
       "      <td>39430</td>\n",
       "      <td>380000.0</td>\n",
       "    </tr>\n",
       "    <tr>\n",
       "      <th>2</th>\n",
       "      <td>tt0113862</td>\n",
       "      <td>Glenn Holland, not a morning person by anyone'...</td>\n",
       "      <td>inspiring, romantic, stupid, feel-good</td>\n",
       "      <td>171076</td>\n",
       "      <td>Mr. Holland's Opus</td>\n",
       "      <td>1995</td>\n",
       "      <td>106269971.0</td>\n",
       "      <td>[English Language, American Sign Language]</td>\n",
       "      <td>[United States of America]</td>\n",
       "      <td>[Inspirational Drama, Family Film, Drama, Musi...</td>\n",
       "      <td>7.3</td>\n",
       "      <td>42246</td>\n",
       "      <td>106269971.0</td>\n",
       "    </tr>\n",
       "    <tr>\n",
       "      <th>3</th>\n",
       "      <td>tt0086250</td>\n",
       "      <td>In May 1980, a Cuban man named Tony Montana (A...</td>\n",
       "      <td>cruelty, murder, dramatic, cult, violence, atm...</td>\n",
       "      <td>76331</td>\n",
       "      <td>Scarface</td>\n",
       "      <td>1932</td>\n",
       "      <td>NaN</td>\n",
       "      <td>[Italian Language, English Language]</td>\n",
       "      <td>[United States of America]</td>\n",
       "      <td>[Crime Fiction, Gangster Film, Black-and-white...</td>\n",
       "      <td>8.3</td>\n",
       "      <td>939727</td>\n",
       "      <td>65884703.0</td>\n",
       "    </tr>\n",
       "    <tr>\n",
       "      <th>4</th>\n",
       "      <td>tt0086250</td>\n",
       "      <td>In May 1980, a Cuban man named Tony Montana (A...</td>\n",
       "      <td>cruelty, murder, dramatic, cult, violence, atm...</td>\n",
       "      <td>267848</td>\n",
       "      <td>Scarface</td>\n",
       "      <td>1983</td>\n",
       "      <td>65884703.0</td>\n",
       "      <td>[English Language, Spanish Language]</td>\n",
       "      <td>[United States of America]</td>\n",
       "      <td>[Crime Fiction, Thriller, Gangster Film, Actio...</td>\n",
       "      <td>8.3</td>\n",
       "      <td>939727</td>\n",
       "      <td>65884703.0</td>\n",
       "    </tr>\n",
       "  </tbody>\n",
       "</table>\n",
       "</div>"
      ],
      "text/plain": [
       "     imdb_id                                      plot_synopsis  \\\n",
       "0  tt1733125  Two thousand years ago, Nhagruul the Foul, a s...   \n",
       "1  tt0033045  Matuschek's, a gift store in Budapest, is the ...   \n",
       "2  tt0113862  Glenn Holland, not a morning person by anyone'...   \n",
       "3  tt0086250  In May 1980, a Cuban man named Tony Montana (A...   \n",
       "4  tt0086250  In May 1980, a Cuban man named Tony Montana (A...   \n",
       "\n",
       "                                                tags  Wikipedia movie ID  \\\n",
       "0                                           violence            30855958   \n",
       "1                                           romantic               76353   \n",
       "2             inspiring, romantic, stupid, feel-good              171076   \n",
       "3  cruelty, murder, dramatic, cult, violence, atm...               76331   \n",
       "4  cruelty, murder, dramatic, cult, violence, atm...              267848   \n",
       "\n",
       "                                      Movie name  Movie release date  \\\n",
       "0  Dungeons & Dragons: The Book of Vile Darkness                2012   \n",
       "1                     The Shop Around the Corner                1940   \n",
       "2                             Mr. Holland's Opus                1995   \n",
       "3                                       Scarface                1932   \n",
       "4                                       Scarface                1983   \n",
       "\n",
       "   Movie box office revenue                             Movie languages  \\\n",
       "0                       NaN                                          []   \n",
       "1                       NaN                          [English Language]   \n",
       "2               106269971.0  [English Language, American Sign Language]   \n",
       "3                       NaN        [Italian Language, English Language]   \n",
       "4                65884703.0        [English Language, Spanish Language]   \n",
       "\n",
       "              Movie countries  \\\n",
       "0            [United Kingdom]   \n",
       "1  [United States of America]   \n",
       "2  [United States of America]   \n",
       "3  [United States of America]   \n",
       "4  [United States of America]   \n",
       "\n",
       "                                        Movie genres  averageRating  numVotes  \\\n",
       "0                                          [Fantasy]            4.4      2722   \n",
       "1  [Romantic comedy, Workplace Comedy, Black-and-...            8.0     39430   \n",
       "2  [Inspirational Drama, Family Film, Drama, Musi...            7.3     42246   \n",
       "3  [Crime Fiction, Gangster Film, Black-and-white...            8.3    939727   \n",
       "4  [Crime Fiction, Thriller, Gangster Film, Actio...            8.3    939727   \n",
       "\n",
       "   IMDB Box-office  \n",
       "0              NaN  \n",
       "1         380000.0  \n",
       "2      106269971.0  \n",
       "3       65884703.0  \n",
       "4       65884703.0  "
      ]
     },
     "execution_count": 46,
     "metadata": {},
     "output_type": "execute_result"
    }
   ],
   "source": [
    "movies_df_cleaned.head()"
   ]
  },
  {
   "cell_type": "code",
   "execution_count": 47,
   "metadata": {
    "execution": {
     "iopub.status.busy": "2024-11-14T16:05:47.499972Z",
     "iopub.status.idle": "2024-11-14T16:05:47.500311Z",
     "shell.execute_reply": "2024-11-14T16:05:47.500163Z",
     "shell.execute_reply.started": "2024-11-14T16:05:47.500148Z"
    }
   },
   "outputs": [
    {
     "data": {
      "text/html": [
       "<div>\n",
       "<style scoped>\n",
       "    .dataframe tbody tr th:only-of-type {\n",
       "        vertical-align: middle;\n",
       "    }\n",
       "\n",
       "    .dataframe tbody tr th {\n",
       "        vertical-align: top;\n",
       "    }\n",
       "\n",
       "    .dataframe thead th {\n",
       "        text-align: right;\n",
       "    }\n",
       "</style>\n",
       "<table border=\"1\" class=\"dataframe\">\n",
       "  <thead>\n",
       "    <tr style=\"text-align: right;\">\n",
       "      <th></th>\n",
       "      <th>imdb_id</th>\n",
       "      <th>plot_synopsis</th>\n",
       "      <th>tags</th>\n",
       "      <th>Wikipedia movie ID</th>\n",
       "      <th>Movie name</th>\n",
       "      <th>Movie release date</th>\n",
       "      <th>Movie box office revenue</th>\n",
       "      <th>Movie languages</th>\n",
       "      <th>Movie countries</th>\n",
       "      <th>Movie genres</th>\n",
       "      <th>averageRating</th>\n",
       "      <th>numVotes</th>\n",
       "      <th>IMDB Box-office</th>\n",
       "    </tr>\n",
       "  </thead>\n",
       "  <tbody>\n",
       "    <tr>\n",
       "      <th>0</th>\n",
       "      <td>tt1733125</td>\n",
       "      <td>Two thousand years ago, Nhagruul the Foul, a s...</td>\n",
       "      <td>violence</td>\n",
       "      <td>30855958</td>\n",
       "      <td>Dungeons &amp; Dragons: The Book of Vile Darkness</td>\n",
       "      <td>2012</td>\n",
       "      <td>NaN</td>\n",
       "      <td>[]</td>\n",
       "      <td>[United Kingdom]</td>\n",
       "      <td>[Fantasy]</td>\n",
       "      <td>4.4</td>\n",
       "      <td>2722</td>\n",
       "      <td>NaN</td>\n",
       "    </tr>\n",
       "    <tr>\n",
       "      <th>1</th>\n",
       "      <td>tt0033045</td>\n",
       "      <td>Matuschek's, a gift store in Budapest, is the ...</td>\n",
       "      <td>romantic</td>\n",
       "      <td>76353</td>\n",
       "      <td>The Shop Around the Corner</td>\n",
       "      <td>1940</td>\n",
       "      <td>NaN</td>\n",
       "      <td>[English Language]</td>\n",
       "      <td>[United States of America]</td>\n",
       "      <td>[Romantic comedy, Workplace Comedy, Black-and-...</td>\n",
       "      <td>8.0</td>\n",
       "      <td>39430</td>\n",
       "      <td>380000.0</td>\n",
       "    </tr>\n",
       "    <tr>\n",
       "      <th>2</th>\n",
       "      <td>tt0113862</td>\n",
       "      <td>Glenn Holland, not a morning person by anyone'...</td>\n",
       "      <td>inspiring, romantic, stupid, feel-good</td>\n",
       "      <td>171076</td>\n",
       "      <td>Mr. Holland's Opus</td>\n",
       "      <td>1995</td>\n",
       "      <td>106269971.0</td>\n",
       "      <td>[English Language, American Sign Language]</td>\n",
       "      <td>[United States of America]</td>\n",
       "      <td>[Inspirational Drama, Family Film, Drama, Musi...</td>\n",
       "      <td>7.3</td>\n",
       "      <td>42246</td>\n",
       "      <td>106269971.0</td>\n",
       "    </tr>\n",
       "    <tr>\n",
       "      <th>3</th>\n",
       "      <td>tt0086250</td>\n",
       "      <td>In May 1980, a Cuban man named Tony Montana (A...</td>\n",
       "      <td>cruelty, murder, dramatic, cult, violence, atm...</td>\n",
       "      <td>76331</td>\n",
       "      <td>Scarface</td>\n",
       "      <td>1932</td>\n",
       "      <td>NaN</td>\n",
       "      <td>[Italian Language, English Language]</td>\n",
       "      <td>[United States of America]</td>\n",
       "      <td>[Crime Fiction, Gangster Film, Black-and-white...</td>\n",
       "      <td>8.3</td>\n",
       "      <td>939727</td>\n",
       "      <td>65884703.0</td>\n",
       "    </tr>\n",
       "    <tr>\n",
       "      <th>4</th>\n",
       "      <td>tt0086250</td>\n",
       "      <td>In May 1980, a Cuban man named Tony Montana (A...</td>\n",
       "      <td>cruelty, murder, dramatic, cult, violence, atm...</td>\n",
       "      <td>267848</td>\n",
       "      <td>Scarface</td>\n",
       "      <td>1983</td>\n",
       "      <td>65884703.0</td>\n",
       "      <td>[English Language, Spanish Language]</td>\n",
       "      <td>[United States of America]</td>\n",
       "      <td>[Crime Fiction, Thriller, Gangster Film, Actio...</td>\n",
       "      <td>8.3</td>\n",
       "      <td>939727</td>\n",
       "      <td>65884703.0</td>\n",
       "    </tr>\n",
       "  </tbody>\n",
       "</table>\n",
       "</div>"
      ],
      "text/plain": [
       "     imdb_id                                      plot_synopsis  \\\n",
       "0  tt1733125  Two thousand years ago, Nhagruul the Foul, a s...   \n",
       "1  tt0033045  Matuschek's, a gift store in Budapest, is the ...   \n",
       "2  tt0113862  Glenn Holland, not a morning person by anyone'...   \n",
       "3  tt0086250  In May 1980, a Cuban man named Tony Montana (A...   \n",
       "4  tt0086250  In May 1980, a Cuban man named Tony Montana (A...   \n",
       "\n",
       "                                                tags  Wikipedia movie ID  \\\n",
       "0                                           violence            30855958   \n",
       "1                                           romantic               76353   \n",
       "2             inspiring, romantic, stupid, feel-good              171076   \n",
       "3  cruelty, murder, dramatic, cult, violence, atm...               76331   \n",
       "4  cruelty, murder, dramatic, cult, violence, atm...              267848   \n",
       "\n",
       "                                      Movie name  Movie release date  \\\n",
       "0  Dungeons & Dragons: The Book of Vile Darkness                2012   \n",
       "1                     The Shop Around the Corner                1940   \n",
       "2                             Mr. Holland's Opus                1995   \n",
       "3                                       Scarface                1932   \n",
       "4                                       Scarface                1983   \n",
       "\n",
       "   Movie box office revenue                             Movie languages  \\\n",
       "0                       NaN                                          []   \n",
       "1                       NaN                          [English Language]   \n",
       "2               106269971.0  [English Language, American Sign Language]   \n",
       "3                       NaN        [Italian Language, English Language]   \n",
       "4                65884703.0        [English Language, Spanish Language]   \n",
       "\n",
       "              Movie countries  \\\n",
       "0            [United Kingdom]   \n",
       "1  [United States of America]   \n",
       "2  [United States of America]   \n",
       "3  [United States of America]   \n",
       "4  [United States of America]   \n",
       "\n",
       "                                        Movie genres  averageRating  numVotes  \\\n",
       "0                                          [Fantasy]            4.4      2722   \n",
       "1  [Romantic comedy, Workplace Comedy, Black-and-...            8.0     39430   \n",
       "2  [Inspirational Drama, Family Film, Drama, Musi...            7.3     42246   \n",
       "3  [Crime Fiction, Gangster Film, Black-and-white...            8.3    939727   \n",
       "4  [Crime Fiction, Thriller, Gangster Film, Actio...            8.3    939727   \n",
       "\n",
       "   IMDB Box-office  \n",
       "0              NaN  \n",
       "1         380000.0  \n",
       "2      106269971.0  \n",
       "3       65884703.0  \n",
       "4       65884703.0  "
      ]
     },
     "execution_count": 47,
     "metadata": {},
     "output_type": "execute_result"
    }
   ],
   "source": [
    "movies_synopsis_comp = movies_df_cleaned.copy()\n",
    "\n",
    "movies_synopsis_comp.head()"
   ]
  },
  {
   "cell_type": "code",
   "execution_count": null,
   "metadata": {
    "execution": {
     "iopub.status.busy": "2024-11-14T16:05:47.501268Z",
     "iopub.status.idle": "2024-11-14T16:05:47.501630Z",
     "shell.execute_reply": "2024-11-14T16:05:47.501479Z",
     "shell.execute_reply.started": "2024-11-14T16:05:47.501464Z"
    }
   },
   "outputs": [
    {
     "data": {
      "text/html": [
       "<div>\n",
       "<style scoped>\n",
       "    .dataframe tbody tr th:only-of-type {\n",
       "        vertical-align: middle;\n",
       "    }\n",
       "\n",
       "    .dataframe tbody tr th {\n",
       "        vertical-align: top;\n",
       "    }\n",
       "\n",
       "    .dataframe thead th {\n",
       "        text-align: right;\n",
       "    }\n",
       "</style>\n",
       "<table border=\"1\" class=\"dataframe\">\n",
       "  <thead>\n",
       "    <tr style=\"text-align: right;\">\n",
       "      <th></th>\n",
       "      <th>imdb_id</th>\n",
       "      <th>plot_synopsis</th>\n",
       "      <th>tags</th>\n",
       "      <th>synopsis_source</th>\n",
       "      <th>Wikipedia movie ID</th>\n",
       "      <th>Freebase movie ID</th>\n",
       "      <th>Movie name</th>\n",
       "      <th>Movie release date</th>\n",
       "      <th>Movie box office revenue</th>\n",
       "      <th>Movie runtime</th>\n",
       "      <th>Movie languages</th>\n",
       "      <th>Movie countries</th>\n",
       "      <th>Movie genres</th>\n",
       "      <th>IMDB Box-office</th>\n",
       "    </tr>\n",
       "  </thead>\n",
       "  <tbody>\n",
       "    <tr>\n",
       "      <th>0</th>\n",
       "      <td>1733125</td>\n",
       "      <td>Two thousand years ago, Nhagruul the Foul, a s...</td>\n",
       "      <td>violence</td>\n",
       "      <td>imdb</td>\n",
       "      <td>30855958</td>\n",
       "      <td>/m/0gfjl1f</td>\n",
       "      <td>Dungeons &amp; Dragons: The Book of Vile Darkness</td>\n",
       "      <td>2012-08-09</td>\n",
       "      <td>NaN</td>\n",
       "      <td>90.0</td>\n",
       "      <td>{}</td>\n",
       "      <td>{\"/m/07ssc\": \"United Kingdom\"}</td>\n",
       "      <td>{\"/m/01hmnh\": \"Fantasy\"}</td>\n",
       "      <td>NaN</td>\n",
       "    </tr>\n",
       "    <tr>\n",
       "      <th>1</th>\n",
       "      <td>33045</td>\n",
       "      <td>Matuschek's, a gift store in Budapest, is the ...</td>\n",
       "      <td>romantic</td>\n",
       "      <td>imdb</td>\n",
       "      <td>76353</td>\n",
       "      <td>/m/0k4bt</td>\n",
       "      <td>The Shop Around the Corner</td>\n",
       "      <td>1940-01-12</td>\n",
       "      <td>NaN</td>\n",
       "      <td>98.0</td>\n",
       "      <td>{\"/m/02h40lc\": \"English Language\"}</td>\n",
       "      <td>{\"/m/09c7w0\": \"United States of America\"}</td>\n",
       "      <td>{\"/m/06cvj\": \"Romantic comedy\", \"/m/0hj3nyp\": ...</td>\n",
       "      <td>380000.0</td>\n",
       "    </tr>\n",
       "    <tr>\n",
       "      <th>2</th>\n",
       "      <td>113862</td>\n",
       "      <td>Glenn Holland, not a morning person by anyone'...</td>\n",
       "      <td>inspiring, romantic, stupid, feel-good</td>\n",
       "      <td>imdb</td>\n",
       "      <td>171076</td>\n",
       "      <td>/m/016z98</td>\n",
       "      <td>Mr. Holland's Opus</td>\n",
       "      <td>1995-12-29</td>\n",
       "      <td>106269971.0</td>\n",
       "      <td>130.0</td>\n",
       "      <td>{\"/m/02h40lc\": \"English Language\", \"/m/0my5\": ...</td>\n",
       "      <td>{\"/m/09c7w0\": \"United States of America\"}</td>\n",
       "      <td>{\"/m/0hj3n84\": \"Inspirational Drama\", \"/m/0hqx...</td>\n",
       "      <td>106269971.0</td>\n",
       "    </tr>\n",
       "    <tr>\n",
       "      <th>3</th>\n",
       "      <td>86250</td>\n",
       "      <td>In May 1980, a Cuban man named Tony Montana (A...</td>\n",
       "      <td>cruelty, murder, dramatic, cult, violence, atm...</td>\n",
       "      <td>imdb</td>\n",
       "      <td>76331</td>\n",
       "      <td>/m/0k44g</td>\n",
       "      <td>Scarface</td>\n",
       "      <td>1932</td>\n",
       "      <td>NaN</td>\n",
       "      <td>94.0</td>\n",
       "      <td>{\"/m/02bjrlw\": \"Italian Language\", \"/m/02h40lc...</td>\n",
       "      <td>{\"/m/09c7w0\": \"United States of America\"}</td>\n",
       "      <td>{\"/m/0lsxr\": \"Crime Fiction\", \"/m/0gw5w78\": \"G...</td>\n",
       "      <td>65884703.0</td>\n",
       "    </tr>\n",
       "    <tr>\n",
       "      <th>4</th>\n",
       "      <td>86250</td>\n",
       "      <td>In May 1980, a Cuban man named Tony Montana (A...</td>\n",
       "      <td>cruelty, murder, dramatic, cult, violence, atm...</td>\n",
       "      <td>imdb</td>\n",
       "      <td>267848</td>\n",
       "      <td>/m/01nln3</td>\n",
       "      <td>Scarface</td>\n",
       "      <td>1983-12-01</td>\n",
       "      <td>65884703.0</td>\n",
       "      <td>170.0</td>\n",
       "      <td>{\"/m/02h40lc\": \"English Language\", \"/m/06nm1\":...</td>\n",
       "      <td>{\"/m/09c7w0\": \"United States of America\"}</td>\n",
       "      <td>{\"/m/0lsxr\": \"Crime Fiction\", \"/m/01jfsb\": \"Th...</td>\n",
       "      <td>65884703.0</td>\n",
       "    </tr>\n",
       "  </tbody>\n",
       "</table>\n",
       "</div>"
      ],
      "text/plain": [
       "   imdb_id                                      plot_synopsis  \\\n",
       "0  1733125  Two thousand years ago, Nhagruul the Foul, a s...   \n",
       "1    33045  Matuschek's, a gift store in Budapest, is the ...   \n",
       "2   113862  Glenn Holland, not a morning person by anyone'...   \n",
       "3    86250  In May 1980, a Cuban man named Tony Montana (A...   \n",
       "4    86250  In May 1980, a Cuban man named Tony Montana (A...   \n",
       "\n",
       "                                                tags synopsis_source  \\\n",
       "0                                           violence            imdb   \n",
       "1                                           romantic            imdb   \n",
       "2             inspiring, romantic, stupid, feel-good            imdb   \n",
       "3  cruelty, murder, dramatic, cult, violence, atm...            imdb   \n",
       "4  cruelty, murder, dramatic, cult, violence, atm...            imdb   \n",
       "\n",
       "   Wikipedia movie ID Freebase movie ID  \\\n",
       "0            30855958        /m/0gfjl1f   \n",
       "1               76353          /m/0k4bt   \n",
       "2              171076         /m/016z98   \n",
       "3               76331          /m/0k44g   \n",
       "4              267848         /m/01nln3   \n",
       "\n",
       "                                      Movie name Movie release date  \\\n",
       "0  Dungeons & Dragons: The Book of Vile Darkness         2012-08-09   \n",
       "1                     The Shop Around the Corner         1940-01-12   \n",
       "2                             Mr. Holland's Opus         1995-12-29   \n",
       "3                                       Scarface               1932   \n",
       "4                                       Scarface         1983-12-01   \n",
       "\n",
       "   Movie box office revenue  Movie runtime  \\\n",
       "0                       NaN           90.0   \n",
       "1                       NaN           98.0   \n",
       "2               106269971.0          130.0   \n",
       "3                       NaN           94.0   \n",
       "4                65884703.0          170.0   \n",
       "\n",
       "                                     Movie languages  \\\n",
       "0                                                 {}   \n",
       "1                 {\"/m/02h40lc\": \"English Language\"}   \n",
       "2  {\"/m/02h40lc\": \"English Language\", \"/m/0my5\": ...   \n",
       "3  {\"/m/02bjrlw\": \"Italian Language\", \"/m/02h40lc...   \n",
       "4  {\"/m/02h40lc\": \"English Language\", \"/m/06nm1\":...   \n",
       "\n",
       "                             Movie countries  \\\n",
       "0             {\"/m/07ssc\": \"United Kingdom\"}   \n",
       "1  {\"/m/09c7w0\": \"United States of America\"}   \n",
       "2  {\"/m/09c7w0\": \"United States of America\"}   \n",
       "3  {\"/m/09c7w0\": \"United States of America\"}   \n",
       "4  {\"/m/09c7w0\": \"United States of America\"}   \n",
       "\n",
       "                                        Movie genres  IMDB Box-office  \n",
       "0                           {\"/m/01hmnh\": \"Fantasy\"}              NaN  \n",
       "1  {\"/m/06cvj\": \"Romantic comedy\", \"/m/0hj3nyp\": ...         380000.0  \n",
       "2  {\"/m/0hj3n84\": \"Inspirational Drama\", \"/m/0hqx...      106269971.0  \n",
       "3  {\"/m/0lsxr\": \"Crime Fiction\", \"/m/0gw5w78\": \"G...       65884703.0  \n",
       "4  {\"/m/0lsxr\": \"Crime Fiction\", \"/m/01jfsb\": \"Th...       65884703.0  "
      ]
     },
     "metadata": {},
     "output_type": "display_data"
    }
   ],
   "source": [
    "#Here is the file with completed box-office from Imdb (last column)\n",
    "#movies_synopsis_comp = pd.read_csv('Data/movies_synopsis_comp.csv')\n",
    "#display(movies_synopsis_comp.head())"
   ]
  },
  {
   "cell_type": "markdown",
   "metadata": {},
   "source": [
    "### Comment\n",
    "\n",
    "We completed some of the missing data, but how much did we improve ?"
   ]
  },
  {
   "cell_type": "code",
   "execution_count": 48,
   "metadata": {
    "execution": {
     "iopub.status.busy": "2024-11-14T16:05:47.502567Z",
     "iopub.status.idle": "2024-11-14T16:05:47.502909Z",
     "shell.execute_reply": "2024-11-14T16:05:47.502750Z",
     "shell.execute_reply.started": "2024-11-14T16:05:47.502736Z"
    }
   },
   "outputs": [
    {
     "name": "stdout",
     "output_type": "stream",
     "text": [
      "We went from 62.41% of NaN values to 54.51%.\n"
     ]
    }
   ],
   "source": [
    "#Improvement in NaN values in box-office\n",
    "na_percentage_box_init = (movies_synopsis_comp['Movie box office revenue'].isna().sum() / len(movies_synopsis_comp)) * 100\n",
    "na_percentage_box_imdb = (movies_synopsis_comp['IMDB Box-office'].isna().sum() / len(movies_synopsis_comp)) * 100\n",
    "print(f\"We went from {round(na_percentage_box_init,2)}% of NaN values to {round(na_percentage_box_imdb,2)}%.\")"
   ]
  },
  {
   "cell_type": "code",
   "execution_count": 49,
   "metadata": {
    "execution": {
     "iopub.status.busy": "2024-11-14T16:05:47.503771Z",
     "iopub.status.idle": "2024-11-14T16:05:47.504105Z",
     "shell.execute_reply": "2024-11-14T16:05:47.503958Z",
     "shell.execute_reply.started": "2024-11-14T16:05:47.503943Z"
    }
   },
   "outputs": [],
   "source": [
    "#Remove the old revenue column as we don't need it anymore\n",
    "movies_synopsis_comp.drop('Movie box office revenue', axis=1, inplace=True)"
   ]
  },
  {
   "cell_type": "markdown",
   "metadata": {},
   "source": [
    "### Comment\n",
    "The increase is a bit deceiving. The IMDB library is missing a lot of box-offices too. We suspect the IMDB library to mabe block when there are too many requests, giving more NaN values than there actually are. In the end that's still an increase of 24% in box-office data size, which will help us for our analysis."
   ]
  },
  {
   "cell_type": "markdown",
   "metadata": {},
   "source": [
    "## COMMENT HOW HANDLE MISSING VALUES"
   ]
  },
  {
   "cell_type": "markdown",
   "metadata": {},
   "source": [
    "# PART 2: Data Analysis"
   ]
  },
  {
   "cell_type": "markdown",
   "metadata": {},
   "source": [
    "### A CHANGER AVEC movie_final = movies_synopsis_comp.copy() MAIS J'AVAIS PAS LE DATASET"
   ]
  },
  {
   "cell_type": "code",
   "execution_count": 50,
   "metadata": {
    "execution": {
     "iopub.status.busy": "2024-11-14T16:05:47.505319Z",
     "iopub.status.idle": "2024-11-14T16:05:47.505695Z",
     "shell.execute_reply": "2024-11-14T16:05:47.505543Z",
     "shell.execute_reply.started": "2024-11-14T16:05:47.505526Z"
    }
   },
   "outputs": [],
   "source": [
    "movie_final = movies_synopsis_comp.copy()"
   ]
  },
  {
   "cell_type": "markdown",
   "metadata": {},
   "source": [
    "### Movies' genres exploration"
   ]
  },
  {
   "cell_type": "code",
   "execution_count": 51,
   "metadata": {
    "execution": {
     "iopub.status.busy": "2024-11-14T16:05:47.506695Z",
     "iopub.status.idle": "2024-11-14T16:05:47.507024Z",
     "shell.execute_reply": "2024-11-14T16:05:47.506877Z",
     "shell.execute_reply.started": "2024-11-14T16:05:47.506863Z"
    }
   },
   "outputs": [
    {
     "name": "stdout",
     "output_type": "stream",
     "text": [
      "Number of unique genres: 333\n"
     ]
    }
   ],
   "source": [
    "all_genres = movie_final['Movie genres'].explode()\n",
    "\n",
    "genres_counts = all_genres.value_counts()\n",
    "\n",
    "num_unique_genre = all_genres.nunique()\n",
    "print(\"Number of unique genres:\", num_unique_genre)"
   ]
  },
  {
   "cell_type": "code",
   "execution_count": 52,
   "metadata": {
    "execution": {
     "iopub.status.busy": "2024-11-14T16:05:47.507810Z",
     "iopub.status.idle": "2024-11-14T16:05:47.508140Z",
     "shell.execute_reply": "2024-11-14T16:05:47.507992Z",
     "shell.execute_reply.started": "2024-11-14T16:05:47.507977Z"
    }
   },
   "outputs": [
    {
     "data": {
      "image/png": "[encoded data removed]",
      "text/plain": [
       "<Figure size 1000x800 with 1 Axes>"
      ]
     },
     "metadata": {},
     "output_type": "display_data"
    }
   ],
   "source": [
    "# Plot the number of movies per top 30 genres\n",
    "plt.figure(figsize=(10, 8))\n",
    "bars = genres_counts.head(30).sort_values(ascending=True).plot(kind='barh', color='lightgreen')\n",
    "\n",
    "for index, value in enumerate(genres_counts.head(30).sort_values(ascending=True)):\n",
    "    plt.text(value, index, str(value), va='center')\n",
    "\n",
    "plt.xlabel('Number of Movies', fontsize=16)\n",
    "plt.ylabel('Genres', fontsize=16)\n",
    "plt.title('Number of Movies per Genre', fontsize=16)  \n",
    "\n",
    "plt.show()"
   ]
  },
  {
   "cell_type": "markdown",
   "metadata": {},
   "source": [
    "Drama is the clear leader when it comes to movie genres, followed by Comedy and Romance. This makes sense since these genres appeal to a wide range of audiences. Genres like Thriller, Action, and Documentary are also popular, showing that people enjoy excitement and real-life stories. On the other end, niche genres like 'Cult' and 'Political drama' are much less common, which isn't surprising given their more specific audience.\n",
    "\n",
    "Here we decided to show only the top 30 genres to keep the chart clear and easy to read."
   ]
  },
  {
   "cell_type": "markdown",
   "metadata": {},
   "source": [
    "### Movies Box office exploration"
   ]
  },
  {
   "cell_type": "code",
   "execution_count": null,
   "metadata": {},
   "outputs": [],
   "source": [
    "movie_final['IMDB Box-office'] = pd.to_numeric(movie_final['IMDB Box-office'], errors='coerce')\n",
    "\n",
    "# Remove the NaNs to plot\n",
    "box_office_without_nan = movie_final['IMDB Box-office'].dropna() "
   ]
  },
  {
   "cell_type": "code",
   "execution_count": null,
   "metadata": {},
   "outputs": [
    {
     "data": {
      "image/png": "[encoded data removed]",
      "text/plain": [
       "<Figure size 1000x600 with 1 Axes>"
      ]
     },
     "metadata": {},
     "output_type": "display_data"
    }
   ],
   "source": [
    "threshold = 4e8\n",
    "box_office_filtered = movie_final['IMDB Box-office'][movie_final['IMDB Box-office'] < threshold]\n",
    "\n",
    "# Plot the histogram \n",
    "box_office_filtered.plot(kind='hist', figsize=(10, 6), bins=50)\n",
    "plt.xlabel('IMDB Box Office')\n",
    "plt.ylabel('Number of Movies')\n",
    "plt.title('Distribution of IMDB Box Office Revenue')\n",
    "plt.grid(axis='y', linestyle='--', alpha=0.5)\n",
    "plt.show()"
   ]
  },
  {
   "cell_type": "markdown",
   "metadata": {},
   "source": [
    "We select a threshold (4e8) for better visualization as there are some outliers (very large values) that will collapse the plot on the left."
   ]
  },
  {
   "cell_type": "markdown",
   "metadata": {},
   "source": [
    "### Movies Ratings exploration"
   ]
  },
  {
   "cell_type": "code",
   "execution_count": 70,
   "metadata": {},
   "outputs": [
    {
     "data": {
      "text/plain": [
       "count    14253.000000\n",
       "mean         6.378678\n",
       "std          1.072958\n",
       "min          1.300000\n",
       "25%          5.800000\n",
       "50%          6.500000\n",
       "75%          7.100000\n",
       "max          9.300000\n",
       "Name: averageRating, dtype: float64"
      ]
     },
     "execution_count": 70,
     "metadata": {},
     "output_type": "execute_result"
    }
   ],
   "source": [
    "movie_final['averageRating'].describe()"
   ]
  },
  {
   "cell_type": "markdown",
   "metadata": {},
   "source": [
    "## QUICK COMMENT"
   ]
  },
  {
   "cell_type": "code",
   "execution_count": null,
   "metadata": {
    "execution": {
     "iopub.status.busy": "2024-11-14T16:05:47.511846Z",
     "iopub.status.idle": "2024-11-14T16:05:47.512208Z",
     "shell.execute_reply": "2024-11-14T16:05:47.512050Z",
     "shell.execute_reply.started": "2024-11-14T16:05:47.512034Z"
    }
   },
   "outputs": [
    {
     "data": {
      "image/png": "[encoded data removed]",
      "text/plain": [
       "<Figure size 1000x600 with 1 Axes>"
      ]
     },
     "metadata": {},
     "output_type": "display_data"
    }
   ],
   "source": [
    "rating_counts = movie_final['averageRating'].value_counts().sort_index()\n",
    "\n",
    "# Plotting the bar chart\n",
    "plt.figure(figsize=(10, 6))\n",
    "plt.bar(rating_counts.index, rating_counts.values)\n",
    "plt.xlabel('Rating Value')\n",
    "plt.ylabel('Number of Movies')\n",
    "plt.title('Number of Movies by Rating')\n",
    "plt.grid(axis='y', linestyle='--', alpha=0.5)\n",
    "plt.show()"
   ]
  },
  {
   "cell_type": "markdown",
   "metadata": {},
   "source": [
    "## COMMENTer + faire un plot plus joli ??"
   ]
  },
  {
   "cell_type": "markdown",
   "metadata": {},
   "source": [
    "### Movies countries exploration"
   ]
  },
  {
   "cell_type": "code",
   "execution_count": 55,
   "metadata": {
    "execution": {
     "iopub.status.busy": "2024-11-14T16:05:47.513203Z",
     "iopub.status.idle": "2024-11-14T16:05:47.513549Z",
     "shell.execute_reply": "2024-11-14T16:05:47.513380Z",
     "shell.execute_reply.started": "2024-11-14T16:05:47.513365Z"
    }
   },
   "outputs": [
    {
     "name": "stdout",
     "output_type": "stream",
     "text": [
      "Movie countries\n",
      "United States of America    10205\n",
      "United Kingdom               2268\n",
      "France                        757\n",
      "Germany                       650\n",
      "India                         647\n",
      "                            ...  \n",
      "Mandatory Palestine             1\n",
      "Kenya                           1\n",
      "Sri Lanka                       1\n",
      "Serbia and Montenegro           1\n",
      "Mongolia                        1\n",
      "Name: count, Length: 109, dtype: int64\n"
     ]
    }
   ],
   "source": [
    "all_countries = movie_final['Movie countries'].explode()\n",
    "\n",
    "countries_counts = all_countries.value_counts() \n",
    "\n",
    "print(countries_counts)"
   ]
  },
  {
   "cell_type": "code",
   "execution_count": 56,
   "metadata": {
    "execution": {
     "iopub.status.busy": "2024-11-14T16:05:47.517218Z",
     "iopub.status.idle": "2024-11-14T16:05:47.517592Z",
     "shell.execute_reply": "2024-11-14T16:05:47.517438Z",
     "shell.execute_reply.started": "2024-11-14T16:05:47.517396Z"
    }
   },
   "outputs": [
    {
     "name": "stdout",
     "output_type": "stream",
     "text": [
      "Number of unique countries: 109\n"
     ]
    }
   ],
   "source": [
    "num_unique_countries = all_countries.nunique()\n",
    "print(\"Number of unique countries:\", num_unique_countries)"
   ]
  },
  {
   "cell_type": "code",
   "execution_count": 57,
   "metadata": {
    "execution": {
     "iopub.status.busy": "2024-11-14T16:05:47.518367Z",
     "iopub.status.idle": "2024-11-14T16:05:47.518728Z",
     "shell.execute_reply": "2024-11-14T16:05:47.518580Z",
     "shell.execute_reply.started": "2024-11-14T16:05:47.518564Z"
    }
   },
   "outputs": [
    {
     "data": {
      "image/png": "[encoded data removed]",
      "text/plain": [
       "<Figure size 1000x800 with 1 Axes>"
      ]
     },
     "metadata": {},
     "output_type": "display_data"
    }
   ],
   "source": [
    "# Plot the number of movies per top 30 country\n",
    "plt.figure(figsize=(10, 8))\n",
    "bars = countries_counts.head(30).sort_values(ascending=True).plot(kind='barh', color='lightcoral')\n",
    "\n",
    "for index, value in enumerate(countries_counts.head(30).sort_values(ascending=True)):\n",
    "    plt.text(value, index, str(value), va='center')\n",
    "\n",
    "plt.xlabel('Number of Movies', fontsize=16)\n",
    "plt.ylabel('Countries', fontsize=16)\n",
    "plt.title('Number of Movies per Country', fontsize=16)  \n",
    "plt.xscale('log')\n",
    "plt.show()"
   ]
  },
  {
   "cell_type": "markdown",
   "metadata": {},
   "source": [
    "The United States has the most movies by far, showing its huge impact on the film industry. The United Kingdoms and France come next, thanks to Bollywood and British cinema. Germany, India and Canada also produce a lot of movies. The numbers drop as you go down the list, with fewer movies made in other countries.\n",
    "\n",
    "We decided to show only the top 30 countries to keep the chart clear and easy to read. For better readibility we used a log scale on the x axis."
   ]
  },
  {
   "cell_type": "markdown",
   "metadata": {},
   "source": [
    "### Movies languages exploration"
   ]
  },
  {
   "cell_type": "code",
   "execution_count": 58,
   "metadata": {
    "execution": {
     "iopub.status.busy": "2024-11-14T16:05:47.519507Z",
     "iopub.status.idle": "2024-11-14T16:05:47.519836Z",
     "shell.execute_reply": "2024-11-14T16:05:47.519688Z",
     "shell.execute_reply.started": "2024-11-14T16:05:47.519673Z"
    }
   },
   "outputs": [
    {
     "name": "stdout",
     "output_type": "stream",
     "text": [
      "Movie languages\n",
      "English Language           11712\n",
      "French Language              755\n",
      "Spanish Language             531\n",
      "Hindi Language               505\n",
      "German Language              414\n",
      "                           ...  \n",
      "Hmong language                 1\n",
      "Azerbaijani language           1\n",
      "Malay Language                 1\n",
      "Farsi, Western Language        1\n",
      "Southwestern Mandarin          1\n",
      "Name: count, Length: 148, dtype: int64\n"
     ]
    }
   ],
   "source": [
    "all_languages = movie_final['Movie languages'].explode()\n",
    "\n",
    "language_counts = all_languages.value_counts()\n",
    "\n",
    "print(language_counts)"
   ]
  },
  {
   "cell_type": "code",
   "execution_count": 59,
   "metadata": {
    "execution": {
     "iopub.status.busy": "2024-11-14T16:05:47.520642Z",
     "iopub.status.idle": "2024-11-14T16:05:47.520999Z",
     "shell.execute_reply": "2024-11-14T16:05:47.520829Z",
     "shell.execute_reply.started": "2024-11-14T16:05:47.520815Z"
    }
   },
   "outputs": [
    {
     "name": "stdout",
     "output_type": "stream",
     "text": [
      "The dataset contains  148 unique languages.\n"
     ]
    }
   ],
   "source": [
    "num_unique_languages = all_languages.nunique()\n",
    "print(\"The dataset contains \", num_unique_languages, \"unique languages.\")"
   ]
  },
  {
   "cell_type": "code",
   "execution_count": 60,
   "metadata": {
    "execution": {
     "iopub.status.busy": "2024-11-14T16:05:47.521782Z",
     "iopub.status.idle": "2024-11-14T16:05:47.522128Z",
     "shell.execute_reply": "2024-11-14T16:05:47.521963Z",
     "shell.execute_reply.started": "2024-11-14T16:05:47.521948Z"
    }
   },
   "outputs": [
    {
     "data": {
      "image/png": "[encoded data removed]",
      "text/plain": [
       "<Figure size 1000x800 with 1 Axes>"
      ]
     },
     "metadata": {},
     "output_type": "display_data"
    }
   ],
   "source": [
    "# Plot the number of movies per language \n",
    "plt.figure(figsize=(10, 8))\n",
    "bars = language_counts.head(20).sort_values(ascending=True).plot(kind='barh', color='lightblue')\n",
    "\n",
    "for index, value in enumerate(language_counts.head(20).sort_values(ascending=True)):\n",
    "    plt.text(value, index, str(value), va='center')\n",
    "\n",
    "plt.xlabel('Number of Movies',fontsize=14)\n",
    "plt.ylabel('Languages',fontsize=14)\n",
    "plt.title('Number of Movies of top 20 Languages', fontsize=14)\n",
    "plt.xscale('log')\n",
    "plt.show()"
   ]
  },
  {
   "cell_type": "markdown",
   "metadata": {},
   "source": [
    "As previously seen, English is largely dominant. This can be attributed to its role as a global lingua franca, making films more accessible to international audiences. Additionally, major movie industries in countries like the United Kingdom and other English-speaking regions contribute to the high number of English-language films.\n",
    "\n",
    "For better visibility, we chose to display only the top 20 languages in this chart. It is also noticeable that the number of movies per language drops off quickly after the most common languages, highlighting the dominance of a few major languages in movie production and a long tail of less commonly represented languages. For better readibility we used a log scale on the x axis."
   ]
  },
  {
   "cell_type": "markdown",
   "metadata": {},
   "source": [
    "### Movies release year exploration"
   ]
  },
  {
   "cell_type": "markdown",
   "metadata": {},
   "source": [
    "Here we do a general analysis about the total number of movies released each year."
   ]
  },
  {
   "cell_type": "code",
   "execution_count": 61,
   "metadata": {
    "execution": {
     "iopub.status.busy": "2024-11-14T16:05:47.522950Z",
     "iopub.status.idle": "2024-11-14T16:05:47.523277Z",
     "shell.execute_reply": "2024-11-14T16:05:47.523130Z",
     "shell.execute_reply.started": "2024-11-14T16:05:47.523116Z"
    }
   },
   "outputs": [],
   "source": [
    "all_years = movie_final['Movie release date'].explode()\n",
    "years_counts = all_years.value_counts()"
   ]
  },
  {
   "cell_type": "code",
   "execution_count": 62,
   "metadata": {
    "execution": {
     "iopub.status.busy": "2024-11-14T16:05:47.524203Z",
     "iopub.status.idle": "2024-11-14T16:05:47.524615Z",
     "shell.execute_reply": "2024-11-14T16:05:47.524391Z",
     "shell.execute_reply.started": "2024-11-14T16:05:47.524376Z"
    }
   },
   "outputs": [
    {
     "data": {
      "image/png": "[encoded data removed]",
      "text/plain": [
       "<Figure size 1000x800 with 1 Axes>"
      ]
     },
     "metadata": {},
     "output_type": "display_data"
    }
   ],
   "source": [
    "plt.figure(figsize=(10, 8))  \n",
    "plot_years_counts = all_years.value_counts().sort_index().plot(kind='bar')\n",
    "plt.xlabel('Years', fontsize=16 )\n",
    "plt.ylabel('Number of Movies', fontsize=16)\n",
    "plt.title('Number of Movies per Year', fontsize=16)\n",
    "\n",
    "plt.xticks(range(0, len(all_years.value_counts().sort_index()), 5), \n",
    "           all_years.value_counts().sort_index().index[::5], \n",
    "           rotation=45)\n",
    "\n",
    "plt.show()"
   ]
  },
  {
   "cell_type": "markdown",
   "metadata": {},
   "source": [
    "The movie production has grown steadily over time, with a big jump starting in the 1990s and peaking in the early 2000s. The increase after the 1980s is likely due to better technology and more people making movies around the world. The early years have fewer movies because the film industry was just getting started."
   ]
  },
  {
   "cell_type": "markdown",
   "metadata": {},
   "source": [
    "### Movies per decade for most important countries"
   ]
  },
  {
   "cell_type": "code",
   "execution_count": null,
   "metadata": {
    "execution": {
     "iopub.status.busy": "2024-11-14T16:05:47.525511Z",
     "iopub.status.idle": "2024-11-14T16:05:47.525842Z",
     "shell.execute_reply": "2024-11-14T16:05:47.525694Z",
     "shell.execute_reply.started": "2024-11-14T16:05:47.525679Z"
    }
   },
   "outputs": [],
   "source": [
    "# Get top 10 countries releasing movies\n",
    "top_10_countries = countries_counts.head(10).index\n",
    "\n",
    "# Get one country per row (since some movies contain more that one countries)\n",
    "expanded_df = movie_final.explode('Movie countries')\n",
    "\n",
    "top_countries_df = expanded_df[expanded_df['Movie countries'].isin(top_10_countries)]"
   ]
  },
  {
   "cell_type": "code",
   "execution_count": null,
   "metadata": {
    "execution": {
     "iopub.status.busy": "2024-11-14T16:05:47.526656Z",
     "iopub.status.idle": "2024-11-14T16:05:47.526984Z",
     "shell.execute_reply": "2024-11-14T16:05:47.526836Z",
     "shell.execute_reply.started": "2024-11-14T16:05:47.526822Z"
    }
   },
   "outputs": [],
   "source": [
    "top_countries_df['Decade'] = (top_countries_df['Movie release date'] // 10) * 10\n",
    "\n",
    "# Group by decade and country, count the number of movies\n",
    "movies_per_decade_countries = top_countries_df.groupby(['Decade', 'Movie countries']).size().unstack(fill_value=0)"
   ]
  },
  {
   "cell_type": "code",
   "execution_count": null,
   "metadata": {
    "execution": {
     "iopub.status.busy": "2024-11-14T16:05:47.527919Z",
     "iopub.status.idle": "2024-11-14T16:05:47.528248Z",
     "shell.execute_reply": "2024-11-14T16:05:47.528102Z",
     "shell.execute_reply.started": "2024-11-14T16:05:47.528088Z"
    }
   },
   "outputs": [],
   "source": [
    "# Create the interactive figure\n",
    "fig = go.Figure()\n",
    "\n",
    "for country in movies_per_decade_countries.columns:\n",
    "    fig.add_trace(go.Bar(\n",
    "        x=movies_per_decade_countries.index,  # Decades\n",
    "        y=movies_per_decade_countries[country],  # Number of movies\n",
    "        name=country,\n",
    "        hovertemplate='Percentage: %{customdata:.2f}%',\n",
    "        customdata=100 * movies_per_decade_countries[country] / movies_per_decade_countries.sum(axis=1)\n",
    "    ))\n",
    "\n",
    "fig.update_layout(\n",
    "    title='Proportion of Movies Produced by Top 10 Countries per Decade',\n",
    "    xaxis_title='Decade',\n",
    "    yaxis_title='Number of Movies',\n",
    "    barmode='stack',\n",
    "    legend_title='Country',\n",
    "    hovermode='x'\n",
    ")\n",
    "\n",
    "fig.show()\n"
   ]
  },
  {
   "cell_type": "markdown",
   "metadata": {},
   "source": [
    "The U.S. consistently dominates movie production across all decades, though its share decreases over time from near-total dominance in the early 20th century to around 40-50% in the later decades. Other countries, such as India, the UK, and France, start contributing more significantly from the 1950s onward, indicating a diversification in global movie production over the decades."
   ]
  },
  {
   "cell_type": "markdown",
   "metadata": {},
   "source": [
    "### Do the genres of the released movies vary on different decades?"
   ]
  },
  {
   "cell_type": "code",
   "execution_count": null,
   "metadata": {
    "execution": {
     "iopub.status.busy": "2024-11-14T16:05:47.529060Z",
     "iopub.status.idle": "2024-11-14T16:05:47.529443Z",
     "shell.execute_reply": "2024-11-14T16:05:47.529242Z",
     "shell.execute_reply.started": "2024-11-14T16:05:47.529227Z"
    }
   },
   "outputs": [],
   "source": [
    "# Get top 20 genres releasing movies\n",
    "top_20_genres = genres_counts.head(20).index\n",
    "\n",
    "# Get one country per row\n",
    "expanded_df_genre = movie_final.explode('Movie genres')\n",
    "\n",
    "# the top 20\n",
    "top_genres_df_20 = expanded_df_genre[expanded_df_genre['Movie genres'].isin(top_20_genres)]\n",
    "\n",
    "movies_per_year_genres_20 = top_genres_df_20.groupby(['Movie genres', 'Movie release date']).size().unstack(fill_value=0)\n",
    "movies_per_decade_genres_20 = movies_per_year_genres_20.groupby((movies_per_year_genres_20.columns // 10) * 10, axis=1).sum()\n",
    "\n",
    "movies_per_decade_genres_20_percentage = movies_per_decade_genres_20.div(movies_per_decade_genres_20.sum(axis=1), axis=0)"
   ]
  },
  {
   "cell_type": "markdown",
   "metadata": {},
   "source": [
    "We decide to keep only the top 20 genres so that our graph stay clear but you can adjust this number if needed. "
   ]
  },
  {
   "cell_type": "code",
   "execution_count": null,
   "metadata": {
    "execution": {
     "iopub.status.busy": "2024-11-14T16:05:47.530330Z",
     "iopub.status.idle": "2024-11-14T16:05:47.530804Z",
     "shell.execute_reply": "2024-11-14T16:05:47.530582Z",
     "shell.execute_reply.started": "2024-11-14T16:05:47.530561Z"
    }
   },
   "outputs": [],
   "source": [
    "movies_per_decade_by_genre = movies_per_decade_genres_20.T\n",
    "\n",
    "# Ensure your DataFrame `movies_per_decade_by_genre_normalized` is defined and normalized\n",
    "movies_per_decade_by_genre_normalized = movies_per_decade_by_genre.div(movies_per_decade_by_genre.sum(axis=1), axis=0)"
   ]
  },
  {
   "cell_type": "code",
   "execution_count": null,
   "metadata": {
    "execution": {
     "iopub.status.busy": "2024-11-14T16:05:47.531687Z",
     "iopub.status.idle": "2024-11-14T16:05:47.532029Z",
     "shell.execute_reply": "2024-11-14T16:05:47.531881Z",
     "shell.execute_reply.started": "2024-11-14T16:05:47.531866Z"
    }
   },
   "outputs": [],
   "source": [
    "# Create an interactive figure\n",
    "fig = go.Figure()\n",
    "\n",
    "# Iterate through each decade and create a bar plot for it\n",
    "for decade in movies_per_decade_by_genre_normalized.index:\n",
    "    fig.add_trace(go.Bar(\n",
    "        x=movies_per_decade_by_genre_normalized.columns,\n",
    "        y=movies_per_decade_by_genre_normalized.loc[decade],  # Convert to percentage\n",
    "        name=f'{decade}s',\n",
    "        visible=False  # Initially set all traces to invisible\n",
    "    ))\n",
    "\n",
    "# Set the first decade to be visible\n",
    "fig.data[0].visible = True\n",
    "\n",
    "# Create the slider steps\n",
    "steps = []\n",
    "for i, decade in enumerate(movies_per_decade_by_genre_normalized.index):\n",
    "    step = dict(\n",
    "        method=\"update\",\n",
    "        args=[{\"visible\": [False] * len(fig.data)}],  # Hide all traces\n",
    "        label=f\"{decade}s\"\n",
    "    )\n",
    "    step[\"args\"][0][\"visible\"][i] = True  # Set the current decade's trace to visible\n",
    "    steps.append(step)\n",
    "\n",
    "# Create slider\n",
    "sliders = [dict(\n",
    "    active=0,\n",
    "    currentvalue={\"prefix\": \"Decade: \"},\n",
    "    pad={\"t\": 50},\n",
    "    steps=steps\n",
    ")]\n",
    "\n",
    "# Update the layout to include the slider\n",
    "fig.update_layout(\n",
    "    sliders=sliders,\n",
    "    title='Proportion of Movies Released by Genre in Each Decade',\n",
    "    xaxis_title='Genre',\n",
    "    yaxis_title='Percentage of Movies',\n",
    "    yaxis=dict(tickformat=\".1%\"),\n",
    "    barmode='group'\n",
    ")\n",
    "\n",
    "# Show the plot\n",
    "fig.show()\n"
   ]
  },
  {
   "cell_type": "markdown",
   "metadata": {},
   "source": [
    "## COMMENTER"
   ]
  },
  {
   "cell_type": "code",
   "execution_count": null,
   "metadata": {
    "execution": {
     "iopub.status.busy": "2024-11-14T16:05:47.533182Z",
     "iopub.status.idle": "2024-11-14T16:05:47.533558Z",
     "shell.execute_reply": "2024-11-14T16:05:47.533373Z",
     "shell.execute_reply.started": "2024-11-14T16:05:47.533358Z"
    }
   },
   "outputs": [],
   "source": [
    "ig = go.Figure()\n",
    "\n",
    "for genre in movies_per_decade_genres_20_percentage.index:\n",
    "    fig.add_trace(go.Bar(\n",
    "        x=movies_per_decade_genres_20_percentage.columns,  # Decades\n",
    "        y=movies_per_decade_genres_20_percentage.loc[genre],  # Percentage values for each decade\n",
    "        name=genre,\n",
    "        visible=False  \n",
    "    ))\n",
    "\n",
    "fig.data[0].visible = True\n",
    "\n",
    "# Create the slider steps for each genre\n",
    "steps = []\n",
    "for i, genre in enumerate(movies_per_decade_genres_20_percentage.index):\n",
    "    step = dict(\n",
    "        method=\"update\",\n",
    "        args=[{\"visible\": [False] * len(fig.data)}],  \n",
    "        label=genre\n",
    "    )\n",
    "    step[\"args\"][0][\"visible\"][i] = True  \n",
    "    steps.append(step)\n",
    "\n",
    "# Create slider\n",
    "sliders = [dict(\n",
    "    active=0,\n",
    "    currentvalue={\"prefix\": \"Genre: \"},\n",
    "    pad={\"t\": 50},\n",
    "    steps=steps\n",
    ")]\n",
    "\n",
    "# Update the layout to include the slider\n",
    "fig.update_layout(\n",
    "    sliders=sliders,\n",
    "    title='Proportion of Movies Released per Decade by Selected Genre',\n",
    "    xaxis_title='Decade',\n",
    "    yaxis_title='Percentage of Movies',\n",
    "    yaxis=dict(tickformat=\".1%\"),\n",
    "    barmode='group'\n",
    ")\n",
    "\n",
    "# Show the plot\n",
    "fig.show()\n"
   ]
  },
  {
   "cell_type": "markdown",
   "metadata": {},
   "source": [
    "# Part 3: Latent Dirichlet Allocation (LDA)\n",
    "To group movies together based on something more precise than their genre, we will use Latent Dirichlet Allocation. LDA offers a way to cluster together movies that reflect similar themes, based on textual descriptions. The model is based on unsupervised learning, as the subjects are not known. However the movie summaries only give us too few informations to use LDA. That's why we will extract the synopsis of the movies through another dataset called \"Movie Plot Synopses with Tags\" (MPST). Those synopsis are around 10 times longer than the summaries, giving way more informations to the LDA model."
   ]
  },
  {
   "cell_type": "markdown",
   "metadata": {},
   "source": [
    "## 3.1 Can we observe movies' topics using LDA?"
   ]
  },
  {
   "cell_type": "markdown",
   "metadata": {},
   "source": [
    "### Preprocessing\n",
    "Removing stop words and names before using LDA is important as those very frequent words are not used to predict themes + lowercase "
   ]
  },
  {
   "cell_type": "markdown",
   "metadata": {},
   "source": [
    "**Note:** The following cell performs named entity removal and stopword filtering on movie synopses. It takes a while to run, since it processes a large dataset. To skip this cell you can use the preprocessed sentences saved in `Data/processed_sentences.plk` instead by setting `run_processing` to `False`.\n"
   ]
  },
  {
   "cell_type": "code",
   "execution_count": 22,
   "metadata": {
    "execution": {
     "iopub.execute_input": "2024-11-14T16:17:54.104062Z",
     "iopub.status.busy": "2024-11-14T16:17:54.102654Z",
     "iopub.status.idle": "2024-11-14T16:17:54.125053Z",
     "shell.execute_reply": "2024-11-14T16:17:54.122642Z",
     "shell.execute_reply.started": "2024-11-14T16:17:54.103969Z"
    }
   },
   "outputs": [],
   "source": [
    "## To put in a python file\n",
    "\n",
    "def remove_named_entities(text):\n",
    "        doc = nlp(text)\n",
    "        return ' '.join([token.text for token in doc if token.ent_type_ != \"PERSON\"])  # Exclude PERSON entities\n",
    "\n",
    "\n",
    "\n",
    "def synopses_processing(sentences):\n",
    "\n",
    "    # ADD DOCSTRING\n",
    "    # Load the spaCy model to remove named entities\n",
    "    nlp = spacy.load(\"en_core_web_sm\")\n",
    "    \n",
    "    stop_words = set(stopwords.words('english'))\n",
    "    \n",
    "    # Remove named entities\n",
    "    cleaned_sentences= [remove_named_entities(doc) for doc in sentences]\n",
    "    print(\"After removing names their are\", len(cleaned_sentences), \"sentences\")\n",
    "    \n",
    "    # Remove stop words and lowercase word\n",
    "    processed_sentences = [\n",
    "        [word for word in word_tokenize(sentence.lower()) if word.isalnum() and word not in stop_words]\n",
    "        for sentence in cleaned_sentences\n",
    "    ]\n",
    "\n",
    "    return processed_sentences\n"
   ]
  },
  {
   "cell_type": "code",
   "execution_count": 21,
   "metadata": {
    "execution": {
     "iopub.execute_input": "2024-11-14T16:17:02.571112Z",
     "iopub.status.busy": "2024-11-14T16:17:02.570059Z",
     "iopub.status.idle": "2024-11-14T16:17:04.598034Z",
     "shell.execute_reply": "2024-11-14T16:17:04.596592Z",
     "shell.execute_reply.started": "2024-11-14T16:17:02.571031Z"
    }
   },
   "outputs": [],
   "source": [
    "# Set this to False to use precomputed processed_sentences.plk\n",
    "run_processing = False\n",
    "\n",
    "if run_processing:\n",
    "\n",
    "    # Get all synopses\n",
    "    sentences = movies_synopsis['plot_synopsis'].tolist()\n",
    "\n",
    "    # Lower case, Remove stop words and named entities\n",
    "    processed_sentences = synopses_processing(sentences)\n",
    "    \n",
    "    # Save processed sentences to a file\n",
    "    with open(\"data/processed_sentences.pkl\", \"wb\") as file:\n",
    "        pickle.dump(processed_sentences, file)\n",
    "else:\n",
    "    # Load all processed data\n",
    "    with open(\"data/processed_sentences.pkl\", \"rb\") as file:\n",
    "        processed_sentences = pickle.load(file)\n"
   ]
  },
  {
   "cell_type": "markdown",
   "metadata": {},
   "source": [
    "**Note:** The following cell builds a dictionary from the processed sentences, converts those sentences into a bag-of-words representation, and then trains an LDA model to extract 10 topics from the text data. It takes a while to run, since it processes a large dataset. To skip this cell you can use the precomputed model saved in `Data/lda_model.model` instead by setting `run_processing` to `False`."
   ]
  },
  {
   "cell_type": "markdown",
   "metadata": {
    "execution": {
     "iopub.execute_input": "2024-11-14T16:09:05.846717Z",
     "iopub.status.busy": "2024-11-14T16:09:05.844484Z",
     "iopub.status.idle": "2024-11-14T16:09:05.856753Z",
     "shell.execute_reply": "2024-11-14T16:09:05.854511Z",
     "shell.execute_reply.started": "2024-11-14T16:09:05.846622Z"
    }
   },
   "source": [
    "### LDA model"
   ]
  },
  {
   "cell_type": "code",
   "execution_count": 15,
   "metadata": {
    "execution": {
     "iopub.execute_input": "2024-11-14T16:07:52.365307Z",
     "iopub.status.busy": "2024-11-14T16:07:52.364657Z",
     "iopub.status.idle": "2024-11-14T16:07:52.851848Z",
     "shell.execute_reply": "2024-11-14T16:07:52.849494Z",
     "shell.execute_reply.started": "2024-11-14T16:07:52.365260Z"
    }
   },
   "outputs": [],
   "source": [
    "# Set this to False to use precomputed processed_sentences.plk\n",
    "run_processing = False\n",
    "\n",
    "if run_processing:\n",
    "    # Maps each word to a unique integer ID\n",
    "    dictionary = Dictionary(processed_sentences)\n",
    "    \n",
    "    # Convert sentences into a bags of words (BoW)\n",
    "    corpus = [dictionary.doc2bow(sentence) for sentence in processed_sentences]\n",
    "    \n",
    "    # Train LDA model\n",
    "    lda_model = LdaModel(corpus=corpus, id2word=dictionary, num_topics=10, random_state=42, passes=10, iterations=50)\n",
    "\n",
    "    # Save dic and model\n",
    "    lda_model.save(\"src/models/lda_model.model\")\n",
    "    dictionary.save(\"src/models/dictionary.dict\")\n",
    "else:\n",
    "    lda_model = LdaModel.load(\"src/models/lda_model.model\")"
   ]
  },
  {
   "cell_type": "markdown",
   "metadata": {},
   "source": [
    "### Resulting Topcis\n",
    "Let's now look at what 10 topics the movies were clustered in"
   ]
  },
  {
   "cell_type": "code",
   "execution_count": 16,
   "metadata": {
    "execution": {
     "iopub.execute_input": "2024-11-14T16:08:23.991152Z",
     "iopub.status.busy": "2024-11-14T16:08:23.989590Z",
     "iopub.status.idle": "2024-11-14T16:08:24.028380Z",
     "shell.execute_reply": "2024-11-14T16:08:24.025691Z",
     "shell.execute_reply.started": "2024-11-14T16:08:23.991038Z"
    }
   },
   "outputs": [
    {
     "name": "stdout",
     "output_type": "stream",
     "text": [
      "Topic 0: 0.016*\"police\" + 0.008*\"car\" + 0.007*\"man\" + 0.007*\"kill\" + 0.007*\"killed\" + 0.007*\"house\" + 0.005*\"finds\"\n",
      "Topic 1: 0.005*\"one\" + 0.004*\"war\" + 0.004*\"team\" + 0.004*\"men\" + 0.003*\"ship\" + 0.003*\"escape\" + 0.003*\"killed\"\n",
      "Topic 2: 0.022*\"hamlet\" + 0.018*\"king\" + 0.012*\"macbeth\" + 0.009*\"claudius\" + 0.006*\"prince\" + 0.006*\"banquo\" + 0.005*\"act\"\n",
      "Topic 3: 0.007*\"father\" + 0.005*\"love\" + 0.005*\"family\" + 0.005*\"one\" + 0.005*\"life\" + 0.005*\"new\" + 0.005*\"mother\"\n",
      "Topic 4: 0.007*\"back\" + 0.005*\"town\" + 0.005*\"one\" + 0.005*\"men\" + 0.004*\"find\" + 0.004*\"man\" + 0.004*\"away\"\n",
      "Topic 5: 0.012*\"ship\" + 0.010*\"island\" + 0.010*\"boat\" + 0.008*\"uncle\" + 0.008*\"treasure\" + 0.008*\"captain\" + 0.007*\"one\"\n",
      "Topic 6: 0.012*\"sir\" + 0.011*\"beast\" + 0.007*\"beauty\" + 0.007*\"merchant\" + 0.006*\"children\" + 0.006*\"heathcliff\" + 0.005*\"love\"\n",
      "Topic 7: 0.008*\"money\" + 0.008*\"get\" + 0.007*\"tells\" + 0.006*\"back\" + 0.006*\"car\" + 0.005*\"one\" + 0.005*\"gets\"\n",
      "Topic 8: 0.012*\"tells\" + 0.009*\"back\" + 0.007*\"says\" + 0.007*\"house\" + 0.006*\"room\" + 0.006*\"asks\" + 0.006*\"one\"\n",
      "Topic 9: 0.008*\"sean\" + 0.008*\"lincoln\" + 0.007*\"french\" + 0.007*\"edmund\" + 0.006*\"lear\" + 0.006*\"echo\" + 0.006*\"julian\"\n"
     ]
    }
   ],
   "source": [
    "for topic_id, topic_words in lda_model.print_topics(num_words=7):\n",
    "    print(f\"Topic {topic_id}: {topic_words}\")"
   ]
  },
  {
   "cell_type": "markdown",
   "metadata": {
    "jp-MarkdownHeadingCollapsed": true
   },
   "source": [
    "### Is this approach feasible with our data?\n",
    "This approcah seems promising! With very basic preprocessing can already interpret some themes:\n",
    "\n",
    "\n",
    "| Topic | Keywords                       | Theme           |\n",
    "|-------|--------------------------------|-----------------|\n",
    "| 0     | Police, Kill, Detective        | Detective       |\n",
    "| 1     | War, Team                      | War             |\n",
    "| 2     | Hamlet, Macbeth                | Shakespeare     |\n",
    "| 3     | Father, Love                   | Family          |\n",
    "| 4     | Town, Sheriff, Horse           | Western         |\n",
    "| 5     | Ship, Treasure                 | Pirate          |\n",
    "| 6     | Prince, Castle                 | Fairy Tale      |\n",
    "| 7     | Money, Job                     | Business        |\n",
    "| 8     | ?                              | ?               |\n",
    "| 9     | ?                              | ?               |\n",
    "\n",
    "### Observations and Improvements\n",
    "But we also observe that this still has room for improvement:\n",
    "\n",
    "- Topics 9 still carries many names thus for further analysis the `named entity removal` step should be fine tuned. \n",
    "\n",
    "- `Lemmatization` should be applied to avoid reoccurences of declinaison of the same word (e.g killed and kill in topic 0).\n",
    "\n",
    "- The `parameters` such as number of topics, passes and the number of iterations are not chosen optimally which leaves room for improvement.  "
   ]
  }
 ],
 "metadata": {
  "kernelspec": {
   "display_name": "Python 3",
   "language": "python",
   "name": "python3"
  },
  "language_info": {
   "codemirror_mode": {
    "name": "ipython",
    "version": 3
   },
   "file_extension": ".py",
   "mimetype": "text/x-python",
   "name": "python",
   "nbconvert_exporter": "python",
   "pygments_lexer": "ipython3",
   "version": "3.12.1"
  }
 },
 "nbformat": 4,
 "nbformat_minor": 4
}
