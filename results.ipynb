{
 "cells": [
  {
   "cell_type": "markdown",
   "metadata": {},
   "source": [
    "# Watch out for unexpected movie recommendations"
   ]
  },
  {
   "cell_type": "markdown",
   "metadata": {},
   "source": [
    "# Introduction\n",
    "\n",
    "Our project will use LDA on movies' synopsis to assign themes to the movies. In this notebook, we will start from the raw movies dataset and add the synopsis, the ratings and the box-offices from other datasets. We then perform an in-depth analysis of the obtained dataset to understand what we have in hands. We finish with a quick feasibility-check of the LDA method."
   ]
  },
  {
   "cell_type": "markdown",
   "metadata": {},
   "source": [
    "<div style=\"border-left: 6px solid rgba(69, 157, 185, 1);border-radius:5px; box-shadow: 3px 3px 3px rgba(221, 221, 221, 1);\" >\n",
    "    <p style=\"background-color: rgba(69, 157, 185, 0.1); font-weight:bold; padding: 8px 0 8px 15px;\">Analysis</p>\n",
    "    <div style=\"padding: 0 0 2px 10px;\">\n",
    "    \n",
    "**What will be covered :**\n",
    "- **Part 1 :** Data importation and exploration\n",
    "- **Part 2 :** Data Analysis\n",
    "- **Part 3 :** Is LDA a feasible method for our data ?\n",
    "\n",
    "</div></div>\n",
    "<br/>\n",
    "\n",
    "---"
   ]
  },
  {
   "cell_type": "markdown",
   "metadata": {},
   "source": [
    "# Part 1: Data Exploration and Processing"
   ]
  },
  {
   "cell_type": "markdown",
   "metadata": {},
   "source": [
    "### Import libraries"
   ]
  },
  {
   "cell_type": "code",
   "execution_count": 2,
   "metadata": {
    "execution": {
     "iopub.execute_input": "2024-11-14T17:47:10.159635Z",
     "iopub.status.busy": "2024-11-14T17:47:10.158627Z",
     "iopub.status.idle": "2024-11-14T17:47:10.175656Z",
     "shell.execute_reply": "2024-11-14T17:47:10.172873Z",
     "shell.execute_reply.started": "2024-11-14T17:47:10.159551Z"
    }
   },
   "outputs": [],
   "source": [
    "import numpy as np\n",
    "import pandas as pd\n",
    "import matplotlib.pyplot as plt \n",
    "import matplotlib.ticker as mtick\n",
    "import plotly.graph_objects as go\n",
    "import ast\n",
    "import sys\n",
    "import os\n",
    "\n",
    "sys.path.append(os.path.abspath(\"src/utils\"))\n",
    "from helpers import *\n",
    "\n",
    "# LDA\n",
    "import spacy\n",
    "import nltk\n",
    "#nltk.download('punkt')\n",
    "#nltk.download('stopwords')\n",
    "# gensim is a popular library for topic modelling\n",
    "from gensim.corpora import Dictionary\n",
    "from gensim.models import LdaModel\n",
    "from nltk.tokenize import word_tokenize\n",
    "from nltk.corpus import stopwords\n",
    "import pickle\n",
    "\n",
    "\n",
    "from imdb import IMDb\n",
    "import re\n",
    "import kagglehub # To extract synopsis dataframes"
   ]
  },
  {
   "cell_type": "markdown",
   "metadata": {},
   "source": [
    "## 1.1 Dataset exploration "
   ]
  },
  {
   "cell_type": "markdown",
   "metadata": {},
   "source": [
    "### Load initial movie dataset"
   ]
  },
  {
   "cell_type": "code",
   "execution_count": 3,
   "metadata": {
    "execution": {
     "iopub.execute_input": "2024-11-14T18:02:25.565768Z",
     "iopub.status.busy": "2024-11-14T18:02:25.564498Z",
     "iopub.status.idle": "2024-11-14T18:02:25.996707Z",
     "shell.execute_reply": "2024-11-14T18:02:25.995546Z",
     "shell.execute_reply.started": "2024-11-14T18:02:25.565688Z"
    }
   },
   "outputs": [
    {
     "name": "stdout",
     "output_type": "stream",
     "text": [
      "The dataset contains 81741 movies and 9 features\n"
     ]
    },
    {
     "data": {
      "text/html": [
       "<div>\n",
       "<style scoped>\n",
       "    .dataframe tbody tr th:only-of-type {\n",
       "        vertical-align: middle;\n",
       "    }\n",
       "\n",
       "    .dataframe tbody tr th {\n",
       "        vertical-align: top;\n",
       "    }\n",
       "\n",
       "    .dataframe thead th {\n",
       "        text-align: right;\n",
       "    }\n",
       "</style>\n",
       "<table border=\"1\" class=\"dataframe\">\n",
       "  <thead>\n",
       "    <tr style=\"text-align: right;\">\n",
       "      <th></th>\n",
       "      <th>Wikipedia movie ID</th>\n",
       "      <th>Freebase movie ID</th>\n",
       "      <th>Movie name</th>\n",
       "      <th>Movie release date</th>\n",
       "      <th>Movie box office revenue</th>\n",
       "      <th>Movie runtime</th>\n",
       "      <th>Movie languages</th>\n",
       "      <th>Movie countries</th>\n",
       "      <th>Movie genres</th>\n",
       "    </tr>\n",
       "  </thead>\n",
       "  <tbody>\n",
       "    <tr>\n",
       "      <th>0</th>\n",
       "      <td>975900</td>\n",
       "      <td>/m/03vyhn</td>\n",
       "      <td>Ghosts of Mars</td>\n",
       "      <td>2001-08-24</td>\n",
       "      <td>14010832.0</td>\n",
       "      <td>98.0</td>\n",
       "      <td>{\"/m/02h40lc\": \"English Language\"}</td>\n",
       "      <td>{\"/m/09c7w0\": \"United States of America\"}</td>\n",
       "      <td>{\"/m/01jfsb\": \"Thriller\", \"/m/06n90\": \"Science...</td>\n",
       "    </tr>\n",
       "    <tr>\n",
       "      <th>1</th>\n",
       "      <td>3196793</td>\n",
       "      <td>/m/08yl5d</td>\n",
       "      <td>Getting Away with Murder: The JonBenét Ramsey ...</td>\n",
       "      <td>2000-02-16</td>\n",
       "      <td>NaN</td>\n",
       "      <td>95.0</td>\n",
       "      <td>{\"/m/02h40lc\": \"English Language\"}</td>\n",
       "      <td>{\"/m/09c7w0\": \"United States of America\"}</td>\n",
       "      <td>{\"/m/02n4kr\": \"Mystery\", \"/m/03bxz7\": \"Biograp...</td>\n",
       "    </tr>\n",
       "    <tr>\n",
       "      <th>2</th>\n",
       "      <td>28463795</td>\n",
       "      <td>/m/0crgdbh</td>\n",
       "      <td>Brun bitter</td>\n",
       "      <td>1988</td>\n",
       "      <td>NaN</td>\n",
       "      <td>83.0</td>\n",
       "      <td>{\"/m/05f_3\": \"Norwegian Language\"}</td>\n",
       "      <td>{\"/m/05b4w\": \"Norway\"}</td>\n",
       "      <td>{\"/m/0lsxr\": \"Crime Fiction\", \"/m/07s9rl0\": \"D...</td>\n",
       "    </tr>\n",
       "    <tr>\n",
       "      <th>3</th>\n",
       "      <td>9363483</td>\n",
       "      <td>/m/0285_cd</td>\n",
       "      <td>White Of The Eye</td>\n",
       "      <td>1987</td>\n",
       "      <td>NaN</td>\n",
       "      <td>110.0</td>\n",
       "      <td>{\"/m/02h40lc\": \"English Language\"}</td>\n",
       "      <td>{\"/m/07ssc\": \"United Kingdom\"}</td>\n",
       "      <td>{\"/m/01jfsb\": \"Thriller\", \"/m/0glj9q\": \"Erotic...</td>\n",
       "    </tr>\n",
       "    <tr>\n",
       "      <th>4</th>\n",
       "      <td>261236</td>\n",
       "      <td>/m/01mrr1</td>\n",
       "      <td>A Woman in Flames</td>\n",
       "      <td>1983</td>\n",
       "      <td>NaN</td>\n",
       "      <td>106.0</td>\n",
       "      <td>{\"/m/04306rv\": \"German Language\"}</td>\n",
       "      <td>{\"/m/0345h\": \"Germany\"}</td>\n",
       "      <td>{\"/m/07s9rl0\": \"Drama\"}</td>\n",
       "    </tr>\n",
       "  </tbody>\n",
       "</table>\n",
       "</div>"
      ],
      "text/plain": [
       "   Wikipedia movie ID Freebase movie ID  \\\n",
       "0              975900         /m/03vyhn   \n",
       "1             3196793         /m/08yl5d   \n",
       "2            28463795        /m/0crgdbh   \n",
       "3             9363483        /m/0285_cd   \n",
       "4              261236         /m/01mrr1   \n",
       "\n",
       "                                          Movie name Movie release date  \\\n",
       "0                                     Ghosts of Mars         2001-08-24   \n",
       "1  Getting Away with Murder: The JonBenét Ramsey ...         2000-02-16   \n",
       "2                                        Brun bitter               1988   \n",
       "3                                   White Of The Eye               1987   \n",
       "4                                  A Woman in Flames               1983   \n",
       "\n",
       "   Movie box office revenue  Movie runtime  \\\n",
       "0                14010832.0           98.0   \n",
       "1                       NaN           95.0   \n",
       "2                       NaN           83.0   \n",
       "3                       NaN          110.0   \n",
       "4                       NaN          106.0   \n",
       "\n",
       "                      Movie languages  \\\n",
       "0  {\"/m/02h40lc\": \"English Language\"}   \n",
       "1  {\"/m/02h40lc\": \"English Language\"}   \n",
       "2  {\"/m/05f_3\": \"Norwegian Language\"}   \n",
       "3  {\"/m/02h40lc\": \"English Language\"}   \n",
       "4   {\"/m/04306rv\": \"German Language\"}   \n",
       "\n",
       "                             Movie countries  \\\n",
       "0  {\"/m/09c7w0\": \"United States of America\"}   \n",
       "1  {\"/m/09c7w0\": \"United States of America\"}   \n",
       "2                     {\"/m/05b4w\": \"Norway\"}   \n",
       "3             {\"/m/07ssc\": \"United Kingdom\"}   \n",
       "4                    {\"/m/0345h\": \"Germany\"}   \n",
       "\n",
       "                                        Movie genres  \n",
       "0  {\"/m/01jfsb\": \"Thriller\", \"/m/06n90\": \"Science...  \n",
       "1  {\"/m/02n4kr\": \"Mystery\", \"/m/03bxz7\": \"Biograp...  \n",
       "2  {\"/m/0lsxr\": \"Crime Fiction\", \"/m/07s9rl0\": \"D...  \n",
       "3  {\"/m/01jfsb\": \"Thriller\", \"/m/0glj9q\": \"Erotic...  \n",
       "4                            {\"/m/07s9rl0\": \"Drama\"}  "
      ]
     },
     "execution_count": 3,
     "metadata": {},
     "output_type": "execute_result"
    }
   ],
   "source": [
    "movie_columnns =['Wikipedia movie ID','Freebase movie ID', 'Movie name', 'Movie release date', 'Movie box office revenue', 'Movie runtime', 'Movie languages', 'Movie countries', 'Movie genres']\n",
    "movie = pd.read_csv('data/movie.metadata.tsv', sep='\\t', header=None, names=movie_columnns)\n",
    "\n",
    "print('The dataset contains', movie.shape[0], 'movies and',movie.shape[1] , 'features')\n",
    "movie.head()"
   ]
  },
  {
   "cell_type": "markdown",
   "metadata": {},
   "source": [
    "## Features Descriptions\n",
    "\n",
    "| Column                | Description                                                                        |\n",
    "|-----------------------|------------------------------------------------------------------------------------|\n",
    "| Wikipedia movie ID    | An identifier for each movie from Wikipedia.                                       |\n",
    "| Freebase movie ID     | A unique identifier for each movie from the Freebase database.                     |\n",
    "| Movie name            | The title of the movie.                                                            |\n",
    "| Movie release date    | The date when the movie was released, formatted as `YYYY-MM-DD`.                   |\n",
    "| Movie box office revenue | The revenue generated by the movie at the box office (in dollars). |\n",
    "| Movie runtime         | The duration of the movie in minutes. |\n",
    "| Movie languages       | A dictionary where keys represent Freebase language IDs, and values represent the language names (e.g., English, Norwegian, German). |\n",
    "| Movie countries       | A dictionary where keys are Freebase country IDs, and values are country names representing where the movie was produced. |\n",
    "| Movie genres          | A dictionary where each key represents a Freebase genre ID, and each value represents the corresponding genre of the movie. |"
   ]
  },
  {
   "cell_type": "markdown",
   "metadata": {},
   "source": [
    "### Comment\n",
    "Not all features will be useful to our analysis:\n",
    "- The `Freebase movie ID` is no longer actively\n",
    "- `Movie runtime` is not used in the analysis\n",
    "So both of those features will be dropped"
   ]
  },
  {
   "cell_type": "markdown",
   "metadata": {},
   "source": [
    "#### Drop columns"
   ]
  },
  {
   "cell_type": "code",
   "execution_count": 4,
   "metadata": {
    "execution": {
     "iopub.execute_input": "2024-11-14T17:47:17.145882Z",
     "iopub.status.busy": "2024-11-14T17:47:17.144828Z",
     "iopub.status.idle": "2024-11-14T17:47:17.173442Z",
     "shell.execute_reply": "2024-11-14T17:47:17.172005Z",
     "shell.execute_reply.started": "2024-11-14T17:47:17.145762Z"
    }
   },
   "outputs": [
    {
     "data": {
      "text/plain": [
       "Index(['Wikipedia movie ID', 'Movie name', 'Movie release date',\n",
       "       'Movie box office revenue', 'Movie languages', 'Movie countries',\n",
       "       'Movie genres'],\n",
       "      dtype='object')"
      ]
     },
     "execution_count": 4,
     "metadata": {},
     "output_type": "execute_result"
    }
   ],
   "source": [
    "# Creat new df with updated columns\n",
    "movie_drop = movie.drop(['Freebase movie ID', 'Movie runtime'], axis=1)\n",
    "\n",
    "# Visual check\n",
    "movie_drop.columns"
   ]
  },
  {
   "cell_type": "markdown",
   "metadata": {
    "execution": {
     "iopub.execute_input": "2024-11-14T18:03:02.379075Z",
     "iopub.status.busy": "2024-11-14T18:03:02.376940Z",
     "iopub.status.idle": "2024-11-14T18:03:02.397172Z",
     "shell.execute_reply": "2024-11-14T18:03:02.395280Z",
     "shell.execute_reply.started": "2024-11-14T18:03:02.378981Z"
    }
   },
   "source": [
    "Both columns have been efficently dropped"
   ]
  },
  {
   "cell_type": "markdown",
   "metadata": {},
   "source": [
    "## Features types"
   ]
  },
  {
   "cell_type": "code",
   "execution_count": 5,
   "metadata": {
    "execution": {
     "iopub.execute_input": "2024-11-14T17:47:36.464859Z",
     "iopub.status.busy": "2024-11-14T17:47:36.461207Z",
     "iopub.status.idle": "2024-11-14T17:47:36.489788Z",
     "shell.execute_reply": "2024-11-14T17:47:36.487466Z",
     "shell.execute_reply.started": "2024-11-14T17:47:36.464748Z"
    }
   },
   "outputs": [
    {
     "data": {
      "text/html": [
       "<div>\n",
       "<style scoped>\n",
       "    .dataframe tbody tr th:only-of-type {\n",
       "        vertical-align: middle;\n",
       "    }\n",
       "\n",
       "    .dataframe tbody tr th {\n",
       "        vertical-align: top;\n",
       "    }\n",
       "\n",
       "    .dataframe thead th {\n",
       "        text-align: right;\n",
       "    }\n",
       "</style>\n",
       "<table border=\"1\" class=\"dataframe\">\n",
       "  <thead>\n",
       "    <tr style=\"text-align: right;\">\n",
       "      <th></th>\n",
       "      <th>Type</th>\n",
       "    </tr>\n",
       "  </thead>\n",
       "  <tbody>\n",
       "    <tr>\n",
       "      <th>Wikipedia movie ID</th>\n",
       "      <td>int64</td>\n",
       "    </tr>\n",
       "    <tr>\n",
       "      <th>Movie name</th>\n",
       "      <td>object</td>\n",
       "    </tr>\n",
       "    <tr>\n",
       "      <th>Movie release date</th>\n",
       "      <td>object</td>\n",
       "    </tr>\n",
       "    <tr>\n",
       "      <th>Movie box office revenue</th>\n",
       "      <td>float64</td>\n",
       "    </tr>\n",
       "    <tr>\n",
       "      <th>Movie languages</th>\n",
       "      <td>object</td>\n",
       "    </tr>\n",
       "    <tr>\n",
       "      <th>Movie countries</th>\n",
       "      <td>object</td>\n",
       "    </tr>\n",
       "    <tr>\n",
       "      <th>Movie genres</th>\n",
       "      <td>object</td>\n",
       "    </tr>\n",
       "  </tbody>\n",
       "</table>\n",
       "</div>"
      ],
      "text/plain": [
       "                             Type\n",
       "Wikipedia movie ID          int64\n",
       "Movie name                 object\n",
       "Movie release date         object\n",
       "Movie box office revenue  float64\n",
       "Movie languages            object\n",
       "Movie countries            object\n",
       "Movie genres               object"
      ]
     },
     "execution_count": 5,
     "metadata": {},
     "output_type": "execute_result"
    }
   ],
   "source": [
    "pd.DataFrame(movie_drop.dtypes, columns=['Type'])"
   ]
  },
  {
   "cell_type": "markdown",
   "metadata": {},
   "source": [
    "### Comment\n",
    "1. The `Movie languages`, `Movie countries` and `Movie genres` are stored in dictionnaries with `Freebase movie ID` as keys. Since the `Freebase movie ID` are not kept the dictionnaries will be changed and to keep values only.\n",
    "\n",
    "2. For our analysis, having the full release date in `Movie name` isn't necessary, just the year is enough. Therefore, we convert the release date into a year format (e.g. 1995-07-21 becomes 1995)."
   ]
  },
  {
   "cell_type": "markdown",
   "metadata": {},
   "source": [
    "We decide to remove the Freebase movie ID as it is no longer actively used and since for our analysis we are not interested in the movie runtime we drop this column too. "
   ]
  },
  {
   "cell_type": "code",
   "execution_count": 6,
   "metadata": {
    "execution": {
     "iopub.execute_input": "2024-11-14T17:51:28.320007Z",
     "iopub.status.busy": "2024-11-14T17:51:28.318638Z",
     "iopub.status.idle": "2024-11-14T17:51:34.016451Z",
     "shell.execute_reply": "2024-11-14T17:51:34.015162Z",
     "shell.execute_reply.started": "2024-11-14T17:51:28.319926Z"
    }
   },
   "outputs": [
    {
     "data": {
      "text/html": [
       "<div>\n",
       "<style scoped>\n",
       "    .dataframe tbody tr th:only-of-type {\n",
       "        vertical-align: middle;\n",
       "    }\n",
       "\n",
       "    .dataframe tbody tr th {\n",
       "        vertical-align: top;\n",
       "    }\n",
       "\n",
       "    .dataframe thead th {\n",
       "        text-align: right;\n",
       "    }\n",
       "</style>\n",
       "<table border=\"1\" class=\"dataframe\">\n",
       "  <thead>\n",
       "    <tr style=\"text-align: right;\">\n",
       "      <th></th>\n",
       "      <th>Movie genres</th>\n",
       "      <th>Movie languages</th>\n",
       "      <th>Movie countries</th>\n",
       "    </tr>\n",
       "  </thead>\n",
       "  <tbody>\n",
       "    <tr>\n",
       "      <th>0</th>\n",
       "      <td>[Thriller, Science Fiction, Horror, Adventure,...</td>\n",
       "      <td>[English Language]</td>\n",
       "      <td>[United States of America]</td>\n",
       "    </tr>\n",
       "    <tr>\n",
       "      <th>1</th>\n",
       "      <td>[Mystery, Biographical film, Drama, Crime Drama]</td>\n",
       "      <td>[English Language]</td>\n",
       "      <td>[United States of America]</td>\n",
       "    </tr>\n",
       "    <tr>\n",
       "      <th>2</th>\n",
       "      <td>[Crime Fiction, Drama]</td>\n",
       "      <td>[Norwegian Language]</td>\n",
       "      <td>[Norway]</td>\n",
       "    </tr>\n",
       "    <tr>\n",
       "      <th>3</th>\n",
       "      <td>[Thriller, Erotic thriller, Psychological thri...</td>\n",
       "      <td>[English Language]</td>\n",
       "      <td>[United Kingdom]</td>\n",
       "    </tr>\n",
       "    <tr>\n",
       "      <th>4</th>\n",
       "      <td>[Drama]</td>\n",
       "      <td>[German Language]</td>\n",
       "      <td>[Germany]</td>\n",
       "    </tr>\n",
       "  </tbody>\n",
       "</table>\n",
       "</div>"
      ],
      "text/plain": [
       "                                        Movie genres       Movie languages  \\\n",
       "0  [Thriller, Science Fiction, Horror, Adventure,...    [English Language]   \n",
       "1   [Mystery, Biographical film, Drama, Crime Drama]    [English Language]   \n",
       "2                             [Crime Fiction, Drama]  [Norwegian Language]   \n",
       "3  [Thriller, Erotic thriller, Psychological thri...    [English Language]   \n",
       "4                                            [Drama]     [German Language]   \n",
       "\n",
       "              Movie countries  \n",
       "0  [United States of America]  \n",
       "1  [United States of America]  \n",
       "2                    [Norway]  \n",
       "3            [United Kingdom]  \n",
       "4                   [Germany]  "
      ]
     },
     "execution_count": 6,
     "metadata": {},
     "output_type": "execute_result"
    }
   ],
   "source": [
    "movies_df = movie_drop.copy()\n",
    "movies_df['Movie genres'] = convert_to_list(movies_df, 'Movie genres')\n",
    "movies_df['Movie languages'] = convert_to_list(movies_df, 'Movie languages')\n",
    "movies_df['Movie countries'] = convert_to_list(movies_df, 'Movie countries')\n",
    "\n",
    "movies_df[['Movie genres','Movie languages', 'Movie countries']].head()"
   ]
  },
  {
   "cell_type": "markdown",
   "metadata": {},
   "source": [
    "We can now see that the columns containing information about movie languages, countries, and genres are indeed formatted as lists. "
   ]
  },
  {
   "cell_type": "code",
   "execution_count": 7,
   "metadata": {
    "execution": {
     "iopub.execute_input": "2024-11-14T17:51:38.808160Z",
     "iopub.status.busy": "2024-11-14T17:51:38.807154Z",
     "iopub.status.idle": "2024-11-14T17:52:00.580048Z",
     "shell.execute_reply": "2024-11-14T17:52:00.577306Z",
     "shell.execute_reply.started": "2024-11-14T17:51:38.808072Z"
    }
   },
   "outputs": [
    {
     "name": "stdout",
     "output_type": "stream",
     "text": [
      "0    2001\n",
      "1    2000\n",
      "2    1988\n",
      "3    1987\n",
      "4    1983\n",
      "Name: Movie release date, dtype: Int64\n"
     ]
    }
   ],
   "source": [
    "# Convert string to year\n",
    "movies_df['Movie release date'] = movies_df['Movie release date'].apply(extract_year).astype('Int64')\n",
    "\n",
    "# Check that all movies release dates are encoded in years\n",
    "print(movies_df['Movie release date'].head())"
   ]
  },
  {
   "cell_type": "markdown",
   "metadata": {},
   "source": [
    "The release dates are now in years format!"
   ]
  },
  {
   "cell_type": "markdown",
   "metadata": {},
   "source": [
    "# 1.2 Getting Synopses\n",
    "To discover the underlying topics of the movies and LDA to apply we will need the synopses. We decide not to use the movies summaries since they encode significantly less context and would result in less confident clustering"
   ]
  },
  {
   "cell_type": "markdown",
   "metadata": {},
   "source": [
    "## Summaries vs Synopses"
   ]
  },
  {
   "cell_type": "code",
   "execution_count": 100,
   "metadata": {
    "execution": {
     "iopub.execute_input": "2024-11-14T18:07:39.060978Z",
     "iopub.status.busy": "2024-11-14T18:07:39.059982Z",
     "iopub.status.idle": "2024-11-14T18:07:40.196725Z",
     "shell.execute_reply": "2024-11-14T18:07:40.195359Z",
     "shell.execute_reply.started": "2024-11-14T18:07:39.060896Z"
    }
   },
   "outputs": [
    {
     "name": "stdout",
     "output_type": "stream",
     "text": [
      "This synopsis dataframe is of size: (42303, 2)\n"
     ]
    },
    {
     "data": {
      "text/html": [
       "<div>\n",
       "<style scoped>\n",
       "    .dataframe tbody tr th:only-of-type {\n",
       "        vertical-align: middle;\n",
       "    }\n",
       "\n",
       "    .dataframe tbody tr th {\n",
       "        vertical-align: top;\n",
       "    }\n",
       "\n",
       "    .dataframe thead th {\n",
       "        text-align: right;\n",
       "    }\n",
       "</style>\n",
       "<table border=\"1\" class=\"dataframe\">\n",
       "  <thead>\n",
       "    <tr style=\"text-align: right;\">\n",
       "      <th></th>\n",
       "      <th>Wikipedia movie ID</th>\n",
       "      <th>Plot summary</th>\n",
       "    </tr>\n",
       "  </thead>\n",
       "  <tbody>\n",
       "    <tr>\n",
       "      <th>0</th>\n",
       "      <td>23890098</td>\n",
       "      <td>Shlykov, a hard-working taxi driver and Lyosha...</td>\n",
       "    </tr>\n",
       "    <tr>\n",
       "      <th>1</th>\n",
       "      <td>31186339</td>\n",
       "      <td>The nation of Panem consists of a wealthy Capi...</td>\n",
       "    </tr>\n",
       "    <tr>\n",
       "      <th>2</th>\n",
       "      <td>20663735</td>\n",
       "      <td>Poovalli Induchoodan  is sentenced for six yea...</td>\n",
       "    </tr>\n",
       "    <tr>\n",
       "      <th>3</th>\n",
       "      <td>2231378</td>\n",
       "      <td>The Lemon Drop Kid , a New York City swindler,...</td>\n",
       "    </tr>\n",
       "    <tr>\n",
       "      <th>4</th>\n",
       "      <td>595909</td>\n",
       "      <td>Seventh-day Adventist Church pastor Michael Ch...</td>\n",
       "    </tr>\n",
       "  </tbody>\n",
       "</table>\n",
       "</div>"
      ],
      "text/plain": [
       "   Wikipedia movie ID                                       Plot summary\n",
       "0            23890098  Shlykov, a hard-working taxi driver and Lyosha...\n",
       "1            31186339  The nation of Panem consists of a wealthy Capi...\n",
       "2            20663735  Poovalli Induchoodan  is sentenced for six yea...\n",
       "3             2231378  The Lemon Drop Kid , a New York City swindler,...\n",
       "4              595909  Seventh-day Adventist Church pastor Michael Ch..."
      ]
     },
     "execution_count": 100,
     "metadata": {},
     "output_type": "execute_result"
    }
   ],
   "source": [
    "# Load dataset\n",
    "sum_columns = ['Wikipedia movie ID','Plot summary']\n",
    "sum_df = pd.read_csv('data/plot_summaries.txt', sep='\\t', header=None, names=sum_columns)\n",
    "# Check data shape\n",
    "print(\"This synopsis dataframe is of size:\", sum_df.shape)\n",
    "sum_df.head()"
   ]
  },
  {
   "cell_type": "code",
   "execution_count": 101,
   "metadata": {
    "execution": {
     "iopub.execute_input": "2024-11-14T18:16:02.972219Z",
     "iopub.status.busy": "2024-11-14T18:16:02.971202Z",
     "iopub.status.idle": "2024-11-14T18:16:03.028218Z",
     "shell.execute_reply": "2024-11-14T18:16:03.026659Z",
     "shell.execute_reply.started": "2024-11-14T18:16:02.972139Z"
    }
   },
   "outputs": [
    {
     "data": {
      "text/plain": [
       "count    42303.0\n",
       "mean      1784.0\n",
       "std       1809.0\n",
       "min         99.0\n",
       "25%        508.0\n",
       "50%       1079.0\n",
       "75%       2604.0\n",
       "max      28159.0\n",
       "Name: summary_length, dtype: float64"
      ]
     },
     "execution_count": 101,
     "metadata": {},
     "output_type": "execute_result"
    }
   ],
   "source": [
    "# Length of each plot summary\n",
    "sum_df['summary_length'] = sum_df['Plot summary'].apply(len)\n",
    "sum_df['summary_length'].describe().round(0)"
   ]
  },
  {
   "cell_type": "markdown",
   "metadata": {},
   "source": [
    "### Comment\n",
    "- Nbr of summaries: We have the summaries of 42'303 movies\n",
    "- Movie Description: Most of the summaries contain between 508 an 2604 strings, which is a non-exhaustive description"
   ]
  },
  {
   "cell_type": "markdown",
   "metadata": {},
   "source": [
    "## Synopses\n",
    "For synopses the MPST dataset is used, this dataset is used for superived learning of tags prediction using plot synopsis.\n"
   ]
  },
  {
   "cell_type": "code",
   "execution_count": 102,
   "metadata": {
    "execution": {
     "iopub.execute_input": "2024-11-14T18:07:05.285306Z",
     "iopub.status.busy": "2024-11-14T18:07:05.284361Z",
     "iopub.status.idle": "2024-11-14T18:07:09.849582Z",
     "shell.execute_reply": "2024-11-14T18:07:09.847878Z",
     "shell.execute_reply.started": "2024-11-14T18:07:05.285228Z"
    }
   },
   "outputs": [
    {
     "name": "stdout",
     "output_type": "stream",
     "text": [
      "This synopsis dataframe is of size: (14828, 6)\n"
     ]
    },
    {
     "data": {
      "text/html": [
       "<div>\n",
       "<style scoped>\n",
       "    .dataframe tbody tr th:only-of-type {\n",
       "        vertical-align: middle;\n",
       "    }\n",
       "\n",
       "    .dataframe tbody tr th {\n",
       "        vertical-align: top;\n",
       "    }\n",
       "\n",
       "    .dataframe thead th {\n",
       "        text-align: right;\n",
       "    }\n",
       "</style>\n",
       "<table border=\"1\" class=\"dataframe\">\n",
       "  <thead>\n",
       "    <tr style=\"text-align: right;\">\n",
       "      <th></th>\n",
       "      <th>imdb_id</th>\n",
       "      <th>title</th>\n",
       "      <th>plot_synopsis</th>\n",
       "      <th>tags</th>\n",
       "      <th>split</th>\n",
       "      <th>synopsis_source</th>\n",
       "    </tr>\n",
       "  </thead>\n",
       "  <tbody>\n",
       "    <tr>\n",
       "      <th>0</th>\n",
       "      <td>tt0057603</td>\n",
       "      <td>I tre volti della paura</td>\n",
       "      <td>Note: this synopsis is for the orginal Italian...</td>\n",
       "      <td>cult, horror, gothic, murder, atmospheric</td>\n",
       "      <td>train</td>\n",
       "      <td>imdb</td>\n",
       "    </tr>\n",
       "    <tr>\n",
       "      <th>1</th>\n",
       "      <td>tt1733125</td>\n",
       "      <td>Dungeons &amp; Dragons: The Book of Vile Darkness</td>\n",
       "      <td>Two thousand years ago, Nhagruul the Foul, a s...</td>\n",
       "      <td>violence</td>\n",
       "      <td>train</td>\n",
       "      <td>imdb</td>\n",
       "    </tr>\n",
       "    <tr>\n",
       "      <th>2</th>\n",
       "      <td>tt0033045</td>\n",
       "      <td>The Shop Around the Corner</td>\n",
       "      <td>Matuschek's, a gift store in Budapest, is the ...</td>\n",
       "      <td>romantic</td>\n",
       "      <td>test</td>\n",
       "      <td>imdb</td>\n",
       "    </tr>\n",
       "    <tr>\n",
       "      <th>3</th>\n",
       "      <td>tt0113862</td>\n",
       "      <td>Mr. Holland's Opus</td>\n",
       "      <td>Glenn Holland, not a morning person by anyone'...</td>\n",
       "      <td>inspiring, romantic, stupid, feel-good</td>\n",
       "      <td>train</td>\n",
       "      <td>imdb</td>\n",
       "    </tr>\n",
       "    <tr>\n",
       "      <th>4</th>\n",
       "      <td>tt0086250</td>\n",
       "      <td>Scarface</td>\n",
       "      <td>In May 1980, a Cuban man named Tony Montana (A...</td>\n",
       "      <td>cruelty, murder, dramatic, cult, violence, atm...</td>\n",
       "      <td>val</td>\n",
       "      <td>imdb</td>\n",
       "    </tr>\n",
       "  </tbody>\n",
       "</table>\n",
       "</div>"
      ],
      "text/plain": [
       "     imdb_id                                          title  \\\n",
       "0  tt0057603                        I tre volti della paura   \n",
       "1  tt1733125  Dungeons & Dragons: The Book of Vile Darkness   \n",
       "2  tt0033045                     The Shop Around the Corner   \n",
       "3  tt0113862                             Mr. Holland's Opus   \n",
       "4  tt0086250                                       Scarface   \n",
       "\n",
       "                                       plot_synopsis  \\\n",
       "0  Note: this synopsis is for the orginal Italian...   \n",
       "1  Two thousand years ago, Nhagruul the Foul, a s...   \n",
       "2  Matuschek's, a gift store in Budapest, is the ...   \n",
       "3  Glenn Holland, not a morning person by anyone'...   \n",
       "4  In May 1980, a Cuban man named Tony Montana (A...   \n",
       "\n",
       "                                                tags  split synopsis_source  \n",
       "0          cult, horror, gothic, murder, atmospheric  train            imdb  \n",
       "1                                           violence  train            imdb  \n",
       "2                                           romantic   test            imdb  \n",
       "3             inspiring, romantic, stupid, feel-good  train            imdb  \n",
       "4  cruelty, murder, dramatic, cult, violence, atm...    val            imdb  "
      ]
     },
     "execution_count": 102,
     "metadata": {},
     "output_type": "execute_result"
    }
   ],
   "source": [
    "# Load data\n",
    "synopsis = pd.read_csv('data/mpst_full_data.csv')\n",
    "\n",
    "# Check data shape\n",
    "print(\"This synopsis dataframe is of size:\", synopsis.shape)\n",
    "\n",
    "# Display df\n",
    "synopsis.head()"
   ]
  },
  {
   "cell_type": "code",
   "execution_count": 103,
   "metadata": {
    "execution": {
     "iopub.execute_input": "2024-11-14T18:16:07.649253Z",
     "iopub.status.busy": "2024-11-14T18:16:07.646524Z",
     "iopub.status.idle": "2024-11-14T18:16:07.691379Z",
     "shell.execute_reply": "2024-11-14T18:16:07.689662Z",
     "shell.execute_reply.started": "2024-11-14T18:16:07.649165Z"
    }
   },
   "outputs": [
    {
     "data": {
      "text/plain": [
       "count    14828.0\n",
       "mean      5140.0\n",
       "std       4940.0\n",
       "min        442.0\n",
       "25%       2495.0\n",
       "50%       3827.0\n",
       "75%       5760.0\n",
       "max      63959.0\n",
       "Name: plot_length, dtype: float64"
      ]
     },
     "execution_count": 103,
     "metadata": {},
     "output_type": "execute_result"
    }
   ],
   "source": [
    "# Length of each plot summary\n",
    "size_synopsis = synopsis.copy()\n",
    "size_synopsis['plot_length'] = synopsis['plot_synopsis'].apply(len)\n",
    "size_synopsis['plot_length'].describe().round(0)"
   ]
  },
  {
   "cell_type": "markdown",
   "metadata": {},
   "source": [
    "### Comment: Summaries vs Synopses\n",
    "- Extra Infromation: The MPST dataset offers extra information such as `tags` which are topics!\n",
    "- More context: The full movie synopsis which would give the LDA more context to group movies together with descriptions that contain mostly between 2495 to 5760 strings\n",
    "- Less movies: On the other hand there are only 14'828 movies which is consequently smaller than the initial dataframe. We make the choice to reduce the dataset but gain precision on the themes generated by the LDA.\n",
    "\n",
    "Conclusion: For the rest of the analysis the MPST dataset is used\n",
    "\n",
    "Note: Another important notice is that this dataframe uses imdb_id not wikipedia movie ids."
   ]
  },
  {
   "cell_type": "markdown",
   "metadata": {},
   "source": [
    "### MPST Features\n",
    "| Column                | Description                                                                        |\n",
    "|-----------------------|------------------------------------------------------------------------------------|\n",
    "| imdb_id\t    | An identifier for each movie from IMdB.                                       |\n",
    "| plot_synopsis\t     | Whole movie plot description.                     |\n",
    "| title            | The title of the movie.                                                            |\n",
    "| tags\t    | Topics present in the movie..                   |\n",
    "| split | Describe if used for training, validation or testing. |\n",
    "| synopsis_source         | Plateform from which the synopsis. |\n"
   ]
  },
  {
   "cell_type": "markdown",
   "metadata": {},
   "source": [
    "### Comment\n",
    "Not all features will be useful to our analysis:\n",
    "- The `split` feature is not relevant since we perform an unsupervised analysis\n",
    "- `synopsis_source` is not used in the analysis\n",
    "So both of those features will be dropped"
   ]
  },
  {
   "cell_type": "markdown",
   "metadata": {
    "execution": {
     "iopub.execute_input": "2024-11-14T18:32:08.715041Z",
     "iopub.status.busy": "2024-11-14T18:32:08.713588Z",
     "iopub.status.idle": "2024-11-14T18:32:08.724937Z",
     "shell.execute_reply": "2024-11-14T18:32:08.723532Z",
     "shell.execute_reply.started": "2024-11-14T18:32:08.714964Z"
    }
   },
   "source": [
    "## Combinig both datasets"
   ]
  },
  {
   "cell_type": "code",
   "execution_count": 104,
   "metadata": {
    "execution": {
     "iopub.execute_input": "2024-11-14T18:33:19.095001Z",
     "iopub.status.busy": "2024-11-14T18:33:19.083138Z",
     "iopub.status.idle": "2024-11-14T18:33:19.171731Z",
     "shell.execute_reply": "2024-11-14T18:33:19.169982Z",
     "shell.execute_reply.started": "2024-11-14T18:33:19.094941Z"
    }
   },
   "outputs": [
    {
     "data": {
      "text/html": [
       "<div>\n",
       "<style scoped>\n",
       "    .dataframe tbody tr th:only-of-type {\n",
       "        vertical-align: middle;\n",
       "    }\n",
       "\n",
       "    .dataframe tbody tr th {\n",
       "        vertical-align: top;\n",
       "    }\n",
       "\n",
       "    .dataframe thead th {\n",
       "        text-align: right;\n",
       "    }\n",
       "</style>\n",
       "<table border=\"1\" class=\"dataframe\">\n",
       "  <thead>\n",
       "    <tr style=\"text-align: right;\">\n",
       "      <th></th>\n",
       "      <th>imdb_id</th>\n",
       "      <th>plot_synopsis</th>\n",
       "      <th>tags</th>\n",
       "      <th>Wikipedia movie ID</th>\n",
       "      <th>Movie name</th>\n",
       "      <th>Movie release date</th>\n",
       "      <th>Movie box office revenue</th>\n",
       "      <th>Movie languages</th>\n",
       "      <th>Movie countries</th>\n",
       "      <th>Movie genres</th>\n",
       "    </tr>\n",
       "  </thead>\n",
       "  <tbody>\n",
       "    <tr>\n",
       "      <th>0</th>\n",
       "      <td>tt1733125</td>\n",
       "      <td>Two thousand years ago, Nhagruul the Foul, a s...</td>\n",
       "      <td>violence</td>\n",
       "      <td>30855958</td>\n",
       "      <td>Dungeons &amp; Dragons: The Book of Vile Darkness</td>\n",
       "      <td>2012</td>\n",
       "      <td>NaN</td>\n",
       "      <td>[]</td>\n",
       "      <td>[United Kingdom]</td>\n",
       "      <td>[Fantasy]</td>\n",
       "    </tr>\n",
       "    <tr>\n",
       "      <th>1</th>\n",
       "      <td>tt0033045</td>\n",
       "      <td>Matuschek's, a gift store in Budapest, is the ...</td>\n",
       "      <td>romantic</td>\n",
       "      <td>76353</td>\n",
       "      <td>The Shop Around the Corner</td>\n",
       "      <td>1940</td>\n",
       "      <td>NaN</td>\n",
       "      <td>[English Language]</td>\n",
       "      <td>[United States of America]</td>\n",
       "      <td>[Romantic comedy, Workplace Comedy, Black-and-...</td>\n",
       "    </tr>\n",
       "    <tr>\n",
       "      <th>2</th>\n",
       "      <td>tt0113862</td>\n",
       "      <td>Glenn Holland, not a morning person by anyone'...</td>\n",
       "      <td>inspiring, romantic, stupid, feel-good</td>\n",
       "      <td>171076</td>\n",
       "      <td>Mr. Holland's Opus</td>\n",
       "      <td>1995</td>\n",
       "      <td>106269971.0</td>\n",
       "      <td>[English Language, American Sign Language]</td>\n",
       "      <td>[United States of America]</td>\n",
       "      <td>[Inspirational Drama, Family Film, Drama, Musi...</td>\n",
       "    </tr>\n",
       "    <tr>\n",
       "      <th>3</th>\n",
       "      <td>tt0086250</td>\n",
       "      <td>In May 1980, a Cuban man named Tony Montana (A...</td>\n",
       "      <td>cruelty, murder, dramatic, cult, violence, atm...</td>\n",
       "      <td>76331</td>\n",
       "      <td>Scarface</td>\n",
       "      <td>1932</td>\n",
       "      <td>NaN</td>\n",
       "      <td>[Italian Language, English Language]</td>\n",
       "      <td>[United States of America]</td>\n",
       "      <td>[Crime Fiction, Gangster Film, Black-and-white...</td>\n",
       "    </tr>\n",
       "    <tr>\n",
       "      <th>4</th>\n",
       "      <td>tt0086250</td>\n",
       "      <td>In May 1980, a Cuban man named Tony Montana (A...</td>\n",
       "      <td>cruelty, murder, dramatic, cult, violence, atm...</td>\n",
       "      <td>267848</td>\n",
       "      <td>Scarface</td>\n",
       "      <td>1983</td>\n",
       "      <td>65884703.0</td>\n",
       "      <td>[English Language, Spanish Language]</td>\n",
       "      <td>[United States of America]</td>\n",
       "      <td>[Crime Fiction, Thriller, Gangster Film, Actio...</td>\n",
       "    </tr>\n",
       "  </tbody>\n",
       "</table>\n",
       "</div>"
      ],
      "text/plain": [
       "     imdb_id                                      plot_synopsis  \\\n",
       "0  tt1733125  Two thousand years ago, Nhagruul the Foul, a s...   \n",
       "1  tt0033045  Matuschek's, a gift store in Budapest, is the ...   \n",
       "2  tt0113862  Glenn Holland, not a morning person by anyone'...   \n",
       "3  tt0086250  In May 1980, a Cuban man named Tony Montana (A...   \n",
       "4  tt0086250  In May 1980, a Cuban man named Tony Montana (A...   \n",
       "\n",
       "                                                tags  Wikipedia movie ID  \\\n",
       "0                                           violence            30855958   \n",
       "1                                           romantic               76353   \n",
       "2             inspiring, romantic, stupid, feel-good              171076   \n",
       "3  cruelty, murder, dramatic, cult, violence, atm...               76331   \n",
       "4  cruelty, murder, dramatic, cult, violence, atm...              267848   \n",
       "\n",
       "                                      Movie name  Movie release date  \\\n",
       "0  Dungeons & Dragons: The Book of Vile Darkness                2012   \n",
       "1                     The Shop Around the Corner                1940   \n",
       "2                             Mr. Holland's Opus                1995   \n",
       "3                                       Scarface                1932   \n",
       "4                                       Scarface                1983   \n",
       "\n",
       "   Movie box office revenue                             Movie languages  \\\n",
       "0                       NaN                                          []   \n",
       "1                       NaN                          [English Language]   \n",
       "2               106269971.0  [English Language, American Sign Language]   \n",
       "3                       NaN        [Italian Language, English Language]   \n",
       "4                65884703.0        [English Language, Spanish Language]   \n",
       "\n",
       "              Movie countries  \\\n",
       "0            [United Kingdom]   \n",
       "1  [United States of America]   \n",
       "2  [United States of America]   \n",
       "3  [United States of America]   \n",
       "4  [United States of America]   \n",
       "\n",
       "                                        Movie genres  \n",
       "0                                          [Fantasy]  \n",
       "1  [Romantic comedy, Workplace Comedy, Black-and-...  \n",
       "2  [Inspirational Drama, Family Film, Drama, Musi...  \n",
       "3  [Crime Fiction, Gangster Film, Black-and-white...  \n",
       "4  [Crime Fiction, Thriller, Gangster Film, Actio...  "
      ]
     },
     "execution_count": 104,
     "metadata": {},
     "output_type": "execute_result"
    }
   ],
   "source": [
    "# Merge by matching titles\n",
    "movies_syn = synopsis.merge(movies_df, left_on='title', right_on='Movie name', how='inner')\n",
    "\n",
    "# Remove columns\n",
    "movies_syn.drop(columns=['title', 'split', 'synopsis_source'], inplace=True)\n",
    "\n",
    "# Display\n",
    "movies_syn.head()"
   ]
  },
  {
   "cell_type": "markdown",
   "metadata": {},
   "source": [
    "### How many movies have no matching synopsis?"
   ]
  },
  {
   "cell_type": "code",
   "execution_count": 105,
   "metadata": {
    "execution": {
     "iopub.execute_input": "2024-11-14T18:35:00.718873Z",
     "iopub.status.busy": "2024-11-14T18:35:00.717012Z",
     "iopub.status.idle": "2024-11-14T18:35:00.733143Z",
     "shell.execute_reply": "2024-11-14T18:35:00.730312Z",
     "shell.execute_reply.started": "2024-11-14T18:35:00.718791Z"
    }
   },
   "outputs": [
    {
     "name": "stdout",
     "output_type": "stream",
     "text": [
      "We only lost 94 movies by merging the two dataset by the titles of the movies.\n"
     ]
    }
   ],
   "source": [
    "# Compare size before and after merge\n",
    "lost_rows = synopsis.shape[0] - movies_syn.shape[0]\n",
    "print(f\"We only lost {lost_rows} movies by merging the two dataset by the titles of the movies.\")"
   ]
  },
  {
   "cell_type": "markdown",
   "metadata": {},
   "source": [
    "### Comment\n",
    "\n",
    "1. Movie loss: The size fo the dataframe has not significantly changed, only 94 movies did not match. Our original movie df contained most of the movies present in the synopsis df.\n",
    "\n",
    "2. Same title: We also observe that Scarface appears twice since there was a remake. For the rest for the analysis we will assume that if the name of the movie is exactly the same, the synopsis is pretty similar for both movies (if not the same!)."
   ]
  },
  {
   "cell_type": "markdown",
   "metadata": {},
   "source": [
    "# 1.3 Getting Ratings\n",
    "Rating reflect important information when talking about recommendation they directly reflect how much someone enjoyed a movie\n",
    "Thus found an IMdB dataset online, which contains movie ratings."
   ]
  },
  {
   "cell_type": "code",
   "execution_count": 106,
   "metadata": {
    "execution": {
     "iopub.execute_input": "2024-11-14T18:41:18.306970Z",
     "iopub.status.busy": "2024-11-14T18:41:18.305775Z",
     "iopub.status.idle": "2024-11-14T18:41:19.351841Z",
     "shell.execute_reply": "2024-11-14T18:41:19.348991Z",
     "shell.execute_reply.started": "2024-11-14T18:41:18.306866Z"
    }
   },
   "outputs": [
    {
     "data": {
      "text/html": [
       "<div>\n",
       "<style scoped>\n",
       "    .dataframe tbody tr th:only-of-type {\n",
       "        vertical-align: middle;\n",
       "    }\n",
       "\n",
       "    .dataframe tbody tr th {\n",
       "        vertical-align: top;\n",
       "    }\n",
       "\n",
       "    .dataframe thead th {\n",
       "        text-align: right;\n",
       "    }\n",
       "</style>\n",
       "<table border=\"1\" class=\"dataframe\">\n",
       "  <thead>\n",
       "    <tr style=\"text-align: right;\">\n",
       "      <th></th>\n",
       "      <th>tconst</th>\n",
       "      <th>averageRating</th>\n",
       "      <th>numVotes</th>\n",
       "    </tr>\n",
       "  </thead>\n",
       "  <tbody>\n",
       "    <tr>\n",
       "      <th>0</th>\n",
       "      <td>tt0000001</td>\n",
       "      <td>5.7</td>\n",
       "      <td>2100</td>\n",
       "    </tr>\n",
       "    <tr>\n",
       "      <th>1</th>\n",
       "      <td>tt0000002</td>\n",
       "      <td>5.6</td>\n",
       "      <td>282</td>\n",
       "    </tr>\n",
       "    <tr>\n",
       "      <th>2</th>\n",
       "      <td>tt0000003</td>\n",
       "      <td>6.5</td>\n",
       "      <td>2119</td>\n",
       "    </tr>\n",
       "    <tr>\n",
       "      <th>3</th>\n",
       "      <td>tt0000004</td>\n",
       "      <td>5.4</td>\n",
       "      <td>182</td>\n",
       "    </tr>\n",
       "    <tr>\n",
       "      <th>4</th>\n",
       "      <td>tt0000005</td>\n",
       "      <td>6.2</td>\n",
       "      <td>2850</td>\n",
       "    </tr>\n",
       "  </tbody>\n",
       "</table>\n",
       "</div>"
      ],
      "text/plain": [
       "      tconst  averageRating  numVotes\n",
       "0  tt0000001            5.7      2100\n",
       "1  tt0000002            5.6       282\n",
       "2  tt0000003            6.5      2119\n",
       "3  tt0000004            5.4       182\n",
       "4  tt0000005            6.2      2850"
      ]
     },
     "execution_count": 106,
     "metadata": {},
     "output_type": "execute_result"
    }
   ],
   "source": [
    "# Load dataset\n",
    "ratings_df = pd.read_csv('data/title.ratings.tsv', sep='\\t')\n",
    "ratings_df.head()"
   ]
  },
  {
   "cell_type": "markdown",
   "metadata": {},
   "source": [
    "### Columns\n",
    "| Feature         | Description                                      |\n",
    "|-----------------|--------------------------------------------------|\n",
    "| tconst          | IMDb ID (unique identifier for a movie)           |\n",
    "| average rating  | Mean of all ratings given to the movie           |\n",
    "| numVotes        | Number of people who rated the movie             |\n",
    "\n",
    "Since both of our datasets contain information about the `imdb_id`, we can merge them using this information."
   ]
  },
  {
   "cell_type": "markdown",
   "metadata": {
    "execution": {
     "iopub.execute_input": "2024-11-14T18:45:20.967326Z",
     "iopub.status.busy": "2024-11-14T18:45:20.964735Z",
     "iopub.status.idle": "2024-11-14T18:45:21.039811Z",
     "shell.execute_reply": "2024-11-14T18:45:21.037464Z",
     "shell.execute_reply.started": "2024-11-14T18:45:20.967234Z"
    }
   },
   "source": [
    "## Merging both datasets"
   ]
  },
  {
   "cell_type": "code",
   "execution_count": 107,
   "metadata": {
    "execution": {
     "iopub.execute_input": "2024-11-14T18:49:36.896756Z",
     "iopub.status.busy": "2024-11-14T18:49:36.895727Z",
     "iopub.status.idle": "2024-11-14T18:49:37.566706Z",
     "shell.execute_reply": "2024-11-14T18:49:37.565378Z",
     "shell.execute_reply.started": "2024-11-14T18:49:36.896697Z"
    }
   },
   "outputs": [
    {
     "data": {
      "text/html": [
       "<div>\n",
       "<style scoped>\n",
       "    .dataframe tbody tr th:only-of-type {\n",
       "        vertical-align: middle;\n",
       "    }\n",
       "\n",
       "    .dataframe tbody tr th {\n",
       "        vertical-align: top;\n",
       "    }\n",
       "\n",
       "    .dataframe thead th {\n",
       "        text-align: right;\n",
       "    }\n",
       "</style>\n",
       "<table border=\"1\" class=\"dataframe\">\n",
       "  <thead>\n",
       "    <tr style=\"text-align: right;\">\n",
       "      <th></th>\n",
       "      <th>imdb_id</th>\n",
       "      <th>plot_synopsis</th>\n",
       "      <th>tags</th>\n",
       "      <th>Wikipedia movie ID</th>\n",
       "      <th>Movie name</th>\n",
       "      <th>Movie release date</th>\n",
       "      <th>Movie box office revenue</th>\n",
       "      <th>Movie languages</th>\n",
       "      <th>Movie countries</th>\n",
       "      <th>Movie genres</th>\n",
       "      <th>averageRating</th>\n",
       "      <th>numVotes</th>\n",
       "    </tr>\n",
       "  </thead>\n",
       "  <tbody>\n",
       "    <tr>\n",
       "      <th>0</th>\n",
       "      <td>tt1733125</td>\n",
       "      <td>Two thousand years ago, Nhagruul the Foul, a s...</td>\n",
       "      <td>violence</td>\n",
       "      <td>30855958</td>\n",
       "      <td>Dungeons &amp; Dragons: The Book of Vile Darkness</td>\n",
       "      <td>2012</td>\n",
       "      <td>NaN</td>\n",
       "      <td>[]</td>\n",
       "      <td>[United Kingdom]</td>\n",
       "      <td>[Fantasy]</td>\n",
       "      <td>4.4</td>\n",
       "      <td>2722</td>\n",
       "    </tr>\n",
       "    <tr>\n",
       "      <th>1</th>\n",
       "      <td>tt0033045</td>\n",
       "      <td>Matuschek's, a gift store in Budapest, is the ...</td>\n",
       "      <td>romantic</td>\n",
       "      <td>76353</td>\n",
       "      <td>The Shop Around the Corner</td>\n",
       "      <td>1940</td>\n",
       "      <td>NaN</td>\n",
       "      <td>[English Language]</td>\n",
       "      <td>[United States of America]</td>\n",
       "      <td>[Romantic comedy, Workplace Comedy, Black-and-...</td>\n",
       "      <td>8.0</td>\n",
       "      <td>39430</td>\n",
       "    </tr>\n",
       "    <tr>\n",
       "      <th>2</th>\n",
       "      <td>tt0113862</td>\n",
       "      <td>Glenn Holland, not a morning person by anyone'...</td>\n",
       "      <td>inspiring, romantic, stupid, feel-good</td>\n",
       "      <td>171076</td>\n",
       "      <td>Mr. Holland's Opus</td>\n",
       "      <td>1995</td>\n",
       "      <td>106269971.0</td>\n",
       "      <td>[English Language, American Sign Language]</td>\n",
       "      <td>[United States of America]</td>\n",
       "      <td>[Inspirational Drama, Family Film, Drama, Musi...</td>\n",
       "      <td>7.3</td>\n",
       "      <td>42246</td>\n",
       "    </tr>\n",
       "  </tbody>\n",
       "</table>\n",
       "</div>"
      ],
      "text/plain": [
       "     imdb_id                                      plot_synopsis  \\\n",
       "0  tt1733125  Two thousand years ago, Nhagruul the Foul, a s...   \n",
       "1  tt0033045  Matuschek's, a gift store in Budapest, is the ...   \n",
       "2  tt0113862  Glenn Holland, not a morning person by anyone'...   \n",
       "\n",
       "                                     tags  Wikipedia movie ID  \\\n",
       "0                                violence            30855958   \n",
       "1                                romantic               76353   \n",
       "2  inspiring, romantic, stupid, feel-good              171076   \n",
       "\n",
       "                                      Movie name  Movie release date  \\\n",
       "0  Dungeons & Dragons: The Book of Vile Darkness                2012   \n",
       "1                     The Shop Around the Corner                1940   \n",
       "2                             Mr. Holland's Opus                1995   \n",
       "\n",
       "   Movie box office revenue                             Movie languages  \\\n",
       "0                       NaN                                          []   \n",
       "1                       NaN                          [English Language]   \n",
       "2               106269971.0  [English Language, American Sign Language]   \n",
       "\n",
       "              Movie countries  \\\n",
       "0            [United Kingdom]   \n",
       "1  [United States of America]   \n",
       "2  [United States of America]   \n",
       "\n",
       "                                        Movie genres  averageRating  numVotes  \n",
       "0                                          [Fantasy]            4.4      2722  \n",
       "1  [Romantic comedy, Workplace Comedy, Black-and-...            8.0     39430  \n",
       "2  [Inspirational Drama, Family Film, Drama, Musi...            7.3     42246  "
      ]
     },
     "execution_count": 107,
     "metadata": {},
     "output_type": "execute_result"
    }
   ],
   "source": [
    "# Merge\n",
    "movies_ratings = pd.merge(movies_syn,ratings_df,left_on='imdb_id', right_on='tconst',how='inner')\n",
    "\n",
    "# Remove redundant columns\n",
    "movies_ratings = movies_ratings.drop(['tconst'], axis=1)\n",
    "\n",
    "# Display\n",
    "movies_ratings.head(3)"
   ]
  },
  {
   "cell_type": "markdown",
   "metadata": {
    "execution": {
     "iopub.execute_input": "2024-11-14T18:49:59.737196Z",
     "iopub.status.busy": "2024-11-14T18:49:59.735248Z",
     "iopub.status.idle": "2024-11-14T18:49:59.746589Z",
     "shell.execute_reply": "2024-11-14T18:49:59.743842Z",
     "shell.execute_reply.started": "2024-11-14T18:49:59.737111Z"
    }
   },
   "source": [
    "## Comment: Complete Dataset\n",
    "Our dataset is complete! We can start to analyse the data."
   ]
  },
  {
   "cell_type": "code",
   "execution_count": 108,
   "metadata": {},
   "outputs": [],
   "source": [
    "# save .csv file to import it in box_office_extraction.py\n",
    "movies_ratings.to_csv('Data/movies_ratings.csv', index=False)"
   ]
  },
  {
   "cell_type": "markdown",
   "metadata": {
    "execution": {
     "iopub.execute_input": "2024-11-14T18:51:05.515188Z",
     "iopub.status.busy": "2024-11-14T18:51:05.513335Z",
     "iopub.status.idle": "2024-11-14T18:51:05.523583Z",
     "shell.execute_reply": "2024-11-14T18:51:05.521126Z",
     "shell.execute_reply.started": "2024-11-14T18:51:05.515078Z"
    }
   },
   "source": [
    "# Part 2: Data Analysis"
   ]
  },
  {
   "cell_type": "markdown",
   "metadata": {},
   "source": [
    "## Part 2.1 Handling Missing Values"
   ]
  },
  {
   "cell_type": "markdown",
   "metadata": {},
   "source": [
    "Our dataset is now complete for the analysis, however we need to check the NaN values before"
   ]
  },
  {
   "cell_type": "code",
   "execution_count": 109,
   "metadata": {
    "execution": {
     "iopub.execute_input": "2024-11-14T18:51:52.139130Z",
     "iopub.status.busy": "2024-11-14T18:51:52.137869Z",
     "iopub.status.idle": "2024-11-14T18:51:57.415338Z",
     "shell.execute_reply": "2024-11-14T18:51:57.411489Z",
     "shell.execute_reply.started": "2024-11-14T18:51:52.139016Z"
    }
   },
   "outputs": [
    {
     "data": {
      "image/png": "[encoded data removed]",
      "text/plain": [
       "<Figure size 1200x600 with 1 Axes>"
      ]
     },
     "metadata": {},
     "output_type": "display_data"
    }
   ],
   "source": [
    "# Calculate percentage of NaN values in each column\n",
    "na_percentage = (movies_ratings.isna().sum() / len(movies_ratings)) * 100\n",
    "na_percentage = na_percentage.sort_index()\n",
    "\n",
    "# Plot\n",
    "plt.figure(figsize=(12, 6))\n",
    "bars = na_percentage.plot(kind='bar', color='skyblue', width=0.8)  \n",
    "\n",
    "# Add percentage labels on top of each bar\n",
    "for i, value in enumerate(na_percentage):\n",
    "    plt.text(i, value + 1, f'{value:.1f}%', ha='center', va='bottom', fontsize=10)  \n",
    "\n",
    "plt.xlabel('Columns')\n",
    "plt.xticks(rotation=45, ha='right')  \n",
    "plt.ylabel('Percentage of NaN Values (%)')\n",
    "plt.ylim(top =73)\n",
    "plt.title('Percentage of NaN Values per Column')\n",
    "plt.tight_layout()  \n",
    "\n",
    "plt.show()\n"
   ]
  },
  {
   "cell_type": "markdown",
   "metadata": {},
   "source": [
    "Two columns contain Missing values: \n",
    "- `Movie box office revenue` which has 2.9% of missing values\n",
    "- `Movie release date` with 63.5% of missing values is very problematic, since thsi feature is used to answer the research questions we will try to find external information to fill the gaps."
   ]
  },
  {
   "cell_type": "markdown",
   "metadata": {},
   "source": [
    "### Handling Nans for Movie box office revenue\n",
    "Since the number of NaNs in the box-office revenue column is significant we try to enrich the dataset with data from IMbD."
   ]
  },
  {
   "cell_type": "markdown",
   "metadata": {},
   "source": [
    "The code to extract the box office with the IMdB library can be found in the `box_office_extraction.py` file. The run time is very long, therefore we run it one time and save the results in a .csv file that we import here."
   ]
  },
  {
   "cell_type": "code",
   "execution_count": 112,
   "metadata": {},
   "outputs": [
    {
     "data": {
      "text/html": [
       "<div>\n",
       "<style scoped>\n",
       "    .dataframe tbody tr th:only-of-type {\n",
       "        vertical-align: middle;\n",
       "    }\n",
       "\n",
       "    .dataframe tbody tr th {\n",
       "        vertical-align: top;\n",
       "    }\n",
       "\n",
       "    .dataframe thead th {\n",
       "        text-align: right;\n",
       "    }\n",
       "</style>\n",
       "<table border=\"1\" class=\"dataframe\">\n",
       "  <thead>\n",
       "    <tr style=\"text-align: right;\">\n",
       "      <th></th>\n",
       "      <th>imdb_id</th>\n",
       "      <th>plot_synopsis</th>\n",
       "      <th>tags</th>\n",
       "      <th>Wikipedia movie ID</th>\n",
       "      <th>Movie name</th>\n",
       "      <th>Movie release date</th>\n",
       "      <th>Movie box office revenue</th>\n",
       "      <th>Movie languages</th>\n",
       "      <th>Movie countries</th>\n",
       "      <th>Movie genres</th>\n",
       "      <th>averageRating</th>\n",
       "      <th>numVotes</th>\n",
       "      <th>IMDB Box-office</th>\n",
       "    </tr>\n",
       "  </thead>\n",
       "  <tbody>\n",
       "    <tr>\n",
       "      <th>0</th>\n",
       "      <td>tt1733125</td>\n",
       "      <td>Two thousand years ago, Nhagruul the Foul, a s...</td>\n",
       "      <td>violence</td>\n",
       "      <td>30855958</td>\n",
       "      <td>Dungeons &amp; Dragons: The Book of Vile Darkness</td>\n",
       "      <td>2012</td>\n",
       "      <td>NaN</td>\n",
       "      <td>[]</td>\n",
       "      <td>[United Kingdom]</td>\n",
       "      <td>[Fantasy]</td>\n",
       "      <td>4.4</td>\n",
       "      <td>2722</td>\n",
       "      <td>NaN</td>\n",
       "    </tr>\n",
       "    <tr>\n",
       "      <th>1</th>\n",
       "      <td>tt0033045</td>\n",
       "      <td>Matuschek's, a gift store in Budapest, is the ...</td>\n",
       "      <td>romantic</td>\n",
       "      <td>76353</td>\n",
       "      <td>The Shop Around the Corner</td>\n",
       "      <td>1940</td>\n",
       "      <td>NaN</td>\n",
       "      <td>[English Language]</td>\n",
       "      <td>[United States of America]</td>\n",
       "      <td>[Romantic comedy, Workplace Comedy, Black-and-...</td>\n",
       "      <td>8.0</td>\n",
       "      <td>39430</td>\n",
       "      <td>380000.0</td>\n",
       "    </tr>\n",
       "    <tr>\n",
       "      <th>2</th>\n",
       "      <td>tt0113862</td>\n",
       "      <td>Glenn Holland, not a morning person by anyone'...</td>\n",
       "      <td>inspiring, romantic, stupid, feel-good</td>\n",
       "      <td>171076</td>\n",
       "      <td>Mr. Holland's Opus</td>\n",
       "      <td>1995</td>\n",
       "      <td>106269971.0</td>\n",
       "      <td>[English Language, American Sign Language]</td>\n",
       "      <td>[United States of America]</td>\n",
       "      <td>[Inspirational Drama, Family Film, Drama, Musi...</td>\n",
       "      <td>7.3</td>\n",
       "      <td>42246</td>\n",
       "      <td>106269971.0</td>\n",
       "    </tr>\n",
       "  </tbody>\n",
       "</table>\n",
       "</div>"
      ],
      "text/plain": [
       "     imdb_id                                      plot_synopsis  \\\n",
       "0  tt1733125  Two thousand years ago, Nhagruul the Foul, a s...   \n",
       "1  tt0033045  Matuschek's, a gift store in Budapest, is the ...   \n",
       "2  tt0113862  Glenn Holland, not a morning person by anyone'...   \n",
       "\n",
       "                                     tags  Wikipedia movie ID  \\\n",
       "0                                violence            30855958   \n",
       "1                                romantic               76353   \n",
       "2  inspiring, romantic, stupid, feel-good              171076   \n",
       "\n",
       "                                      Movie name  Movie release date  \\\n",
       "0  Dungeons & Dragons: The Book of Vile Darkness                2012   \n",
       "1                     The Shop Around the Corner                1940   \n",
       "2                             Mr. Holland's Opus                1995   \n",
       "\n",
       "   Movie box office revenue                             Movie languages  \\\n",
       "0                       NaN                                          []   \n",
       "1                       NaN                          [English Language]   \n",
       "2               106269971.0  [English Language, American Sign Language]   \n",
       "\n",
       "              Movie countries  \\\n",
       "0            [United Kingdom]   \n",
       "1  [United States of America]   \n",
       "2  [United States of America]   \n",
       "\n",
       "                                        Movie genres  averageRating  numVotes  \\\n",
       "0                                          [Fantasy]            4.4      2722   \n",
       "1  [Romantic comedy, Workplace Comedy, Black-and-...            8.0     39430   \n",
       "2  [Inspirational Drama, Family Film, Drama, Musi...            7.3     42246   \n",
       "\n",
       "   IMDB Box-office  \n",
       "0              NaN  \n",
       "1         380000.0  \n",
       "2      106269971.0  "
      ]
     },
     "metadata": {},
     "output_type": "display_data"
    }
   ],
   "source": [
    "#Here is the file with completed box-office from Imdb (last column)\n",
    "new_movies_dataset = pd.read_csv('Data/movies_synopsis_comp.csv')\n",
    "\n",
    "# Add IMDB box office to original dataset\n",
    "IMDB_box_office = new_movies_dataset['IMDB Box-office']\n",
    "\n",
    "movies_ratings['IMDB Box-office'] = IMDB_box_office\n",
    "\n",
    "display(movies_ratings.head(3))"
   ]
  },
  {
   "cell_type": "code",
   "execution_count": 114,
   "metadata": {},
   "outputs": [],
   "source": [
    "movies_synopsis_comp = movies_ratings.copy()"
   ]
  },
  {
   "cell_type": "markdown",
   "metadata": {},
   "source": [
    "### Comment\n",
    "\n",
    "We completed some of the missing data, but how much did we improve ?"
   ]
  },
  {
   "cell_type": "code",
   "execution_count": 115,
   "metadata": {},
   "outputs": [
    {
     "name": "stdout",
     "output_type": "stream",
     "text": [
      "We went from 63.47% of NaN values to 54.8%.\n"
     ]
    }
   ],
   "source": [
    "#Improvement in NaN values in box-office\n",
    "na_percentage_box_init = (movies_synopsis_comp['Movie box office revenue'].isna().sum() / len(movies_synopsis_comp)) * 100\n",
    "na_percentage_box_imdb = (movies_synopsis_comp['IMDB Box-office'].isna().sum() / len(movies_synopsis_comp)) * 100\n",
    "print(f\"We went from {round(na_percentage_box_init,2)}% of NaN values to {round(na_percentage_box_imdb,2)}%.\")"
   ]
  },
  {
   "cell_type": "markdown",
   "metadata": {},
   "source": [
    "### Comment\n",
    "The increase is a bit deceiving. The IMDB library is missing a lot of box-offices too. We suspect the IMDB library to mabe block when there are too many requests, giving more NaN values than there actually are. In the end that's still an increase of 24% in box-office data size, which will help us for our analysis.\n",
    "\n",
    "In the upcoming weeks (for P3), we will assess whether the available data is sufficient to draw meaningful conclusions; otherwise, we may need to explore alternative sources for additional box-office data."
   ]
  },
  {
   "cell_type": "code",
   "execution_count": 116,
   "metadata": {},
   "outputs": [],
   "source": [
    "#Remove the old revenue column as we don't need it anymore\n",
    "movies_synopsis_comp.drop('Movie box office revenue', axis=1, inplace=True)"
   ]
  },
  {
   "cell_type": "markdown",
   "metadata": {},
   "source": [
    "### Handling Nans for Movie release dates\n",
    "We remove movies with no information on Movie release dates since we are intereseted in the release years"
   ]
  },
  {
   "cell_type": "code",
   "execution_count": 117,
   "metadata": {
    "execution": {
     "iopub.execute_input": "2024-11-14T19:02:30.903876Z",
     "iopub.status.busy": "2024-11-14T19:02:30.902000Z",
     "iopub.status.idle": "2024-11-14T19:02:30.930373Z",
     "shell.execute_reply": "2024-11-14T19:02:30.928733Z",
     "shell.execute_reply.started": "2024-11-14T19:02:30.903809Z"
    }
   },
   "outputs": [
    {
     "name": "stdout",
     "output_type": "stream",
     "text": [
      "433 movies have no release dates and were removed from the dataset\n"
     ]
    }
   ],
   "source": [
    "# Drop all movies with no Movie release dates\n",
    "movies_df_cleaned = movies_synopsis_comp.dropna(subset=['Movie release date'])\n",
    "\n",
    "# Check missing values\n",
    "movies_df_cleaned['Movie release date'].isna().any()\n",
    "print(movies_ratings.shape[0]-movies_df_cleaned.shape[0], \"movies have no release dates and were removed from the dataset\")"
   ]
  },
  {
   "cell_type": "markdown",
   "metadata": {},
   "source": [
    "## Part 2.2 Data exploration"
   ]
  },
  {
   "cell_type": "code",
   "execution_count": 120,
   "metadata": {
    "execution": {
     "iopub.status.busy": "2024-11-14T16:05:47.505319Z",
     "iopub.status.idle": "2024-11-14T16:05:47.505695Z",
     "shell.execute_reply": "2024-11-14T16:05:47.505543Z",
     "shell.execute_reply.started": "2024-11-14T16:05:47.505526Z"
    }
   },
   "outputs": [
    {
     "data": {
      "text/html": [
       "<div>\n",
       "<style scoped>\n",
       "    .dataframe tbody tr th:only-of-type {\n",
       "        vertical-align: middle;\n",
       "    }\n",
       "\n",
       "    .dataframe tbody tr th {\n",
       "        vertical-align: top;\n",
       "    }\n",
       "\n",
       "    .dataframe thead th {\n",
       "        text-align: right;\n",
       "    }\n",
       "</style>\n",
       "<table border=\"1\" class=\"dataframe\">\n",
       "  <thead>\n",
       "    <tr style=\"text-align: right;\">\n",
       "      <th></th>\n",
       "      <th>imdb_id</th>\n",
       "      <th>plot_synopsis</th>\n",
       "      <th>tags</th>\n",
       "      <th>Wikipedia movie ID</th>\n",
       "      <th>Movie name</th>\n",
       "      <th>Movie release date</th>\n",
       "      <th>Movie languages</th>\n",
       "      <th>Movie countries</th>\n",
       "      <th>Movie genres</th>\n",
       "      <th>averageRating</th>\n",
       "      <th>numVotes</th>\n",
       "      <th>IMDB Box-office</th>\n",
       "    </tr>\n",
       "  </thead>\n",
       "  <tbody>\n",
       "    <tr>\n",
       "      <th>0</th>\n",
       "      <td>tt1733125</td>\n",
       "      <td>Two thousand years ago, Nhagruul the Foul, a s...</td>\n",
       "      <td>violence</td>\n",
       "      <td>30855958</td>\n",
       "      <td>Dungeons &amp; Dragons: The Book of Vile Darkness</td>\n",
       "      <td>2012</td>\n",
       "      <td>[]</td>\n",
       "      <td>[United Kingdom]</td>\n",
       "      <td>[Fantasy]</td>\n",
       "      <td>4.4</td>\n",
       "      <td>2722</td>\n",
       "      <td>NaN</td>\n",
       "    </tr>\n",
       "    <tr>\n",
       "      <th>1</th>\n",
       "      <td>tt0033045</td>\n",
       "      <td>Matuschek's, a gift store in Budapest, is the ...</td>\n",
       "      <td>romantic</td>\n",
       "      <td>76353</td>\n",
       "      <td>The Shop Around the Corner</td>\n",
       "      <td>1940</td>\n",
       "      <td>[English Language]</td>\n",
       "      <td>[United States of America]</td>\n",
       "      <td>[Romantic comedy, Workplace Comedy, Black-and-...</td>\n",
       "      <td>8.0</td>\n",
       "      <td>39430</td>\n",
       "      <td>380000.0</td>\n",
       "    </tr>\n",
       "    <tr>\n",
       "      <th>2</th>\n",
       "      <td>tt0113862</td>\n",
       "      <td>Glenn Holland, not a morning person by anyone'...</td>\n",
       "      <td>inspiring, romantic, stupid, feel-good</td>\n",
       "      <td>171076</td>\n",
       "      <td>Mr. Holland's Opus</td>\n",
       "      <td>1995</td>\n",
       "      <td>[English Language, American Sign Language]</td>\n",
       "      <td>[United States of America]</td>\n",
       "      <td>[Inspirational Drama, Family Film, Drama, Musi...</td>\n",
       "      <td>7.3</td>\n",
       "      <td>42246</td>\n",
       "      <td>106269971.0</td>\n",
       "    </tr>\n",
       "  </tbody>\n",
       "</table>\n",
       "</div>"
      ],
      "text/plain": [
       "     imdb_id                                      plot_synopsis  \\\n",
       "0  tt1733125  Two thousand years ago, Nhagruul the Foul, a s...   \n",
       "1  tt0033045  Matuschek's, a gift store in Budapest, is the ...   \n",
       "2  tt0113862  Glenn Holland, not a morning person by anyone'...   \n",
       "\n",
       "                                     tags  Wikipedia movie ID  \\\n",
       "0                                violence            30855958   \n",
       "1                                romantic               76353   \n",
       "2  inspiring, romantic, stupid, feel-good              171076   \n",
       "\n",
       "                                      Movie name  Movie release date  \\\n",
       "0  Dungeons & Dragons: The Book of Vile Darkness                2012   \n",
       "1                     The Shop Around the Corner                1940   \n",
       "2                             Mr. Holland's Opus                1995   \n",
       "\n",
       "                              Movie languages             Movie countries  \\\n",
       "0                                          []            [United Kingdom]   \n",
       "1                          [English Language]  [United States of America]   \n",
       "2  [English Language, American Sign Language]  [United States of America]   \n",
       "\n",
       "                                        Movie genres  averageRating  numVotes  \\\n",
       "0                                          [Fantasy]            4.4      2722   \n",
       "1  [Romantic comedy, Workplace Comedy, Black-and-...            8.0     39430   \n",
       "2  [Inspirational Drama, Family Film, Drama, Musi...            7.3     42246   \n",
       "\n",
       "   IMDB Box-office  \n",
       "0              NaN  \n",
       "1         380000.0  \n",
       "2      106269971.0  "
      ]
     },
     "execution_count": 120,
     "metadata": {},
     "output_type": "execute_result"
    }
   ],
   "source": [
    "movie_final = movies_df_cleaned.copy() # deep copy\n",
    "movie_final.head(3)"
   ]
  },
  {
   "cell_type": "markdown",
   "metadata": {},
   "source": [
    "### Movies' genres exploration"
   ]
  },
  {
   "cell_type": "code",
   "execution_count": 121,
   "metadata": {
    "execution": {
     "iopub.status.busy": "2024-11-14T16:05:47.506695Z",
     "iopub.status.idle": "2024-11-14T16:05:47.507024Z",
     "shell.execute_reply": "2024-11-14T16:05:47.506877Z",
     "shell.execute_reply.started": "2024-11-14T16:05:47.506863Z"
    }
   },
   "outputs": [
    {
     "name": "stdout",
     "output_type": "stream",
     "text": [
      "Number of unique genres: 333\n"
     ]
    }
   ],
   "source": [
    "all_genres = movie_final['Movie genres'].explode() # Changes elements from a list to a row\n",
    "\n",
    "num_unique_genre = all_genres.nunique() # Creates list which each type of genre in all_genres\n",
    "print(\"Number of unique genres:\", num_unique_genre)"
   ]
  },
  {
   "cell_type": "code",
   "execution_count": 122,
   "metadata": {
    "execution": {
     "iopub.status.busy": "2024-11-14T16:05:47.507810Z",
     "iopub.status.idle": "2024-11-14T16:05:47.508140Z",
     "shell.execute_reply": "2024-11-14T16:05:47.507992Z",
     "shell.execute_reply.started": "2024-11-14T16:05:47.507977Z"
    }
   },
   "outputs": [
    {
     "data": {
      "image/png": "[encoded data removed]",
      "text/plain": [
       "<Figure size 1000x800 with 1 Axes>"
      ]
     },
     "metadata": {},
     "output_type": "display_data"
    }
   ],
   "source": [
    "# Plot the number of movies per top 30 genres\n",
    "\n",
    "genres_counts = all_genres.value_counts() \n",
    "\n",
    "plt.figure(figsize=(10, 8))\n",
    "bars = genres_counts.head(30).sort_values(ascending=True).plot(kind='barh', color='lightgreen') # kind='barh' allows us to flip the axis\n",
    "\n",
    "for index, value in enumerate(genres_counts.head(30).sort_values(ascending=True)):\n",
    "    plt.text(value, index, str(value), va='center')\n",
    "\n",
    "plt.xlabel('Number of Movies', fontsize=16)\n",
    "plt.ylabel('Genres', fontsize=16)\n",
    "plt.title('Number of Movies per Genre', fontsize=16)  \n",
    "\n",
    "plt.show()"
   ]
  },
  {
   "cell_type": "markdown",
   "metadata": {},
   "source": [
    "Drama is the clear leader when it comes to movie genres, followed by Comedy and Romance. This makes sense since these genres appeal to a wide range of audiences. Genres like Thriller, Action, and Documentary are also popular, showing that people enjoy excitement and real-life stories. On the other end, niche genres like 'Cult' and 'Political drama' are much less common, which isn't surprising given their more specific audience.\n",
    "\n",
    "Here we decided to show only the top 30 genres to keep the chart clear and easy to read."
   ]
  },
  {
   "cell_type": "markdown",
   "metadata": {},
   "source": [
    "### Movies Box office exploration"
   ]
  },
  {
   "cell_type": "code",
   "execution_count": 123,
   "metadata": {
    "execution": {
     "iopub.status.busy": "2024-11-14T16:05:47.508979Z",
     "iopub.status.idle": "2024-11-14T16:05:47.509318Z",
     "shell.execute_reply": "2024-11-14T16:05:47.509173Z",
     "shell.execute_reply.started": "2024-11-14T16:05:47.509158Z"
    }
   },
   "outputs": [],
   "source": [
    "movie_final['IMDB Box-office'] = pd.to_numeric(movie_final['IMDB Box-office'], errors='coerce')\n",
    "\n",
    "# Remove the NaNs to plot\n",
    "box_office_without_nan = movie_final['IMDB Box-office'].dropna() "
   ]
  },
  {
   "cell_type": "markdown",
   "metadata": {},
   "source": [
    "For plotting, we select a threshold (4e8) for better visualization as there are some outliers (very large values) that will collapse the plot on the left and make it unreadable."
   ]
  },
  {
   "cell_type": "code",
   "execution_count": 124,
   "metadata": {},
   "outputs": [
    {
     "data": {
      "image/png": "[encoded data removed]",
      "text/plain": [
       "<Figure size 1000x600 with 1 Axes>"
      ]
     },
     "metadata": {},
     "output_type": "display_data"
    }
   ],
   "source": [
    "threshold = 4e8\n",
    "box_office_filtered = movie_final['IMDB Box-office'][movie_final['IMDB Box-office'] < threshold]\n",
    "\n",
    "# Plot the histogram \n",
    "box_office_filtered.plot(kind='hist', figsize=(10, 6), bins=50)\n",
    "plt.xlabel('IMDB Box Office')\n",
    "plt.ylabel('Number of Movies')\n",
    "plt.title('Distribution of IMDB Box Office Revenue')\n",
    "plt.grid(axis='y', linestyle='--', alpha=0.5)\n",
    "plt.show()"
   ]
  },
  {
   "cell_type": "markdown",
   "metadata": {},
   "source": [
    "### Movies Ratings exploration"
   ]
  },
  {
   "cell_type": "code",
   "execution_count": 125,
   "metadata": {
    "execution": {
     "iopub.status.busy": "2024-11-14T16:05:47.510632Z",
     "iopub.status.idle": "2024-11-14T16:05:47.510934Z",
     "shell.execute_reply": "2024-11-14T16:05:47.510803Z",
     "shell.execute_reply.started": "2024-11-14T16:05:47.510790Z"
    }
   },
   "outputs": [
    {
     "data": {
      "text/plain": [
       "count    14253.000000\n",
       "mean         6.378678\n",
       "std          1.072958\n",
       "min          1.300000\n",
       "25%          5.800000\n",
       "50%          6.500000\n",
       "75%          7.100000\n",
       "max          9.300000\n",
       "Name: averageRating, dtype: float64"
      ]
     },
     "execution_count": 125,
     "metadata": {},
     "output_type": "execute_result"
    }
   ],
   "source": [
    "movie_final['averageRating'].describe()"
   ]
  },
  {
   "cell_type": "code",
   "execution_count": 126,
   "metadata": {
    "execution": {
     "iopub.status.busy": "2024-11-14T16:05:47.511846Z",
     "iopub.status.idle": "2024-11-14T16:05:47.512208Z",
     "shell.execute_reply": "2024-11-14T16:05:47.512050Z",
     "shell.execute_reply.started": "2024-11-14T16:05:47.512034Z"
    }
   },
   "outputs": [
    {
     "data": {
      "image/png": "[encoded data removed]",
      "text/plain": [
       "<Figure size 1000x600 with 1 Axes>"
      ]
     },
     "metadata": {},
     "output_type": "display_data"
    }
   ],
   "source": [
    "rating_counts = movie_final['averageRating'].value_counts().sort_index()\n",
    "\n",
    "# Plotting the bar chart\n",
    "plt.figure(figsize=(10, 6))\n",
    "plt.bar(rating_counts.index, rating_counts.values)\n",
    "plt.xlabel('Average Rating')\n",
    "plt.ylabel('Number of Movies')\n",
    "plt.title('Number of Movies by Rating')\n",
    "plt.grid(axis='y', linestyle='--', alpha=0.5)\n",
    "plt.show()"
   ]
  },
  {
   "cell_type": "markdown",
   "metadata": {},
   "source": [
    "It seems that raters tend to find movies rather good on average. Extreme ratings are very rare (<1 and >9)."
   ]
  },
  {
   "cell_type": "markdown",
   "metadata": {},
   "source": [
    "### Movies countries exploration"
   ]
  },
  {
   "cell_type": "code",
   "execution_count": 1,
   "metadata": {
    "execution": {
     "iopub.status.busy": "2024-11-14T16:05:47.513203Z",
     "iopub.status.idle": "2024-11-14T16:05:47.513549Z",
     "shell.execute_reply": "2024-11-14T16:05:47.513380Z",
     "shell.execute_reply.started": "2024-11-14T16:05:47.513365Z"
    }
   },
   "outputs": [
    {
     "ename": "NameError",
     "evalue": "name 'movie_final' is not defined",
     "output_type": "error",
     "traceback": [
      "\u001b[1;31m---------------------------------------------------------------------------\u001b[0m",
      "\u001b[1;31mNameError\u001b[0m                                 Traceback (most recent call last)",
      "Cell \u001b[1;32mIn[1], line 2\u001b[0m\n\u001b[0;32m      1\u001b[0m \u001b[38;5;66;03m# Number of movies per country\u001b[39;00m\n\u001b[1;32m----> 2\u001b[0m all_countries \u001b[38;5;241m=\u001b[39m movie_final[\u001b[38;5;124m'\u001b[39m\u001b[38;5;124mMovie countries\u001b[39m\u001b[38;5;124m'\u001b[39m]\u001b[38;5;241m.\u001b[39mexplode()\n\u001b[0;32m      3\u001b[0m countries_counts \u001b[38;5;241m=\u001b[39m all_countries\u001b[38;5;241m.\u001b[39mvalue_counts()\n\u001b[0;32m      4\u001b[0m \u001b[38;5;28mprint\u001b[39m(countries_counts\u001b[38;5;241m.\u001b[39mhead())\n",
      "\u001b[1;31mNameError\u001b[0m: name 'movie_final' is not defined"
     ]
    }
   ],
   "source": [
    "# Number of movies per country\n",
    "all_countries = movie_final['Movie countries'].explode()\n",
    "countries_counts = all_countries.value_counts()\n",
    "print(countries_counts.head())"
   ]
  },
  {
   "cell_type": "code",
   "execution_count": 128,
   "metadata": {
    "execution": {
     "iopub.status.busy": "2024-11-14T16:05:47.517218Z",
     "iopub.status.idle": "2024-11-14T16:05:47.517592Z",
     "shell.execute_reply": "2024-11-14T16:05:47.517438Z",
     "shell.execute_reply.started": "2024-11-14T16:05:47.517396Z"
    }
   },
   "outputs": [
    {
     "name": "stdout",
     "output_type": "stream",
     "text": [
      "Number of unique countries: 109\n"
     ]
    }
   ],
   "source": [
    "num_unique_countries = all_countries.nunique()\n",
    "print(\"Number of unique countries:\", num_unique_countries)"
   ]
  },
  {
   "cell_type": "code",
   "execution_count": 129,
   "metadata": {
    "execution": {
     "iopub.status.busy": "2024-11-14T16:05:47.518367Z",
     "iopub.status.idle": "2024-11-14T16:05:47.518728Z",
     "shell.execute_reply": "2024-11-14T16:05:47.518580Z",
     "shell.execute_reply.started": "2024-11-14T16:05:47.518564Z"
    }
   },
   "outputs": [
    {
     "data": {
      "image/png": "[encoded data removed]",
      "text/plain": [
       "<Figure size 1000x800 with 1 Axes>"
      ]
     },
     "metadata": {},
     "output_type": "display_data"
    }
   ],
   "source": [
    "# Plot the top 30 countries with most amount of movies\n",
    "plt.figure(figsize=(10, 8))\n",
    "bars = countries_counts.head(30).sort_values(ascending=True).plot(kind='barh', color='lightcoral')\n",
    "\n",
    "for index, value in enumerate(countries_counts.head(30).sort_values(ascending=True)):\n",
    "    plt.text(value, index, str(value), va='center')\n",
    "\n",
    "plt.xlabel('Number of Movies', fontsize=16)\n",
    "plt.ylabel('Countries', fontsize=16)\n",
    "plt.title('Number of Movies per Country', fontsize=16)  \n",
    "plt.xscale('log') # Easier to visualise with log scale\n",
    "plt.show()"
   ]
  },
  {
   "cell_type": "markdown",
   "metadata": {},
   "source": [
    "The United States has the most movies by far, showing its huge impact on the film industry. The United Kingdoms and France come next, followed by Germany, India and Canada who also produce numerous movies.\n",
    "\n",
    "We decided to show only the top 30 countries to keep the chart clear and easy to read.\n",
    "\n",
    "For better readibility we used a log scale on the x axis."
   ]
  },
  {
   "cell_type": "markdown",
   "metadata": {},
   "source": [
    "### Movies languages exploration"
   ]
  },
  {
   "cell_type": "code",
   "execution_count": 132,
   "metadata": {
    "execution": {
     "iopub.status.busy": "2024-11-14T16:05:47.519507Z",
     "iopub.status.idle": "2024-11-14T16:05:47.519836Z",
     "shell.execute_reply": "2024-11-14T16:05:47.519688Z",
     "shell.execute_reply.started": "2024-11-14T16:05:47.519673Z"
    }
   },
   "outputs": [],
   "source": [
    "# Number of movies with a certain language available\n",
    "all_languages = movie_final['Movie languages'].explode()\n",
    "language_counts = all_languages.value_counts()\n",
    "print(language_counts.head())"
   ]
  },
  {
   "cell_type": "code",
   "execution_count": 131,
   "metadata": {
    "execution": {
     "iopub.status.busy": "2024-11-14T16:05:47.520642Z",
     "iopub.status.idle": "2024-11-14T16:05:47.520999Z",
     "shell.execute_reply": "2024-11-14T16:05:47.520829Z",
     "shell.execute_reply.started": "2024-11-14T16:05:47.520815Z"
    }
   },
   "outputs": [
    {
     "name": "stdout",
     "output_type": "stream",
     "text": [
      "The dataset contains  148 unique languages.\n"
     ]
    }
   ],
   "source": [
    "num_unique_languages = all_languages.nunique()\n",
    "print(\"The dataset contains \", num_unique_languages, \"unique languages.\")"
   ]
  },
  {
   "cell_type": "code",
   "execution_count": 133,
   "metadata": {
    "execution": {
     "iopub.status.busy": "2024-11-14T16:05:47.521782Z",
     "iopub.status.idle": "2024-11-14T16:05:47.522128Z",
     "shell.execute_reply": "2024-11-14T16:05:47.521963Z",
     "shell.execute_reply.started": "2024-11-14T16:05:47.521948Z"
    }
   },
   "outputs": [
    {
     "data": {
      "image/png": "[encoded data removed]",
      "text/plain": [
       "<Figure size 1000x800 with 1 Axes>"
      ]
     },
     "metadata": {},
     "output_type": "display_data"
    }
   ],
   "source": [
    "# Plot the number of movies per language \n",
    "plt.figure(figsize=(10, 8))\n",
    "bars = language_counts.head(20).sort_values(ascending=True).plot(kind='barh', color='lightblue')\n",
    "\n",
    "for index, value in enumerate(language_counts.head(20).sort_values(ascending=True)):\n",
    "    plt.text(value, index, str(value), va='center')\n",
    "\n",
    "plt.xlabel('Number of Movies',fontsize=14)\n",
    "plt.ylabel('Languages',fontsize=14)\n",
    "plt.title('Number of Movies of top 20 Languages', fontsize=14)\n",
    "plt.xscale('log')\n",
    "plt.show()"
   ]
  },
  {
   "cell_type": "markdown",
   "metadata": {},
   "source": [
    "As previously seen, English is largely dominant. This can be attributed to its role as a global lingua franca, making films more accessible to international audiences. Additionally, major movie industries in countries like the United Kingdom and other English-speaking regions contribute to the high number of English-language films.\n",
    "\n",
    "For better visibility, we chose to display only the top 20 languages in this chart. It is also noticeable that the number of movies per language drops off quickly after the most common languages, highlighting the dominance of a few major languages in movie production and a long tail of less commonly represented languages. For better readibility we used a log scale on the x axis."
   ]
  },
  {
   "cell_type": "markdown",
   "metadata": {},
   "source": [
    "### Movies release year exploration"
   ]
  },
  {
   "cell_type": "markdown",
   "metadata": {},
   "source": [
    "Here we do a general analysis about the total number of movies released each year."
   ]
  },
  {
   "cell_type": "code",
   "execution_count": 2,
   "metadata": {
    "execution": {
     "iopub.status.busy": "2024-11-14T16:05:47.522950Z",
     "iopub.status.idle": "2024-11-14T16:05:47.523277Z",
     "shell.execute_reply": "2024-11-14T16:05:47.523130Z",
     "shell.execute_reply.started": "2024-11-14T16:05:47.523116Z"
    }
   },
   "outputs": [
    {
     "ename": "NameError",
     "evalue": "name 'movie_final' is not defined",
     "output_type": "error",
     "traceback": [
      "\u001b[1;31m---------------------------------------------------------------------------\u001b[0m",
      "\u001b[1;31mNameError\u001b[0m                                 Traceback (most recent call last)",
      "Cell \u001b[1;32mIn[2], line 1\u001b[0m\n\u001b[1;32m----> 1\u001b[0m all_years \u001b[38;5;241m=\u001b[39m movie_final[\u001b[38;5;124m'\u001b[39m\u001b[38;5;124mMovie release date\u001b[39m\u001b[38;5;124m'\u001b[39m]\u001b[38;5;241m.\u001b[39mexplode()\n\u001b[0;32m      2\u001b[0m years_counts \u001b[38;5;241m=\u001b[39m all_years\u001b[38;5;241m.\u001b[39mvalue_counts()\n\u001b[0;32m      3\u001b[0m all_years\u001b[38;5;241m.\u001b[39mdescribe()\n",
      "\u001b[1;31mNameError\u001b[0m: name 'movie_final' is not defined"
     ]
    }
   ],
   "source": [
    "all_years = movie_final['Movie release date'].explode()\n",
    "years_counts = all_years.value_counts()\n",
    "all_years.describe()"
   ]
  },
  {
   "cell_type": "code",
   "execution_count": 135,
   "metadata": {
    "execution": {
     "iopub.status.busy": "2024-11-14T16:05:47.524203Z",
     "iopub.status.idle": "2024-11-14T16:05:47.524615Z",
     "shell.execute_reply": "2024-11-14T16:05:47.524391Z",
     "shell.execute_reply.started": "2024-11-14T16:05:47.524376Z"
    }
   },
   "outputs": [
    {
     "data": {
      "image/png": "[encoded data removed]",
      "text/plain": [
       "<Figure size 1000x800 with 1 Axes>"
      ]
     },
     "metadata": {},
     "output_type": "display_data"
    }
   ],
   "source": [
    "# Number of movies per year\n",
    "\n",
    "plt.figure(figsize=(10, 6))  \n",
    "plot_years_counts = all_years.value_counts().sort_index().plot(kind='bar', width=1)\n",
    "\n",
    "plt.xlabel('Years', fontsize=16 )\n",
    "plt.ylabel('Number of Movies', fontsize=16)\n",
    "plt.title('Number of Movies per Year', fontsize=16)\n",
    "\n",
    "plt.xticks(range(0, len(all_years.value_counts().sort_index()), 5), \n",
    "           all_years.value_counts().sort_index().index[::5], \n",
    "           rotation=45)\n",
    "\n",
    "plt.show()"
   ]
  },
  {
   "cell_type": "markdown",
   "metadata": {},
   "source": [
    "The movie production has grown steadily over time, with a big jump starting in the 1990s and peaking in the early 2000s. The increase after the 1980s is likely due to better technology and more people making movies around the world. The early years have fewer movies because the film industry was just getting started. Data starting from 2012 is incomplete (e.g. the dataset contains only one movie in 2016)."
   ]
  },
  {
   "cell_type": "markdown",
   "metadata": {},
   "source": [
    "### Movies per decade for most important countries"
   ]
  },
  {
   "cell_type": "code",
   "execution_count": null,
   "metadata": {
    "execution": {
     "iopub.status.busy": "2024-11-14T16:05:47.525511Z",
     "iopub.status.idle": "2024-11-14T16:05:47.525842Z",
     "shell.execute_reply": "2024-11-14T16:05:47.525694Z",
     "shell.execute_reply.started": "2024-11-14T16:05:47.525679Z"
    }
   },
   "outputs": [],
   "source": [
    "# Get top 10 countries releasing movies\n",
    "top_10_countries = countries_counts.head(10).index\n",
    "\n",
    "# Get one country per row (since some movies contain more than one country)\n",
    "expanded_df = movie_final.explode('Movie countries')\n",
    "\n",
    "top_countries_df = expanded_df[expanded_df['Movie countries'].isin(top_10_countries)]"
   ]
  },
  {
   "cell_type": "code",
   "execution_count": null,
   "metadata": {
    "execution": {
     "iopub.status.busy": "2024-11-14T16:05:47.526656Z",
     "iopub.status.idle": "2024-11-14T16:05:47.526984Z",
     "shell.execute_reply": "2024-11-14T16:05:47.526836Z",
     "shell.execute_reply.started": "2024-11-14T16:05:47.526822Z"
    }
   },
   "outputs": [],
   "source": [
    "# Using loc to safely add the 'Decade' column\n",
    "top_countries_df.loc[:, 'Decade'] = (top_countries_df['Movie release date'] // 10) * 10\n",
    "\n",
    "# Group by decade and country, count the number of movies\n",
    "movies_per_decade_countries = top_countries_df.groupby(['Decade', 'Movie countries']).size().unstack(fill_value=0)"
   ]
  },
  {
   "cell_type": "code",
   "execution_count": 3,
   "metadata": {
    "execution": {
     "iopub.status.busy": "2024-11-14T16:05:47.527919Z",
     "iopub.status.idle": "2024-11-14T16:05:47.528248Z",
     "shell.execute_reply": "2024-11-14T16:05:47.528102Z",
     "shell.execute_reply.started": "2024-11-14T16:05:47.528088Z"
    }
   },
   "outputs": [
    {
     "ename": "NameError",
     "evalue": "name 'go' is not defined",
     "output_type": "error",
     "traceback": [
      "\u001b[1;31m---------------------------------------------------------------------------\u001b[0m",
      "\u001b[1;31mNameError\u001b[0m                                 Traceback (most recent call last)",
      "Cell \u001b[1;32mIn[3], line 2\u001b[0m\n\u001b[0;32m      1\u001b[0m \u001b[38;5;66;03m# Create the interactive figure\u001b[39;00m\n\u001b[1;32m----> 2\u001b[0m fig \u001b[38;5;241m=\u001b[39m go\u001b[38;5;241m.\u001b[39mFigure()\n\u001b[0;32m      4\u001b[0m \u001b[38;5;28;01mfor\u001b[39;00m country \u001b[38;5;129;01min\u001b[39;00m movies_per_decade_countries\u001b[38;5;241m.\u001b[39mcolumns:\n\u001b[0;32m      5\u001b[0m     fig\u001b[38;5;241m.\u001b[39madd_trace(go\u001b[38;5;241m.\u001b[39mBar(\n\u001b[0;32m      6\u001b[0m         x\u001b[38;5;241m=\u001b[39mmovies_per_decade_countries\u001b[38;5;241m.\u001b[39mindex, \u001b[38;5;66;03m# Decades\u001b[39;00m\n\u001b[0;32m      7\u001b[0m         y\u001b[38;5;241m=\u001b[39mmovies_per_decade_countries[country], \u001b[38;5;66;03m# Number of movies\u001b[39;00m\n\u001b[1;32m   (...)\u001b[0m\n\u001b[0;32m     10\u001b[0m         customdata\u001b[38;5;241m=\u001b[39m\u001b[38;5;241m100\u001b[39m \u001b[38;5;241m*\u001b[39m movies_per_decade_countries[country] \u001b[38;5;241m/\u001b[39m movies_per_decade_countries\u001b[38;5;241m.\u001b[39msum(axis\u001b[38;5;241m=\u001b[39m\u001b[38;5;241m1\u001b[39m)\n\u001b[0;32m     11\u001b[0m     ))\n",
      "\u001b[1;31mNameError\u001b[0m: name 'go' is not defined"
     ]
    }
   ],
   "source": [
    "# Create the interactive figure\n",
    "fig = go.Figure()\n",
    "\n",
    "for country in movies_per_decade_countries.columns:\n",
    "    fig.add_trace(go.Bar(\n",
    "        x=movies_per_decade_countries.index, # Decades\n",
    "        y=movies_per_decade_countries[country], # Number of movies\n",
    "        name=country,\n",
    "        hovertemplate='Percentage: %{customdata:.2f}%',\n",
    "        customdata=100 * movies_per_decade_countries[country] / movies_per_decade_countries.sum(axis=1)\n",
    "    ))\n",
    "\n",
    "fig.update_layout(\n",
    "    title='Proportion of Movies Produced by Top 10 Countries per Decade',\n",
    "    xaxis_title='Decade',\n",
    "    yaxis_title='Number of Movies',\n",
    "    barmode='stack',\n",
    "    legend_title='Country',\n",
    "    hovermode='x'\n",
    ")\n",
    "\n",
    "fig.show()"
   ]
  },
  {
   "cell_type": "markdown",
   "metadata": {},
   "source": [
    "The U.S. consistently dominates movie production across all decades, though its share decreases over time from near-total dominance in the early 20th century to around 40-50% in the later decades. Other countries, such as India, the UK, and France, start contributing more significantly from the 1950s onward, indicating a diversification in global movie production over the decades."
   ]
  },
  {
   "cell_type": "markdown",
   "metadata": {},
   "source": [
    "### How do the genres of the released movies vary depending on the decade?"
   ]
  },
  {
   "cell_type": "code",
   "execution_count": null,
   "metadata": {
    "execution": {
     "iopub.status.busy": "2024-11-14T16:05:47.529060Z",
     "iopub.status.idle": "2024-11-14T16:05:47.529443Z",
     "shell.execute_reply": "2024-11-14T16:05:47.529242Z",
     "shell.execute_reply.started": "2024-11-14T16:05:47.529227Z"
    }
   },
   "outputs": [],
   "source": [
    "# Get top 20 genres releasing movies\n",
    "top_20_genres = genres_counts.head(20).index\n",
    "\n",
    "# Get one country per row\n",
    "expanded_df_genre = movie_final.explode('Movie genres')\n",
    "\n",
    "# The top 20\n",
    "top_genres_df_20 = expanded_df_genre[expanded_df_genre['Movie genres'].isin(top_20_genres)]\n",
    "\n",
    "movies_per_year_genres_20 = top_genres_df_20.groupby(['Movie genres', 'Movie release date']).size().unstack(fill_value=0)\n",
    "# Remove the first decade (1890s) from the movies per decade data since it only has a few movies\n",
    "movies_per_year_genres_20 = movies_per_year_genres_20.loc[:, movies_per_year_genres_20.columns >= 1900]\n",
    "# Remove the last decade (2010s) from the movies per decade data since it has missing years\n",
    "movies_per_year_genres_20 = movies_per_year_genres_20.loc[:, movies_per_year_genres_20.columns < 2010]\n",
    "movies_per_decade_genres_20 = movies_per_year_genres_20.groupby((movies_per_year_genres_20.columns // 10) * 10, axis=1).sum()\n",
    "\n",
    "\n",
    "movies_per_decade_genres_20_percentage = movies_per_decade_genres_20.div(movies_per_decade_genres_20.sum(axis=1), axis=0)"
   ]
  },
  {
   "cell_type": "markdown",
   "metadata": {},
   "source": [
    "We decide to keep only the top 20 genres so that our graph stay clear but you can adjust this number if needed. "
   ]
  },
  {
   "cell_type": "code",
   "execution_count": null,
   "metadata": {
    "execution": {
     "iopub.status.busy": "2024-11-14T16:05:47.530330Z",
     "iopub.status.idle": "2024-11-14T16:05:47.530804Z",
     "shell.execute_reply": "2024-11-14T16:05:47.530582Z",
     "shell.execute_reply.started": "2024-11-14T16:05:47.530561Z"
    }
   },
   "outputs": [],
   "source": [
    "movies_per_decade_by_genre = movies_per_decade_genres_20.T\n",
    "\n",
    "# Ensure your DataFrame `movies_per_decade_by_genre_normalized` is defined and normalized\n",
    "movies_per_decade_by_genre_normalized = movies_per_decade_by_genre.div(movies_per_decade_by_genre.sum(axis=1), axis=0)"
   ]
  },
  {
   "cell_type": "code",
   "execution_count": null,
   "metadata": {
    "execution": {
     "iopub.status.busy": "2024-11-14T16:05:47.531687Z",
     "iopub.status.idle": "2024-11-14T16:05:47.532029Z",
     "shell.execute_reply": "2024-11-14T16:05:47.531881Z",
     "shell.execute_reply.started": "2024-11-14T16:05:47.531866Z"
    }
   },
   "outputs": [],
   "source": [
    "# Create an interactive figure\n",
    "fig = go.Figure()\n",
    "\n",
    "# Iterate through each decade and create a bar plot for it\n",
    "for decade in movies_per_decade_by_genre_normalized.index:\n",
    "    fig.add_trace(go.Bar(\n",
    "        x=movies_per_decade_by_genre_normalized.columns,\n",
    "        y=movies_per_decade_by_genre_normalized.loc[decade], # Convert to percentage\n",
    "        name=f'{decade}s',\n",
    "        visible=False # Initially set all traces to invisible\n",
    "    ))\n",
    "\n",
    "# Set the first decade to be visible\n",
    "fig.data[0].visible = True\n",
    "\n",
    "# Create the slider steps\n",
    "steps = []\n",
    "for i, decade in enumerate(movies_per_decade_by_genre_normalized.index):\n",
    "    step = dict(\n",
    "        method=\"update\",\n",
    "        args=[{\"visible\": [False] * len(fig.data)}], # Hide all traces\n",
    "        label=f\"{decade}s\"\n",
    "    )\n",
    "    step[\"args\"][0][\"visible\"][i] = True # Set the current decade's trace to visible\n",
    "    steps.append(step)\n",
    "\n",
    "# Determine the maximum value for the y-axis\n",
    "max_y_value = movies_per_decade_by_genre_normalized.max().max()\n",
    "\n",
    "# Create slider\n",
    "sliders = [dict(\n",
    "    active=0,\n",
    "    currentvalue={\"prefix\": \"Decade: \"},\n",
    "    pad={\"t\": 50},\n",
    "    steps=steps\n",
    ")]\n",
    "\n",
    "# Update the layout to include the slider and fix y-axis range\n",
    "fig.update_layout(\n",
    "    sliders=sliders,\n",
    "    title='Proportion of Movies Released by Genre in Each Decade',\n",
    "    xaxis_title='Genre',\n",
    "    yaxis_title='Percentage of Movies',\n",
    "    yaxis=dict(\n",
    "        tickformat=\".1%\",\n",
    "        range=[0, max_y_value] # Fix y-axis range from 0 to the maximum value\n",
    "    ),\n",
    "    barmode='group',\n",
    "    width=1000, # Set figure width\n",
    "    height=600 # Set figure height\n",
    ")\n",
    "\n",
    "# Show the plot\n",
    "fig.show()"
   ]
  },
  {
   "cell_type": "markdown",
   "metadata": {},
   "source": [
    "From the 1900s to the 1970s we go from 25% to nearly 0% of Black-and-White movies, this is naturally due to the creation of color cinema in the 1902. It is once again easy to notice the consistant prevalence of the drama genre which only gets smaller due to the arrival of more nuenced genres in the 1920s. Indie movies are popular from the 1900s to the 1920s and later never rise above 5%. Starting from the 1930s, comedy, romance and thrillers keep a steady popularity."
   ]
  },
  {
   "cell_type": "code",
   "execution_count": null,
   "metadata": {
    "execution": {
     "iopub.status.busy": "2024-11-14T16:05:47.533182Z",
     "iopub.status.idle": "2024-11-14T16:05:47.533558Z",
     "shell.execute_reply": "2024-11-14T16:05:47.533373Z",
     "shell.execute_reply.started": "2024-11-14T16:05:47.533358Z"
    }
   },
   "outputs": [],
   "source": [
    "fig = go.Figure()\n",
    "\n",
    "# Loop through each genre to add a bar trace for it\n",
    "for genre in movies_per_decade_genres_20_percentage.index:\n",
    "    fig.add_trace(go.Bar(\n",
    "        x=movies_per_decade_genres_20_percentage.columns, # Decades\n",
    "        y=movies_per_decade_genres_20_percentage.loc[genre], # Percentage values for each decade\n",
    "        name=genre,\n",
    "        visible=False # Initially set all traces to invisible\n",
    "    ))\n",
    "\n",
    "# Set the first genre to be visible\n",
    "fig.data[0].visible = True\n",
    "\n",
    "# Create slider steps, each step corresponding to a genre\n",
    "steps = []\n",
    "for i, genre in enumerate(movies_per_decade_genres_20_percentage.index):\n",
    "    step = dict(\n",
    "        method=\"update\",\n",
    "        args=[{\"visible\": [False] * len(fig.data)}], # Start by hiding all traces\n",
    "        label=genre\n",
    "    )\n",
    "    # Set the current genre's trace to be visible\n",
    "    step[\"args\"][0][\"visible\"][i] = True\n",
    "    steps.append(step)\n",
    "\n",
    "# Define the slider with steps for each genre\n",
    "sliders = [dict(\n",
    "    active=0,\n",
    "    currentvalue={\"prefix\": \"Genre: \"},\n",
    "    pad={\"t\": 50},\n",
    "    steps=steps\n",
    ")]\n",
    "\n",
    "# Update layout to include the slider and labels\n",
    "fig.update_layout(\n",
    "    sliders=sliders,\n",
    "    title='Proportion of Movies Released per Decade by Selected Genre',\n",
    "    xaxis_title='Decade',\n",
    "    yaxis_title='Percentage of Movies',\n",
    "    yaxis=dict(tickformat=\".1%\", range=[0, 0.5]), # Ensuring y-axis is consistently scaled\n",
    "    width=900,\n",
    "    height=500\n",
    ")\n",
    "\n",
    "# Show the plot\n",
    "fig.show()"
   ]
  },
  {
   "cell_type": "markdown",
   "metadata": {},
   "source": [
    "Thanks to this plot it is much easier to see how the different movie genres' popularity fare through time. Do keep in mind that new movie genres appear through the years which causes an inevitable small decrease of movies in a each category even if their respective popularity might not change."
   ]
  },
  {
   "cell_type": "markdown",
   "metadata": {},
   "source": [
    "# Part 3: Latent Dirichlet Allocation (LDA)\n",
    "To group movies together based on something more precise than their genre, we will use Latent Dirichlet Allocation. LDA offers a way to cluster together movies that reflect similar themes, based on textual descriptions. The model is based on unsupervised learning, as the subjects are not known. However the movie summaries only give us too few informations to use LDA. That's why we will extract the synopsis of the movies through another dataset called \"Movie Plot Synopses with Tags\" (MPST). Those synopsis are around 10 times longer than the summaries, giving way more informations to the LDA model."
   ]
  },
  {
   "cell_type": "markdown",
   "metadata": {},
   "source": [
    "## 3.1 Can we observe movies' topics using LDA?"
   ]
  },
  {
   "cell_type": "markdown",
   "metadata": {},
   "source": [
    "### Preprocessing\n",
    "Removing stop words and names before using LDA is important as those very frequent words are not used to predict themes + lowercase "
   ]
  },
  {
   "cell_type": "markdown",
   "metadata": {},
   "source": [
    "**Note:** The following cell performs named entity removal and stopword filtering on movie synopses. It takes a while to run, since it processes a large dataset. To skip this cell you can use the preprocessed sentences saved in `Data/processed_sentences.plk` instead by setting `run_processing` to `False`.\n"
   ]
  },
  {
   "cell_type": "code",
   "execution_count": 21,
   "metadata": {
    "execution": {
     "iopub.execute_input": "2024-11-14T16:17:02.571112Z",
     "iopub.status.busy": "2024-11-14T16:17:02.570059Z",
     "iopub.status.idle": "2024-11-14T16:17:04.598034Z",
     "shell.execute_reply": "2024-11-14T16:17:04.596592Z",
     "shell.execute_reply.started": "2024-11-14T16:17:02.571031Z"
    }
   },
   "outputs": [],
   "source": [
    "# Set this to False to use precomputed processed_sentences.plk\n",
    "run_processing = False\n",
    "\n",
    "if run_processing:\n",
    "\n",
    "    # Get all synopses\n",
    "    sentences = movies_synopsis['plot_synopsis'].tolist()\n",
    "\n",
    "    # Lower case, Remove stop words and named entities\n",
    "    processed_sentences = synopses_processing(sentences)\n",
    "    \n",
    "    # Save processed sentences to a file\n",
    "    with open(\"data/processed_sentences.pkl\", \"wb\") as file:\n",
    "        pickle.dump(processed_sentences, file)\n",
    "else:\n",
    "    # Load all processed data\n",
    "    with open(\"data/processed_sentences.pkl\", \"rb\") as file:\n",
    "        processed_sentences = pickle.load(file)\n"
   ]
  },
  {
   "cell_type": "markdown",
   "metadata": {},
   "source": [
    "**Note:** The following cell builds a dictionary from the processed sentences, converts those sentences into a bag-of-words representation, and then trains an LDA model to extract 10 topics from the text data. It takes a while to run, since it processes a large dataset. To skip this cell you can use the precomputed model saved in `Data/lda_model.model` instead by setting `run_processing` to `False`."
   ]
  },
  {
   "cell_type": "markdown",
   "metadata": {
    "execution": {
     "iopub.execute_input": "2024-11-14T16:09:05.846717Z",
     "iopub.status.busy": "2024-11-14T16:09:05.844484Z",
     "iopub.status.idle": "2024-11-14T16:09:05.856753Z",
     "shell.execute_reply": "2024-11-14T16:09:05.854511Z",
     "shell.execute_reply.started": "2024-11-14T16:09:05.846622Z"
    }
   },
   "source": [
    "### LDA model"
   ]
  },
  {
   "cell_type": "code",
   "execution_count": 15,
   "metadata": {
    "execution": {
     "iopub.execute_input": "2024-11-14T16:07:52.365307Z",
     "iopub.status.busy": "2024-11-14T16:07:52.364657Z",
     "iopub.status.idle": "2024-11-14T16:07:52.851848Z",
     "shell.execute_reply": "2024-11-14T16:07:52.849494Z",
     "shell.execute_reply.started": "2024-11-14T16:07:52.365260Z"
    }
   },
   "outputs": [],
   "source": [
    "# Set this to False to use precomputed processed_sentences.plk\n",
    "run_processing = False\n",
    "\n",
    "if run_processing:\n",
    "    # Maps each word to a unique integer ID\n",
    "    dictionary = Dictionary(processed_sentences)\n",
    "    \n",
    "    # Convert sentences into a bags of words (BoW)\n",
    "    corpus = [dictionary.doc2bow(sentence) for sentence in processed_sentences]\n",
    "    \n",
    "    # Train LDA model\n",
    "    lda_model = LdaModel(corpus=corpus, id2word=dictionary, num_topics=10, random_state=42, passes=10, iterations=50)\n",
    "\n",
    "    # Save dic and model\n",
    "    lda_model.save(\"src/models/lda_model.model\")\n",
    "    dictionary.save(\"src/models/dictionary.dict\")\n",
    "else:\n",
    "    lda_model = LdaModel.load(\"src/models/lda_model.model\")"
   ]
  },
  {
   "cell_type": "markdown",
   "metadata": {},
   "source": [
    "### Resulting Topcis\n",
    "Let's now look at what 10 topics the movies were clustered in"
   ]
  },
  {
   "cell_type": "code",
   "execution_count": 16,
   "metadata": {
    "execution": {
     "iopub.execute_input": "2024-11-14T16:08:23.991152Z",
     "iopub.status.busy": "2024-11-14T16:08:23.989590Z",
     "iopub.status.idle": "2024-11-14T16:08:24.028380Z",
     "shell.execute_reply": "2024-11-14T16:08:24.025691Z",
     "shell.execute_reply.started": "2024-11-14T16:08:23.991038Z"
    }
   },
   "outputs": [
    {
     "name": "stdout",
     "output_type": "stream",
     "text": [
      "Topic 0: 0.016*\"police\" + 0.008*\"car\" + 0.007*\"man\" + 0.007*\"kill\" + 0.007*\"killed\" + 0.007*\"house\" + 0.005*\"finds\"\n",
      "Topic 1: 0.005*\"one\" + 0.004*\"war\" + 0.004*\"team\" + 0.004*\"men\" + 0.003*\"ship\" + 0.003*\"escape\" + 0.003*\"killed\"\n",
      "Topic 2: 0.022*\"hamlet\" + 0.018*\"king\" + 0.012*\"macbeth\" + 0.009*\"claudius\" + 0.006*\"prince\" + 0.006*\"banquo\" + 0.005*\"act\"\n",
      "Topic 3: 0.007*\"father\" + 0.005*\"love\" + 0.005*\"family\" + 0.005*\"one\" + 0.005*\"life\" + 0.005*\"new\" + 0.005*\"mother\"\n",
      "Topic 4: 0.007*\"back\" + 0.005*\"town\" + 0.005*\"one\" + 0.005*\"men\" + 0.004*\"find\" + 0.004*\"man\" + 0.004*\"away\"\n",
      "Topic 5: 0.012*\"ship\" + 0.010*\"island\" + 0.010*\"boat\" + 0.008*\"uncle\" + 0.008*\"treasure\" + 0.008*\"captain\" + 0.007*\"one\"\n",
      "Topic 6: 0.012*\"sir\" + 0.011*\"beast\" + 0.007*\"beauty\" + 0.007*\"merchant\" + 0.006*\"children\" + 0.006*\"heathcliff\" + 0.005*\"love\"\n",
      "Topic 7: 0.008*\"money\" + 0.008*\"get\" + 0.007*\"tells\" + 0.006*\"back\" + 0.006*\"car\" + 0.005*\"one\" + 0.005*\"gets\"\n",
      "Topic 8: 0.012*\"tells\" + 0.009*\"back\" + 0.007*\"says\" + 0.007*\"house\" + 0.006*\"room\" + 0.006*\"asks\" + 0.006*\"one\"\n",
      "Topic 9: 0.008*\"sean\" + 0.008*\"lincoln\" + 0.007*\"french\" + 0.007*\"edmund\" + 0.006*\"lear\" + 0.006*\"echo\" + 0.006*\"julian\"\n"
     ]
    }
   ],
   "source": [
    "for topic_id, topic_words in lda_model.print_topics(num_words=7):\n",
    "    print(f\"Topic {topic_id}: {topic_words}\")"
   ]
  },
  {
   "cell_type": "markdown",
   "metadata": {
    "jp-MarkdownHeadingCollapsed": true
   },
   "source": [
    "### Is this approach feasible with our data?\n",
    "This approcah seems promising! With very basic preprocessing can already interpret some themes:\n",
    "\n",
    "\n",
    "| Topic | Keywords                       | Theme           |\n",
    "|-------|--------------------------------|-----------------|\n",
    "| 0     | Police, Kill, Detective        | Detective       |\n",
    "| 1     | War, Team                      | War             |\n",
    "| 2     | Hamlet, Macbeth                | Shakespeare     |\n",
    "| 3     | Father, Love                   | Family          |\n",
    "| 4     | Town, Sheriff, Horse           | Western         |\n",
    "| 5     | Ship, Treasure                 | Pirate          |\n",
    "| 6     | Prince, Castle                 | Fairy Tale      |\n",
    "| 7     | Money, Job                     | Business        |\n",
    "| 8     | ?                              | ?               |\n",
    "| 9     | ?                              | ?               |\n",
    "\n",
    "### Observations and Improvements\n",
    "But we also observe that this still has room for improvement:\n",
    "\n",
    "- Topics 9 still carries many names thus for further analysis the `named entity removal` step should be fine tuned. \n",
    "\n",
    "- `Lemmatization` should be applied to avoid reoccurences of declinaison of the same word (e.g killed and kill in topic 0).\n",
    "\n",
    "- The `parameters` such as number of topics, passes and the number of iterations are not chosen optimally which leaves room for improvement.  "
   ]
  }
 ],
 "metadata": {
  "kernelspec": {
   "display_name": "ada",
   "language": "python",
   "name": "python3"
  },
  "language_info": {
   "codemirror_mode": {
    "name": "ipython",
    "version": 3
   },
   "file_extension": ".py",
   "mimetype": "text/x-python",
   "name": "python",
   "nbconvert_exporter": "python",
   "pygments_lexer": "ipython3",
   "version": "3.11.9"
  }
 },
 "nbformat": 4,
 "nbformat_minor": 4
}
