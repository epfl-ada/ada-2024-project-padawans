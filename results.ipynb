{
 "cells": [
  {
   "cell_type": "markdown",
   "metadata": {},
   "source": [
    "# TITLE"
   ]
  },
  {
   "cell_type": "markdown",
   "metadata": {},
   "source": [
    "# Introduction\n",
    "\n",
    "Our project will use LDA on movies' synopsis to group the movies into themes. In this notebook, we will start from the raw movies dataset and add the synopsis, the ratings and the box-offices from other datasets. We then perform an in-depth analysis of the obtained dataset to understand what we have in hands. We finish with a quick feasibility-check of the LDA method."
   ]
  },
  {
   "cell_type": "markdown",
   "metadata": {},
   "source": [
    "<div style=\"border-left: 6px solid rgba(69, 157, 185, 1);border-radius:5px; box-shadow: 3px 3px 3px rgba(221, 221, 221, 1);\" >\n",
    "    <p style=\"background-color: rgba(69, 157, 185, 0.1); font-weight:bold; padding: 8px 0 8px 15px;\">Analysis</p>\n",
    "    <div style=\"padding: 0 0 2px 10px;\">\n",
    "    \n",
    "**What will be covered :**\n",
    "- **Part 1 :** Data Exploration and Processing\n",
    "- **Part 2 :** Data Analysis\n",
    "- **Part 3 :** Is LDA a feasible method for our data ?\n",
    "\n",
    "</div></div>\n",
    "<br/>\n",
    "\n",
    "---"
   ]
  },
  {
   "cell_type": "markdown",
   "metadata": {},
   "source": [
    "# Part 1: Data Exploration and Processing"
   ]
  },
  {
   "cell_type": "markdown",
   "metadata": {},
   "source": [
    "### Import libraries"
   ]
  },
  {
   "cell_type": "code",
   "execution_count": 3,
   "metadata": {
    "execution": {
     "iopub.execute_input": "2024-11-14T17:47:10.159635Z",
     "iopub.status.busy": "2024-11-14T17:47:10.158627Z",
     "iopub.status.idle": "2024-11-14T17:47:10.175656Z",
     "shell.execute_reply": "2024-11-14T17:47:10.172873Z",
     "shell.execute_reply.started": "2024-11-14T17:47:10.159551Z"
    }
   },
   "outputs": [],
   "source": [
    "import numpy as np\n",
    "import pandas as pd\n",
    "import matplotlib.pyplot as plt \n",
    "import matplotlib.ticker as mtick\n",
    "import plotly.graph_objects as go\n",
    "import ast\n",
    "\n",
    "# LDA\n",
    "import spacy\n",
    "import nltk\n",
    "#nltk.download('punkt')\n",
    "#nltk.download('stopwords')\n",
    "# gensim is a popular library for topic modelling\n",
    "from gensim.corpora import Dictionary\n",
    "from gensim.models import LdaModel\n",
    "from nltk.tokenize import word_tokenize\n",
    "from nltk.corpus import stopwords\n",
    "import pickle\n",
    "\n",
    "\n",
    "from imdb import IMDb\n",
    "import re\n",
    "import kagglehub # To extract synopsis dataframes\n",
    "\n",
    "\n",
    "\n"
   ]
  },
  {
   "cell_type": "markdown",
   "metadata": {},
   "source": [
    "## 1.1 Dataset exploration "
   ]
  },
  {
   "cell_type": "markdown",
   "metadata": {},
   "source": [
    "### Load initial movie dataset"
   ]
  },
  {
   "cell_type": "code",
   "execution_count": 22,
   "metadata": {
    "execution": {
     "iopub.execute_input": "2024-11-14T18:02:25.565768Z",
     "iopub.status.busy": "2024-11-14T18:02:25.564498Z",
     "iopub.status.idle": "2024-11-14T18:02:25.996707Z",
     "shell.execute_reply": "2024-11-14T18:02:25.995546Z",
     "shell.execute_reply.started": "2024-11-14T18:02:25.565688Z"
    }
   },
   "outputs": [
    {
     "name": "stdout",
     "output_type": "stream",
     "text": [
      "The dataset contains 81741 movies and 9 features\n"
     ]
    },
    {
     "data": {
      "text/html": [
       "<div>\n",
       "<style scoped>\n",
       "    .dataframe tbody tr th:only-of-type {\n",
       "        vertical-align: middle;\n",
       "    }\n",
       "\n",
       "    .dataframe tbody tr th {\n",
       "        vertical-align: top;\n",
       "    }\n",
       "\n",
       "    .dataframe thead th {\n",
       "        text-align: right;\n",
       "    }\n",
       "</style>\n",
       "<table border=\"1\" class=\"dataframe\">\n",
       "  <thead>\n",
       "    <tr style=\"text-align: right;\">\n",
       "      <th></th>\n",
       "      <th>Wikipedia movie ID</th>\n",
       "      <th>Freebase movie ID</th>\n",
       "      <th>Movie name</th>\n",
       "      <th>Movie release date</th>\n",
       "      <th>Movie box office revenue</th>\n",
       "      <th>Movie runtime</th>\n",
       "      <th>Movie languages</th>\n",
       "      <th>Movie countries</th>\n",
       "      <th>Movie genres</th>\n",
       "    </tr>\n",
       "  </thead>\n",
       "  <tbody>\n",
       "    <tr>\n",
       "      <th>0</th>\n",
       "      <td>975900</td>\n",
       "      <td>/m/03vyhn</td>\n",
       "      <td>Ghosts of Mars</td>\n",
       "      <td>2001-08-24</td>\n",
       "      <td>14010832.0</td>\n",
       "      <td>98.0</td>\n",
       "      <td>{\"/m/02h40lc\": \"English Language\"}</td>\n",
       "      <td>{\"/m/09c7w0\": \"United States of America\"}</td>\n",
       "      <td>{\"/m/01jfsb\": \"Thriller\", \"/m/06n90\": \"Science...</td>\n",
       "    </tr>\n",
       "    <tr>\n",
       "      <th>1</th>\n",
       "      <td>3196793</td>\n",
       "      <td>/m/08yl5d</td>\n",
       "      <td>Getting Away with Murder: The JonBenét Ramsey ...</td>\n",
       "      <td>2000-02-16</td>\n",
       "      <td>NaN</td>\n",
       "      <td>95.0</td>\n",
       "      <td>{\"/m/02h40lc\": \"English Language\"}</td>\n",
       "      <td>{\"/m/09c7w0\": \"United States of America\"}</td>\n",
       "      <td>{\"/m/02n4kr\": \"Mystery\", \"/m/03bxz7\": \"Biograp...</td>\n",
       "    </tr>\n",
       "    <tr>\n",
       "      <th>2</th>\n",
       "      <td>28463795</td>\n",
       "      <td>/m/0crgdbh</td>\n",
       "      <td>Brun bitter</td>\n",
       "      <td>1988</td>\n",
       "      <td>NaN</td>\n",
       "      <td>83.0</td>\n",
       "      <td>{\"/m/05f_3\": \"Norwegian Language\"}</td>\n",
       "      <td>{\"/m/05b4w\": \"Norway\"}</td>\n",
       "      <td>{\"/m/0lsxr\": \"Crime Fiction\", \"/m/07s9rl0\": \"D...</td>\n",
       "    </tr>\n",
       "    <tr>\n",
       "      <th>3</th>\n",
       "      <td>9363483</td>\n",
       "      <td>/m/0285_cd</td>\n",
       "      <td>White Of The Eye</td>\n",
       "      <td>1987</td>\n",
       "      <td>NaN</td>\n",
       "      <td>110.0</td>\n",
       "      <td>{\"/m/02h40lc\": \"English Language\"}</td>\n",
       "      <td>{\"/m/07ssc\": \"United Kingdom\"}</td>\n",
       "      <td>{\"/m/01jfsb\": \"Thriller\", \"/m/0glj9q\": \"Erotic...</td>\n",
       "    </tr>\n",
       "    <tr>\n",
       "      <th>4</th>\n",
       "      <td>261236</td>\n",
       "      <td>/m/01mrr1</td>\n",
       "      <td>A Woman in Flames</td>\n",
       "      <td>1983</td>\n",
       "      <td>NaN</td>\n",
       "      <td>106.0</td>\n",
       "      <td>{\"/m/04306rv\": \"German Language\"}</td>\n",
       "      <td>{\"/m/0345h\": \"Germany\"}</td>\n",
       "      <td>{\"/m/07s9rl0\": \"Drama\"}</td>\n",
       "    </tr>\n",
       "  </tbody>\n",
       "</table>\n",
       "</div>"
      ],
      "text/plain": [
       "   Wikipedia movie ID Freebase movie ID  \\\n",
       "0              975900         /m/03vyhn   \n",
       "1             3196793         /m/08yl5d   \n",
       "2            28463795        /m/0crgdbh   \n",
       "3             9363483        /m/0285_cd   \n",
       "4              261236         /m/01mrr1   \n",
       "\n",
       "                                          Movie name Movie release date  \\\n",
       "0                                     Ghosts of Mars         2001-08-24   \n",
       "1  Getting Away with Murder: The JonBenét Ramsey ...         2000-02-16   \n",
       "2                                        Brun bitter               1988   \n",
       "3                                   White Of The Eye               1987   \n",
       "4                                  A Woman in Flames               1983   \n",
       "\n",
       "   Movie box office revenue  Movie runtime  \\\n",
       "0                14010832.0           98.0   \n",
       "1                       NaN           95.0   \n",
       "2                       NaN           83.0   \n",
       "3                       NaN          110.0   \n",
       "4                       NaN          106.0   \n",
       "\n",
       "                      Movie languages  \\\n",
       "0  {\"/m/02h40lc\": \"English Language\"}   \n",
       "1  {\"/m/02h40lc\": \"English Language\"}   \n",
       "2  {\"/m/05f_3\": \"Norwegian Language\"}   \n",
       "3  {\"/m/02h40lc\": \"English Language\"}   \n",
       "4   {\"/m/04306rv\": \"German Language\"}   \n",
       "\n",
       "                             Movie countries  \\\n",
       "0  {\"/m/09c7w0\": \"United States of America\"}   \n",
       "1  {\"/m/09c7w0\": \"United States of America\"}   \n",
       "2                     {\"/m/05b4w\": \"Norway\"}   \n",
       "3             {\"/m/07ssc\": \"United Kingdom\"}   \n",
       "4                    {\"/m/0345h\": \"Germany\"}   \n",
       "\n",
       "                                        Movie genres  \n",
       "0  {\"/m/01jfsb\": \"Thriller\", \"/m/06n90\": \"Science...  \n",
       "1  {\"/m/02n4kr\": \"Mystery\", \"/m/03bxz7\": \"Biograp...  \n",
       "2  {\"/m/0lsxr\": \"Crime Fiction\", \"/m/07s9rl0\": \"D...  \n",
       "3  {\"/m/01jfsb\": \"Thriller\", \"/m/0glj9q\": \"Erotic...  \n",
       "4                            {\"/m/07s9rl0\": \"Drama\"}  "
      ]
     },
     "execution_count": 22,
     "metadata": {},
     "output_type": "execute_result"
    }
   ],
   "source": [
    "movie_columnns =['Wikipedia movie ID','Freebase movie ID', 'Movie name', 'Movie release date', 'Movie box office revenue', 'Movie runtime', 'Movie languages', 'Movie countries', 'Movie genres']\n",
    "movie = pd.read_csv('data/movie.metadata.tsv', sep='\\t', header=None, names=movie_columnns)\n",
    "print('The dataset contains', movie.shape[0], 'movies and',movie.shape[1] , 'features')\n",
    "movie.head()"
   ]
  },
  {
   "cell_type": "markdown",
   "metadata": {},
   "source": [
    "## Features Descriptions\n",
    "\n",
    "| Column                | Description                                                                        |\n",
    "|-----------------------|------------------------------------------------------------------------------------|\n",
    "| Wikipedia movie ID    | An identifier for each movie from Wikipedia.                                       |\n",
    "| Freebase movie ID     | A unique identifier for each movie from the Freebase database.                     |\n",
    "| Movie name            | The title of the movie.                                                            |\n",
    "| Movie release date    | The date when the movie was released, formatted as `YYYY-MM-DD`.                   |\n",
    "| Movie box office revenue | The revenue generated by the movie at the box office (in dollars). |\n",
    "| Movie runtime         | The duration of the movie in minutes. |\n",
    "| Movie languages       | A dictionary where keys represent Freebase language IDs, and values represent the language names (e.g., English, Norwegian, German). |\n",
    "| Movie countries       | A dictionary where keys are Freebase country IDs, and values are country names representing where the movie was produced. |\n",
    "| Movie genres          | A dictionary where each key represents a Freebase genre ID, and each value represents the corresponding genre of the movie. |"
   ]
  },
  {
   "cell_type": "markdown",
   "metadata": {},
   "source": [
    "### Comment\n",
    "Not all features will be useful to our analysis:\n",
    "- The `Freebase movie ID` is no longer actively\n",
    "- `Movie runtime` is not used in the analysis\n",
    "So both of those features will be dropped"
   ]
  },
  {
   "cell_type": "markdown",
   "metadata": {},
   "source": [
    "#### Drop columns"
   ]
  },
  {
   "cell_type": "code",
   "execution_count": 5,
   "metadata": {
    "execution": {
     "iopub.execute_input": "2024-11-14T17:47:17.145882Z",
     "iopub.status.busy": "2024-11-14T17:47:17.144828Z",
     "iopub.status.idle": "2024-11-14T17:47:17.173442Z",
     "shell.execute_reply": "2024-11-14T17:47:17.172005Z",
     "shell.execute_reply.started": "2024-11-14T17:47:17.145762Z"
    }
   },
   "outputs": [
    {
     "data": {
      "text/plain": [
       "Index(['Wikipedia movie ID', 'Movie name', 'Movie release date',\n",
       "       'Movie box office revenue', 'Movie languages', 'Movie countries',\n",
       "       'Movie genres'],\n",
       "      dtype='object')"
      ]
     },
     "execution_count": 5,
     "metadata": {},
     "output_type": "execute_result"
    }
   ],
   "source": [
    "# Creat new df with updated columns\n",
    "movie_drop = movie.drop(['Freebase movie ID', 'Movie runtime'], axis=1)\n",
    "\n",
    "# Visual check\n",
    "movie_drop.columns"
   ]
  },
  {
   "cell_type": "markdown",
   "metadata": {
    "execution": {
     "iopub.execute_input": "2024-11-14T18:03:02.379075Z",
     "iopub.status.busy": "2024-11-14T18:03:02.376940Z",
     "iopub.status.idle": "2024-11-14T18:03:02.397172Z",
     "shell.execute_reply": "2024-11-14T18:03:02.395280Z",
     "shell.execute_reply.started": "2024-11-14T18:03:02.378981Z"
    }
   },
   "source": [
    "Both columns have been efficently dropped"
   ]
  },
  {
   "cell_type": "markdown",
   "metadata": {},
   "source": [
    "## Features types"
   ]
  },
  {
   "cell_type": "code",
   "execution_count": 7,
   "metadata": {
    "execution": {
     "iopub.execute_input": "2024-11-14T17:47:36.464859Z",
     "iopub.status.busy": "2024-11-14T17:47:36.461207Z",
     "iopub.status.idle": "2024-11-14T17:47:36.489788Z",
     "shell.execute_reply": "2024-11-14T17:47:36.487466Z",
     "shell.execute_reply.started": "2024-11-14T17:47:36.464748Z"
    }
   },
   "outputs": [
    {
     "data": {
      "text/html": [
       "<div>\n",
       "<style scoped>\n",
       "    .dataframe tbody tr th:only-of-type {\n",
       "        vertical-align: middle;\n",
       "    }\n",
       "\n",
       "    .dataframe tbody tr th {\n",
       "        vertical-align: top;\n",
       "    }\n",
       "\n",
       "    .dataframe thead th {\n",
       "        text-align: right;\n",
       "    }\n",
       "</style>\n",
       "<table border=\"1\" class=\"dataframe\">\n",
       "  <thead>\n",
       "    <tr style=\"text-align: right;\">\n",
       "      <th></th>\n",
       "      <th>Type</th>\n",
       "    </tr>\n",
       "  </thead>\n",
       "  <tbody>\n",
       "    <tr>\n",
       "      <th>Wikipedia movie ID</th>\n",
       "      <td>int64</td>\n",
       "    </tr>\n",
       "    <tr>\n",
       "      <th>Movie name</th>\n",
       "      <td>object</td>\n",
       "    </tr>\n",
       "    <tr>\n",
       "      <th>Movie release date</th>\n",
       "      <td>object</td>\n",
       "    </tr>\n",
       "    <tr>\n",
       "      <th>Movie box office revenue</th>\n",
       "      <td>float64</td>\n",
       "    </tr>\n",
       "    <tr>\n",
       "      <th>Movie languages</th>\n",
       "      <td>object</td>\n",
       "    </tr>\n",
       "    <tr>\n",
       "      <th>Movie countries</th>\n",
       "      <td>object</td>\n",
       "    </tr>\n",
       "    <tr>\n",
       "      <th>Movie genres</th>\n",
       "      <td>object</td>\n",
       "    </tr>\n",
       "  </tbody>\n",
       "</table>\n",
       "</div>"
      ],
      "text/plain": [
       "                             Type\n",
       "Wikipedia movie ID          int64\n",
       "Movie name                 object\n",
       "Movie release date         object\n",
       "Movie box office revenue  float64\n",
       "Movie languages            object\n",
       "Movie countries            object\n",
       "Movie genres               object"
      ]
     },
     "execution_count": 7,
     "metadata": {},
     "output_type": "execute_result"
    }
   ],
   "source": [
    "pd.DataFrame(movie_drop.dtypes, columns=['Type'])"
   ]
  },
  {
   "cell_type": "markdown",
   "metadata": {},
   "source": [
    "### Comment\n",
    "1. The `Movie languages`, `Movie countries` and `Movie genres` are stored in dictionnaries with `Freebase movie ID` as keys. Since the `Freebase movie ID` are not kept the dictionnaries will be changed and to keep values only.\n",
    "\n",
    "2. For our analysis, having the full release date in `Movie name` isn't necessary, just the year is enough. Therefore, we convert the release date into a year format (e.g. 1995-07-21 becomes 1995)."
   ]
  },
  {
   "cell_type": "markdown",
   "metadata": {},
   "source": [
    "We decide to remove the Freebase movie ID as it is no longer actively used and since for our analysis we are not interested in the movie runtime we drop this column too. "
   ]
  },
  {
   "cell_type": "code",
   "execution_count": 8,
   "metadata": {
    "execution": {
     "iopub.execute_input": "2024-11-14T17:47:41.266319Z",
     "iopub.status.busy": "2024-11-14T17:47:41.264173Z",
     "iopub.status.idle": "2024-11-14T17:47:41.280029Z",
     "shell.execute_reply": "2024-11-14T17:47:41.277355Z",
     "shell.execute_reply.started": "2024-11-14T17:47:41.266232Z"
    }
   },
   "outputs": [],
   "source": [
    "def convert_to_list(df, column_name):\n",
    "    #Convert to dictionnary \n",
    "    df[column_name] = df[column_name].apply(lambda x: ast.literal_eval(x) if isinstance(x, str) else x)\n",
    "    #Convert to list\n",
    "    df[column_name] = df[column_name].apply(lambda x: list(x.values()) if isinstance(x, dict) else None)\n",
    "    return df[column_name]"
   ]
  },
  {
   "cell_type": "code",
   "execution_count": 13,
   "metadata": {
    "execution": {
     "iopub.execute_input": "2024-11-14T17:51:28.320007Z",
     "iopub.status.busy": "2024-11-14T17:51:28.318638Z",
     "iopub.status.idle": "2024-11-14T17:51:34.016451Z",
     "shell.execute_reply": "2024-11-14T17:51:34.015162Z",
     "shell.execute_reply.started": "2024-11-14T17:51:28.319926Z"
    }
   },
   "outputs": [
    {
     "data": {
      "text/html": [
       "<div>\n",
       "<style scoped>\n",
       "    .dataframe tbody tr th:only-of-type {\n",
       "        vertical-align: middle;\n",
       "    }\n",
       "\n",
       "    .dataframe tbody tr th {\n",
       "        vertical-align: top;\n",
       "    }\n",
       "\n",
       "    .dataframe thead th {\n",
       "        text-align: right;\n",
       "    }\n",
       "</style>\n",
       "<table border=\"1\" class=\"dataframe\">\n",
       "  <thead>\n",
       "    <tr style=\"text-align: right;\">\n",
       "      <th></th>\n",
       "      <th>Movie genres</th>\n",
       "      <th>Movie languages</th>\n",
       "      <th>Movie countries</th>\n",
       "    </tr>\n",
       "  </thead>\n",
       "  <tbody>\n",
       "    <tr>\n",
       "      <th>0</th>\n",
       "      <td>[Thriller, Science Fiction, Horror, Adventure,...</td>\n",
       "      <td>[English Language]</td>\n",
       "      <td>[United States of America]</td>\n",
       "    </tr>\n",
       "    <tr>\n",
       "      <th>1</th>\n",
       "      <td>[Mystery, Biographical film, Drama, Crime Drama]</td>\n",
       "      <td>[English Language]</td>\n",
       "      <td>[United States of America]</td>\n",
       "    </tr>\n",
       "    <tr>\n",
       "      <th>2</th>\n",
       "      <td>[Crime Fiction, Drama]</td>\n",
       "      <td>[Norwegian Language]</td>\n",
       "      <td>[Norway]</td>\n",
       "    </tr>\n",
       "    <tr>\n",
       "      <th>3</th>\n",
       "      <td>[Thriller, Erotic thriller, Psychological thri...</td>\n",
       "      <td>[English Language]</td>\n",
       "      <td>[United Kingdom]</td>\n",
       "    </tr>\n",
       "    <tr>\n",
       "      <th>4</th>\n",
       "      <td>[Drama]</td>\n",
       "      <td>[German Language]</td>\n",
       "      <td>[Germany]</td>\n",
       "    </tr>\n",
       "  </tbody>\n",
       "</table>\n",
       "</div>"
      ],
      "text/plain": [
       "                                        Movie genres       Movie languages  \\\n",
       "0  [Thriller, Science Fiction, Horror, Adventure,...    [English Language]   \n",
       "1   [Mystery, Biographical film, Drama, Crime Drama]    [English Language]   \n",
       "2                             [Crime Fiction, Drama]  [Norwegian Language]   \n",
       "3  [Thriller, Erotic thriller, Psychological thri...    [English Language]   \n",
       "4                                            [Drama]     [German Language]   \n",
       "\n",
       "              Movie countries  \n",
       "0  [United States of America]  \n",
       "1  [United States of America]  \n",
       "2                    [Norway]  \n",
       "3            [United Kingdom]  \n",
       "4                   [Germany]  "
      ]
     },
     "execution_count": 13,
     "metadata": {},
     "output_type": "execute_result"
    }
   ],
   "source": [
    "movies_df = movie_drop.copy()\n",
    "movies_df['Movie genres'] = convert_to_list(movies_df, 'Movie genres')\n",
    "movies_df['Movie languages'] = convert_to_list(movies_df, 'Movie languages')\n",
    "movies_df['Movie countries'] = convert_to_list(movies_df, 'Movie countries')\n",
    "\n",
    "movies_df[['Movie genres','Movie languages', 'Movie countries']].head()"
   ]
  },
  {
   "cell_type": "markdown",
   "metadata": {},
   "source": [
    "We can now see that the columns containing information about movie languages, countries, and genres are indeed formatted as lists. "
   ]
  },
  {
   "cell_type": "code",
   "execution_count": 14,
   "metadata": {
    "execution": {
     "iopub.execute_input": "2024-11-14T17:51:38.808160Z",
     "iopub.status.busy": "2024-11-14T17:51:38.807154Z",
     "iopub.status.idle": "2024-11-14T17:52:00.580048Z",
     "shell.execute_reply": "2024-11-14T17:52:00.577306Z",
     "shell.execute_reply.started": "2024-11-14T17:51:38.808072Z"
    }
   },
   "outputs": [
    {
     "name": "stdout",
     "output_type": "stream",
     "text": [
      "0    2001\n",
      "1    2000\n",
      "2    1988\n",
      "3    1987\n",
      "4    1983\n",
      "Name: Movie release date, dtype: Int64\n"
     ]
    }
   ],
   "source": [
    "def extract_year(value):\n",
    "    # Check if the value is a year (4-digit number) and return it as is\n",
    "    if isinstance(value, int) or (isinstance(value, str) and value.isdigit() and len(value) == 4):\n",
    "        return int(value)\n",
    "    # Try to convert complete date strings to datetime and extract the year\n",
    "    try:\n",
    "        return pd.to_datetime(value).year\n",
    "    except (ValueError, TypeError):\n",
    "        return np.nan  # Return NaN if conversion fails\n",
    "\n",
    "# Convert string to year\n",
    "movies_df['Movie release date'] = movies_df['Movie release date'].apply(extract_year).astype('Int64')\n",
    "\n",
    "# Check that all movies release dates are encoded in years\n",
    "print(movies_df['Movie release date'].head())"
   ]
  },
  {
   "cell_type": "markdown",
   "metadata": {},
   "source": [
    "The release dates are now in years format!"
   ]
  },
  {
   "cell_type": "markdown",
   "metadata": {},
   "source": [
    "# 1.2 Getting Synopses\n",
    "To discover the underlying topics of the movies and LDA to apply we will need the synopses. We decide not to use the movies summaries since they encode significantly less context and would result in less confident clustering"
   ]
  },
  {
   "cell_type": "markdown",
   "metadata": {},
   "source": [
    "## Summaries vs Synopses"
   ]
  },
  {
   "cell_type": "code",
   "execution_count": 27,
   "metadata": {
    "execution": {
     "iopub.execute_input": "2024-11-14T18:07:39.060978Z",
     "iopub.status.busy": "2024-11-14T18:07:39.059982Z",
     "iopub.status.idle": "2024-11-14T18:07:40.196725Z",
     "shell.execute_reply": "2024-11-14T18:07:40.195359Z",
     "shell.execute_reply.started": "2024-11-14T18:07:39.060896Z"
    }
   },
   "outputs": [
    {
     "name": "stdout",
     "output_type": "stream",
     "text": [
      "This synopsis dataframe is of size: (42303, 2)\n"
     ]
    },
    {
     "data": {
      "text/html": [
       "<div>\n",
       "<style scoped>\n",
       "    .dataframe tbody tr th:only-of-type {\n",
       "        vertical-align: middle;\n",
       "    }\n",
       "\n",
       "    .dataframe tbody tr th {\n",
       "        vertical-align: top;\n",
       "    }\n",
       "\n",
       "    .dataframe thead th {\n",
       "        text-align: right;\n",
       "    }\n",
       "</style>\n",
       "<table border=\"1\" class=\"dataframe\">\n",
       "  <thead>\n",
       "    <tr style=\"text-align: right;\">\n",
       "      <th></th>\n",
       "      <th>Wikipedia movie ID</th>\n",
       "      <th>Plot summary</th>\n",
       "    </tr>\n",
       "  </thead>\n",
       "  <tbody>\n",
       "    <tr>\n",
       "      <th>0</th>\n",
       "      <td>23890098</td>\n",
       "      <td>Shlykov, a hard-working taxi driver and Lyosha...</td>\n",
       "    </tr>\n",
       "    <tr>\n",
       "      <th>1</th>\n",
       "      <td>31186339</td>\n",
       "      <td>The nation of Panem consists of a wealthy Capi...</td>\n",
       "    </tr>\n",
       "    <tr>\n",
       "      <th>2</th>\n",
       "      <td>20663735</td>\n",
       "      <td>Poovalli Induchoodan  is sentenced for six yea...</td>\n",
       "    </tr>\n",
       "    <tr>\n",
       "      <th>3</th>\n",
       "      <td>2231378</td>\n",
       "      <td>The Lemon Drop Kid , a New York City swindler,...</td>\n",
       "    </tr>\n",
       "    <tr>\n",
       "      <th>4</th>\n",
       "      <td>595909</td>\n",
       "      <td>Seventh-day Adventist Church pastor Michael Ch...</td>\n",
       "    </tr>\n",
       "  </tbody>\n",
       "</table>\n",
       "</div>"
      ],
      "text/plain": [
       "   Wikipedia movie ID                                       Plot summary\n",
       "0            23890098  Shlykov, a hard-working taxi driver and Lyosha...\n",
       "1            31186339  The nation of Panem consists of a wealthy Capi...\n",
       "2            20663735  Poovalli Induchoodan  is sentenced for six yea...\n",
       "3             2231378  The Lemon Drop Kid , a New York City swindler,...\n",
       "4              595909  Seventh-day Adventist Church pastor Michael Ch..."
      ]
     },
     "execution_count": 27,
     "metadata": {},
     "output_type": "execute_result"
    }
   ],
   "source": [
    "# Load dataset\n",
    "sum_columns = ['Wikipedia movie ID','Plot summary']\n",
    "sum_df = pd.read_csv('data/plot_summaries.txt', sep='\\t', header=None, names=sum_columns)\n",
    "# Check data shape\n",
    "print(\"This synopsis dataframe is of size:\", sum_df.shape)\n",
    "sum_df.head()"
   ]
  },
  {
   "cell_type": "code",
   "execution_count": 33,
   "metadata": {
    "execution": {
     "iopub.execute_input": "2024-11-14T18:16:02.972219Z",
     "iopub.status.busy": "2024-11-14T18:16:02.971202Z",
     "iopub.status.idle": "2024-11-14T18:16:03.028218Z",
     "shell.execute_reply": "2024-11-14T18:16:03.026659Z",
     "shell.execute_reply.started": "2024-11-14T18:16:02.972139Z"
    }
   },
   "outputs": [
    {
     "data": {
      "text/plain": [
       "count    42303.0\n",
       "mean      1784.0\n",
       "std       1809.0\n",
       "min         99.0\n",
       "25%        508.0\n",
       "50%       1079.0\n",
       "75%       2604.0\n",
       "max      28159.0\n",
       "Name: summary_length, dtype: float64"
      ]
     },
     "execution_count": 33,
     "metadata": {},
     "output_type": "execute_result"
    }
   ],
   "source": [
    "# Length of each plot summary\n",
    "sum_df['summary_length'] = sum_df['Plot summary'].apply(len)\n",
    "sum_df['summary_length'].describe().round(0)"
   ]
  },
  {
   "cell_type": "markdown",
   "metadata": {},
   "source": [
    "### Comment\n",
    "- Nbr of summaries: We have the summaries of 42'303 movies\n",
    "- Movie Description: Most of the summaries contain between 508 an 2604 strings, which is a non-exhaustive description"
   ]
  },
  {
   "cell_type": "markdown",
   "metadata": {},
   "source": [
    "## Synopses\n",
    "For synopses the MPST dataset is used, this dataset is used for superived learning of tags prediction using plot synopsis.\n"
   ]
  },
  {
   "cell_type": "code",
   "execution_count": 26,
   "metadata": {
    "execution": {
     "iopub.execute_input": "2024-11-14T18:07:05.285306Z",
     "iopub.status.busy": "2024-11-14T18:07:05.284361Z",
     "iopub.status.idle": "2024-11-14T18:07:09.849582Z",
     "shell.execute_reply": "2024-11-14T18:07:09.847878Z",
     "shell.execute_reply.started": "2024-11-14T18:07:05.285228Z"
    }
   },
   "outputs": [
    {
     "name": "stdout",
     "output_type": "stream",
     "text": [
      "This synopsis dataframe is of size: (14828, 6)\n"
     ]
    },
    {
     "data": {
      "text/html": [
       "<div>\n",
       "<style scoped>\n",
       "    .dataframe tbody tr th:only-of-type {\n",
       "        vertical-align: middle;\n",
       "    }\n",
       "\n",
       "    .dataframe tbody tr th {\n",
       "        vertical-align: top;\n",
       "    }\n",
       "\n",
       "    .dataframe thead th {\n",
       "        text-align: right;\n",
       "    }\n",
       "</style>\n",
       "<table border=\"1\" class=\"dataframe\">\n",
       "  <thead>\n",
       "    <tr style=\"text-align: right;\">\n",
       "      <th></th>\n",
       "      <th>imdb_id</th>\n",
       "      <th>title</th>\n",
       "      <th>plot_synopsis</th>\n",
       "      <th>tags</th>\n",
       "      <th>split</th>\n",
       "      <th>synopsis_source</th>\n",
       "    </tr>\n",
       "  </thead>\n",
       "  <tbody>\n",
       "    <tr>\n",
       "      <th>0</th>\n",
       "      <td>tt0057603</td>\n",
       "      <td>I tre volti della paura</td>\n",
       "      <td>Note: this synopsis is for the orginal Italian...</td>\n",
       "      <td>cult, horror, gothic, murder, atmospheric</td>\n",
       "      <td>train</td>\n",
       "      <td>imdb</td>\n",
       "    </tr>\n",
       "    <tr>\n",
       "      <th>1</th>\n",
       "      <td>tt1733125</td>\n",
       "      <td>Dungeons &amp; Dragons: The Book of Vile Darkness</td>\n",
       "      <td>Two thousand years ago, Nhagruul the Foul, a s...</td>\n",
       "      <td>violence</td>\n",
       "      <td>train</td>\n",
       "      <td>imdb</td>\n",
       "    </tr>\n",
       "    <tr>\n",
       "      <th>2</th>\n",
       "      <td>tt0033045</td>\n",
       "      <td>The Shop Around the Corner</td>\n",
       "      <td>Matuschek's, a gift store in Budapest, is the ...</td>\n",
       "      <td>romantic</td>\n",
       "      <td>test</td>\n",
       "      <td>imdb</td>\n",
       "    </tr>\n",
       "    <tr>\n",
       "      <th>3</th>\n",
       "      <td>tt0113862</td>\n",
       "      <td>Mr. Holland's Opus</td>\n",
       "      <td>Glenn Holland, not a morning person by anyone'...</td>\n",
       "      <td>inspiring, romantic, stupid, feel-good</td>\n",
       "      <td>train</td>\n",
       "      <td>imdb</td>\n",
       "    </tr>\n",
       "    <tr>\n",
       "      <th>4</th>\n",
       "      <td>tt0086250</td>\n",
       "      <td>Scarface</td>\n",
       "      <td>In May 1980, a Cuban man named Tony Montana (A...</td>\n",
       "      <td>cruelty, murder, dramatic, cult, violence, atm...</td>\n",
       "      <td>val</td>\n",
       "      <td>imdb</td>\n",
       "    </tr>\n",
       "  </tbody>\n",
       "</table>\n",
       "</div>"
      ],
      "text/plain": [
       "     imdb_id                                          title  \\\n",
       "0  tt0057603                        I tre volti della paura   \n",
       "1  tt1733125  Dungeons & Dragons: The Book of Vile Darkness   \n",
       "2  tt0033045                     The Shop Around the Corner   \n",
       "3  tt0113862                             Mr. Holland's Opus   \n",
       "4  tt0086250                                       Scarface   \n",
       "\n",
       "                                       plot_synopsis  \\\n",
       "0  Note: this synopsis is for the orginal Italian...   \n",
       "1  Two thousand years ago, Nhagruul the Foul, a s...   \n",
       "2  Matuschek's, a gift store in Budapest, is the ...   \n",
       "3  Glenn Holland, not a morning person by anyone'...   \n",
       "4  In May 1980, a Cuban man named Tony Montana (A...   \n",
       "\n",
       "                                                tags  split synopsis_source  \n",
       "0          cult, horror, gothic, murder, atmospheric  train            imdb  \n",
       "1                                           violence  train            imdb  \n",
       "2                                           romantic   test            imdb  \n",
       "3             inspiring, romantic, stupid, feel-good  train            imdb  \n",
       "4  cruelty, murder, dramatic, cult, violence, atm...    val            imdb  "
      ]
     },
     "execution_count": 26,
     "metadata": {},
     "output_type": "execute_result"
    }
   ],
   "source": [
    "# Load data\n",
    "synopsis = pd.read_csv('data/mpst_full_data.csv')\n",
    "\n",
    "# Check data shape\n",
    "print(\"This synopsis dataframe is of size:\", synopsis.shape)\n",
    "\n",
    "# Display df\n",
    "synopsis.head()"
   ]
  },
  {
   "cell_type": "code",
   "execution_count": 34,
   "metadata": {
    "execution": {
     "iopub.execute_input": "2024-11-14T18:16:07.649253Z",
     "iopub.status.busy": "2024-11-14T18:16:07.646524Z",
     "iopub.status.idle": "2024-11-14T18:16:07.691379Z",
     "shell.execute_reply": "2024-11-14T18:16:07.689662Z",
     "shell.execute_reply.started": "2024-11-14T18:16:07.649165Z"
    }
   },
   "outputs": [
    {
     "data": {
      "text/plain": [
       "count    14828.0\n",
       "mean      5140.0\n",
       "std       4940.0\n",
       "min        442.0\n",
       "25%       2495.0\n",
       "50%       3827.0\n",
       "75%       5760.0\n",
       "max      63959.0\n",
       "Name: plot_length, dtype: float64"
      ]
     },
     "execution_count": 34,
     "metadata": {},
     "output_type": "execute_result"
    }
   ],
   "source": [
    "# Length of each plot summary\n",
    "size_synopsis = synopsis.copy()\n",
    "size_synopsis['plot_length'] = synopsis['plot_synopsis'].apply(len)\n",
    "size_synopsis['plot_length'].describe().round(0)"
   ]
  },
  {
   "cell_type": "markdown",
   "metadata": {},
   "source": [
    "### Comment: Summaries vs Synopses\n",
    "- Extra Infromation: The MPST dataset offers extra information such as `tags` which are topics!\n",
    "- More context: The full movie synopsis which would give the LDA more context to group movies together with descriptions that contain mostly between 2495 to 5760 strings\n",
    "- Less movies: On the other hand there are only 14'828 movies which is consequently smaller than the initial dataframe. We make the choice to reduce the dataset but gain precision on the themes generated by the LDA.\n",
    "\n",
    "Conclusion: For the rest of the analysis the MPST dataset is used\n",
    "\n",
    "Note: Another important notice is that this dataframe uses imdb_id not wikipedia movie ids."
   ]
  },
  {
   "cell_type": "markdown",
   "metadata": {},
   "source": [
    "### MPST Features\n",
    "| Column                | Description                                                                        |\n",
    "|-----------------------|------------------------------------------------------------------------------------|\n",
    "| imdb_id\t    | An identifier for each movie from IMdB.                                       |\n",
    "| plot_synopsis\t     | Whole movie plot description.                     |\n",
    "| title            | The title of the movie.                                                            |\n",
    "| tags\t    | Topics present in the movie..                   |\n",
    "| split | Describe if used for training, validation or testing. |\n",
    "| synopsis_source         | Plateform from which the synopsis. |\n"
   ]
  },
  {
   "cell_type": "markdown",
   "metadata": {},
   "source": [
    "### Comment\n",
    "Not all features will be useful to our analysis:\n",
    "- The `split` feature is not relevant since we perform an unsupervised analysis\n",
    "- `synopsis_source` is not used in the analysis\n",
    "So both of those features will be dropped"
   ]
  },
  {
   "cell_type": "markdown",
   "metadata": {
    "execution": {
     "iopub.execute_input": "2024-11-14T18:32:08.715041Z",
     "iopub.status.busy": "2024-11-14T18:32:08.713588Z",
     "iopub.status.idle": "2024-11-14T18:32:08.724937Z",
     "shell.execute_reply": "2024-11-14T18:32:08.723532Z",
     "shell.execute_reply.started": "2024-11-14T18:32:08.714964Z"
    }
   },
   "source": [
    "## Combinig both datasets"
   ]
  },
  {
   "cell_type": "code",
   "execution_count": 38,
   "metadata": {
    "execution": {
     "iopub.execute_input": "2024-11-14T18:33:19.095001Z",
     "iopub.status.busy": "2024-11-14T18:33:19.083138Z",
     "iopub.status.idle": "2024-11-14T18:33:19.171731Z",
     "shell.execute_reply": "2024-11-14T18:33:19.169982Z",
     "shell.execute_reply.started": "2024-11-14T18:33:19.094941Z"
    }
   },
   "outputs": [
    {
     "data": {
      "text/html": [
       "<div>\n",
       "<style scoped>\n",
       "    .dataframe tbody tr th:only-of-type {\n",
       "        vertical-align: middle;\n",
       "    }\n",
       "\n",
       "    .dataframe tbody tr th {\n",
       "        vertical-align: top;\n",
       "    }\n",
       "\n",
       "    .dataframe thead th {\n",
       "        text-align: right;\n",
       "    }\n",
       "</style>\n",
       "<table border=\"1\" class=\"dataframe\">\n",
       "  <thead>\n",
       "    <tr style=\"text-align: right;\">\n",
       "      <th></th>\n",
       "      <th>imdb_id</th>\n",
       "      <th>plot_synopsis</th>\n",
       "      <th>tags</th>\n",
       "      <th>Wikipedia movie ID</th>\n",
       "      <th>Movie name</th>\n",
       "      <th>Movie release date</th>\n",
       "      <th>Movie box office revenue</th>\n",
       "      <th>Movie languages</th>\n",
       "      <th>Movie countries</th>\n",
       "      <th>Movie genres</th>\n",
       "    </tr>\n",
       "  </thead>\n",
       "  <tbody>\n",
       "    <tr>\n",
       "      <th>0</th>\n",
       "      <td>tt1733125</td>\n",
       "      <td>Two thousand years ago, Nhagruul the Foul, a s...</td>\n",
       "      <td>violence</td>\n",
       "      <td>30855958</td>\n",
       "      <td>Dungeons &amp; Dragons: The Book of Vile Darkness</td>\n",
       "      <td>2012</td>\n",
       "      <td>NaN</td>\n",
       "      <td>[]</td>\n",
       "      <td>[United Kingdom]</td>\n",
       "      <td>[Fantasy]</td>\n",
       "    </tr>\n",
       "    <tr>\n",
       "      <th>1</th>\n",
       "      <td>tt0033045</td>\n",
       "      <td>Matuschek's, a gift store in Budapest, is the ...</td>\n",
       "      <td>romantic</td>\n",
       "      <td>76353</td>\n",
       "      <td>The Shop Around the Corner</td>\n",
       "      <td>1940</td>\n",
       "      <td>NaN</td>\n",
       "      <td>[English Language]</td>\n",
       "      <td>[United States of America]</td>\n",
       "      <td>[Romantic comedy, Workplace Comedy, Black-and-...</td>\n",
       "    </tr>\n",
       "    <tr>\n",
       "      <th>2</th>\n",
       "      <td>tt0113862</td>\n",
       "      <td>Glenn Holland, not a morning person by anyone'...</td>\n",
       "      <td>inspiring, romantic, stupid, feel-good</td>\n",
       "      <td>171076</td>\n",
       "      <td>Mr. Holland's Opus</td>\n",
       "      <td>1995</td>\n",
       "      <td>106269971.0</td>\n",
       "      <td>[English Language, American Sign Language]</td>\n",
       "      <td>[United States of America]</td>\n",
       "      <td>[Inspirational Drama, Family Film, Drama, Musi...</td>\n",
       "    </tr>\n",
       "    <tr>\n",
       "      <th>3</th>\n",
       "      <td>tt0086250</td>\n",
       "      <td>In May 1980, a Cuban man named Tony Montana (A...</td>\n",
       "      <td>cruelty, murder, dramatic, cult, violence, atm...</td>\n",
       "      <td>76331</td>\n",
       "      <td>Scarface</td>\n",
       "      <td>1932</td>\n",
       "      <td>NaN</td>\n",
       "      <td>[Italian Language, English Language]</td>\n",
       "      <td>[United States of America]</td>\n",
       "      <td>[Crime Fiction, Gangster Film, Black-and-white...</td>\n",
       "    </tr>\n",
       "    <tr>\n",
       "      <th>4</th>\n",
       "      <td>tt0086250</td>\n",
       "      <td>In May 1980, a Cuban man named Tony Montana (A...</td>\n",
       "      <td>cruelty, murder, dramatic, cult, violence, atm...</td>\n",
       "      <td>267848</td>\n",
       "      <td>Scarface</td>\n",
       "      <td>1983</td>\n",
       "      <td>65884703.0</td>\n",
       "      <td>[English Language, Spanish Language]</td>\n",
       "      <td>[United States of America]</td>\n",
       "      <td>[Crime Fiction, Thriller, Gangster Film, Actio...</td>\n",
       "    </tr>\n",
       "  </tbody>\n",
       "</table>\n",
       "</div>"
      ],
      "text/plain": [
       "     imdb_id                                      plot_synopsis  \\\n",
       "0  tt1733125  Two thousand years ago, Nhagruul the Foul, a s...   \n",
       "1  tt0033045  Matuschek's, a gift store in Budapest, is the ...   \n",
       "2  tt0113862  Glenn Holland, not a morning person by anyone'...   \n",
       "3  tt0086250  In May 1980, a Cuban man named Tony Montana (A...   \n",
       "4  tt0086250  In May 1980, a Cuban man named Tony Montana (A...   \n",
       "\n",
       "                                                tags  Wikipedia movie ID  \\\n",
       "0                                           violence            30855958   \n",
       "1                                           romantic               76353   \n",
       "2             inspiring, romantic, stupid, feel-good              171076   \n",
       "3  cruelty, murder, dramatic, cult, violence, atm...               76331   \n",
       "4  cruelty, murder, dramatic, cult, violence, atm...              267848   \n",
       "\n",
       "                                      Movie name  Movie release date  \\\n",
       "0  Dungeons & Dragons: The Book of Vile Darkness                2012   \n",
       "1                     The Shop Around the Corner                1940   \n",
       "2                             Mr. Holland's Opus                1995   \n",
       "3                                       Scarface                1932   \n",
       "4                                       Scarface                1983   \n",
       "\n",
       "   Movie box office revenue                             Movie languages  \\\n",
       "0                       NaN                                          []   \n",
       "1                       NaN                          [English Language]   \n",
       "2               106269971.0  [English Language, American Sign Language]   \n",
       "3                       NaN        [Italian Language, English Language]   \n",
       "4                65884703.0        [English Language, Spanish Language]   \n",
       "\n",
       "              Movie countries  \\\n",
       "0            [United Kingdom]   \n",
       "1  [United States of America]   \n",
       "2  [United States of America]   \n",
       "3  [United States of America]   \n",
       "4  [United States of America]   \n",
       "\n",
       "                                        Movie genres  \n",
       "0                                          [Fantasy]  \n",
       "1  [Romantic comedy, Workplace Comedy, Black-and-...  \n",
       "2  [Inspirational Drama, Family Film, Drama, Musi...  \n",
       "3  [Crime Fiction, Gangster Film, Black-and-white...  \n",
       "4  [Crime Fiction, Thriller, Gangster Film, Actio...  "
      ]
     },
     "execution_count": 38,
     "metadata": {},
     "output_type": "execute_result"
    }
   ],
   "source": [
    "# Merge by matching titles\n",
    "movies_syn = synopsis.merge(movies_df, left_on='title', right_on='Movie name', how='inner')\n",
    "\n",
    "# Remove columns\n",
    "movies_syn.drop(columns=['title', 'split', 'synopsis_source'], inplace=True)\n",
    "\n",
    "# Display\n",
    "movies_syn.head()"
   ]
  },
  {
   "cell_type": "markdown",
   "metadata": {},
   "source": [
    "### How many movies have no matching synopsis?"
   ]
  },
  {
   "cell_type": "code",
   "execution_count": 41,
   "metadata": {
    "execution": {
     "iopub.execute_input": "2024-11-14T18:35:00.718873Z",
     "iopub.status.busy": "2024-11-14T18:35:00.717012Z",
     "iopub.status.idle": "2024-11-14T18:35:00.733143Z",
     "shell.execute_reply": "2024-11-14T18:35:00.730312Z",
     "shell.execute_reply.started": "2024-11-14T18:35:00.718791Z"
    }
   },
   "outputs": [
    {
     "name": "stdout",
     "output_type": "stream",
     "text": [
      "We only lost 94 movies by merging the two dataset by the titles of the movies.\n"
     ]
    }
   ],
   "source": [
    "# Compare size before and after merge\n",
    "lost_rows = synopsis.shape[0] - movies_syn.shape[0]\n",
    "print(f\"We only lost {lost_rows} movies by merging the two dataset by the titles of the movies.\")"
   ]
  },
  {
   "cell_type": "markdown",
   "metadata": {},
   "source": [
    "### Comment\n",
    "\n",
    "1. Movie loss: The size fo the dataframe has not significantly changed, only 94 movies did not match. Our original movie df contained most of the movies present in the synopsis df.\n",
    "\n",
    "2. Same title: We also observe that Scarface appears twice since there was a remake. For the rest for the analysis we will assume that if the name of the movie is exactly the same, the synopsis is pretty similar for both movies (if not the same!)."
   ]
  },
  {
   "cell_type": "markdown",
   "metadata": {},
   "source": [
    "# 1.3 Getting Ratings\n",
    "Rating reflect important information when talking about recommendation they directly reflect how much someone enjoyed a movie\n",
    "Thus found an IMdB dataset online, which contains movie ratings."
   ]
  },
  {
   "cell_type": "code",
   "execution_count": 46,
   "metadata": {
    "execution": {
     "iopub.execute_input": "2024-11-14T18:41:18.306970Z",
     "iopub.status.busy": "2024-11-14T18:41:18.305775Z",
     "iopub.status.idle": "2024-11-14T18:41:19.351841Z",
     "shell.execute_reply": "2024-11-14T18:41:19.348991Z",
     "shell.execute_reply.started": "2024-11-14T18:41:18.306866Z"
    }
   },
   "outputs": [
    {
     "data": {
      "text/html": [
       "<div>\n",
       "<style scoped>\n",
       "    .dataframe tbody tr th:only-of-type {\n",
       "        vertical-align: middle;\n",
       "    }\n",
       "\n",
       "    .dataframe tbody tr th {\n",
       "        vertical-align: top;\n",
       "    }\n",
       "\n",
       "    .dataframe thead th {\n",
       "        text-align: right;\n",
       "    }\n",
       "</style>\n",
       "<table border=\"1\" class=\"dataframe\">\n",
       "  <thead>\n",
       "    <tr style=\"text-align: right;\">\n",
       "      <th></th>\n",
       "      <th>tconst</th>\n",
       "      <th>averageRating</th>\n",
       "      <th>numVotes</th>\n",
       "    </tr>\n",
       "  </thead>\n",
       "  <tbody>\n",
       "    <tr>\n",
       "      <th>0</th>\n",
       "      <td>tt0000001</td>\n",
       "      <td>5.7</td>\n",
       "      <td>2100</td>\n",
       "    </tr>\n",
       "    <tr>\n",
       "      <th>1</th>\n",
       "      <td>tt0000002</td>\n",
       "      <td>5.6</td>\n",
       "      <td>282</td>\n",
       "    </tr>\n",
       "    <tr>\n",
       "      <th>2</th>\n",
       "      <td>tt0000003</td>\n",
       "      <td>6.5</td>\n",
       "      <td>2119</td>\n",
       "    </tr>\n",
       "    <tr>\n",
       "      <th>3</th>\n",
       "      <td>tt0000004</td>\n",
       "      <td>5.4</td>\n",
       "      <td>182</td>\n",
       "    </tr>\n",
       "    <tr>\n",
       "      <th>4</th>\n",
       "      <td>tt0000005</td>\n",
       "      <td>6.2</td>\n",
       "      <td>2850</td>\n",
       "    </tr>\n",
       "  </tbody>\n",
       "</table>\n",
       "</div>"
      ],
      "text/plain": [
       "      tconst  averageRating  numVotes\n",
       "0  tt0000001            5.7      2100\n",
       "1  tt0000002            5.6       282\n",
       "2  tt0000003            6.5      2119\n",
       "3  tt0000004            5.4       182\n",
       "4  tt0000005            6.2      2850"
      ]
     },
     "execution_count": 46,
     "metadata": {},
     "output_type": "execute_result"
    }
   ],
   "source": [
    "# Load dataset\n",
    "ratings_df = pd.read_csv('data/title.ratings.tsv', sep='\\t')\n",
    "ratings_df.head()"
   ]
  },
  {
   "cell_type": "markdown",
   "metadata": {},
   "source": [
    "### Columns\n",
    "| Feature         | Description                                      |\n",
    "|-----------------|--------------------------------------------------|\n",
    "| tconst          | IMDb ID (unique identifier for a movie)           |\n",
    "| average rating  | Mean of all ratings given to the movie           |\n",
    "| numVotes        | Number of people who rated the movie             |\n",
    "\n",
    "Since both of our datasets contain information about the `imdb_id`, we can merge them using this information."
   ]
  },
  {
   "cell_type": "markdown",
   "metadata": {
    "execution": {
     "iopub.execute_input": "2024-11-14T18:45:20.967326Z",
     "iopub.status.busy": "2024-11-14T18:45:20.964735Z",
     "iopub.status.idle": "2024-11-14T18:45:21.039811Z",
     "shell.execute_reply": "2024-11-14T18:45:21.037464Z",
     "shell.execute_reply.started": "2024-11-14T18:45:20.967234Z"
    }
   },
   "source": [
    "## Merging both datasets"
   ]
  },
  {
   "cell_type": "code",
   "execution_count": 56,
   "metadata": {
    "execution": {
     "iopub.execute_input": "2024-11-14T18:49:36.896756Z",
     "iopub.status.busy": "2024-11-14T18:49:36.895727Z",
     "iopub.status.idle": "2024-11-14T18:49:37.566706Z",
     "shell.execute_reply": "2024-11-14T18:49:37.565378Z",
     "shell.execute_reply.started": "2024-11-14T18:49:36.896697Z"
    }
   },
   "outputs": [
    {
     "data": {
      "text/html": [
       "<div>\n",
       "<style scoped>\n",
       "    .dataframe tbody tr th:only-of-type {\n",
       "        vertical-align: middle;\n",
       "    }\n",
       "\n",
       "    .dataframe tbody tr th {\n",
       "        vertical-align: top;\n",
       "    }\n",
       "\n",
       "    .dataframe thead th {\n",
       "        text-align: right;\n",
       "    }\n",
       "</style>\n",
       "<table border=\"1\" class=\"dataframe\">\n",
       "  <thead>\n",
       "    <tr style=\"text-align: right;\">\n",
       "      <th></th>\n",
       "      <th>imdb_id</th>\n",
       "      <th>plot_synopsis</th>\n",
       "      <th>tags</th>\n",
       "      <th>Wikipedia movie ID</th>\n",
       "      <th>Movie name</th>\n",
       "      <th>Movie release date</th>\n",
       "      <th>Movie box office revenue</th>\n",
       "      <th>Movie languages</th>\n",
       "      <th>Movie countries</th>\n",
       "      <th>Movie genres</th>\n",
       "      <th>averageRating</th>\n",
       "      <th>numVotes</th>\n",
       "    </tr>\n",
       "  </thead>\n",
       "  <tbody>\n",
       "    <tr>\n",
       "      <th>0</th>\n",
       "      <td>tt1733125</td>\n",
       "      <td>Two thousand years ago, Nhagruul the Foul, a s...</td>\n",
       "      <td>violence</td>\n",
       "      <td>30855958</td>\n",
       "      <td>Dungeons &amp; Dragons: The Book of Vile Darkness</td>\n",
       "      <td>2012</td>\n",
       "      <td>NaN</td>\n",
       "      <td>[]</td>\n",
       "      <td>[United Kingdom]</td>\n",
       "      <td>[Fantasy]</td>\n",
       "      <td>4.4</td>\n",
       "      <td>2722</td>\n",
       "    </tr>\n",
       "    <tr>\n",
       "      <th>1</th>\n",
       "      <td>tt0033045</td>\n",
       "      <td>Matuschek's, a gift store in Budapest, is the ...</td>\n",
       "      <td>romantic</td>\n",
       "      <td>76353</td>\n",
       "      <td>The Shop Around the Corner</td>\n",
       "      <td>1940</td>\n",
       "      <td>NaN</td>\n",
       "      <td>[English Language]</td>\n",
       "      <td>[United States of America]</td>\n",
       "      <td>[Romantic comedy, Workplace Comedy, Black-and-...</td>\n",
       "      <td>8.0</td>\n",
       "      <td>39430</td>\n",
       "    </tr>\n",
       "    <tr>\n",
       "      <th>2</th>\n",
       "      <td>tt0113862</td>\n",
       "      <td>Glenn Holland, not a morning person by anyone'...</td>\n",
       "      <td>inspiring, romantic, stupid, feel-good</td>\n",
       "      <td>171076</td>\n",
       "      <td>Mr. Holland's Opus</td>\n",
       "      <td>1995</td>\n",
       "      <td>106269971.0</td>\n",
       "      <td>[English Language, American Sign Language]</td>\n",
       "      <td>[United States of America]</td>\n",
       "      <td>[Inspirational Drama, Family Film, Drama, Musi...</td>\n",
       "      <td>7.3</td>\n",
       "      <td>42246</td>\n",
       "    </tr>\n",
       "  </tbody>\n",
       "</table>\n",
       "</div>"
      ],
      "text/plain": [
       "     imdb_id                                      plot_synopsis  \\\n",
       "0  tt1733125  Two thousand years ago, Nhagruul the Foul, a s...   \n",
       "1  tt0033045  Matuschek's, a gift store in Budapest, is the ...   \n",
       "2  tt0113862  Glenn Holland, not a morning person by anyone'...   \n",
       "\n",
       "                                     tags  Wikipedia movie ID  \\\n",
       "0                                violence            30855958   \n",
       "1                                romantic               76353   \n",
       "2  inspiring, romantic, stupid, feel-good              171076   \n",
       "\n",
       "                                      Movie name  Movie release date  \\\n",
       "0  Dungeons & Dragons: The Book of Vile Darkness                2012   \n",
       "1                     The Shop Around the Corner                1940   \n",
       "2                             Mr. Holland's Opus                1995   \n",
       "\n",
       "   Movie box office revenue                             Movie languages  \\\n",
       "0                       NaN                                          []   \n",
       "1                       NaN                          [English Language]   \n",
       "2               106269971.0  [English Language, American Sign Language]   \n",
       "\n",
       "              Movie countries  \\\n",
       "0            [United Kingdom]   \n",
       "1  [United States of America]   \n",
       "2  [United States of America]   \n",
       "\n",
       "                                        Movie genres  averageRating  numVotes  \n",
       "0                                          [Fantasy]            4.4      2722  \n",
       "1  [Romantic comedy, Workplace Comedy, Black-and-...            8.0     39430  \n",
       "2  [Inspirational Drama, Family Film, Drama, Musi...            7.3     42246  "
      ]
     },
     "execution_count": 56,
     "metadata": {},
     "output_type": "execute_result"
    }
   ],
   "source": [
    "# Merge\n",
    "movies_ratings = pd.merge(movies_syn,ratings_df,left_on='imdb_id', right_on='tconst',how='inner')\n",
    "\n",
    "# Remove redundant columns\n",
    "movies_ratings = movies_ratings.drop(['tconst'], axis=1)\n",
    "\n",
    "# Display\n",
    "movies_ratings.head(3)"
   ]
  },
  {
   "cell_type": "markdown",
   "metadata": {
    "execution": {
     "iopub.execute_input": "2024-11-14T18:49:59.737196Z",
     "iopub.status.busy": "2024-11-14T18:49:59.735248Z",
     "iopub.status.idle": "2024-11-14T18:49:59.746589Z",
     "shell.execute_reply": "2024-11-14T18:49:59.743842Z",
     "shell.execute_reply.started": "2024-11-14T18:49:59.737111Z"
    }
   },
   "source": [
    "## Comment: Complete Dataset\n",
    "Our dataset is complete! We can start to analyse the data."
   ]
  },
  {
   "cell_type": "markdown",
   "metadata": {
    "execution": {
     "iopub.execute_input": "2024-11-14T18:51:05.515188Z",
     "iopub.status.busy": "2024-11-14T18:51:05.513335Z",
     "iopub.status.idle": "2024-11-14T18:51:05.523583Z",
     "shell.execute_reply": "2024-11-14T18:51:05.521126Z",
     "shell.execute_reply.started": "2024-11-14T18:51:05.515078Z"
    }
   },
   "source": [
    "# Part 2: Data Analysis"
   ]
  },
  {
   "cell_type": "markdown",
   "metadata": {},
   "source": [
    "## Part 2.1 Handling Missing Values"
   ]
  },
  {
   "cell_type": "markdown",
   "metadata": {},
   "source": [
    "Our dataset is now complete for the analysis, however we need to check the NaN values before"
   ]
  },
  {
   "cell_type": "code",
   "execution_count": 59,
   "metadata": {
    "execution": {
     "iopub.execute_input": "2024-11-14T18:51:52.139130Z",
     "iopub.status.busy": "2024-11-14T18:51:52.137869Z",
     "iopub.status.idle": "2024-11-14T18:51:57.415338Z",
     "shell.execute_reply": "2024-11-14T18:51:57.411489Z",
     "shell.execute_reply.started": "2024-11-14T18:51:52.139016Z"
    }
   },
   "outputs": [
    {
     "data": {
      "image/png": "[encoded data removed]",
      "text/plain": [
       "<Figure size 1200x600 with 1 Axes>"
      ]
     },
     "metadata": {},
     "output_type": "display_data"
    }
   ],
   "source": [
    "# Calculate percentage of NaN values in each column\n",
    "na_percentage = (movies_ratings.isna().sum() / len(movies_ratings)) * 100\n",
    "na_percentage = na_percentage.sort_index()\n",
    "\n",
    "# Plot\n",
    "plt.figure(figsize=(12, 6))\n",
    "bars = na_percentage.plot(kind='bar', color='skyblue', width=0.8)  \n",
    "\n",
    "# Add percentage labels on top of each bar\n",
    "for i, value in enumerate(na_percentage):\n",
    "    plt.text(i, value + 1, f'{value:.1f}%', ha='center', va='bottom', fontsize=10)  \n",
    "\n",
    "plt.xlabel('Columns')\n",
    "plt.xticks(rotation=45, ha='right')  \n",
    "plt.ylabel('Percentage of NaN Values (%)')\n",
    "plt.ylim(top =73)\n",
    "plt.title('Percentage of NaN Values per Column')\n",
    "plt.tight_layout()  \n",
    "\n",
    "plt.show()\n"
   ]
  },
  {
   "cell_type": "markdown",
   "metadata": {},
   "source": [
    "Two columns contain Missing values: \n",
    "- `Movie box office revenue` which has 2.9% of missing values\n",
    "- `Movie release date` with 63.5% of missing values is very problematic, since thsi feature is used to answer the research questions we will try to find external information to fill the gaps."
   ]
  },
  {
   "cell_type": "markdown",
   "metadata": {},
   "source": [
    "### Handling Nans for Movie release dates\n",
    "We remove movies with no information on Movie release dates since we are intereseted in the release years"
   ]
  },
  {
   "cell_type": "code",
   "execution_count": 63,
   "metadata": {
    "execution": {
     "iopub.execute_input": "2024-11-14T19:02:30.903876Z",
     "iopub.status.busy": "2024-11-14T19:02:30.902000Z",
     "iopub.status.idle": "2024-11-14T19:02:30.930373Z",
     "shell.execute_reply": "2024-11-14T19:02:30.928733Z",
     "shell.execute_reply.started": "2024-11-14T19:02:30.903809Z"
    }
   },
   "outputs": [
    {
     "name": "stdout",
     "output_type": "stream",
     "text": [
      "433 movies have no release dates and were removed from the dataset\n"
     ]
    }
   ],
   "source": [
    "# Drop all movies with no Movie release dates\n",
    "movies_df_cleaned = movies_ratings.dropna(subset=['Movie release date'])\n",
    "\n",
    "# Check missing values\n",
    "movies_df_cleaned['Movie release date'].isna().any()\n",
    "print(movies_ratings.shape[0]-movies_df_cleaned.shape[0], \"movies have no release dates and were removed from the dataset\")"
   ]
  },
  {
   "cell_type": "markdown",
   "metadata": {},
   "source": [
    "### Handling Nans for Movie box office revenue\n",
    "Since teh number of NaNs is more significant we try to enrich the dataset with data from IMbD"
   ]
  },
  {
   "cell_type": "markdown",
   "metadata": {},
   "source": [
    "After realizing the high number of NaN values in the box-office revenue column, we decided to complete this data as much as possible with the IMDB library."
   ]
  },
  {
   "cell_type": "code",
   "execution_count": null,
   "metadata": {
    "execution": {
     "iopub.status.busy": "2024-11-14T16:05:47.495747Z",
     "iopub.status.idle": "2024-11-14T16:05:47.496082Z",
     "shell.execute_reply": "2024-11-14T16:05:47.495936Z",
     "shell.execute_reply.started": "2024-11-14T16:05:47.495921Z"
    }
   },
   "outputs": [],
   "source": [
    "def clean_ids(s, pattern=' '): #remove in string a pattern\n",
    "    s = str(s).replace(pattern, '')\n",
    "    return s\n",
    "\n",
    "#Get the right imdb_id by removing 'tt' in front of IDs\n",
    "movies_df_cleaned['imdb_id'] = movies_df_cleaned['imdb_id'].apply(lambda x : clean_ids(x, 'tt'))\n",
    "\n",
    "#Create a dic telling if 'Movie box office revenue' is a NaN or not\n",
    "isnan_dic = movies_df_cleaned['Movie box office revenue'].isna()\n",
    "\n",
    "def get_box_office(imdb_ID): #return the box-office revenue for a specific imdb_id\n",
    "    ia = IMDb()\n",
    "    movie = ia.get_movie(imdb_ID)\n",
    "    box_office = movie.get('box office')\n",
    "    if box_office and 'Cumulative Worldwide Gross' in box_office:\n",
    "        box_office_num = float(re.sub(r'[^\\d.]', '', box_office['Cumulative Worldwide Gross']))\n",
    "        #box_office_num = float(box_office['Cumulative Worldwide Gross'].replace('$', '').replace(',', ''))\n",
    "        return box_office_num\n",
    "    return None  # Return None if no box office data is found\n"
   ]
  },
  {
   "cell_type": "code",
   "execution_count": null,
   "metadata": {
    "execution": {
     "iopub.status.busy": "2024-11-14T16:05:47.497092Z",
     "iopub.status.idle": "2024-11-14T16:05:47.497449Z",
     "shell.execute_reply": "2024-11-14T16:05:47.497273Z",
     "shell.execute_reply.started": "2024-11-14T16:05:47.497258Z"
    }
   },
   "outputs": [],
   "source": [
    "#Quick checks\n",
    "index_case1 = 0\n",
    "index_case2 = 1\n",
    "index_case3 = 2\n",
    "print(f\"The initial box-office was {movies_df_cleaned.iloc[index_case1]['Movie box office revenue']}, we find with Imdb library {get_box_office(movies_df_cleaned.iloc[index_case1]['imdb_id'])}\")\n",
    "print(f\"The initial box-office was {movies_df_cleaned.iloc[index_case2]['Movie box office revenue']}, we find with Imdb library {get_box_office(movies_df_cleaned.iloc[index_case2]['imdb_id'])}\")\n",
    "print(f\"The initial box-office was {movies_df_cleaned.iloc[index_case3]['Movie box office revenue']}, we find with Imdb library {get_box_office(movies_df_cleaned.iloc[index_case3]['imdb_id'])}\")"
   ]
  },
  {
   "cell_type": "markdown",
   "metadata": {},
   "source": [
    "We are indeed getting more box-office data, and recovering the same value in cases where we already had data ! Let's now apply the function on the whole dataset."
   ]
  },
  {
   "cell_type": "code",
   "execution_count": null,
   "metadata": {
    "execution": {
     "iopub.status.busy": "2024-11-14T16:05:47.498545Z",
     "iopub.status.idle": "2024-11-14T16:05:47.498881Z",
     "shell.execute_reply": "2024-11-14T16:05:47.498725Z",
     "shell.execute_reply.started": "2024-11-14T16:05:47.498711Z"
    }
   },
   "outputs": [],
   "source": [
    "#Apply on the whole dataset\n",
    "run = False #Run is very long, directly use the file in Data directory\n",
    "if run:\n",
    "    box_offices = movies_df_cleaned.apply(lambda x: get_box_office(x['imdb_id']) if isnan_dic[x.name] else x['Movie box office revenue'], axis=1) #Try to get the box-office from Imdb only if we don't already have it\n",
    "    movies_df_cleaned.insert(len(movies_df_cleaned.columns), 'IMDB Box-office', box_offices)"
   ]
  },
  {
   "cell_type": "code",
   "execution_count": null,
   "metadata": {
    "execution": {
     "iopub.status.busy": "2024-11-14T16:05:47.499972Z",
     "iopub.status.idle": "2024-11-14T16:05:47.500311Z",
     "shell.execute_reply": "2024-11-14T16:05:47.500163Z",
     "shell.execute_reply.started": "2024-11-14T16:05:47.500148Z"
    }
   },
   "outputs": [],
   "source": [
    "movies_synopsis_comp = movies_df_cleaned.copy()"
   ]
  },
  {
   "cell_type": "code",
   "execution_count": null,
   "metadata": {
    "execution": {
     "iopub.status.busy": "2024-11-14T16:05:47.501268Z",
     "iopub.status.idle": "2024-11-14T16:05:47.501630Z",
     "shell.execute_reply": "2024-11-14T16:05:47.501479Z",
     "shell.execute_reply.started": "2024-11-14T16:05:47.501464Z"
    }
   },
   "outputs": [],
   "source": [
    "#Here is the file with completed box-office from Imdb (last column)\n",
    "movies_synopsis_comp = pd.read_csv('Data/movies_synopsis_comp.csv')\n",
    "display(movies_synopsis_comp.head())"
   ]
  },
  {
   "cell_type": "markdown",
   "metadata": {},
   "source": [
    "### Comment\n",
    "\n",
    "We completed some of the missing data, but how much did we improve ?"
   ]
  },
  {
   "cell_type": "code",
   "execution_count": null,
   "metadata": {
    "execution": {
     "iopub.status.busy": "2024-11-14T16:05:47.502567Z",
     "iopub.status.idle": "2024-11-14T16:05:47.502909Z",
     "shell.execute_reply": "2024-11-14T16:05:47.502750Z",
     "shell.execute_reply.started": "2024-11-14T16:05:47.502736Z"
    }
   },
   "outputs": [],
   "source": [
    "#Improvement in NaN values in box-office\n",
    "na_percentage_box_init = (movies_synopsis_comp['Movie box office revenue'].isna().sum() / len(movies_synopsis_comp)) * 100\n",
    "na_percentage_box_imdb = (movies_synopsis_comp['IMDB Box-office'].isna().sum() / len(movies_synopsis_comp)) * 100\n",
    "print(f\"We went from {round(na_percentage_box_init,2)}% of NaN values to {round(na_percentage_box_imdb,2)}%.\")"
   ]
  },
  {
   "cell_type": "code",
   "execution_count": null,
   "metadata": {
    "execution": {
     "iopub.status.busy": "2024-11-14T16:05:47.503771Z",
     "iopub.status.idle": "2024-11-14T16:05:47.504105Z",
     "shell.execute_reply": "2024-11-14T16:05:47.503958Z",
     "shell.execute_reply.started": "2024-11-14T16:05:47.503943Z"
    }
   },
   "outputs": [],
   "source": [
    "#Remove the old revenue column as we don't need it anymore\n",
    "movies_synopsis_comp.drop('Movie box office revenue', axis=1, inplace=True)"
   ]
  },
  {
   "cell_type": "markdown",
   "metadata": {},
   "source": [
    "### Comment\n",
    "The increase is a bit deceiving. The IMDB library is missing a lot of box-offices too. We suspect the IMDB library to mabe block when there are too many requests, giving more NaN values than there actually are. In the end that's still an increase of 24% in box-office data size, which will help us for our analysis."
   ]
  },
  {
   "cell_type": "markdown",
   "metadata": {},
   "source": [
    "## COMMENT HOW HANDLE MISSING VALUES"
   ]
  },
  {
   "cell_type": "markdown",
   "metadata": {},
   "source": [
    "# PART 2: Data Analysis"
   ]
  },
  {
   "cell_type": "markdown",
   "metadata": {},
   "source": [
    "### A CHANGER AVEC movie_final = movies_synopsis_comp.copy() MAIS J'AVAIS PAS LE DATASET"
   ]
  },
  {
   "cell_type": "code",
   "execution_count": null,
   "metadata": {
    "execution": {
     "iopub.status.busy": "2024-11-14T16:05:47.505319Z",
     "iopub.status.idle": "2024-11-14T16:05:47.505695Z",
     "shell.execute_reply": "2024-11-14T16:05:47.505543Z",
     "shell.execute_reply.started": "2024-11-14T16:05:47.505526Z"
    }
   },
   "outputs": [],
   "source": [
    "movie_final = movies_df_cleaned.copy()"
   ]
  },
  {
   "cell_type": "markdown",
   "metadata": {},
   "source": [
    "### Movies' genres exploration"
   ]
  },
  {
   "cell_type": "code",
   "execution_count": null,
   "metadata": {
    "execution": {
     "iopub.status.busy": "2024-11-14T16:05:47.506695Z",
     "iopub.status.idle": "2024-11-14T16:05:47.507024Z",
     "shell.execute_reply": "2024-11-14T16:05:47.506877Z",
     "shell.execute_reply.started": "2024-11-14T16:05:47.506863Z"
    }
   },
   "outputs": [],
   "source": [
    "all_genres = movie_final['Movie genres'].explode()\n",
    "\n",
    "genres_counts = all_genres.value_counts()\n",
    "\n",
    "num_unique_genre = all_genres.nunique()\n",
    "print(\"Number of unique genres:\", num_unique_genre)"
   ]
  },
  {
   "cell_type": "code",
   "execution_count": null,
   "metadata": {
    "execution": {
     "iopub.status.busy": "2024-11-14T16:05:47.507810Z",
     "iopub.status.idle": "2024-11-14T16:05:47.508140Z",
     "shell.execute_reply": "2024-11-14T16:05:47.507992Z",
     "shell.execute_reply.started": "2024-11-14T16:05:47.507977Z"
    }
   },
   "outputs": [],
   "source": [
    "# Plot the number of movies per top 30 genres\n",
    "plt.figure(figsize=(10, 8))\n",
    "bars = genres_counts.head(30).sort_values(ascending=True).plot(kind='barh', color='lightgreen')\n",
    "\n",
    "for index, value in enumerate(genres_counts.head(30).sort_values(ascending=True)):\n",
    "    plt.text(value, index, str(value), va='center')\n",
    "\n",
    "plt.xlabel('Number of Movies', fontsize=16)\n",
    "plt.ylabel('Genres', fontsize=16)\n",
    "plt.title('Number of Movies per Genre', fontsize=16)  \n",
    "\n",
    "plt.show()"
   ]
  },
  {
   "cell_type": "markdown",
   "metadata": {},
   "source": [
    "Drama is the clear leader when it comes to movie genres, followed by Comedy and Romance. This makes sense since these genres appeal to a wide range of audiences. Genres like Thriller, Action, and Documentary are also popular, showing that people enjoy excitement and real-life stories. On the other end, niche genres like 'Cult' and 'Political drama' are much less common, which isn't surprising given their more specific audience.\n",
    "\n",
    "Here we decided to show only the top 30 genres to keep the chart clear and easy to read."
   ]
  },
  {
   "cell_type": "markdown",
   "metadata": {},
   "source": [
    "### Movies Box office exploration"
   ]
  },
  {
   "cell_type": "code",
   "execution_count": null,
   "metadata": {
    "execution": {
     "iopub.status.busy": "2024-11-14T16:05:47.508979Z",
     "iopub.status.idle": "2024-11-14T16:05:47.509318Z",
     "shell.execute_reply": "2024-11-14T16:05:47.509173Z",
     "shell.execute_reply.started": "2024-11-14T16:05:47.509158Z"
    }
   },
   "outputs": [],
   "source": [
    "# Faire plot "
   ]
  },
  {
   "cell_type": "markdown",
   "metadata": {},
   "source": [
    "### Movies Ratings exploration"
   ]
  },
  {
   "cell_type": "code",
   "execution_count": null,
   "metadata": {
    "execution": {
     "iopub.status.busy": "2024-11-14T16:05:47.510632Z",
     "iopub.status.idle": "2024-11-14T16:05:47.510934Z",
     "shell.execute_reply": "2024-11-14T16:05:47.510803Z",
     "shell.execute_reply.started": "2024-11-14T16:05:47.510790Z"
    }
   },
   "outputs": [],
   "source": [
    "movie_final['averageRating'].describe()"
   ]
  },
  {
   "cell_type": "markdown",
   "metadata": {},
   "source": [
    "## QUICK COMMENT"
   ]
  },
  {
   "cell_type": "code",
   "execution_count": null,
   "metadata": {
    "execution": {
     "iopub.status.busy": "2024-11-14T16:05:47.511846Z",
     "iopub.status.idle": "2024-11-14T16:05:47.512208Z",
     "shell.execute_reply": "2024-11-14T16:05:47.512050Z",
     "shell.execute_reply.started": "2024-11-14T16:05:47.512034Z"
    }
   },
   "outputs": [],
   "source": [
    "rating_counts = movie_final['averageRating'].value_counts().sort_index()\n",
    "\n",
    "# Plotting the bar chart\n",
    "plt.figure(figsize=(10, 6))\n",
    "plt.bar(rating_counts.index, rating_counts.values)\n",
    "plt.xlabel('Average Rating')\n",
    "plt.ylabel('Number of Movies')\n",
    "plt.title('Number of Movies by Rating')\n",
    "plt.grid(axis='y', linestyle='--', alpha=0.5)\n",
    "plt.show()"
   ]
  },
  {
   "cell_type": "markdown",
   "metadata": {},
   "source": [
    "## COMMENTer + faire un plot plus joli ??"
   ]
  },
  {
   "cell_type": "markdown",
   "metadata": {},
   "source": [
    "### Movies countries exploration"
   ]
  },
  {
   "cell_type": "code",
   "execution_count": null,
   "metadata": {
    "execution": {
     "iopub.status.busy": "2024-11-14T16:05:47.513203Z",
     "iopub.status.idle": "2024-11-14T16:05:47.513549Z",
     "shell.execute_reply": "2024-11-14T16:05:47.513380Z",
     "shell.execute_reply.started": "2024-11-14T16:05:47.513365Z"
    }
   },
   "outputs": [],
   "source": [
    "all_countries = movie_final['Movie countries'].explode()\n",
    "\n",
    "countries_counts = all_countries.value_counts() \n",
    "\n",
    "print(countries_counts)"
   ]
  },
  {
   "cell_type": "code",
   "execution_count": null,
   "metadata": {
    "execution": {
     "iopub.status.busy": "2024-11-14T16:05:47.517218Z",
     "iopub.status.idle": "2024-11-14T16:05:47.517592Z",
     "shell.execute_reply": "2024-11-14T16:05:47.517438Z",
     "shell.execute_reply.started": "2024-11-14T16:05:47.517396Z"
    }
   },
   "outputs": [],
   "source": [
    "num_unique_countries = all_countries.nunique()\n",
    "print(\"Number of unique countries:\", num_unique_countries)"
   ]
  },
  {
   "cell_type": "code",
   "execution_count": null,
   "metadata": {
    "execution": {
     "iopub.status.busy": "2024-11-14T16:05:47.518367Z",
     "iopub.status.idle": "2024-11-14T16:05:47.518728Z",
     "shell.execute_reply": "2024-11-14T16:05:47.518580Z",
     "shell.execute_reply.started": "2024-11-14T16:05:47.518564Z"
    }
   },
   "outputs": [],
   "source": [
    "# Plot the number of movies per top 30 country\n",
    "plt.figure(figsize=(10, 8))\n",
    "bars = countries_counts.head(30).sort_values(ascending=True).plot(kind='barh', color='lightcoral')\n",
    "\n",
    "for index, value in enumerate(countries_counts.head(30).sort_values(ascending=True)):\n",
    "    plt.text(value, index, str(value), va='center')\n",
    "\n",
    "plt.xlabel('Number of Movies', fontsize=16)\n",
    "plt.ylabel('Countries', fontsize=16)\n",
    "plt.title('Number of Movies per Country', fontsize=16)  \n",
    "plt.xscale('log')\n",
    "plt.show()"
   ]
  },
  {
   "cell_type": "markdown",
   "metadata": {},
   "source": [
    "The United States has the most movies by far, showing its huge impact on the film industry. The United Kingdoms and France come next, thanks to Bollywood and British cinema. Germany, India and Canada also produce a lot of movies. The numbers drop as you go down the list, with fewer movies made in other countries.\n",
    "\n",
    "We decided to show only the top 30 countries to keep the chart clear and easy to read. For better readibility we used a log scale on the x axis."
   ]
  },
  {
   "cell_type": "markdown",
   "metadata": {},
   "source": [
    "### Movies languages exploration"
   ]
  },
  {
   "cell_type": "code",
   "execution_count": null,
   "metadata": {
    "execution": {
     "iopub.status.busy": "2024-11-14T16:05:47.519507Z",
     "iopub.status.idle": "2024-11-14T16:05:47.519836Z",
     "shell.execute_reply": "2024-11-14T16:05:47.519688Z",
     "shell.execute_reply.started": "2024-11-14T16:05:47.519673Z"
    }
   },
   "outputs": [],
   "source": [
    "all_languages = movie_final['Movie languages'].explode()\n",
    "\n",
    "language_counts = all_languages.value_counts()\n",
    "\n",
    "print(language_counts)"
   ]
  },
  {
   "cell_type": "code",
   "execution_count": null,
   "metadata": {
    "execution": {
     "iopub.status.busy": "2024-11-14T16:05:47.520642Z",
     "iopub.status.idle": "2024-11-14T16:05:47.520999Z",
     "shell.execute_reply": "2024-11-14T16:05:47.520829Z",
     "shell.execute_reply.started": "2024-11-14T16:05:47.520815Z"
    }
   },
   "outputs": [],
   "source": [
    "num_unique_languages = all_languages.nunique()\n",
    "print(\"The dataset contains \", num_unique_languages, \"unique languages.\")"
   ]
  },
  {
   "cell_type": "code",
   "execution_count": null,
   "metadata": {
    "execution": {
     "iopub.status.busy": "2024-11-14T16:05:47.521782Z",
     "iopub.status.idle": "2024-11-14T16:05:47.522128Z",
     "shell.execute_reply": "2024-11-14T16:05:47.521963Z",
     "shell.execute_reply.started": "2024-11-14T16:05:47.521948Z"
    }
   },
   "outputs": [],
   "source": [
    "# Plot the number of movies per language \n",
    "plt.figure(figsize=(10, 8))\n",
    "bars = language_counts.head(20).sort_values(ascending=True).plot(kind='barh', color='lightblue')\n",
    "\n",
    "for index, value in enumerate(language_counts.head(20).sort_values(ascending=True)):\n",
    "    plt.text(value, index, str(value), va='center')\n",
    "\n",
    "plt.xlabel('Number of Movies',fontsize=14)\n",
    "plt.ylabel('Languages',fontsize=14)\n",
    "plt.title('Number of Movies of top 20 Languages', fontsize=14)\n",
    "plt.xscale('log')\n",
    "plt.show()"
   ]
  },
  {
   "cell_type": "markdown",
   "metadata": {},
   "source": [
    "As previously seen, English is largely dominant. This can be attributed to its role as a global lingua franca, making films more accessible to international audiences. Additionally, major movie industries in countries like the United Kingdom and other English-speaking regions contribute to the high number of English-language films.\n",
    "\n",
    "For better visibility, we chose to display only the top 20 languages in this chart. It is also noticeable that the number of movies per language drops off quickly after the most common languages, highlighting the dominance of a few major languages in movie production and a long tail of less commonly represented languages. For better readibility we used a log scale on the x axis."
   ]
  },
  {
   "cell_type": "markdown",
   "metadata": {},
   "source": [
    "### Movies release year exploration"
   ]
  },
  {
   "cell_type": "markdown",
   "metadata": {},
   "source": [
    "Here we do a general analysis about the total number of movies released each year."
   ]
  },
  {
   "cell_type": "code",
   "execution_count": null,
   "metadata": {
    "execution": {
     "iopub.status.busy": "2024-11-14T16:05:47.522950Z",
     "iopub.status.idle": "2024-11-14T16:05:47.523277Z",
     "shell.execute_reply": "2024-11-14T16:05:47.523130Z",
     "shell.execute_reply.started": "2024-11-14T16:05:47.523116Z"
    }
   },
   "outputs": [],
   "source": [
    "all_years = movie_final['Movie release date'].explode()\n",
    "years_counts = all_years.value_counts()"
   ]
  },
  {
   "cell_type": "code",
   "execution_count": null,
   "metadata": {
    "execution": {
     "iopub.status.busy": "2024-11-14T16:05:47.524203Z",
     "iopub.status.idle": "2024-11-14T16:05:47.524615Z",
     "shell.execute_reply": "2024-11-14T16:05:47.524391Z",
     "shell.execute_reply.started": "2024-11-14T16:05:47.524376Z"
    }
   },
   "outputs": [],
   "source": [
    "plt.figure(figsize=(10, 8))  \n",
    "plot_years_counts = all_years.value_counts().sort_index().plot(kind='bar')\n",
    "plt.xlabel('Years', fontsize=16 )\n",
    "plt.ylabel('Number of Movies', fontsize=16)\n",
    "plt.title('Number of Movies per Year', fontsize=16)\n",
    "\n",
    "plt.xticks(range(0, len(all_years.value_counts().sort_index()), 5), \n",
    "           all_years.value_counts().sort_index().index[::5], \n",
    "           rotation=45)\n",
    "\n",
    "plt.show()"
   ]
  },
  {
   "cell_type": "markdown",
   "metadata": {},
   "source": [
    "The movie production has grown steadily over time, with a big jump starting in the 1990s and peaking in the early 2000s. The increase after the 1980s is likely due to better technology and more people making movies around the world. The early years have fewer movies because the film industry was just getting started."
   ]
  },
  {
   "cell_type": "markdown",
   "metadata": {},
   "source": [
    "### Movies per decade for most important countries"
   ]
  },
  {
   "cell_type": "code",
   "execution_count": null,
   "metadata": {
    "execution": {
     "iopub.status.busy": "2024-11-14T16:05:47.525511Z",
     "iopub.status.idle": "2024-11-14T16:05:47.525842Z",
     "shell.execute_reply": "2024-11-14T16:05:47.525694Z",
     "shell.execute_reply.started": "2024-11-14T16:05:47.525679Z"
    }
   },
   "outputs": [],
   "source": [
    "# Get top 10 countries releasing movies\n",
    "top_10_countries = countries_counts.head(10).index\n",
    "\n",
    "# Get one country per row (since some movies contain more that one countries)\n",
    "expanded_df = movie_final.explode('Movie countries')\n",
    "\n",
    "top_countries_df = expanded_df[expanded_df['Movie countries'].isin(top_10_countries)]"
   ]
  },
  {
   "cell_type": "code",
   "execution_count": null,
   "metadata": {
    "execution": {
     "iopub.status.busy": "2024-11-14T16:05:47.526656Z",
     "iopub.status.idle": "2024-11-14T16:05:47.526984Z",
     "shell.execute_reply": "2024-11-14T16:05:47.526836Z",
     "shell.execute_reply.started": "2024-11-14T16:05:47.526822Z"
    }
   },
   "outputs": [],
   "source": [
    "top_countries_df['Decade'] = (top_countries_df['Movie release date'] // 10) * 10\n",
    "\n",
    "# Group by decade and country, count the number of movies\n",
    "movies_per_decade_countries = top_countries_df.groupby(['Decade', 'Movie countries']).size().unstack(fill_value=0)"
   ]
  },
  {
   "cell_type": "code",
   "execution_count": null,
   "metadata": {
    "execution": {
     "iopub.status.busy": "2024-11-14T16:05:47.527919Z",
     "iopub.status.idle": "2024-11-14T16:05:47.528248Z",
     "shell.execute_reply": "2024-11-14T16:05:47.528102Z",
     "shell.execute_reply.started": "2024-11-14T16:05:47.528088Z"
    }
   },
   "outputs": [],
   "source": [
    "# Create the interactive figure\n",
    "fig = go.Figure()\n",
    "\n",
    "for country in movies_per_decade_countries.columns:\n",
    "    fig.add_trace(go.Bar(\n",
    "        x=movies_per_decade_countries.index,  # Decades\n",
    "        y=movies_per_decade_countries[country],  # Number of movies\n",
    "        name=country,\n",
    "        hovertemplate='Percentage: %{customdata:.2f}%',\n",
    "        customdata=100 * movies_per_decade_countries[country] / movies_per_decade_countries.sum(axis=1)\n",
    "    ))\n",
    "\n",
    "fig.update_layout(\n",
    "    title='Proportion of Movies Produced by Top 10 Countries per Decade',\n",
    "    xaxis_title='Decade',\n",
    "    yaxis_title='Number of Movies',\n",
    "    barmode='stack',\n",
    "    legend_title='Country',\n",
    "    hovermode='x'\n",
    ")\n",
    "\n",
    "fig.show()\n"
   ]
  },
  {
   "cell_type": "markdown",
   "metadata": {},
   "source": [
    "The U.S. consistently dominates movie production across all decades, though its share decreases over time from near-total dominance in the early 20th century to around 40-50% in the later decades. Other countries, such as India, the UK, and France, start contributing more significantly from the 1950s onward, indicating a diversification in global movie production over the decades."
   ]
  },
  {
   "cell_type": "markdown",
   "metadata": {},
   "source": [
    "### Do the genres of the released movies vary on different decades?"
   ]
  },
  {
   "cell_type": "code",
   "execution_count": null,
   "metadata": {
    "execution": {
     "iopub.status.busy": "2024-11-14T16:05:47.529060Z",
     "iopub.status.idle": "2024-11-14T16:05:47.529443Z",
     "shell.execute_reply": "2024-11-14T16:05:47.529242Z",
     "shell.execute_reply.started": "2024-11-14T16:05:47.529227Z"
    }
   },
   "outputs": [],
   "source": [
    "# Get top 20 genres releasing movies\n",
    "top_20_genres = genres_counts.head(20).index\n",
    "\n",
    "# Get one country per row\n",
    "expanded_df_genre = movie_final.explode('Movie genres')\n",
    "\n",
    "# the top 20\n",
    "top_genres_df_20 = expanded_df_genre[expanded_df_genre['Movie genres'].isin(top_20_genres)]\n",
    "\n",
    "movies_per_year_genres_20 = top_genres_df_20.groupby(['Movie genres', 'Movie release date']).size().unstack(fill_value=0)\n",
    "movies_per_decade_genres_20 = movies_per_year_genres_20.groupby((movies_per_year_genres_20.columns // 10) * 10, axis=1).sum()\n",
    "\n",
    "movies_per_decade_genres_20_percentage = movies_per_decade_genres_20.div(movies_per_decade_genres_20.sum(axis=1), axis=0)"
   ]
  },
  {
   "cell_type": "markdown",
   "metadata": {},
   "source": [
    "We decide to keep only the top 20 genres so that our graph stay clear but you can adjust this number if needed. "
   ]
  },
  {
   "cell_type": "code",
   "execution_count": null,
   "metadata": {
    "execution": {
     "iopub.status.busy": "2024-11-14T16:05:47.530330Z",
     "iopub.status.idle": "2024-11-14T16:05:47.530804Z",
     "shell.execute_reply": "2024-11-14T16:05:47.530582Z",
     "shell.execute_reply.started": "2024-11-14T16:05:47.530561Z"
    }
   },
   "outputs": [],
   "source": [
    "movies_per_decade_by_genre = movies_per_decade_genres_20.T\n",
    "\n",
    "# Ensure your DataFrame `movies_per_decade_by_genre_normalized` is defined and normalized\n",
    "movies_per_decade_by_genre_normalized = movies_per_decade_by_genre.div(movies_per_decade_by_genre.sum(axis=1), axis=0)"
   ]
  },
  {
   "cell_type": "code",
   "execution_count": null,
   "metadata": {
    "execution": {
     "iopub.status.busy": "2024-11-14T16:05:47.531687Z",
     "iopub.status.idle": "2024-11-14T16:05:47.532029Z",
     "shell.execute_reply": "2024-11-14T16:05:47.531881Z",
     "shell.execute_reply.started": "2024-11-14T16:05:47.531866Z"
    }
   },
   "outputs": [],
   "source": [
    "# Create an interactive figure\n",
    "fig = go.Figure()\n",
    "\n",
    "# Iterate through each decade and create a bar plot for it\n",
    "for decade in movies_per_decade_by_genre_normalized.index:\n",
    "    fig.add_trace(go.Bar(\n",
    "        x=movies_per_decade_by_genre_normalized.columns,\n",
    "        y=movies_per_decade_by_genre_normalized.loc[decade],  # Convert to percentage\n",
    "        name=f'{decade}s',\n",
    "        visible=False  # Initially set all traces to invisible\n",
    "    ))\n",
    "\n",
    "# Set the first decade to be visible\n",
    "fig.data[0].visible = True\n",
    "\n",
    "# Create the slider steps\n",
    "steps = []\n",
    "for i, decade in enumerate(movies_per_decade_by_genre_normalized.index):\n",
    "    step = dict(\n",
    "        method=\"update\",\n",
    "        args=[{\"visible\": [False] * len(fig.data)}],  # Hide all traces\n",
    "        label=f\"{decade}s\"\n",
    "    )\n",
    "    step[\"args\"][0][\"visible\"][i] = True  # Set the current decade's trace to visible\n",
    "    steps.append(step)\n",
    "\n",
    "# Create slider\n",
    "sliders = [dict(\n",
    "    active=0,\n",
    "    currentvalue={\"prefix\": \"Decade: \"},\n",
    "    pad={\"t\": 50},\n",
    "    steps=steps\n",
    ")]\n",
    "\n",
    "# Update the layout to include the slider\n",
    "fig.update_layout(\n",
    "    sliders=sliders,\n",
    "    title='Proportion of Movies Released by Genre in Each Decade',\n",
    "    xaxis_title='Genre',\n",
    "    yaxis_title='Percentage of Movies',\n",
    "    yaxis=dict(tickformat=\".1%\"),\n",
    "    barmode='group'\n",
    ")\n",
    "\n",
    "# Show the plot\n",
    "fig.show()\n"
   ]
  },
  {
   "cell_type": "markdown",
   "metadata": {},
   "source": [
    "## COMMENTER"
   ]
  },
  {
   "cell_type": "code",
   "execution_count": null,
   "metadata": {
    "execution": {
     "iopub.status.busy": "2024-11-14T16:05:47.533182Z",
     "iopub.status.idle": "2024-11-14T16:05:47.533558Z",
     "shell.execute_reply": "2024-11-14T16:05:47.533373Z",
     "shell.execute_reply.started": "2024-11-14T16:05:47.533358Z"
    }
   },
   "outputs": [],
   "source": [
    "ig = go.Figure()\n",
    "\n",
    "for genre in movies_per_decade_genres_20_percentage.index:\n",
    "    fig.add_trace(go.Bar(\n",
    "        x=movies_per_decade_genres_20_percentage.columns,  # Decades\n",
    "        y=movies_per_decade_genres_20_percentage.loc[genre],  # Percentage values for each decade\n",
    "        name=genre,\n",
    "        visible=False  \n",
    "    ))\n",
    "\n",
    "fig.data[0].visible = True\n",
    "\n",
    "# Create the slider steps for each genre\n",
    "steps = []\n",
    "for i, genre in enumerate(movies_per_decade_genres_20_percentage.index):\n",
    "    step = dict(\n",
    "        method=\"update\",\n",
    "        args=[{\"visible\": [False] * len(fig.data)}],  \n",
    "        label=genre\n",
    "    )\n",
    "    step[\"args\"][0][\"visible\"][i] = True  \n",
    "    steps.append(step)\n",
    "\n",
    "# Create slider\n",
    "sliders = [dict(\n",
    "    active=0,\n",
    "    currentvalue={\"prefix\": \"Genre: \"},\n",
    "    pad={\"t\": 50},\n",
    "    steps=steps\n",
    ")]\n",
    "\n",
    "# Update the layout to include the slider\n",
    "fig.update_layout(\n",
    "    sliders=sliders,\n",
    "    title='Proportion of Movies Released per Decade by Selected Genre',\n",
    "    xaxis_title='Decade',\n",
    "    yaxis_title='Percentage of Movies',\n",
    "    yaxis=dict(tickformat=\".1%\"),\n",
    "    barmode='group'\n",
    ")\n",
    "\n",
    "# Show the plot\n",
    "fig.show()\n"
   ]
  },
  {
   "cell_type": "markdown",
   "metadata": {},
   "source": [
    "# Part 3: Latent Dirichlet Allocation (LDA)\n",
    "To group movies together based on something more precise than their genre, we will use Latent Dirichlet Allocation. LDA offers a way to cluster together movies that reflect similar themes, based on textual descriptions. The model is based on unsupervised learning, as the subjects are not known. However the movie summaries only give us too few informations to use LDA. That's why we will extract the synopsis of the movies through another dataset called \"Movie Plot Synopses with Tags\" (MPST). Those synopsis are around 10 times longer than the summaries, giving way more informations to the LDA model."
   ]
  },
  {
   "cell_type": "markdown",
   "metadata": {},
   "source": [
    "## 3.1 Can we observe movies' topics using LDA?"
   ]
  },
  {
   "cell_type": "markdown",
   "metadata": {},
   "source": [
    "### Preprocessing\n",
    "Removing stop words and names before using LDA is important as those very frequent words are not used to predict themes + lowercase "
   ]
  },
  {
   "cell_type": "markdown",
   "metadata": {},
   "source": [
    "**Note:** The following cell performs named entity removal and stopword filtering on movie synopses. It takes a while to run, since it processes a large dataset. To skip this cell you can use the preprocessed sentences saved in `Data/processed_sentences.plk` instead by setting `run_processing` to `False`.\n"
   ]
  },
  {
   "cell_type": "code",
   "execution_count": 22,
   "metadata": {
    "execution": {
     "iopub.execute_input": "2024-11-14T16:17:54.104062Z",
     "iopub.status.busy": "2024-11-14T16:17:54.102654Z",
     "iopub.status.idle": "2024-11-14T16:17:54.125053Z",
     "shell.execute_reply": "2024-11-14T16:17:54.122642Z",
     "shell.execute_reply.started": "2024-11-14T16:17:54.103969Z"
    }
   },
   "outputs": [],
   "source": [
    "## To put in a python file\n",
    "\n",
    "nlp = spacy.load(\"en_core_web_sm\")\n",
    "\n",
    "def remove_named_entities(text):\n",
    "        doc = nlp(text)\n",
    "        return ' '.join([token.text for token in doc if token.ent_type_ != \"PERSON\"])  # Exclude PERSON entities\n",
    "\n",
    "\n",
    "\n",
    "def synopses_processing(sentences):\n",
    "\n",
    "    # ADD DOCSTRING\n",
    "    # Load the spaCy model to remove named entities\n",
    "    \n",
    "    stop_words = set(stopwords.words('english'))\n",
    "    \n",
    "    # Remove named entities\n",
    "    cleaned_sentences= [remove_named_entities(doc) for doc in sentences]\n",
    "    print(\"After removing names their are\", len(cleaned_sentences), \"sentences\")\n",
    "    \n",
    "    # Remove stop words and lowercase word\n",
    "    processed_sentences = [\n",
    "        [word for word in word_tokenize(sentence.lower()) if word.isalnum() and word not in stop_words]\n",
    "        for sentence in cleaned_sentences\n",
    "    ]\n",
    "\n",
    "    return processed_sentences\n"
   ]
  },
  {
   "cell_type": "code",
   "execution_count": 21,
   "metadata": {
    "execution": {
     "iopub.execute_input": "2024-11-14T16:17:02.571112Z",
     "iopub.status.busy": "2024-11-14T16:17:02.570059Z",
     "iopub.status.idle": "2024-11-14T16:17:04.598034Z",
     "shell.execute_reply": "2024-11-14T16:17:04.596592Z",
     "shell.execute_reply.started": "2024-11-14T16:17:02.571031Z"
    }
   },
   "outputs": [],
   "source": [
    "# Set this to False to use precomputed processed_sentences.plk\n",
    "run_processing = False\n",
    "\n",
    "if run_processing:\n",
    "\n",
    "    # Get all synopses\n",
    "    sentences = movies_synopsis['plot_synopsis'].tolist()\n",
    "\n",
    "    # Lower case, Remove stop words and named entities\n",
    "    processed_sentences = synopses_processing(sentences)\n",
    "    \n",
    "    # Save processed sentences to a file\n",
    "    with open(\"data/processed_sentences.pkl\", \"wb\") as file:\n",
    "        pickle.dump(processed_sentences, file)\n",
    "else:\n",
    "    # Load all processed data\n",
    "    with open(\"data/processed_sentences.pkl\", \"rb\") as file:\n",
    "        processed_sentences = pickle.load(file)\n"
   ]
  },
  {
   "cell_type": "markdown",
   "metadata": {},
   "source": [
    "**Note:** The following cell builds a dictionary from the processed sentences, converts those sentences into a bag-of-words representation, and then trains an LDA model to extract 10 topics from the text data. It takes a while to run, since it processes a large dataset. To skip this cell you can use the precomputed model saved in `Data/lda_model.model` instead by setting `run_processing` to `False`."
   ]
  },
  {
   "cell_type": "markdown",
   "metadata": {
    "execution": {
     "iopub.execute_input": "2024-11-14T16:09:05.846717Z",
     "iopub.status.busy": "2024-11-14T16:09:05.844484Z",
     "iopub.status.idle": "2024-11-14T16:09:05.856753Z",
     "shell.execute_reply": "2024-11-14T16:09:05.854511Z",
     "shell.execute_reply.started": "2024-11-14T16:09:05.846622Z"
    }
   },
   "source": [
    "### LDA model"
   ]
  },
  {
   "cell_type": "code",
   "execution_count": 15,
   "metadata": {
    "execution": {
     "iopub.execute_input": "2024-11-14T16:07:52.365307Z",
     "iopub.status.busy": "2024-11-14T16:07:52.364657Z",
     "iopub.status.idle": "2024-11-14T16:07:52.851848Z",
     "shell.execute_reply": "2024-11-14T16:07:52.849494Z",
     "shell.execute_reply.started": "2024-11-14T16:07:52.365260Z"
    }
   },
   "outputs": [],
   "source": [
    "# Set this to False to use precomputed processed_sentences.plk\n",
    "run_processing = False\n",
    "\n",
    "if run_processing:\n",
    "    # Maps each word to a unique integer ID\n",
    "    dictionary = Dictionary(processed_sentences)\n",
    "    \n",
    "    # Convert sentences into a bags of words (BoW)\n",
    "    corpus = [dictionary.doc2bow(sentence) for sentence in processed_sentences]\n",
    "    \n",
    "    # Train LDA model\n",
    "    lda_model = LdaModel(corpus=corpus, id2word=dictionary, num_topics=10, random_state=42, passes=10, iterations=50)\n",
    "\n",
    "    # Save dic and model\n",
    "    lda_model.save(\"src/models/lda_model.model\")\n",
    "    dictionary.save(\"src/models/dictionary.dict\")\n",
    "else:\n",
    "    lda_model = LdaModel.load(\"src/models/lda_model.model\")"
   ]
  },
  {
   "cell_type": "markdown",
   "metadata": {},
   "source": [
    "### Resulting Topcis\n",
    "Let's now look at what 10 topics the movies were clustered in"
   ]
  },
  {
   "cell_type": "code",
   "execution_count": 16,
   "metadata": {
    "execution": {
     "iopub.execute_input": "2024-11-14T16:08:23.991152Z",
     "iopub.status.busy": "2024-11-14T16:08:23.989590Z",
     "iopub.status.idle": "2024-11-14T16:08:24.028380Z",
     "shell.execute_reply": "2024-11-14T16:08:24.025691Z",
     "shell.execute_reply.started": "2024-11-14T16:08:23.991038Z"
    }
   },
   "outputs": [
    {
     "name": "stdout",
     "output_type": "stream",
     "text": [
      "Topic 0: 0.016*\"police\" + 0.008*\"car\" + 0.007*\"man\" + 0.007*\"kill\" + 0.007*\"killed\" + 0.007*\"house\" + 0.005*\"finds\"\n",
      "Topic 1: 0.005*\"one\" + 0.004*\"war\" + 0.004*\"team\" + 0.004*\"men\" + 0.003*\"ship\" + 0.003*\"escape\" + 0.003*\"killed\"\n",
      "Topic 2: 0.022*\"hamlet\" + 0.018*\"king\" + 0.012*\"macbeth\" + 0.009*\"claudius\" + 0.006*\"prince\" + 0.006*\"banquo\" + 0.005*\"act\"\n",
      "Topic 3: 0.007*\"father\" + 0.005*\"love\" + 0.005*\"family\" + 0.005*\"one\" + 0.005*\"life\" + 0.005*\"new\" + 0.005*\"mother\"\n",
      "Topic 4: 0.007*\"back\" + 0.005*\"town\" + 0.005*\"one\" + 0.005*\"men\" + 0.004*\"find\" + 0.004*\"man\" + 0.004*\"away\"\n",
      "Topic 5: 0.012*\"ship\" + 0.010*\"island\" + 0.010*\"boat\" + 0.008*\"uncle\" + 0.008*\"treasure\" + 0.008*\"captain\" + 0.007*\"one\"\n",
      "Topic 6: 0.012*\"sir\" + 0.011*\"beast\" + 0.007*\"beauty\" + 0.007*\"merchant\" + 0.006*\"children\" + 0.006*\"heathcliff\" + 0.005*\"love\"\n",
      "Topic 7: 0.008*\"money\" + 0.008*\"get\" + 0.007*\"tells\" + 0.006*\"back\" + 0.006*\"car\" + 0.005*\"one\" + 0.005*\"gets\"\n",
      "Topic 8: 0.012*\"tells\" + 0.009*\"back\" + 0.007*\"says\" + 0.007*\"house\" + 0.006*\"room\" + 0.006*\"asks\" + 0.006*\"one\"\n",
      "Topic 9: 0.008*\"sean\" + 0.008*\"lincoln\" + 0.007*\"french\" + 0.007*\"edmund\" + 0.006*\"lear\" + 0.006*\"echo\" + 0.006*\"julian\"\n"
     ]
    }
   ],
   "source": [
    "for topic_id, topic_words in lda_model.print_topics(num_words=7):\n",
    "    print(f\"Topic {topic_id}: {topic_words}\")"
   ]
  },
  {
   "cell_type": "markdown",
   "metadata": {
    "jp-MarkdownHeadingCollapsed": true
   },
   "source": [
    "### Is this approach feasible with our data?\n",
    "This approcah seems promising! With very basic preprocessing can already interpret some themes:\n",
    "\n",
    "\n",
    "| Topic | Keywords                       | Theme           |\n",
    "|-------|--------------------------------|-----------------|\n",
    "| 0     | Police, Kill, Detective        | Detective       |\n",
    "| 1     | War, Team                      | War             |\n",
    "| 2     | Hamlet, Macbeth                | Shakespeare     |\n",
    "| 3     | Father, Love                   | Family          |\n",
    "| 4     | Town, Sheriff, Horse           | Western         |\n",
    "| 5     | Ship, Treasure                 | Pirate          |\n",
    "| 6     | Prince, Castle                 | Fairy Tale      |\n",
    "| 7     | Money, Job                     | Business        |\n",
    "| 8     | ?                              | ?               |\n",
    "| 9     | ?                              | ?               |\n",
    "\n",
    "### Observations and Improvements\n",
    "But we also observe that this still has room for improvement:\n",
    "\n",
    "- Topics 9 still carries many names thus for further analysis the `named entity removal` step should be fine tuned. \n",
    "\n",
    "- `Lemmatization` should be applied to avoid reoccurences of declinaison of the same word (e.g killed and kill in topic 0).\n",
    "\n",
    "- The `parameters` such as number of topics, passes and the number of iterations are not chosen optimally which leaves room for improvement.  "
   ]
  }
 ],
 "metadata": {
  "kernelspec": {
   "display_name": "Python 3",
   "language": "python",
   "name": "python3"
  },
  "language_info": {
   "codemirror_mode": {
    "name": "ipython",
    "version": 3
   },
   "file_extension": ".py",
   "mimetype": "text/x-python",
   "name": "python",
   "nbconvert_exporter": "python",
   "pygments_lexer": "ipython3",
   "version": "3.12.1"
  }
 },
 "nbformat": 4,
 "nbformat_minor": 4
}
