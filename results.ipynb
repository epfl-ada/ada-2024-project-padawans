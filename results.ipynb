{
 "cells": [
  {
   "cell_type": "markdown",
   "metadata": {},
   "source": [
    "# TITLE"
   ]
  },
  {
   "cell_type": "markdown",
   "metadata": {},
   "source": [
    "# Introduction\n",
    "\n",
    "To fill"
   ]
  },
  {
   "cell_type": "markdown",
   "metadata": {},
   "source": [
    "<div style=\"border-left: 6px solid rgba(69, 157, 185, 1);border-radius:5px; box-shadow: 3px 3px 3px rgba(221, 221, 221, 1);\" >\n",
    "    <p style=\"background-color: rgba(69, 157, 185, 0.1); font-weight:bold; padding: 8px 0 8px 15px;\">Analysis</p>\n",
    "    <div style=\"padding: 0 0 2px 10px;\">\n",
    "    \n",
    "**What will be covered :**\n",
    "- **Part 1 :** Data Exploration and Processing\n",
    "- **Part 2 :** Data Analysis\n",
    "- **Part 3 :** Is LDA a feasible method for our data ?\n",
    "\n",
    "</div></div>\n",
    "<br/>\n",
    "\n",
    "---"
   ]
  },
  {
   "cell_type": "markdown",
   "metadata": {},
   "source": [
    "# Part 1: Data Exploration and Processing"
   ]
  },
  {
   "cell_type": "markdown",
   "metadata": {},
   "source": [
    "### Import libraries"
   ]
  },
  {
   "cell_type": "code",
   "execution_count": 70,
   "metadata": {},
   "outputs": [],
   "source": [
    "import numpy as np\n",
    "import pandas as pd\n",
    "import matplotlib.pyplot as plt \n",
    "import matplotlib.ticker as mtick\n",
    "import plotly.graph_objects as go\n",
    "import ast\n",
    "# LDA\n",
    "# gensim is a popular library for topic modelling\n",
    "# nltk.download('punkt')\n",
    "# nltk.download('stopwords')\n",
    "#from gensim.corpora import Dictionary\n",
    "#from gensim.models import LdaModel\n",
    "from nltk.tokenize import word_tokenize\n",
    "from nltk.corpus import stopwords\n",
    "from imdb import IMDb\n",
    "import nltk\n",
    "import re\n",
    "import kagglehub # To extract synopsis dataframes\n",
    "#import spacy\n",
    "\n",
    "\n"
   ]
  },
  {
   "cell_type": "markdown",
   "metadata": {},
   "source": [
    "## 1.1 Dataset exploration "
   ]
  },
  {
   "cell_type": "markdown",
   "metadata": {},
   "source": [
    "### Load initial movie dataset"
   ]
  },
  {
   "cell_type": "code",
   "execution_count": 33,
   "metadata": {},
   "outputs": [
    {
     "data": {
      "text/html": [
       "<div>\n",
       "<style scoped>\n",
       "    .dataframe tbody tr th:only-of-type {\n",
       "        vertical-align: middle;\n",
       "    }\n",
       "\n",
       "    .dataframe tbody tr th {\n",
       "        vertical-align: top;\n",
       "    }\n",
       "\n",
       "    .dataframe thead th {\n",
       "        text-align: right;\n",
       "    }\n",
       "</style>\n",
       "<table border=\"1\" class=\"dataframe\">\n",
       "  <thead>\n",
       "    <tr style=\"text-align: right;\">\n",
       "      <th></th>\n",
       "      <th>Wikipedia movie ID</th>\n",
       "      <th>Freebase movie ID</th>\n",
       "      <th>Movie name</th>\n",
       "      <th>Movie release date</th>\n",
       "      <th>Movie box office revenue</th>\n",
       "      <th>Movie runtime</th>\n",
       "      <th>Movie languages</th>\n",
       "      <th>Movie countries</th>\n",
       "      <th>Movie genres</th>\n",
       "    </tr>\n",
       "  </thead>\n",
       "  <tbody>\n",
       "    <tr>\n",
       "      <th>0</th>\n",
       "      <td>975900</td>\n",
       "      <td>/m/03vyhn</td>\n",
       "      <td>Ghosts of Mars</td>\n",
       "      <td>2001-08-24</td>\n",
       "      <td>14010832.0</td>\n",
       "      <td>98.0</td>\n",
       "      <td>{\"/m/02h40lc\": \"English Language\"}</td>\n",
       "      <td>{\"/m/09c7w0\": \"United States of America\"}</td>\n",
       "      <td>{\"/m/01jfsb\": \"Thriller\", \"/m/06n90\": \"Science...</td>\n",
       "    </tr>\n",
       "    <tr>\n",
       "      <th>1</th>\n",
       "      <td>3196793</td>\n",
       "      <td>/m/08yl5d</td>\n",
       "      <td>Getting Away with Murder: The JonBenét Ramsey ...</td>\n",
       "      <td>2000-02-16</td>\n",
       "      <td>NaN</td>\n",
       "      <td>95.0</td>\n",
       "      <td>{\"/m/02h40lc\": \"English Language\"}</td>\n",
       "      <td>{\"/m/09c7w0\": \"United States of America\"}</td>\n",
       "      <td>{\"/m/02n4kr\": \"Mystery\", \"/m/03bxz7\": \"Biograp...</td>\n",
       "    </tr>\n",
       "    <tr>\n",
       "      <th>2</th>\n",
       "      <td>28463795</td>\n",
       "      <td>/m/0crgdbh</td>\n",
       "      <td>Brun bitter</td>\n",
       "      <td>1988</td>\n",
       "      <td>NaN</td>\n",
       "      <td>83.0</td>\n",
       "      <td>{\"/m/05f_3\": \"Norwegian Language\"}</td>\n",
       "      <td>{\"/m/05b4w\": \"Norway\"}</td>\n",
       "      <td>{\"/m/0lsxr\": \"Crime Fiction\", \"/m/07s9rl0\": \"D...</td>\n",
       "    </tr>\n",
       "    <tr>\n",
       "      <th>3</th>\n",
       "      <td>9363483</td>\n",
       "      <td>/m/0285_cd</td>\n",
       "      <td>White Of The Eye</td>\n",
       "      <td>1987</td>\n",
       "      <td>NaN</td>\n",
       "      <td>110.0</td>\n",
       "      <td>{\"/m/02h40lc\": \"English Language\"}</td>\n",
       "      <td>{\"/m/07ssc\": \"United Kingdom\"}</td>\n",
       "      <td>{\"/m/01jfsb\": \"Thriller\", \"/m/0glj9q\": \"Erotic...</td>\n",
       "    </tr>\n",
       "    <tr>\n",
       "      <th>4</th>\n",
       "      <td>261236</td>\n",
       "      <td>/m/01mrr1</td>\n",
       "      <td>A Woman in Flames</td>\n",
       "      <td>1983</td>\n",
       "      <td>NaN</td>\n",
       "      <td>106.0</td>\n",
       "      <td>{\"/m/04306rv\": \"German Language\"}</td>\n",
       "      <td>{\"/m/0345h\": \"Germany\"}</td>\n",
       "      <td>{\"/m/07s9rl0\": \"Drama\"}</td>\n",
       "    </tr>\n",
       "  </tbody>\n",
       "</table>\n",
       "</div>"
      ],
      "text/plain": [
       "   Wikipedia movie ID Freebase movie ID  \\\n",
       "0              975900         /m/03vyhn   \n",
       "1             3196793         /m/08yl5d   \n",
       "2            28463795        /m/0crgdbh   \n",
       "3             9363483        /m/0285_cd   \n",
       "4              261236         /m/01mrr1   \n",
       "\n",
       "                                          Movie name Movie release date  \\\n",
       "0                                     Ghosts of Mars         2001-08-24   \n",
       "1  Getting Away with Murder: The JonBenét Ramsey ...         2000-02-16   \n",
       "2                                        Brun bitter               1988   \n",
       "3                                   White Of The Eye               1987   \n",
       "4                                  A Woman in Flames               1983   \n",
       "\n",
       "   Movie box office revenue  Movie runtime  \\\n",
       "0                14010832.0           98.0   \n",
       "1                       NaN           95.0   \n",
       "2                       NaN           83.0   \n",
       "3                       NaN          110.0   \n",
       "4                       NaN          106.0   \n",
       "\n",
       "                      Movie languages  \\\n",
       "0  {\"/m/02h40lc\": \"English Language\"}   \n",
       "1  {\"/m/02h40lc\": \"English Language\"}   \n",
       "2  {\"/m/05f_3\": \"Norwegian Language\"}   \n",
       "3  {\"/m/02h40lc\": \"English Language\"}   \n",
       "4   {\"/m/04306rv\": \"German Language\"}   \n",
       "\n",
       "                             Movie countries  \\\n",
       "0  {\"/m/09c7w0\": \"United States of America\"}   \n",
       "1  {\"/m/09c7w0\": \"United States of America\"}   \n",
       "2                     {\"/m/05b4w\": \"Norway\"}   \n",
       "3             {\"/m/07ssc\": \"United Kingdom\"}   \n",
       "4                    {\"/m/0345h\": \"Germany\"}   \n",
       "\n",
       "                                        Movie genres  \n",
       "0  {\"/m/01jfsb\": \"Thriller\", \"/m/06n90\": \"Science...  \n",
       "1  {\"/m/02n4kr\": \"Mystery\", \"/m/03bxz7\": \"Biograp...  \n",
       "2  {\"/m/0lsxr\": \"Crime Fiction\", \"/m/07s9rl0\": \"D...  \n",
       "3  {\"/m/01jfsb\": \"Thriller\", \"/m/0glj9q\": \"Erotic...  \n",
       "4                            {\"/m/07s9rl0\": \"Drama\"}  "
      ]
     },
     "execution_count": 33,
     "metadata": {},
     "output_type": "execute_result"
    }
   ],
   "source": [
    "movie_columnns =['Wikipedia movie ID','Freebase movie ID', 'Movie name', 'Movie release date', 'Movie box office revenue', 'Movie runtime', 'Movie languages', 'Movie countries', 'Movie genres']\n",
    "movie = pd.read_csv('data/movie.metadata.tsv', sep='\\t', header=None, names=movie_columnns)\n",
    "movie.head()"
   ]
  },
  {
   "cell_type": "markdown",
   "metadata": {},
   "source": [
    "# COMMENT WHAT IS THE FEATURE COMPOSTION "
   ]
  },
  {
   "cell_type": "markdown",
   "metadata": {},
   "source": [
    "We start by exploring the dataset length and type of features"
   ]
  },
  {
   "cell_type": "code",
   "execution_count": 95,
   "metadata": {},
   "outputs": [
    {
     "name": "stdout",
     "output_type": "stream",
     "text": [
      "The dataset contains 81741 and 9 features for each.\n"
     ]
    }
   ],
   "source": [
    "movie.shape\n",
    "print('The dataset contains', movie.shape[0], 'and',movie.shape[1] , 'features for each.')"
   ]
  },
  {
   "cell_type": "code",
   "execution_count": 99,
   "metadata": {},
   "outputs": [
    {
     "name": "stdout",
     "output_type": "stream",
     "text": [
      "<class 'pandas.core.frame.DataFrame'>\n",
      "RangeIndex: 81741 entries, 0 to 81740\n",
      "Data columns (total 9 columns):\n",
      " #   Column                    Non-Null Count  Dtype  \n",
      "---  ------                    --------------  -----  \n",
      " 0   Wikipedia movie ID        81741 non-null  int64  \n",
      " 1   Freebase movie ID         81741 non-null  object \n",
      " 2   Movie name                81741 non-null  object \n",
      " 3   Movie release date        74839 non-null  object \n",
      " 4   Movie box office revenue  8401 non-null   float64\n",
      " 5   Movie runtime             61291 non-null  float64\n",
      " 6   Movie languages           81741 non-null  object \n",
      " 7   Movie countries           81741 non-null  object \n",
      " 8   Movie genres              81741 non-null  object \n",
      "dtypes: float64(2), int64(1), object(6)\n",
      "memory usage: 5.6+ MB\n"
     ]
    }
   ],
   "source": [
    "movie.info()"
   ]
  },
  {
   "cell_type": "markdown",
   "metadata": {},
   "source": [
    "# QUICK COMMENT ABOUT THE TYPE"
   ]
  },
  {
   "cell_type": "markdown",
   "metadata": {},
   "source": [
    "We decide to remove the Freebase movie ID as it is no longer actively used and since for our analysis we are not interested in the movie runtime we drop this column too. "
   ]
  },
  {
   "cell_type": "code",
   "execution_count": 36,
   "metadata": {},
   "outputs": [
    {
     "data": {
      "text/html": [
       "<div>\n",
       "<style scoped>\n",
       "    .dataframe tbody tr th:only-of-type {\n",
       "        vertical-align: middle;\n",
       "    }\n",
       "\n",
       "    .dataframe tbody tr th {\n",
       "        vertical-align: top;\n",
       "    }\n",
       "\n",
       "    .dataframe thead th {\n",
       "        text-align: right;\n",
       "    }\n",
       "</style>\n",
       "<table border=\"1\" class=\"dataframe\">\n",
       "  <thead>\n",
       "    <tr style=\"text-align: right;\">\n",
       "      <th></th>\n",
       "      <th>Wikipedia movie ID</th>\n",
       "      <th>Movie name</th>\n",
       "      <th>Movie release date</th>\n",
       "      <th>Movie box office revenue</th>\n",
       "      <th>Movie languages</th>\n",
       "      <th>Movie countries</th>\n",
       "      <th>Movie genres</th>\n",
       "    </tr>\n",
       "  </thead>\n",
       "  <tbody>\n",
       "    <tr>\n",
       "      <th>0</th>\n",
       "      <td>975900</td>\n",
       "      <td>Ghosts of Mars</td>\n",
       "      <td>2001-08-24</td>\n",
       "      <td>14010832.0</td>\n",
       "      <td>{\"/m/02h40lc\": \"English Language\"}</td>\n",
       "      <td>{\"/m/09c7w0\": \"United States of America\"}</td>\n",
       "      <td>{\"/m/01jfsb\": \"Thriller\", \"/m/06n90\": \"Science...</td>\n",
       "    </tr>\n",
       "    <tr>\n",
       "      <th>1</th>\n",
       "      <td>3196793</td>\n",
       "      <td>Getting Away with Murder: The JonBenét Ramsey ...</td>\n",
       "      <td>2000-02-16</td>\n",
       "      <td>NaN</td>\n",
       "      <td>{\"/m/02h40lc\": \"English Language\"}</td>\n",
       "      <td>{\"/m/09c7w0\": \"United States of America\"}</td>\n",
       "      <td>{\"/m/02n4kr\": \"Mystery\", \"/m/03bxz7\": \"Biograp...</td>\n",
       "    </tr>\n",
       "    <tr>\n",
       "      <th>2</th>\n",
       "      <td>28463795</td>\n",
       "      <td>Brun bitter</td>\n",
       "      <td>1988</td>\n",
       "      <td>NaN</td>\n",
       "      <td>{\"/m/05f_3\": \"Norwegian Language\"}</td>\n",
       "      <td>{\"/m/05b4w\": \"Norway\"}</td>\n",
       "      <td>{\"/m/0lsxr\": \"Crime Fiction\", \"/m/07s9rl0\": \"D...</td>\n",
       "    </tr>\n",
       "    <tr>\n",
       "      <th>3</th>\n",
       "      <td>9363483</td>\n",
       "      <td>White Of The Eye</td>\n",
       "      <td>1987</td>\n",
       "      <td>NaN</td>\n",
       "      <td>{\"/m/02h40lc\": \"English Language\"}</td>\n",
       "      <td>{\"/m/07ssc\": \"United Kingdom\"}</td>\n",
       "      <td>{\"/m/01jfsb\": \"Thriller\", \"/m/0glj9q\": \"Erotic...</td>\n",
       "    </tr>\n",
       "    <tr>\n",
       "      <th>4</th>\n",
       "      <td>261236</td>\n",
       "      <td>A Woman in Flames</td>\n",
       "      <td>1983</td>\n",
       "      <td>NaN</td>\n",
       "      <td>{\"/m/04306rv\": \"German Language\"}</td>\n",
       "      <td>{\"/m/0345h\": \"Germany\"}</td>\n",
       "      <td>{\"/m/07s9rl0\": \"Drama\"}</td>\n",
       "    </tr>\n",
       "  </tbody>\n",
       "</table>\n",
       "</div>"
      ],
      "text/plain": [
       "   Wikipedia movie ID                                         Movie name  \\\n",
       "0              975900                                     Ghosts of Mars   \n",
       "1             3196793  Getting Away with Murder: The JonBenét Ramsey ...   \n",
       "2            28463795                                        Brun bitter   \n",
       "3             9363483                                   White Of The Eye   \n",
       "4              261236                                  A Woman in Flames   \n",
       "\n",
       "  Movie release date  Movie box office revenue  \\\n",
       "0         2001-08-24                14010832.0   \n",
       "1         2000-02-16                       NaN   \n",
       "2               1988                       NaN   \n",
       "3               1987                       NaN   \n",
       "4               1983                       NaN   \n",
       "\n",
       "                      Movie languages  \\\n",
       "0  {\"/m/02h40lc\": \"English Language\"}   \n",
       "1  {\"/m/02h40lc\": \"English Language\"}   \n",
       "2  {\"/m/05f_3\": \"Norwegian Language\"}   \n",
       "3  {\"/m/02h40lc\": \"English Language\"}   \n",
       "4   {\"/m/04306rv\": \"German Language\"}   \n",
       "\n",
       "                             Movie countries  \\\n",
       "0  {\"/m/09c7w0\": \"United States of America\"}   \n",
       "1  {\"/m/09c7w0\": \"United States of America\"}   \n",
       "2                     {\"/m/05b4w\": \"Norway\"}   \n",
       "3             {\"/m/07ssc\": \"United Kingdom\"}   \n",
       "4                    {\"/m/0345h\": \"Germany\"}   \n",
       "\n",
       "                                        Movie genres  \n",
       "0  {\"/m/01jfsb\": \"Thriller\", \"/m/06n90\": \"Science...  \n",
       "1  {\"/m/02n4kr\": \"Mystery\", \"/m/03bxz7\": \"Biograp...  \n",
       "2  {\"/m/0lsxr\": \"Crime Fiction\", \"/m/07s9rl0\": \"D...  \n",
       "3  {\"/m/01jfsb\": \"Thriller\", \"/m/0glj9q\": \"Erotic...  \n",
       "4                            {\"/m/07s9rl0\": \"Drama\"}  "
      ]
     },
     "execution_count": 36,
     "metadata": {},
     "output_type": "execute_result"
    }
   ],
   "source": [
    "movie_drop = movie.drop(['Freebase movie ID', 'Movie runtime'], axis=1)\n",
    "movie_drop.head()\n"
   ]
  },
  {
   "cell_type": "markdown",
   "metadata": {},
   "source": [
    "## CHNAGE COMMENT"
   ]
  },
  {
   "cell_type": "markdown",
   "metadata": {},
   "source": [
    "The three following column of our dataset: Movie languages,\tMovie countries and Movie genres are formatted differently"
   ]
  },
  {
   "cell_type": "code",
   "execution_count": 37,
   "metadata": {},
   "outputs": [],
   "source": [
    "def convert_to_list(df, column_name):\n",
    "    #Convert to dictionnary \n",
    "    df[column_name] = df[column_name].apply(lambda x: ast.literal_eval(x) if isinstance(x, str) else x)\n",
    "    #Convert to list\n",
    "    df[column_name] = df[column_name].apply(lambda x: list(x.values()) if isinstance(x, dict) else None)\n",
    "    return df[column_name]"
   ]
  },
  {
   "cell_type": "code",
   "execution_count": 38,
   "metadata": {},
   "outputs": [],
   "source": [
    "movies_df = movie_drop.copy()\n",
    "movies_df['Movie genres'] = convert_to_list(movies_df, 'Movie genres')\n",
    "movies_df['Movie languages'] = convert_to_list(movies_df, 'Movie languages')\n",
    "movies_df['Movie countries'] = convert_to_list(movies_df, 'Movie countries')"
   ]
  },
  {
   "cell_type": "code",
   "execution_count": 39,
   "metadata": {},
   "outputs": [
    {
     "data": {
      "text/html": [
       "<div>\n",
       "<style scoped>\n",
       "    .dataframe tbody tr th:only-of-type {\n",
       "        vertical-align: middle;\n",
       "    }\n",
       "\n",
       "    .dataframe tbody tr th {\n",
       "        vertical-align: top;\n",
       "    }\n",
       "\n",
       "    .dataframe thead th {\n",
       "        text-align: right;\n",
       "    }\n",
       "</style>\n",
       "<table border=\"1\" class=\"dataframe\">\n",
       "  <thead>\n",
       "    <tr style=\"text-align: right;\">\n",
       "      <th></th>\n",
       "      <th>Wikipedia movie ID</th>\n",
       "      <th>Movie name</th>\n",
       "      <th>Movie release date</th>\n",
       "      <th>Movie box office revenue</th>\n",
       "      <th>Movie languages</th>\n",
       "      <th>Movie countries</th>\n",
       "      <th>Movie genres</th>\n",
       "    </tr>\n",
       "  </thead>\n",
       "  <tbody>\n",
       "    <tr>\n",
       "      <th>0</th>\n",
       "      <td>975900</td>\n",
       "      <td>Ghosts of Mars</td>\n",
       "      <td>2001-08-24</td>\n",
       "      <td>14010832.0</td>\n",
       "      <td>[English Language]</td>\n",
       "      <td>[United States of America]</td>\n",
       "      <td>[Thriller, Science Fiction, Horror, Adventure,...</td>\n",
       "    </tr>\n",
       "    <tr>\n",
       "      <th>1</th>\n",
       "      <td>3196793</td>\n",
       "      <td>Getting Away with Murder: The JonBenét Ramsey ...</td>\n",
       "      <td>2000-02-16</td>\n",
       "      <td>NaN</td>\n",
       "      <td>[English Language]</td>\n",
       "      <td>[United States of America]</td>\n",
       "      <td>[Mystery, Biographical film, Drama, Crime Drama]</td>\n",
       "    </tr>\n",
       "    <tr>\n",
       "      <th>2</th>\n",
       "      <td>28463795</td>\n",
       "      <td>Brun bitter</td>\n",
       "      <td>1988</td>\n",
       "      <td>NaN</td>\n",
       "      <td>[Norwegian Language]</td>\n",
       "      <td>[Norway]</td>\n",
       "      <td>[Crime Fiction, Drama]</td>\n",
       "    </tr>\n",
       "    <tr>\n",
       "      <th>3</th>\n",
       "      <td>9363483</td>\n",
       "      <td>White Of The Eye</td>\n",
       "      <td>1987</td>\n",
       "      <td>NaN</td>\n",
       "      <td>[English Language]</td>\n",
       "      <td>[United Kingdom]</td>\n",
       "      <td>[Thriller, Erotic thriller, Psychological thri...</td>\n",
       "    </tr>\n",
       "    <tr>\n",
       "      <th>4</th>\n",
       "      <td>261236</td>\n",
       "      <td>A Woman in Flames</td>\n",
       "      <td>1983</td>\n",
       "      <td>NaN</td>\n",
       "      <td>[German Language]</td>\n",
       "      <td>[Germany]</td>\n",
       "      <td>[Drama]</td>\n",
       "    </tr>\n",
       "  </tbody>\n",
       "</table>\n",
       "</div>"
      ],
      "text/plain": [
       "   Wikipedia movie ID                                         Movie name  \\\n",
       "0              975900                                     Ghosts of Mars   \n",
       "1             3196793  Getting Away with Murder: The JonBenét Ramsey ...   \n",
       "2            28463795                                        Brun bitter   \n",
       "3             9363483                                   White Of The Eye   \n",
       "4              261236                                  A Woman in Flames   \n",
       "\n",
       "  Movie release date  Movie box office revenue       Movie languages  \\\n",
       "0         2001-08-24                14010832.0    [English Language]   \n",
       "1         2000-02-16                       NaN    [English Language]   \n",
       "2               1988                       NaN  [Norwegian Language]   \n",
       "3               1987                       NaN    [English Language]   \n",
       "4               1983                       NaN     [German Language]   \n",
       "\n",
       "              Movie countries  \\\n",
       "0  [United States of America]   \n",
       "1  [United States of America]   \n",
       "2                    [Norway]   \n",
       "3            [United Kingdom]   \n",
       "4                   [Germany]   \n",
       "\n",
       "                                        Movie genres  \n",
       "0  [Thriller, Science Fiction, Horror, Adventure,...  \n",
       "1   [Mystery, Biographical film, Drama, Crime Drama]  \n",
       "2                             [Crime Fiction, Drama]  \n",
       "3  [Thriller, Erotic thriller, Psychological thri...  \n",
       "4                                            [Drama]  "
      ]
     },
     "execution_count": 39,
     "metadata": {},
     "output_type": "execute_result"
    }
   ],
   "source": [
    "movies_df.head()"
   ]
  },
  {
   "cell_type": "markdown",
   "metadata": {},
   "source": [
    "We can now see that the columns containing information about movie languages, countries, and genres are indeed formatted as lists. "
   ]
  },
  {
   "cell_type": "markdown",
   "metadata": {},
   "source": [
    "For our analysis, having the full release date isn't necessary, just the year is enough. Therefore, we convert the release date into a year format (e.g. 1995-07-21 becomes 1995)."
   ]
  },
  {
   "cell_type": "code",
   "execution_count": 40,
   "metadata": {},
   "outputs": [
    {
     "name": "stdout",
     "output_type": "stream",
     "text": [
      "0    2001\n",
      "1    2000\n",
      "2    1988\n",
      "3    1987\n",
      "4    1983\n",
      "Name: Movie release date, dtype: Int64\n"
     ]
    }
   ],
   "source": [
    "def extract_year(value):\n",
    "    # Check if the value is a year (4-digit number) and return it as is\n",
    "    if isinstance(value, int) or (isinstance(value, str) and value.isdigit() and len(value) == 4):\n",
    "        return int(value)\n",
    "    # Try to convert complete date strings to datetime and extract the year\n",
    "    try:\n",
    "        return pd.to_datetime(value).year\n",
    "    except (ValueError, TypeError):\n",
    "        return np.nan  # Return NaN if conversion fails\n",
    "\n",
    "movies_df['Movie release date'] = movies_df['Movie release date'].apply(extract_year).astype('Int64')\n",
    "\n",
    "print(movies_df['Movie release date'].head())"
   ]
  },
  {
   "cell_type": "markdown",
   "metadata": {},
   "source": [
    "## EXPLAIN WHY INTERSTED ON SUMMARY (LDA)"
   ]
  },
  {
   "cell_type": "code",
   "execution_count": 41,
   "metadata": {},
   "outputs": [],
   "source": [
    "sum_columns = ['Wikipedia movie ID','Plot summary']\n",
    "sum_df = pd.read_csv('data/plot_summaries.txt', sep='\\t', header=None)\n",
    "sum_df.columns = sum_columns"
   ]
  },
  {
   "cell_type": "code",
   "execution_count": 42,
   "metadata": {},
   "outputs": [
    {
     "data": {
      "text/plain": [
       "count    42303.000000\n",
       "mean      1784.034229\n",
       "std       1808.925536\n",
       "min         99.000000\n",
       "25%        508.000000\n",
       "50%       1079.000000\n",
       "75%       2604.500000\n",
       "max      28159.000000\n",
       "Name: summary_length, dtype: float64"
      ]
     },
     "execution_count": 42,
     "metadata": {},
     "output_type": "execute_result"
    }
   ],
   "source": [
    "# Length of each plot summary\n",
    "sum_df['summary_length'] = sum_df['Plot summary'].apply(len)\n",
    "sum_df['summary_length'].describe()"
   ]
  },
  {
   "cell_type": "markdown",
   "metadata": {},
   "source": [
    "# SAY SOMETHING LIKE TOO SMALL AND INCOMPLETE FRO WHAT ANALYSIS WE WWANT TO DO so we chose synopsis"
   ]
  },
  {
   "cell_type": "markdown",
   "metadata": {},
   "source": [
    "+ small explanation about the dataset "
   ]
  },
  {
   "cell_type": "code",
   "execution_count": 43,
   "metadata": {},
   "outputs": [
    {
     "name": "stdout",
     "output_type": "stream",
     "text": [
      "This synopsis dataframe is of size: (14828, 6)\n"
     ]
    },
    {
     "data": {
      "text/html": [
       "<div>\n",
       "<style scoped>\n",
       "    .dataframe tbody tr th:only-of-type {\n",
       "        vertical-align: middle;\n",
       "    }\n",
       "\n",
       "    .dataframe tbody tr th {\n",
       "        vertical-align: top;\n",
       "    }\n",
       "\n",
       "    .dataframe thead th {\n",
       "        text-align: right;\n",
       "    }\n",
       "</style>\n",
       "<table border=\"1\" class=\"dataframe\">\n",
       "  <thead>\n",
       "    <tr style=\"text-align: right;\">\n",
       "      <th></th>\n",
       "      <th>imdb_id</th>\n",
       "      <th>title</th>\n",
       "      <th>plot_synopsis</th>\n",
       "      <th>tags</th>\n",
       "      <th>split</th>\n",
       "      <th>synopsis_source</th>\n",
       "    </tr>\n",
       "  </thead>\n",
       "  <tbody>\n",
       "    <tr>\n",
       "      <th>0</th>\n",
       "      <td>tt0057603</td>\n",
       "      <td>I tre volti della paura</td>\n",
       "      <td>Note: this synopsis is for the orginal Italian...</td>\n",
       "      <td>cult, horror, gothic, murder, atmospheric</td>\n",
       "      <td>train</td>\n",
       "      <td>imdb</td>\n",
       "    </tr>\n",
       "    <tr>\n",
       "      <th>1</th>\n",
       "      <td>tt1733125</td>\n",
       "      <td>Dungeons &amp; Dragons: The Book of Vile Darkness</td>\n",
       "      <td>Two thousand years ago, Nhagruul the Foul, a s...</td>\n",
       "      <td>violence</td>\n",
       "      <td>train</td>\n",
       "      <td>imdb</td>\n",
       "    </tr>\n",
       "    <tr>\n",
       "      <th>2</th>\n",
       "      <td>tt0033045</td>\n",
       "      <td>The Shop Around the Corner</td>\n",
       "      <td>Matuschek's, a gift store in Budapest, is the ...</td>\n",
       "      <td>romantic</td>\n",
       "      <td>test</td>\n",
       "      <td>imdb</td>\n",
       "    </tr>\n",
       "    <tr>\n",
       "      <th>3</th>\n",
       "      <td>tt0113862</td>\n",
       "      <td>Mr. Holland's Opus</td>\n",
       "      <td>Glenn Holland, not a morning person by anyone'...</td>\n",
       "      <td>inspiring, romantic, stupid, feel-good</td>\n",
       "      <td>train</td>\n",
       "      <td>imdb</td>\n",
       "    </tr>\n",
       "    <tr>\n",
       "      <th>4</th>\n",
       "      <td>tt0086250</td>\n",
       "      <td>Scarface</td>\n",
       "      <td>In May 1980, a Cuban man named Tony Montana (A...</td>\n",
       "      <td>cruelty, murder, dramatic, cult, violence, atm...</td>\n",
       "      <td>val</td>\n",
       "      <td>imdb</td>\n",
       "    </tr>\n",
       "  </tbody>\n",
       "</table>\n",
       "</div>"
      ],
      "text/plain": [
       "     imdb_id                                          title  \\\n",
       "0  tt0057603                        I tre volti della paura   \n",
       "1  tt1733125  Dungeons & Dragons: The Book of Vile Darkness   \n",
       "2  tt0033045                     The Shop Around the Corner   \n",
       "3  tt0113862                             Mr. Holland's Opus   \n",
       "4  tt0086250                                       Scarface   \n",
       "\n",
       "                                       plot_synopsis  \\\n",
       "0  Note: this synopsis is for the orginal Italian...   \n",
       "1  Two thousand years ago, Nhagruul the Foul, a s...   \n",
       "2  Matuschek's, a gift store in Budapest, is the ...   \n",
       "3  Glenn Holland, not a morning person by anyone'...   \n",
       "4  In May 1980, a Cuban man named Tony Montana (A...   \n",
       "\n",
       "                                                tags  split synopsis_source  \n",
       "0          cult, horror, gothic, murder, atmospheric  train            imdb  \n",
       "1                                           violence  train            imdb  \n",
       "2                                           romantic   test            imdb  \n",
       "3             inspiring, romantic, stupid, feel-good  train            imdb  \n",
       "4  cruelty, murder, dramatic, cult, violence, atm...    val            imdb  "
      ]
     },
     "execution_count": 43,
     "metadata": {},
     "output_type": "execute_result"
    }
   ],
   "source": [
    "# Load data\n",
    "synopsis = pd.read_csv('Data/mpst_full_data.csv')\n",
    "\n",
    "# Check data shape\n",
    "print(\"This synopsis dataframe is of size:\", synopsis.shape)\n",
    "\n",
    "# Display df\n",
    "synopsis.head()"
   ]
  },
  {
   "cell_type": "code",
   "execution_count": 44,
   "metadata": {},
   "outputs": [
    {
     "data": {
      "text/plain": [
       "count    14828.000000\n",
       "mean      5139.938090\n",
       "std       4939.950638\n",
       "min        442.000000\n",
       "25%       2494.750000\n",
       "50%       3827.000000\n",
       "75%       5760.000000\n",
       "max      63959.000000\n",
       "Name: plot_length, dtype: float64"
      ]
     },
     "execution_count": 44,
     "metadata": {},
     "output_type": "execute_result"
    }
   ],
   "source": [
    "# Length of each plot summary\n",
    "size_synopsis = synopsis.copy()\n",
    "size_synopsis['plot_length'] = synopsis['plot_synopsis'].apply(len)\n",
    "size_synopsis['plot_length'].describe()"
   ]
  },
  {
   "cell_type": "markdown",
   "metadata": {},
   "source": [
    "### Comment\n",
    "The dataframe offers extra movie tags and the full movie synopsis which would give the LDA more context to group movies together. On the other hand there a only 14'828 rows which is consequently smaller than the initial dataframe. We make the choice to reduce the dataset but gain precision on the themes generated by the LDA. Another important notice is that this dataframe uses imdb_id not wikipedia movie ids."
   ]
  },
  {
   "cell_type": "markdown",
   "metadata": {},
   "source": [
    "# ALSO COMPARE TO MOVIE SUMMARY LENGTH "
   ]
  },
  {
   "cell_type": "markdown",
   "metadata": {},
   "source": [
    "In this dataset there is also column that we are not interested about so we drop them."
   ]
  },
  {
   "cell_type": "code",
   "execution_count": 45,
   "metadata": {},
   "outputs": [
    {
     "data": {
      "text/html": [
       "<div>\n",
       "<style scoped>\n",
       "    .dataframe tbody tr th:only-of-type {\n",
       "        vertical-align: middle;\n",
       "    }\n",
       "\n",
       "    .dataframe tbody tr th {\n",
       "        vertical-align: top;\n",
       "    }\n",
       "\n",
       "    .dataframe thead th {\n",
       "        text-align: right;\n",
       "    }\n",
       "</style>\n",
       "<table border=\"1\" class=\"dataframe\">\n",
       "  <thead>\n",
       "    <tr style=\"text-align: right;\">\n",
       "      <th></th>\n",
       "      <th>imdb_id</th>\n",
       "      <th>plot_synopsis</th>\n",
       "      <th>tags</th>\n",
       "      <th>synopsis_source</th>\n",
       "      <th>Wikipedia movie ID</th>\n",
       "      <th>Movie name</th>\n",
       "      <th>Movie release date</th>\n",
       "      <th>Movie box office revenue</th>\n",
       "      <th>Movie languages</th>\n",
       "      <th>Movie countries</th>\n",
       "      <th>Movie genres</th>\n",
       "    </tr>\n",
       "  </thead>\n",
       "  <tbody>\n",
       "    <tr>\n",
       "      <th>0</th>\n",
       "      <td>tt1733125</td>\n",
       "      <td>Two thousand years ago, Nhagruul the Foul, a s...</td>\n",
       "      <td>violence</td>\n",
       "      <td>imdb</td>\n",
       "      <td>30855958</td>\n",
       "      <td>Dungeons &amp; Dragons: The Book of Vile Darkness</td>\n",
       "      <td>2012</td>\n",
       "      <td>NaN</td>\n",
       "      <td>[]</td>\n",
       "      <td>[United Kingdom]</td>\n",
       "      <td>[Fantasy]</td>\n",
       "    </tr>\n",
       "    <tr>\n",
       "      <th>1</th>\n",
       "      <td>tt0033045</td>\n",
       "      <td>Matuschek's, a gift store in Budapest, is the ...</td>\n",
       "      <td>romantic</td>\n",
       "      <td>imdb</td>\n",
       "      <td>76353</td>\n",
       "      <td>The Shop Around the Corner</td>\n",
       "      <td>1940</td>\n",
       "      <td>NaN</td>\n",
       "      <td>[English Language]</td>\n",
       "      <td>[United States of America]</td>\n",
       "      <td>[Romantic comedy, Workplace Comedy, Black-and-...</td>\n",
       "    </tr>\n",
       "    <tr>\n",
       "      <th>2</th>\n",
       "      <td>tt0113862</td>\n",
       "      <td>Glenn Holland, not a morning person by anyone'...</td>\n",
       "      <td>inspiring, romantic, stupid, feel-good</td>\n",
       "      <td>imdb</td>\n",
       "      <td>171076</td>\n",
       "      <td>Mr. Holland's Opus</td>\n",
       "      <td>1995</td>\n",
       "      <td>106269971.0</td>\n",
       "      <td>[English Language, American Sign Language]</td>\n",
       "      <td>[United States of America]</td>\n",
       "      <td>[Inspirational Drama, Family Film, Drama, Musi...</td>\n",
       "    </tr>\n",
       "    <tr>\n",
       "      <th>3</th>\n",
       "      <td>tt0086250</td>\n",
       "      <td>In May 1980, a Cuban man named Tony Montana (A...</td>\n",
       "      <td>cruelty, murder, dramatic, cult, violence, atm...</td>\n",
       "      <td>imdb</td>\n",
       "      <td>76331</td>\n",
       "      <td>Scarface</td>\n",
       "      <td>1932</td>\n",
       "      <td>NaN</td>\n",
       "      <td>[Italian Language, English Language]</td>\n",
       "      <td>[United States of America]</td>\n",
       "      <td>[Crime Fiction, Gangster Film, Black-and-white...</td>\n",
       "    </tr>\n",
       "    <tr>\n",
       "      <th>4</th>\n",
       "      <td>tt0086250</td>\n",
       "      <td>In May 1980, a Cuban man named Tony Montana (A...</td>\n",
       "      <td>cruelty, murder, dramatic, cult, violence, atm...</td>\n",
       "      <td>imdb</td>\n",
       "      <td>267848</td>\n",
       "      <td>Scarface</td>\n",
       "      <td>1983</td>\n",
       "      <td>65884703.0</td>\n",
       "      <td>[English Language, Spanish Language]</td>\n",
       "      <td>[United States of America]</td>\n",
       "      <td>[Crime Fiction, Thriller, Gangster Film, Actio...</td>\n",
       "    </tr>\n",
       "  </tbody>\n",
       "</table>\n",
       "</div>"
      ],
      "text/plain": [
       "     imdb_id                                      plot_synopsis  \\\n",
       "0  tt1733125  Two thousand years ago, Nhagruul the Foul, a s...   \n",
       "1  tt0033045  Matuschek's, a gift store in Budapest, is the ...   \n",
       "2  tt0113862  Glenn Holland, not a morning person by anyone'...   \n",
       "3  tt0086250  In May 1980, a Cuban man named Tony Montana (A...   \n",
       "4  tt0086250  In May 1980, a Cuban man named Tony Montana (A...   \n",
       "\n",
       "                                                tags synopsis_source  \\\n",
       "0                                           violence            imdb   \n",
       "1                                           romantic            imdb   \n",
       "2             inspiring, romantic, stupid, feel-good            imdb   \n",
       "3  cruelty, murder, dramatic, cult, violence, atm...            imdb   \n",
       "4  cruelty, murder, dramatic, cult, violence, atm...            imdb   \n",
       "\n",
       "   Wikipedia movie ID                                     Movie name  \\\n",
       "0            30855958  Dungeons & Dragons: The Book of Vile Darkness   \n",
       "1               76353                     The Shop Around the Corner   \n",
       "2              171076                             Mr. Holland's Opus   \n",
       "3               76331                                       Scarface   \n",
       "4              267848                                       Scarface   \n",
       "\n",
       "   Movie release date  Movie box office revenue  \\\n",
       "0                2012                       NaN   \n",
       "1                1940                       NaN   \n",
       "2                1995               106269971.0   \n",
       "3                1932                       NaN   \n",
       "4                1983                65884703.0   \n",
       "\n",
       "                              Movie languages             Movie countries  \\\n",
       "0                                          []            [United Kingdom]   \n",
       "1                          [English Language]  [United States of America]   \n",
       "2  [English Language, American Sign Language]  [United States of America]   \n",
       "3        [Italian Language, English Language]  [United States of America]   \n",
       "4        [English Language, Spanish Language]  [United States of America]   \n",
       "\n",
       "                                        Movie genres  \n",
       "0                                          [Fantasy]  \n",
       "1  [Romantic comedy, Workplace Comedy, Black-and-...  \n",
       "2  [Inspirational Drama, Family Film, Drama, Musi...  \n",
       "3  [Crime Fiction, Gangster Film, Black-and-white...  \n",
       "4  [Crime Fiction, Thriller, Gangster Film, Actio...  "
      ]
     },
     "execution_count": 45,
     "metadata": {},
     "output_type": "execute_result"
    }
   ],
   "source": [
    "movies_syn = synopsis.merge(movies_df, left_on='title', right_on='Movie name', how='inner')\n",
    "movies_syn.drop(columns=['title', 'split', 'synopsis_source'], inplace=True)\n",
    "movies_syn.head()"
   ]
  },
  {
   "cell_type": "code",
   "execution_count": 46,
   "metadata": {},
   "outputs": [
    {
     "name": "stdout",
     "output_type": "stream",
     "text": [
      "We only lost 94 movies by merging the two dataset by the titles of the movies.\n"
     ]
    }
   ],
   "source": [
    "lost_rows = synopsis.shape[0] - movies_syn.shape[0]\n",
    "print(f\"We only lost {lost_rows} movies by merging the two dataset by the titles of the movies.\")"
   ]
  },
  {
   "cell_type": "markdown",
   "metadata": {},
   "source": [
    "### Comment\n",
    "\n",
    "1. Movie loss\n",
    "\n",
    "\n",
    "The size fo the dataframe has not significantly changed, only 94 movies did not match. Our original movie df contained most of the movies present in the synopsis df.\n",
    "\n",
    "2. Same title\n",
    "\n",
    "\n",
    "We also observe that Scarface appears twice since there was a remake. For the rest for the analysis we will assume that if the name of the movie is exactly the same, the synopsis is pretty similar for both movies (if not the same!)."
   ]
  },
  {
   "cell_type": "markdown",
   "metadata": {},
   "source": [
    "# COMMENT FOR ANALYSSIS ALSO INTERESTED IN RATINGS\n",
    "We found a IMDB dataset online. "
   ]
  },
  {
   "cell_type": "code",
   "execution_count": 47,
   "metadata": {},
   "outputs": [],
   "source": [
    "ratings_df = pd.read_csv('data/title.ratings.tsv', sep='\\t')\n",
    "ratings_df = ratings_df.rename(columns={'tconst': 'imdb_id'})"
   ]
  },
  {
   "cell_type": "markdown",
   "metadata": {},
   "source": [
    "We rename the column to match the name our dataset"
   ]
  },
  {
   "cell_type": "code",
   "execution_count": 48,
   "metadata": {},
   "outputs": [
    {
     "data": {
      "text/html": [
       "<div>\n",
       "<style scoped>\n",
       "    .dataframe tbody tr th:only-of-type {\n",
       "        vertical-align: middle;\n",
       "    }\n",
       "\n",
       "    .dataframe tbody tr th {\n",
       "        vertical-align: top;\n",
       "    }\n",
       "\n",
       "    .dataframe thead th {\n",
       "        text-align: right;\n",
       "    }\n",
       "</style>\n",
       "<table border=\"1\" class=\"dataframe\">\n",
       "  <thead>\n",
       "    <tr style=\"text-align: right;\">\n",
       "      <th></th>\n",
       "      <th>imdb_id</th>\n",
       "      <th>plot_synopsis</th>\n",
       "      <th>tags</th>\n",
       "      <th>synopsis_source</th>\n",
       "      <th>Wikipedia movie ID</th>\n",
       "      <th>Movie name</th>\n",
       "      <th>Movie release date</th>\n",
       "      <th>Movie box office revenue</th>\n",
       "      <th>Movie languages</th>\n",
       "      <th>Movie countries</th>\n",
       "      <th>Movie genres</th>\n",
       "      <th>averageRating</th>\n",
       "      <th>numVotes</th>\n",
       "    </tr>\n",
       "  </thead>\n",
       "  <tbody>\n",
       "    <tr>\n",
       "      <th>0</th>\n",
       "      <td>tt1733125</td>\n",
       "      <td>Two thousand years ago, Nhagruul the Foul, a s...</td>\n",
       "      <td>violence</td>\n",
       "      <td>imdb</td>\n",
       "      <td>30855958</td>\n",
       "      <td>Dungeons &amp; Dragons: The Book of Vile Darkness</td>\n",
       "      <td>2012</td>\n",
       "      <td>NaN</td>\n",
       "      <td>[]</td>\n",
       "      <td>[United Kingdom]</td>\n",
       "      <td>[Fantasy]</td>\n",
       "      <td>4.4</td>\n",
       "      <td>2722</td>\n",
       "    </tr>\n",
       "    <tr>\n",
       "      <th>1</th>\n",
       "      <td>tt0033045</td>\n",
       "      <td>Matuschek's, a gift store in Budapest, is the ...</td>\n",
       "      <td>romantic</td>\n",
       "      <td>imdb</td>\n",
       "      <td>76353</td>\n",
       "      <td>The Shop Around the Corner</td>\n",
       "      <td>1940</td>\n",
       "      <td>NaN</td>\n",
       "      <td>[English Language]</td>\n",
       "      <td>[United States of America]</td>\n",
       "      <td>[Romantic comedy, Workplace Comedy, Black-and-...</td>\n",
       "      <td>8.0</td>\n",
       "      <td>39420</td>\n",
       "    </tr>\n",
       "    <tr>\n",
       "      <th>2</th>\n",
       "      <td>tt0113862</td>\n",
       "      <td>Glenn Holland, not a morning person by anyone'...</td>\n",
       "      <td>inspiring, romantic, stupid, feel-good</td>\n",
       "      <td>imdb</td>\n",
       "      <td>171076</td>\n",
       "      <td>Mr. Holland's Opus</td>\n",
       "      <td>1995</td>\n",
       "      <td>106269971.0</td>\n",
       "      <td>[English Language, American Sign Language]</td>\n",
       "      <td>[United States of America]</td>\n",
       "      <td>[Inspirational Drama, Family Film, Drama, Musi...</td>\n",
       "      <td>7.3</td>\n",
       "      <td>42244</td>\n",
       "    </tr>\n",
       "    <tr>\n",
       "      <th>3</th>\n",
       "      <td>tt0086250</td>\n",
       "      <td>In May 1980, a Cuban man named Tony Montana (A...</td>\n",
       "      <td>cruelty, murder, dramatic, cult, violence, atm...</td>\n",
       "      <td>imdb</td>\n",
       "      <td>76331</td>\n",
       "      <td>Scarface</td>\n",
       "      <td>1932</td>\n",
       "      <td>NaN</td>\n",
       "      <td>[Italian Language, English Language]</td>\n",
       "      <td>[United States of America]</td>\n",
       "      <td>[Crime Fiction, Gangster Film, Black-and-white...</td>\n",
       "      <td>8.3</td>\n",
       "      <td>939605</td>\n",
       "    </tr>\n",
       "    <tr>\n",
       "      <th>4</th>\n",
       "      <td>tt0086250</td>\n",
       "      <td>In May 1980, a Cuban man named Tony Montana (A...</td>\n",
       "      <td>cruelty, murder, dramatic, cult, violence, atm...</td>\n",
       "      <td>imdb</td>\n",
       "      <td>267848</td>\n",
       "      <td>Scarface</td>\n",
       "      <td>1983</td>\n",
       "      <td>65884703.0</td>\n",
       "      <td>[English Language, Spanish Language]</td>\n",
       "      <td>[United States of America]</td>\n",
       "      <td>[Crime Fiction, Thriller, Gangster Film, Actio...</td>\n",
       "      <td>8.3</td>\n",
       "      <td>939605</td>\n",
       "    </tr>\n",
       "  </tbody>\n",
       "</table>\n",
       "</div>"
      ],
      "text/plain": [
       "     imdb_id                                      plot_synopsis  \\\n",
       "0  tt1733125  Two thousand years ago, Nhagruul the Foul, a s...   \n",
       "1  tt0033045  Matuschek's, a gift store in Budapest, is the ...   \n",
       "2  tt0113862  Glenn Holland, not a morning person by anyone'...   \n",
       "3  tt0086250  In May 1980, a Cuban man named Tony Montana (A...   \n",
       "4  tt0086250  In May 1980, a Cuban man named Tony Montana (A...   \n",
       "\n",
       "                                                tags synopsis_source  \\\n",
       "0                                           violence            imdb   \n",
       "1                                           romantic            imdb   \n",
       "2             inspiring, romantic, stupid, feel-good            imdb   \n",
       "3  cruelty, murder, dramatic, cult, violence, atm...            imdb   \n",
       "4  cruelty, murder, dramatic, cult, violence, atm...            imdb   \n",
       "\n",
       "   Wikipedia movie ID                                     Movie name  \\\n",
       "0            30855958  Dungeons & Dragons: The Book of Vile Darkness   \n",
       "1               76353                     The Shop Around the Corner   \n",
       "2              171076                             Mr. Holland's Opus   \n",
       "3               76331                                       Scarface   \n",
       "4              267848                                       Scarface   \n",
       "\n",
       "   Movie release date  Movie box office revenue  \\\n",
       "0                2012                       NaN   \n",
       "1                1940                       NaN   \n",
       "2                1995               106269971.0   \n",
       "3                1932                       NaN   \n",
       "4                1983                65884703.0   \n",
       "\n",
       "                              Movie languages             Movie countries  \\\n",
       "0                                          []            [United Kingdom]   \n",
       "1                          [English Language]  [United States of America]   \n",
       "2  [English Language, American Sign Language]  [United States of America]   \n",
       "3        [Italian Language, English Language]  [United States of America]   \n",
       "4        [English Language, Spanish Language]  [United States of America]   \n",
       "\n",
       "                                        Movie genres  averageRating  numVotes  \n",
       "0                                          [Fantasy]            4.4      2722  \n",
       "1  [Romantic comedy, Workplace Comedy, Black-and-...            8.0     39420  \n",
       "2  [Inspirational Drama, Family Film, Drama, Musi...            7.3     42244  \n",
       "3  [Crime Fiction, Gangster Film, Black-and-white...            8.3    939605  \n",
       "4  [Crime Fiction, Thriller, Gangster Film, Actio...            8.3    939605  "
      ]
     },
     "execution_count": 48,
     "metadata": {},
     "output_type": "execute_result"
    }
   ],
   "source": [
    "movies_ratings = pd.merge(movies_syn,ratings_df,on='imdb_id',how='inner')\n",
    "movies_ratings.head()"
   ]
  },
  {
   "cell_type": "markdown",
   "metadata": {},
   "source": [
    "Our dataset is now complete for the analysis, however we need to check the NaN values before"
   ]
  },
  {
   "cell_type": "code",
   "execution_count": 49,
   "metadata": {},
   "outputs": [
    {
     "data": {
      "image/png": "[encoded data removed]",
      "text/plain": [
       "<Figure size 1200x600 with 1 Axes>"
      ]
     },
     "metadata": {},
     "output_type": "display_data"
    }
   ],
   "source": [
    "# Calculate percentage of NaN values in each column\n",
    "na_percentage = (movies_ratings.isna().sum() / len(movies_ratings)) * 100\n",
    "na_percentage = na_percentage.sort_index()\n",
    "\n",
    "# Plot\n",
    "plt.figure(figsize=(12, 6))\n",
    "bars = na_percentage.plot(kind='bar', color='skyblue', width=0.8)  \n",
    "\n",
    "# Add percentage labels on top of each bar\n",
    "for i, value in enumerate(na_percentage):\n",
    "    plt.text(i, value + 1, f'{value:.1f}%', ha='center', va='bottom', fontsize=10)  \n",
    "\n",
    "plt.xlabel('Columns')\n",
    "plt.xticks(rotation=45, ha='right')  \n",
    "plt.ylabel('Percentage of NaN Values (%)')\n",
    "plt.ylim(top =73)\n",
    "plt.title('Percentage of NaN Values per Column')\n",
    "plt.tight_layout()  \n",
    "\n",
    "plt.show()\n"
   ]
  },
  {
   "cell_type": "markdown",
   "metadata": {},
   "source": [
    "Two columns contain NaN values. We need to handle. BETTER COMMENT"
   ]
  },
  {
   "cell_type": "markdown",
   "metadata": {},
   "source": [
    "We remove the years that are NaN as we are intereseted in the release years"
   ]
  },
  {
   "cell_type": "code",
   "execution_count": 52,
   "metadata": {},
   "outputs": [
    {
     "name": "stdout",
     "output_type": "stream",
     "text": [
      "False    14253\n",
      "True       433\n",
      "Name: Movie release date, dtype: int64\n"
     ]
    },
    {
     "data": {
      "text/plain": [
       "False"
      ]
     },
     "execution_count": 52,
     "metadata": {},
     "output_type": "execute_result"
    }
   ],
   "source": [
    "print(movies_ratings['Movie release date'].isna().value_counts())\n",
    "movies_df_cleaned = movies_ratings.dropna(subset=['Movie release date'])\n",
    "\n",
    "movies_df_cleaned['Movie release date'].isna().any()"
   ]
  },
  {
   "cell_type": "markdown",
   "metadata": {},
   "source": [
    "After realizing the high number of NaN values in the box-office revenue column, we decided to complete this data as much as possible with the IMDB library."
   ]
  },
  {
   "cell_type": "code",
   "execution_count": null,
   "metadata": {},
   "outputs": [],
   "source": [
    "def clean_ids(s, pattern=' '): #remove in string a pattern\n",
    "    s = str(s).replace(pattern, '')\n",
    "    return s\n",
    "\n",
    "#Get the right imdb_id by removing 'tt' in front of IDs\n",
    "movies_df_cleaned['imdb_id'] = movies_df_cleaned['imdb_id'].apply(lambda x : clean_ids(x, 'tt'))\n",
    "\n",
    "#Create a dic telling if 'Movie box office revenue' is a NaN or not\n",
    "isnan_dic = movies_df_cleaned['Movie box office revenue'].isna()\n",
    "\n",
    "def get_box_office(imdb_ID): #return the box-office revenue for a specific imdb_id\n",
    "    ia = IMDb()\n",
    "    movie = ia.get_movie(imdb_ID)\n",
    "    box_office = movie.get('box office')\n",
    "    if box_office and 'Cumulative Worldwide Gross' in box_office:\n",
    "        box_office_num = float(re.sub(r'[^\\d.]', '', box_office['Cumulative Worldwide Gross']))\n",
    "        #box_office_num = float(box_office['Cumulative Worldwide Gross'].replace('$', '').replace(',', ''))\n",
    "        return box_office_num\n",
    "    return None  # Return None if no box office data is found\n"
   ]
  },
  {
   "cell_type": "code",
   "execution_count": null,
   "metadata": {},
   "outputs": [],
   "source": [
    "#Quick checks\n",
    "index_case1 = 0\n",
    "index_case2 = 1\n",
    "index_case3 = 2\n",
    "print(f\"The initial box-office was {movies_df_cleaned.iloc[index_case1]['Movie box office revenue']}, we find with Imdb library {get_box_office(movies_df_cleaned.iloc[index_case1]['imdb_id'])}\")\n",
    "print(f\"The initial box-office was {movies_df_cleaned.iloc[index_case2]['Movie box office revenue']}, we find with Imdb library {get_box_office(movies_df_cleaned.iloc[index_case2]['imdb_id'])}\")\n",
    "print(f\"The initial box-office was {movies_df_cleaned.iloc[index_case3]['Movie box office revenue']}, we find with Imdb library {get_box_office(movies_df_cleaned.iloc[index_case3]['imdb_id'])}\")"
   ]
  },
  {
   "cell_type": "markdown",
   "metadata": {},
   "source": [
    "We are indeed getting more box-office data, and recovering the same value in cases where we already had data ! Let's now apply the function on the whole dataset."
   ]
  },
  {
   "cell_type": "code",
   "execution_count": null,
   "metadata": {},
   "outputs": [],
   "source": [
    "#Apply on the whole dataset\n",
    "run = False #Run is very long, directly use the file in Data directory\n",
    "if run:\n",
    "    box_offices = movies_df_cleaned.apply(lambda x: get_box_office(x['imdb_id']) if isnan_dic[x.name] else x['Movie box office revenue'], axis=1) #Try to get the box-office from Imdb only if we don't already have it\n",
    "    movies_df_cleaned.insert(len(movies_df_cleaned.columns), 'IMDB Box-office', box_offices)"
   ]
  },
  {
   "cell_type": "code",
   "execution_count": null,
   "metadata": {},
   "outputs": [],
   "source": [
    "movies_synopsis_comp = movies_df_cleaned.copy()"
   ]
  },
  {
   "cell_type": "code",
   "execution_count": null,
   "metadata": {},
   "outputs": [],
   "source": [
    "#Here is the file with completed box-office from Imdb (last column)\n",
    "movies_synopsis_comp = pd.read_csv('Data/movies_synopsis_comp.csv')\n",
    "display(movies_synopsis_comp.head())"
   ]
  },
  {
   "cell_type": "markdown",
   "metadata": {},
   "source": [
    "### Comment\n",
    "\n",
    "We completed some of the missing data, but how much did we improve ?"
   ]
  },
  {
   "cell_type": "code",
   "execution_count": null,
   "metadata": {},
   "outputs": [],
   "source": [
    "#Improvement in NaN values in box-office\n",
    "na_percentage_box_init = (movies_synopsis_comp['Movie box office revenue'].isna().sum() / len(movies_synopsis_comp)) * 100\n",
    "na_percentage_box_imdb = (movies_synopsis_comp['IMDB Box-office'].isna().sum() / len(movies_synopsis_comp)) * 100\n",
    "print(f\"We went from {round(na_percentage_box_init,2)}% of NaN values to {round(na_percentage_box_imdb,2)}%.\")"
   ]
  },
  {
   "cell_type": "code",
   "execution_count": null,
   "metadata": {},
   "outputs": [],
   "source": [
    "#Remove the old revenue column as we don't need it anymore\n",
    "movies_synopsis_comp.drop('Movie box office revenue', axis=1, inplace=True)"
   ]
  },
  {
   "cell_type": "markdown",
   "metadata": {},
   "source": [
    "### Comment\n",
    "The increase is a bit deceiving. The IMDB library is missing a lot of box-offices too. We suspect the IMDB library to mabe block when there are too many requests, giving more NaN values than there actually are. In the end that's still an increase of 24% in box-office data size, which will help us for our analysis."
   ]
  },
  {
   "cell_type": "markdown",
   "metadata": {},
   "source": [
    "## COMMENT HOW HANDLE MISSING VALUES"
   ]
  },
  {
   "cell_type": "markdown",
   "metadata": {},
   "source": [
    "# PART 2: Data Analysis"
   ]
  },
  {
   "cell_type": "markdown",
   "metadata": {},
   "source": [
    "### A CHANGER AVEC movie_final = movies_synopsis_comp.copy() MAIS J'AVAIS PAS LE DATASET"
   ]
  },
  {
   "cell_type": "code",
   "execution_count": 53,
   "metadata": {},
   "outputs": [],
   "source": [
    "movie_final = movies_df_cleaned.copy()"
   ]
  },
  {
   "cell_type": "markdown",
   "metadata": {},
   "source": [
    "### Movies' genres exploration"
   ]
  },
  {
   "cell_type": "code",
   "execution_count": 58,
   "metadata": {},
   "outputs": [
    {
     "name": "stdout",
     "output_type": "stream",
     "text": [
      "Number of unique genres: 333\n"
     ]
    }
   ],
   "source": [
    "all_genres = movie_final['Movie genres'].explode()\n",
    "\n",
    "genres_counts = all_genres.value_counts()\n",
    "\n",
    "num_unique_genre = all_genres.nunique()\n",
    "print(\"Number of unique genres:\", num_unique_genre)"
   ]
  },
  {
   "cell_type": "code",
   "execution_count": 59,
   "metadata": {},
   "outputs": [
    {
     "data": {
      "image/png": "[encoded data removed]",
      "text/plain": [
       "<Figure size 1000x800 with 1 Axes>"
      ]
     },
     "metadata": {},
     "output_type": "display_data"
    }
   ],
   "source": [
    "# Plot the number of movies per top 30 genres\n",
    "plt.figure(figsize=(10, 8))\n",
    "bars = genres_counts.head(30).sort_values(ascending=True).plot(kind='barh', color='lightgreen')\n",
    "\n",
    "for index, value in enumerate(genres_counts.head(30).sort_values(ascending=True)):\n",
    "    plt.text(value, index, str(value), va='center')\n",
    "\n",
    "plt.xlabel('Number of Movies', fontsize=16)\n",
    "plt.ylabel('Genres', fontsize=16)\n",
    "plt.title('Number of Movies per Genre', fontsize=16)  \n",
    "\n",
    "plt.show()"
   ]
  },
  {
   "cell_type": "markdown",
   "metadata": {},
   "source": [
    "Drama is the clear leader when it comes to movie genres, followed by Comedy and Romance. This makes sense since these genres appeal to a wide range of audiences. Genres like Thriller, Action, and Documentary are also popular, showing that people enjoy excitement and real-life stories. On the other end, niche genres like 'Cult' and 'Political drama' are much less common, which isn't surprising given their more specific audience.\n",
    "\n",
    "Here we decided to show only the top 30 genres to keep the chart clear and easy to read."
   ]
  },
  {
   "cell_type": "markdown",
   "metadata": {},
   "source": [
    "### Movies Box office exploration"
   ]
  },
  {
   "cell_type": "code",
   "execution_count": 60,
   "metadata": {},
   "outputs": [],
   "source": [
    "# Faire plot "
   ]
  },
  {
   "cell_type": "markdown",
   "metadata": {},
   "source": [
    "### Movies Ratings exploration"
   ]
  },
  {
   "cell_type": "code",
   "execution_count": 101,
   "metadata": {},
   "outputs": [
    {
     "data": {
      "text/plain": [
       "count    14253.000000\n",
       "mean         6.378678\n",
       "std          1.072964\n",
       "min          1.300000\n",
       "25%          5.800000\n",
       "50%          6.500000\n",
       "75%          7.100000\n",
       "max          9.300000\n",
       "Name: averageRating, dtype: float64"
      ]
     },
     "execution_count": 101,
     "metadata": {},
     "output_type": "execute_result"
    }
   ],
   "source": [
    "movie_final['averageRating'].describe()"
   ]
  },
  {
   "cell_type": "markdown",
   "metadata": {},
   "source": [
    "## QUICK COMMENT"
   ]
  },
  {
   "cell_type": "code",
   "execution_count": 100,
   "metadata": {},
   "outputs": [
    {
     "data": {
      "image/png": "[encoded data removed]",
      "text/plain": [
       "<Figure size 1000x600 with 1 Axes>"
      ]
     },
     "metadata": {},
     "output_type": "display_data"
    }
   ],
   "source": [
    "rating_counts = movie_final['averageRating'].value_counts().sort_index()\n",
    "\n",
    "# Plotting the bar chart\n",
    "plt.figure(figsize=(10, 6))\n",
    "plt.bar(rating_counts.index, rating_counts.values)\n",
    "plt.xlabel('Average Rating')\n",
    "plt.ylabel('Number of Movies')\n",
    "plt.title('Number of Movies by Rating')\n",
    "plt.grid(axis='y', linestyle='--', alpha=0.5)\n",
    "plt.show()"
   ]
  },
  {
   "cell_type": "markdown",
   "metadata": {},
   "source": [
    "## COMMENTer + faire un plot plus joli ??"
   ]
  },
  {
   "cell_type": "markdown",
   "metadata": {},
   "source": [
    "### Movies countries exploration"
   ]
  },
  {
   "cell_type": "code",
   "execution_count": 62,
   "metadata": {},
   "outputs": [
    {
     "name": "stdout",
     "output_type": "stream",
     "text": [
      "United States of America    10205\n",
      "United Kingdom               2268\n",
      "France                        757\n",
      "Germany                       650\n",
      "India                         647\n",
      "                            ...  \n",
      "Mandatory Palestine             1\n",
      "Kenya                           1\n",
      "Sri Lanka                       1\n",
      "Serbia and Montenegro           1\n",
      "Mongolia                        1\n",
      "Name: Movie countries, Length: 109, dtype: int64\n"
     ]
    }
   ],
   "source": [
    "all_countries = movie_final['Movie countries'].explode()\n",
    "\n",
    "countries_counts = all_countries.value_counts() \n",
    "\n",
    "print(countries_counts)"
   ]
  },
  {
   "cell_type": "code",
   "execution_count": 63,
   "metadata": {},
   "outputs": [
    {
     "name": "stdout",
     "output_type": "stream",
     "text": [
      "Number of unique countries: 109\n"
     ]
    }
   ],
   "source": [
    "num_unique_countries = all_countries.nunique()\n",
    "print(\"Number of unique countries:\", num_unique_countries)"
   ]
  },
  {
   "cell_type": "code",
   "execution_count": 102,
   "metadata": {},
   "outputs": [
    {
     "data": {
      "image/png": "[encoded data removed]",
      "text/plain": [
       "<Figure size 1000x800 with 1 Axes>"
      ]
     },
     "metadata": {},
     "output_type": "display_data"
    }
   ],
   "source": [
    "# Plot the number of movies per top 30 country\n",
    "plt.figure(figsize=(10, 8))\n",
    "bars = countries_counts.head(30).sort_values(ascending=True).plot(kind='barh', color='lightcoral')\n",
    "\n",
    "for index, value in enumerate(countries_counts.head(30).sort_values(ascending=True)):\n",
    "    plt.text(value, index, str(value), va='center')\n",
    "\n",
    "plt.xlabel('Number of Movies', fontsize=16)\n",
    "plt.ylabel('Countries', fontsize=16)\n",
    "plt.title('Number of Movies per Country', fontsize=16)  \n",
    "plt.xscale('log')\n",
    "plt.show()"
   ]
  },
  {
   "cell_type": "markdown",
   "metadata": {},
   "source": [
    "The United States has the most movies by far, showing its huge impact on the film industry. The United Kingdoms and France come next, thanks to Bollywood and British cinema. Germany, India and Canada also produce a lot of movies. The numbers drop as you go down the list, with fewer movies made in other countries.\n",
    "\n",
    "We decided to show only the top 30 countries to keep the chart clear and easy to read. For better readibility we used a log scale on the x axis."
   ]
  },
  {
   "cell_type": "markdown",
   "metadata": {},
   "source": [
    "### Movies languages exploration"
   ]
  },
  {
   "cell_type": "code",
   "execution_count": 54,
   "metadata": {},
   "outputs": [
    {
     "name": "stdout",
     "output_type": "stream",
     "text": [
      "English Language           11712\n",
      "French Language              755\n",
      "Spanish Language             531\n",
      "Hindi Language               505\n",
      "German Language              414\n",
      "                           ...  \n",
      "Hmong language                 1\n",
      "Azerbaijani language           1\n",
      "Malay Language                 1\n",
      "Farsi, Western Language        1\n",
      "Southwestern Mandarin          1\n",
      "Name: Movie languages, Length: 148, dtype: int64\n"
     ]
    }
   ],
   "source": [
    "all_languages = movie_final['Movie languages'].explode()\n",
    "\n",
    "language_counts = all_languages.value_counts()\n",
    "\n",
    "print(language_counts)"
   ]
  },
  {
   "cell_type": "code",
   "execution_count": 55,
   "metadata": {},
   "outputs": [
    {
     "name": "stdout",
     "output_type": "stream",
     "text": [
      "The dataset contains  148 unique languages.\n"
     ]
    }
   ],
   "source": [
    "num_unique_languages = all_languages.nunique()\n",
    "print(\"The dataset contains \", num_unique_languages, \"unique languages.\")"
   ]
  },
  {
   "cell_type": "code",
   "execution_count": 103,
   "metadata": {},
   "outputs": [
    {
     "data": {
      "image/png": "[encoded data removed]",
      "text/plain": [
       "<Figure size 1000x800 with 1 Axes>"
      ]
     },
     "metadata": {},
     "output_type": "display_data"
    }
   ],
   "source": [
    "# Plot the number of movies per language \n",
    "plt.figure(figsize=(10, 8))\n",
    "bars = language_counts.head(20).sort_values(ascending=True).plot(kind='barh', color='lightblue')\n",
    "\n",
    "for index, value in enumerate(language_counts.head(20).sort_values(ascending=True)):\n",
    "    plt.text(value, index, str(value), va='center')\n",
    "\n",
    "plt.xlabel('Number of Movies',fontsize=14)\n",
    "plt.ylabel('Languages',fontsize=14)\n",
    "plt.title('Number of Movies of top 20 Languages', fontsize=14)\n",
    "plt.xscale('log')\n",
    "plt.show()"
   ]
  },
  {
   "cell_type": "markdown",
   "metadata": {},
   "source": [
    "As previously seen, English is largely dominant. This can be attributed to its role as a global lingua franca, making films more accessible to international audiences. Additionally, major movie industries in countries like the United Kingdom and other English-speaking regions contribute to the high number of English-language films.\n",
    "\n",
    "For better visibility, we chose to display only the top 20 languages in this chart. It is also noticeable that the number of movies per language drops off quickly after the most common languages, highlighting the dominance of a few major languages in movie production and a long tail of less commonly represented languages. For better readibility we used a log scale on the x axis."
   ]
  },
  {
   "cell_type": "markdown",
   "metadata": {},
   "source": [
    "### Movies release year exploration"
   ]
  },
  {
   "cell_type": "markdown",
   "metadata": {},
   "source": [
    "Here we do a general analysis about the total number of movies released each year."
   ]
  },
  {
   "cell_type": "code",
   "execution_count": 65,
   "metadata": {},
   "outputs": [],
   "source": [
    "all_years = movie_final['Movie release date'].explode()\n",
    "years_counts = all_years.value_counts()"
   ]
  },
  {
   "cell_type": "code",
   "execution_count": 66,
   "metadata": {},
   "outputs": [
    {
     "data": {
      "image/png": "[encoded data removed]",
      "text/plain": [
       "<Figure size 1000x800 with 1 Axes>"
      ]
     },
     "metadata": {},
     "output_type": "display_data"
    }
   ],
   "source": [
    "plt.figure(figsize=(10, 8))  \n",
    "plot_years_counts = all_years.value_counts().sort_index().plot(kind='bar')\n",
    "plt.xlabel('Years', fontsize=16 )\n",
    "plt.ylabel('Number of Movies', fontsize=16)\n",
    "plt.title('Number of Movies per Year', fontsize=16)\n",
    "\n",
    "plt.xticks(range(0, len(all_years.value_counts().sort_index()), 5), \n",
    "           all_years.value_counts().sort_index().index[::5], \n",
    "           rotation=45)\n",
    "\n",
    "plt.show()"
   ]
  },
  {
   "cell_type": "markdown",
   "metadata": {},
   "source": [
    "The movie production has grown steadily over time, with a big jump starting in the 1990s and peaking in the early 2000s. The increase after the 1980s is likely due to better technology and more people making movies around the world. The early years have fewer movies because the film industry was just getting started."
   ]
  },
  {
   "cell_type": "markdown",
   "metadata": {},
   "source": [
    "### Movies per decade for most important countries"
   ]
  },
  {
   "cell_type": "code",
   "execution_count": 75,
   "metadata": {},
   "outputs": [],
   "source": [
    "# Get top 10 countries releasing movies\n",
    "top_10_countries = countries_counts.head(10).index\n",
    "\n",
    "# Get one country per row (since some movies contain more that one countries)\n",
    "expanded_df = movie_final.explode('Movie countries')\n",
    "\n",
    "top_countries_df = expanded_df[expanded_df['Movie countries'].isin(top_10_countries)]"
   ]
  },
  {
   "cell_type": "code",
   "execution_count": 79,
   "metadata": {},
   "outputs": [
    {
     "name": "stderr",
     "output_type": "stream",
     "text": [
      "/var/folders/tp/ncf811k96mv0r_6b8tn9rw340000gn/T/ipykernel_29197/3397669656.py:1: SettingWithCopyWarning:\n",
      "\n",
      "\n",
      "A value is trying to be set on a copy of a slice from a DataFrame.\n",
      "Try using .loc[row_indexer,col_indexer] = value instead\n",
      "\n",
      "See the caveats in the documentation: https://pandas.pydata.org/pandas-docs/stable/user_guide/indexing.html#returning-a-view-versus-a-copy\n",
      "\n"
     ]
    }
   ],
   "source": [
    "top_countries_df['Decade'] = (top_countries_df['Movie release date'] // 10) * 10\n",
    "\n",
    "# Group by decade and country, count the number of movies\n",
    "movies_per_decade_countries = top_countries_df.groupby(['Decade', 'Movie countries']).size().unstack(fill_value=0)"
   ]
  },
  {
   "cell_type": "code",
   "execution_count": 80,
   "metadata": {},
   "outputs": [
    {
     "data": {
      "application/vnd.plotly.v1+json": {
       "config": {
        "plotlyServerURL": "https://plot.ly"
       },
       "data": [
        {
         "customdata": [
          0,
          0,
          0,
          0.38022813688212925,
          0.44052863436123346,
          0,
          0.30272452068617556,
          0,
          1.1825572801182558,
          4.411001556824079,
          2.0223152022315203,
          3.0200675541426585,
          2.4752475247524752
         ],
         "hovertemplate": "Percentage: %{customdata:.2f}%",
         "name": "Australia",
         "type": "bar",
         "x": [
          1890,
          1900,
          1910,
          1920,
          1930,
          1940,
          1950,
          1960,
          1970,
          1980,
          1990,
          2000,
          2010
         ],
         "y": [
          0,
          0,
          0,
          1,
          3,
          0,
          3,
          0,
          16,
          85,
          58,
          152,
          30
         ]
        },
        {
         "customdata": [
          0,
          0,
          0,
          0,
          0.44052863436123346,
          0.11890606420927467,
          0.30272452068617556,
          1.5312131919905771,
          1.9216555801921655,
          3.7882719252724444,
          3.5564853556485354,
          6.417643552553149,
          4.9504950495049505
         ],
         "hovertemplate": "Percentage: %{customdata:.2f}%",
         "name": "Canada",
         "type": "bar",
         "x": [
          1890,
          1900,
          1910,
          1920,
          1930,
          1940,
          1950,
          1960,
          1970,
          1980,
          1990,
          2000,
          2010
         ],
         "y": [
          0,
          0,
          0,
          0,
          3,
          1,
          3,
          13,
          26,
          73,
          102,
          323,
          60
         ]
        },
        {
         "customdata": [
          100,
          32.432432432432435,
          6.046511627906977,
          3.041825095057034,
          1.7621145374449338,
          2.140309155766944,
          2.522704339051463,
          3.297997644287397,
          4.138950480413895,
          4.25531914893617,
          4.637377963737796,
          5.404331412676336,
          6.765676567656766
         ],
         "hovertemplate": "Percentage: %{customdata:.2f}%",
         "name": "France",
         "type": "bar",
         "x": [
          1890,
          1900,
          1910,
          1920,
          1930,
          1940,
          1950,
          1960,
          1970,
          1980,
          1990,
          2000,
          2010
         ],
         "y": [
          4,
          24,
          13,
          8,
          12,
          18,
          25,
          28,
          56,
          82,
          133,
          272,
          82
         ]
        },
        {
         "customdata": [
          0,
          0,
          5.5813953488372094,
          7.984790874524715,
          1.908957415565345,
          0.713436385255648,
          0.20181634712411706,
          0.7067137809187279,
          1.8477457501847745,
          1.0897768552153606,
          3.1380753138075312,
          8.066759388038943,
          3.9603960396039604
         ],
         "hovertemplate": "Percentage: %{customdata:.2f}%",
         "name": "Germany",
         "type": "bar",
         "x": [
          1890,
          1900,
          1910,
          1920,
          1930,
          1940,
          1950,
          1960,
          1970,
          1980,
          1990,
          2000,
          2010
         ],
         "y": [
          0,
          0,
          12,
          21,
          13,
          6,
          2,
          6,
          25,
          21,
          90,
          406,
          48
         ]
        },
        {
         "customdata": [
          0,
          0,
          0,
          0.38022813688212925,
          0.2936857562408223,
          1.426872770511296,
          2.2199798183652875,
          5.064782096584216,
          3.252032520325203,
          3.6844836533471716,
          4.044630404463041,
          5.245380488774091,
          5.9405940594059405
         ],
         "hovertemplate": "Percentage: %{customdata:.2f}%",
         "name": "India",
         "type": "bar",
         "x": [
          1890,
          1900,
          1910,
          1920,
          1930,
          1940,
          1950,
          1960,
          1970,
          1980,
          1990,
          2000,
          2010
         ],
         "y": [
          0,
          0,
          0,
          1,
          2,
          12,
          22,
          43,
          44,
          71,
          116,
          264,
          72
         ]
        },
        {
         "customdata": [
          0,
          12.162162162162161,
          0.9302325581395349,
          0.7604562737642585,
          0.14684287812041116,
          1.070154577883472,
          3.5317860746720484,
          5.1825677267373385,
          4.951958610495196,
          2.6466009340944474,
          1.394700139470014,
          1.8875422213391615,
          0.6600660066006601
         ],
         "hovertemplate": "Percentage: %{customdata:.2f}%",
         "name": "Italy",
         "type": "bar",
         "x": [
          1890,
          1900,
          1910,
          1920,
          1930,
          1940,
          1950,
          1960,
          1970,
          1980,
          1990,
          2000,
          2010
         ],
         "y": [
          0,
          9,
          2,
          2,
          1,
          9,
          35,
          44,
          67,
          51,
          40,
          95,
          8
         ]
        },
        {
         "customdata": [
          0,
          0,
          0,
          0,
          0,
          0,
          0.7063572149344097,
          0.8244994110718492,
          0.5173688100517368,
          2.075765438505449,
          3.5564853556485354,
          1.8875422213391615,
          1.4026402640264026
         ],
         "hovertemplate": "Percentage: %{customdata:.2f}%",
         "name": "Japan",
         "type": "bar",
         "x": [
          1890,
          1900,
          1910,
          1920,
          1930,
          1940,
          1950,
          1960,
          1970,
          1980,
          1990,
          2000,
          2010
         ],
         "y": [
          0,
          0,
          0,
          0,
          0,
          0,
          7,
          7,
          7,
          40,
          102,
          95,
          17
         ]
        },
        {
         "customdata": [
          0,
          0,
          0,
          0,
          0,
          0.11890606420927467,
          0.7063572149344097,
          0.5889281507656066,
          2.6607538802660753,
          1.0378827192527245,
          0.7322175732217573,
          1.688853566461355,
          1.5676567656765676
         ],
         "hovertemplate": "Percentage: %{customdata:.2f}%",
         "name": "Spain",
         "type": "bar",
         "x": [
          1890,
          1900,
          1910,
          1920,
          1930,
          1940,
          1950,
          1960,
          1970,
          1980,
          1990,
          2000,
          2010
         ],
         "y": [
          0,
          0,
          0,
          0,
          0,
          1,
          7,
          5,
          36,
          20,
          21,
          85,
          19
         ]
        },
        {
         "customdata": [
          0,
          4.054054054054054,
          14.883720930232558,
          12.547528517110266,
          9.397944199706314,
          9.63139120095125,
          13.72351160443996,
          25.08833922261484,
          21.13821138211382,
          12.76595744680851,
          12.09902370990237,
          13.312139876813035,
          12.953795379537954
         ],
         "hovertemplate": "Percentage: %{customdata:.2f}%",
         "name": "United Kingdom",
         "type": "bar",
         "x": [
          1890,
          1900,
          1910,
          1920,
          1930,
          1940,
          1950,
          1960,
          1970,
          1980,
          1990,
          2000,
          2010
         ],
         "y": [
          0,
          3,
          32,
          33,
          64,
          81,
          136,
          213,
          286,
          246,
          347,
          670,
          157
         ]
        },
        {
         "customdata": [
          0,
          51.351351351351354,
          72.55813953488372,
          74.90494296577947,
          85.6093979441997,
          84.78002378121285,
          75.78203834510596,
          57.714958775029444,
          58.38876570583888,
          64.24494032174364,
          64.8186889818689,
          53.06973971786211,
          59.32343234323432
         ],
         "hovertemplate": "Percentage: %{customdata:.2f}%",
         "name": "United States of America",
         "type": "bar",
         "x": [
          1890,
          1900,
          1910,
          1920,
          1930,
          1940,
          1950,
          1960,
          1970,
          1980,
          1990,
          2000,
          2010
         ],
         "y": [
          0,
          38,
          156,
          197,
          583,
          713,
          751,
          490,
          790,
          1238,
          1859,
          2671,
          719
         ]
        }
       ],
       "layout": {
        "barmode": "stack",
        "hovermode": "x",
        "legend": {
         "title": {
          "text": "Country"
         }
        },
        "template": {
         "data": {
          "bar": [
           {
            "error_x": {
             "color": "#2a3f5f"
            },
            "error_y": {
             "color": "#2a3f5f"
            },
            "marker": {
             "line": {
              "color": "#E5ECF6",
              "width": 0.5
             },
             "pattern": {
              "fillmode": "overlay",
              "size": 10,
              "solidity": 0.2
             }
            },
            "type": "bar"
           }
          ],
          "barpolar": [
           {
            "marker": {
             "line": {
              "color": "#E5ECF6",
              "width": 0.5
             },
             "pattern": {
              "fillmode": "overlay",
              "size": 10,
              "solidity": 0.2
             }
            },
            "type": "barpolar"
           }
          ],
          "carpet": [
           {
            "aaxis": {
             "endlinecolor": "#2a3f5f",
             "gridcolor": "white",
             "linecolor": "white",
             "minorgridcolor": "white",
             "startlinecolor": "#2a3f5f"
            },
            "baxis": {
             "endlinecolor": "#2a3f5f",
             "gridcolor": "white",
             "linecolor": "white",
             "minorgridcolor": "white",
             "startlinecolor": "#2a3f5f"
            },
            "type": "carpet"
           }
          ],
          "choropleth": [
           {
            "colorbar": {
             "outlinewidth": 0,
             "ticks": ""
            },
            "type": "choropleth"
           }
          ],
          "contour": [
           {
            "colorbar": {
             "outlinewidth": 0,
             "ticks": ""
            },
            "colorscale": [
             [
              0,
              "#0d0887"
             ],
             [
              0.1111111111111111,
              "#46039f"
             ],
             [
              0.2222222222222222,
              "#7201a8"
             ],
             [
              0.3333333333333333,
              "#9c179e"
             ],
             [
              0.4444444444444444,
              "#bd3786"
             ],
             [
              0.5555555555555556,
              "#d8576b"
             ],
             [
              0.6666666666666666,
              "#ed7953"
             ],
             [
              0.7777777777777778,
              "#fb9f3a"
             ],
             [
              0.8888888888888888,
              "#fdca26"
             ],
             [
              1,
              "#f0f921"
             ]
            ],
            "type": "contour"
           }
          ],
          "contourcarpet": [
           {
            "colorbar": {
             "outlinewidth": 0,
             "ticks": ""
            },
            "type": "contourcarpet"
           }
          ],
          "heatmap": [
           {
            "colorbar": {
             "outlinewidth": 0,
             "ticks": ""
            },
            "colorscale": [
             [
              0,
              "#0d0887"
             ],
             [
              0.1111111111111111,
              "#46039f"
             ],
             [
              0.2222222222222222,
              "#7201a8"
             ],
             [
              0.3333333333333333,
              "#9c179e"
             ],
             [
              0.4444444444444444,
              "#bd3786"
             ],
             [
              0.5555555555555556,
              "#d8576b"
             ],
             [
              0.6666666666666666,
              "#ed7953"
             ],
             [
              0.7777777777777778,
              "#fb9f3a"
             ],
             [
              0.8888888888888888,
              "#fdca26"
             ],
             [
              1,
              "#f0f921"
             ]
            ],
            "type": "heatmap"
           }
          ],
          "heatmapgl": [
           {
            "colorbar": {
             "outlinewidth": 0,
             "ticks": ""
            },
            "colorscale": [
             [
              0,
              "#0d0887"
             ],
             [
              0.1111111111111111,
              "#46039f"
             ],
             [
              0.2222222222222222,
              "#7201a8"
             ],
             [
              0.3333333333333333,
              "#9c179e"
             ],
             [
              0.4444444444444444,
              "#bd3786"
             ],
             [
              0.5555555555555556,
              "#d8576b"
             ],
             [
              0.6666666666666666,
              "#ed7953"
             ],
             [
              0.7777777777777778,
              "#fb9f3a"
             ],
             [
              0.8888888888888888,
              "#fdca26"
             ],
             [
              1,
              "#f0f921"
             ]
            ],
            "type": "heatmapgl"
           }
          ],
          "histogram": [
           {
            "marker": {
             "pattern": {
              "fillmode": "overlay",
              "size": 10,
              "solidity": 0.2
             }
            },
            "type": "histogram"
           }
          ],
          "histogram2d": [
           {
            "colorbar": {
             "outlinewidth": 0,
             "ticks": ""
            },
            "colorscale": [
             [
              0,
              "#0d0887"
             ],
             [
              0.1111111111111111,
              "#46039f"
             ],
             [
              0.2222222222222222,
              "#7201a8"
             ],
             [
              0.3333333333333333,
              "#9c179e"
             ],
             [
              0.4444444444444444,
              "#bd3786"
             ],
             [
              0.5555555555555556,
              "#d8576b"
             ],
             [
              0.6666666666666666,
              "#ed7953"
             ],
             [
              0.7777777777777778,
              "#fb9f3a"
             ],
             [
              0.8888888888888888,
              "#fdca26"
             ],
             [
              1,
              "#f0f921"
             ]
            ],
            "type": "histogram2d"
           }
          ],
          "histogram2dcontour": [
           {
            "colorbar": {
             "outlinewidth": 0,
             "ticks": ""
            },
            "colorscale": [
             [
              0,
              "#0d0887"
             ],
             [
              0.1111111111111111,
              "#46039f"
             ],
             [
              0.2222222222222222,
              "#7201a8"
             ],
             [
              0.3333333333333333,
              "#9c179e"
             ],
             [
              0.4444444444444444,
              "#bd3786"
             ],
             [
              0.5555555555555556,
              "#d8576b"
             ],
             [
              0.6666666666666666,
              "#ed7953"
             ],
             [
              0.7777777777777778,
              "#fb9f3a"
             ],
             [
              0.8888888888888888,
              "#fdca26"
             ],
             [
              1,
              "#f0f921"
             ]
            ],
            "type": "histogram2dcontour"
           }
          ],
          "mesh3d": [
           {
            "colorbar": {
             "outlinewidth": 0,
             "ticks": ""
            },
            "type": "mesh3d"
           }
          ],
          "parcoords": [
           {
            "line": {
             "colorbar": {
              "outlinewidth": 0,
              "ticks": ""
             }
            },
            "type": "parcoords"
           }
          ],
          "pie": [
           {
            "automargin": true,
            "type": "pie"
           }
          ],
          "scatter": [
           {
            "fillpattern": {
             "fillmode": "overlay",
             "size": 10,
             "solidity": 0.2
            },
            "type": "scatter"
           }
          ],
          "scatter3d": [
           {
            "line": {
             "colorbar": {
              "outlinewidth": 0,
              "ticks": ""
             }
            },
            "marker": {
             "colorbar": {
              "outlinewidth": 0,
              "ticks": ""
             }
            },
            "type": "scatter3d"
           }
          ],
          "scattercarpet": [
           {
            "marker": {
             "colorbar": {
              "outlinewidth": 0,
              "ticks": ""
             }
            },
            "type": "scattercarpet"
           }
          ],
          "scattergeo": [
           {
            "marker": {
             "colorbar": {
              "outlinewidth": 0,
              "ticks": ""
             }
            },
            "type": "scattergeo"
           }
          ],
          "scattergl": [
           {
            "marker": {
             "colorbar": {
              "outlinewidth": 0,
              "ticks": ""
             }
            },
            "type": "scattergl"
           }
          ],
          "scattermapbox": [
           {
            "marker": {
             "colorbar": {
              "outlinewidth": 0,
              "ticks": ""
             }
            },
            "type": "scattermapbox"
           }
          ],
          "scatterpolar": [
           {
            "marker": {
             "colorbar": {
              "outlinewidth": 0,
              "ticks": ""
             }
            },
            "type": "scatterpolar"
           }
          ],
          "scatterpolargl": [
           {
            "marker": {
             "colorbar": {
              "outlinewidth": 0,
              "ticks": ""
             }
            },
            "type": "scatterpolargl"
           }
          ],
          "scatterternary": [
           {
            "marker": {
             "colorbar": {
              "outlinewidth": 0,
              "ticks": ""
             }
            },
            "type": "scatterternary"
           }
          ],
          "surface": [
           {
            "colorbar": {
             "outlinewidth": 0,
             "ticks": ""
            },
            "colorscale": [
             [
              0,
              "#0d0887"
             ],
             [
              0.1111111111111111,
              "#46039f"
             ],
             [
              0.2222222222222222,
              "#7201a8"
             ],
             [
              0.3333333333333333,
              "#9c179e"
             ],
             [
              0.4444444444444444,
              "#bd3786"
             ],
             [
              0.5555555555555556,
              "#d8576b"
             ],
             [
              0.6666666666666666,
              "#ed7953"
             ],
             [
              0.7777777777777778,
              "#fb9f3a"
             ],
             [
              0.8888888888888888,
              "#fdca26"
             ],
             [
              1,
              "#f0f921"
             ]
            ],
            "type": "surface"
           }
          ],
          "table": [
           {
            "cells": {
             "fill": {
              "color": "#EBF0F8"
             },
             "line": {
              "color": "white"
             }
            },
            "header": {
             "fill": {
              "color": "#C8D4E3"
             },
             "line": {
              "color": "white"
             }
            },
            "type": "table"
           }
          ]
         },
         "layout": {
          "annotationdefaults": {
           "arrowcolor": "#2a3f5f",
           "arrowhead": 0,
           "arrowwidth": 1
          },
          "autotypenumbers": "strict",
          "coloraxis": {
           "colorbar": {
            "outlinewidth": 0,
            "ticks": ""
           }
          },
          "colorscale": {
           "diverging": [
            [
             0,
             "#8e0152"
            ],
            [
             0.1,
             "#c51b7d"
            ],
            [
             0.2,
             "#de77ae"
            ],
            [
             0.3,
             "#f1b6da"
            ],
            [
             0.4,
             "#fde0ef"
            ],
            [
             0.5,
             "#f7f7f7"
            ],
            [
             0.6,
             "#e6f5d0"
            ],
            [
             0.7,
             "#b8e186"
            ],
            [
             0.8,
             "#7fbc41"
            ],
            [
             0.9,
             "#4d9221"
            ],
            [
             1,
             "#276419"
            ]
           ],
           "sequential": [
            [
             0,
             "#0d0887"
            ],
            [
             0.1111111111111111,
             "#46039f"
            ],
            [
             0.2222222222222222,
             "#7201a8"
            ],
            [
             0.3333333333333333,
             "#9c179e"
            ],
            [
             0.4444444444444444,
             "#bd3786"
            ],
            [
             0.5555555555555556,
             "#d8576b"
            ],
            [
             0.6666666666666666,
             "#ed7953"
            ],
            [
             0.7777777777777778,
             "#fb9f3a"
            ],
            [
             0.8888888888888888,
             "#fdca26"
            ],
            [
             1,
             "#f0f921"
            ]
           ],
           "sequentialminus": [
            [
             0,
             "#0d0887"
            ],
            [
             0.1111111111111111,
             "#46039f"
            ],
            [
             0.2222222222222222,
             "#7201a8"
            ],
            [
             0.3333333333333333,
             "#9c179e"
            ],
            [
             0.4444444444444444,
             "#bd3786"
            ],
            [
             0.5555555555555556,
             "#d8576b"
            ],
            [
             0.6666666666666666,
             "#ed7953"
            ],
            [
             0.7777777777777778,
             "#fb9f3a"
            ],
            [
             0.8888888888888888,
             "#fdca26"
            ],
            [
             1,
             "#f0f921"
            ]
           ]
          },
          "colorway": [
           "#636efa",
           "#EF553B",
           "#00cc96",
           "#ab63fa",
           "#FFA15A",
           "#19d3f3",
           "#FF6692",
           "#B6E880",
           "#FF97FF",
           "#FECB52"
          ],
          "font": {
           "color": "#2a3f5f"
          },
          "geo": {
           "bgcolor": "white",
           "lakecolor": "white",
           "landcolor": "#E5ECF6",
           "showlakes": true,
           "showland": true,
           "subunitcolor": "white"
          },
          "hoverlabel": {
           "align": "left"
          },
          "hovermode": "closest",
          "mapbox": {
           "style": "light"
          },
          "paper_bgcolor": "white",
          "plot_bgcolor": "#E5ECF6",
          "polar": {
           "angularaxis": {
            "gridcolor": "white",
            "linecolor": "white",
            "ticks": ""
           },
           "bgcolor": "#E5ECF6",
           "radialaxis": {
            "gridcolor": "white",
            "linecolor": "white",
            "ticks": ""
           }
          },
          "scene": {
           "xaxis": {
            "backgroundcolor": "#E5ECF6",
            "gridcolor": "white",
            "gridwidth": 2,
            "linecolor": "white",
            "showbackground": true,
            "ticks": "",
            "zerolinecolor": "white"
           },
           "yaxis": {
            "backgroundcolor": "#E5ECF6",
            "gridcolor": "white",
            "gridwidth": 2,
            "linecolor": "white",
            "showbackground": true,
            "ticks": "",
            "zerolinecolor": "white"
           },
           "zaxis": {
            "backgroundcolor": "#E5ECF6",
            "gridcolor": "white",
            "gridwidth": 2,
            "linecolor": "white",
            "showbackground": true,
            "ticks": "",
            "zerolinecolor": "white"
           }
          },
          "shapedefaults": {
           "line": {
            "color": "#2a3f5f"
           }
          },
          "ternary": {
           "aaxis": {
            "gridcolor": "white",
            "linecolor": "white",
            "ticks": ""
           },
           "baxis": {
            "gridcolor": "white",
            "linecolor": "white",
            "ticks": ""
           },
           "bgcolor": "#E5ECF6",
           "caxis": {
            "gridcolor": "white",
            "linecolor": "white",
            "ticks": ""
           }
          },
          "title": {
           "x": 0.05
          },
          "xaxis": {
           "automargin": true,
           "gridcolor": "white",
           "linecolor": "white",
           "ticks": "",
           "title": {
            "standoff": 15
           },
           "zerolinecolor": "white",
           "zerolinewidth": 2
          },
          "yaxis": {
           "automargin": true,
           "gridcolor": "white",
           "linecolor": "white",
           "ticks": "",
           "title": {
            "standoff": 15
           },
           "zerolinecolor": "white",
           "zerolinewidth": 2
          }
         }
        },
        "title": {
         "text": "Proportion of Movies Produced by Top 10 Countries per Decade"
        },
        "xaxis": {
         "title": {
          "text": "Decade"
         }
        },
        "yaxis": {
         "title": {
          "text": "Number of Movies"
         }
        }
       }
      }
     },
     "metadata": {},
     "output_type": "display_data"
    }
   ],
   "source": [
    "# Create the interactive figure\n",
    "fig = go.Figure()\n",
    "\n",
    "for country in movies_per_decade_countries.columns:\n",
    "    fig.add_trace(go.Bar(\n",
    "        x=movies_per_decade_countries.index,  # Decades\n",
    "        y=movies_per_decade_countries[country],  # Number of movies\n",
    "        name=country,\n",
    "        hovertemplate='Percentage: %{customdata:.2f}%',\n",
    "        customdata=100 * movies_per_decade_countries[country] / movies_per_decade_countries.sum(axis=1)\n",
    "    ))\n",
    "\n",
    "fig.update_layout(\n",
    "    title='Proportion of Movies Produced by Top 10 Countries per Decade',\n",
    "    xaxis_title='Decade',\n",
    "    yaxis_title='Number of Movies',\n",
    "    barmode='stack',\n",
    "    legend_title='Country',\n",
    "    hovermode='x'\n",
    ")\n",
    "\n",
    "fig.show()\n"
   ]
  },
  {
   "cell_type": "markdown",
   "metadata": {},
   "source": [
    "The U.S. consistently dominates movie production across all decades, though its share decreases over time from near-total dominance in the early 20th century to around 40-50% in the later decades. Other countries, such as India, the UK, and France, start contributing more significantly from the 1950s onward, indicating a diversification in global movie production over the decades."
   ]
  },
  {
   "cell_type": "markdown",
   "metadata": {},
   "source": [
    "### Do the genres of the released movies vary on different decades?"
   ]
  },
  {
   "cell_type": "code",
   "execution_count": 82,
   "metadata": {},
   "outputs": [],
   "source": [
    "# Get top 20 genres releasing movies\n",
    "top_20_genres = genres_counts.head(20).index\n",
    "\n",
    "# Get one country per row\n",
    "expanded_df_genre = movie_final.explode('Movie genres')\n",
    "\n",
    "# the top 20\n",
    "top_genres_df_20 = expanded_df_genre[expanded_df_genre['Movie genres'].isin(top_20_genres)]\n",
    "\n",
    "movies_per_year_genres_20 = top_genres_df_20.groupby(['Movie genres', 'Movie release date']).size().unstack(fill_value=0)\n",
    "movies_per_decade_genres_20 = movies_per_year_genres_20.groupby((movies_per_year_genres_20.columns // 10) * 10, axis=1).sum()\n",
    "\n",
    "movies_per_decade_genres_20_percentage = movies_per_decade_genres_20.div(movies_per_decade_genres_20.sum(axis=1), axis=0)"
   ]
  },
  {
   "cell_type": "markdown",
   "metadata": {},
   "source": [
    "We decide to keep only the top 20 genres so that our graph stay clear but you can adjust this number if needed. "
   ]
  },
  {
   "cell_type": "code",
   "execution_count": 105,
   "metadata": {},
   "outputs": [],
   "source": [
    "movies_per_decade_by_genre = movies_per_decade_genres_20.T\n",
    "\n",
    "# Ensure your DataFrame `movies_per_decade_by_genre_normalized` is defined and normalized\n",
    "movies_per_decade_by_genre_normalized = movies_per_decade_by_genre.div(movies_per_decade_by_genre.sum(axis=1), axis=0)"
   ]
  },
  {
   "cell_type": "code",
   "execution_count": 106,
   "metadata": {},
   "outputs": [
    {
     "data": {
      "application/vnd.plotly.v1+json": {
       "config": {
        "plotlyServerURL": "https://plot.ly"
       },
       "data": [
        {
         "name": "1890s",
         "type": "bar",
         "visible": true,
         "x": [
          "Action",
          "Action/Adventure",
          "Adventure",
          "Black-and-white",
          "Comedy",
          "Crime Fiction",
          "Crime Thriller",
          "Drama",
          "Family Film",
          "Fantasy",
          "Film adaptation",
          "Horror",
          "Indie",
          "Mystery",
          "Period piece",
          "Romance Film",
          "Romantic drama",
          "Science Fiction",
          "Thriller",
          "World cinema"
         ],
         "y": [
          0,
          0,
          0,
          0,
          0,
          0,
          0,
          1,
          0,
          0,
          0,
          0,
          0,
          0,
          0,
          0,
          0,
          0,
          0,
          0
         ]
        },
        {
         "name": "1900s",
         "type": "bar",
         "visible": false,
         "x": [
          "Action",
          "Action/Adventure",
          "Adventure",
          "Black-and-white",
          "Comedy",
          "Crime Fiction",
          "Crime Thriller",
          "Drama",
          "Family Film",
          "Fantasy",
          "Film adaptation",
          "Horror",
          "Indie",
          "Mystery",
          "Period piece",
          "Romance Film",
          "Romantic drama",
          "Science Fiction",
          "Thriller",
          "World cinema"
         ],
         "y": [
          0,
          0,
          0,
          0.26,
          0,
          0,
          0,
          0.33,
          0.01,
          0.08,
          0,
          0.02,
          0.25,
          0,
          0,
          0.05,
          0,
          0,
          0,
          0
         ]
        },
        {
         "name": "1910s",
         "type": "bar",
         "visible": false,
         "x": [
          "Action",
          "Action/Adventure",
          "Adventure",
          "Black-and-white",
          "Comedy",
          "Crime Fiction",
          "Crime Thriller",
          "Drama",
          "Family Film",
          "Fantasy",
          "Film adaptation",
          "Horror",
          "Indie",
          "Mystery",
          "Period piece",
          "Romance Film",
          "Romantic drama",
          "Science Fiction",
          "Thriller",
          "World cinema"
         ],
         "y": [
          0.004282655246252677,
          0.004282655246252677,
          0.03640256959314775,
          0.2826552462526767,
          0.029978586723768737,
          0,
          0,
          0.29978586723768735,
          0.0021413276231263384,
          0.047109207708779445,
          0,
          0.021413276231263382,
          0.22483940042826553,
          0,
          0,
          0.02569593147751606,
          0,
          0.01284796573875803,
          0.006423982869379015,
          0.0021413276231263384
         ]
        },
        {
         "name": "1920s",
         "type": "bar",
         "visible": false,
         "x": [
          "Action",
          "Action/Adventure",
          "Adventure",
          "Black-and-white",
          "Comedy",
          "Crime Fiction",
          "Crime Thriller",
          "Drama",
          "Family Film",
          "Fantasy",
          "Film adaptation",
          "Horror",
          "Indie",
          "Mystery",
          "Period piece",
          "Romance Film",
          "Romantic drama",
          "Science Fiction",
          "Thriller",
          "World cinema"
         ],
         "y": [
          0.02857142857142857,
          0.033766233766233764,
          0.02727272727272727,
          0.23636363636363636,
          0.04415584415584416,
          0.04935064935064935,
          0.005194805194805195,
          0.20909090909090908,
          0.01038961038961039,
          0.02207792207792208,
          0.02207792207792208,
          0.02727272727272727,
          0.16103896103896104,
          0.02207792207792208,
          0.0025974025974025974,
          0.04415584415584416,
          0.016883116883116882,
          0.011688311688311689,
          0.016883116883116882,
          0.00909090909090909
         ]
        },
        {
         "name": "1930s",
         "type": "bar",
         "visible": false,
         "x": [
          "Action",
          "Action/Adventure",
          "Adventure",
          "Black-and-white",
          "Comedy",
          "Crime Fiction",
          "Crime Thriller",
          "Drama",
          "Family Film",
          "Fantasy",
          "Film adaptation",
          "Horror",
          "Indie",
          "Mystery",
          "Period piece",
          "Romance Film",
          "Romantic drama",
          "Science Fiction",
          "Thriller",
          "World cinema"
         ],
         "y": [
          0.052525252525252523,
          0.0398989898989899,
          0.05808080808080808,
          0.22424242424242424,
          0.06666666666666667,
          0.04040404040404041,
          0.014141414141414142,
          0.1691919191919192,
          0.03232323232323232,
          0.01919191919191919,
          0.03838383838383838,
          0.04292929292929293,
          0.0015151515151515152,
          0.04242424242424243,
          0.010606060606060607,
          0.07323232323232323,
          0.022222222222222223,
          0.009595959595959595,
          0.03838383838383838,
          0.00404040404040404
         ]
        },
        {
         "name": "1940s",
         "type": "bar",
         "visible": false,
         "x": [
          "Action",
          "Action/Adventure",
          "Adventure",
          "Black-and-white",
          "Comedy",
          "Crime Fiction",
          "Crime Thriller",
          "Drama",
          "Family Film",
          "Fantasy",
          "Film adaptation",
          "Horror",
          "Indie",
          "Mystery",
          "Period piece",
          "Romance Film",
          "Romantic drama",
          "Science Fiction",
          "Thriller",
          "World cinema"
         ],
         "y": [
          0.03641571194762684,
          0.027004909983633387,
          0.04132569558101473,
          0.1751227495908347,
          0.07201309328968904,
          0.06096563011456629,
          0.03273322422258593,
          0.19230769230769232,
          0.03150572831423895,
          0.023731587561374796,
          0.02823240589198036,
          0.022913256955810146,
          0.0004091653027823241,
          0.057283142389525366,
          0.008592471358428805,
          0.07283142389525368,
          0.027414075286415714,
          0.007364975450081833,
          0.07283142389525368,
          0.00900163666121113
         ]
        },
        {
         "name": "1950s",
         "type": "bar",
         "visible": false,
         "x": [
          "Action",
          "Action/Adventure",
          "Adventure",
          "Black-and-white",
          "Comedy",
          "Crime Fiction",
          "Crime Thriller",
          "Drama",
          "Family Film",
          "Fantasy",
          "Film adaptation",
          "Horror",
          "Indie",
          "Mystery",
          "Period piece",
          "Romance Film",
          "Romantic drama",
          "Science Fiction",
          "Thriller",
          "World cinema"
         ],
         "y": [
          0.0468213058419244,
          0.04939862542955326,
          0.05111683848797251,
          0.08247422680412371,
          0.05412371134020619,
          0.061855670103092786,
          0.024484536082474227,
          0.21950171821305842,
          0.0429553264604811,
          0.02276632302405498,
          0.03307560137457045,
          0.040807560137457045,
          0.005154639175257732,
          0.03307560137457045,
          0.011597938144329897,
          0.07989690721649484,
          0.028780068728522335,
          0.03350515463917526,
          0.06486254295532647,
          0.013745704467353952
         ]
        },
        {
         "name": "1960s",
         "type": "bar",
         "visible": false,
         "x": [
          "Action",
          "Action/Adventure",
          "Adventure",
          "Black-and-white",
          "Comedy",
          "Crime Fiction",
          "Crime Thriller",
          "Drama",
          "Family Film",
          "Fantasy",
          "Film adaptation",
          "Horror",
          "Indie",
          "Mystery",
          "Period piece",
          "Romance Film",
          "Romantic drama",
          "Science Fiction",
          "Thriller",
          "World cinema"
         ],
         "y": [
          0.06350710900473934,
          0.05829383886255924,
          0.05781990521327014,
          0.04691943127962085,
          0.08862559241706161,
          0.04123222748815166,
          0.015165876777251185,
          0.2,
          0.043601895734597156,
          0.02132701421800948,
          0.04170616113744076,
          0.05545023696682464,
          0.02037914691943128,
          0.027488151658767772,
          0.009478672985781991,
          0.06587677725118483,
          0.023222748815165877,
          0.025118483412322274,
          0.06540284360189573,
          0.029383886255924172
         ]
        },
        {
         "name": "1970s",
         "type": "bar",
         "visible": false,
         "x": [
          "Action",
          "Action/Adventure",
          "Adventure",
          "Black-and-white",
          "Comedy",
          "Crime Fiction",
          "Crime Thriller",
          "Drama",
          "Family Film",
          "Fantasy",
          "Film adaptation",
          "Horror",
          "Indie",
          "Mystery",
          "Period piece",
          "Romance Film",
          "Romantic drama",
          "Science Fiction",
          "Thriller",
          "World cinema"
         ],
         "y": [
          0.07585335018963338,
          0.0632111251580278,
          0.046460176991150445,
          0.004424778761061947,
          0.06415929203539823,
          0.061946902654867256,
          0.026232616940581543,
          0.18141592920353983,
          0.02370417193426043,
          0.021175726927939318,
          0.03824273072060683,
          0.0793299620733249,
          0.03002528445006321,
          0.0388748419721871,
          0.030973451327433628,
          0.04077117572692794,
          0.01738305941845765,
          0.034450063211125155,
          0.09576485461441214,
          0.025600505689001265
         ]
        },
        {
         "name": "1980s",
         "type": "bar",
         "visible": false,
         "x": [
          "Action",
          "Action/Adventure",
          "Adventure",
          "Black-and-white",
          "Comedy",
          "Crime Fiction",
          "Crime Thriller",
          "Drama",
          "Family Film",
          "Fantasy",
          "Film adaptation",
          "Horror",
          "Indie",
          "Mystery",
          "Period piece",
          "Romance Film",
          "Romantic drama",
          "Science Fiction",
          "Thriller",
          "World cinema"
         ],
         "y": [
          0.075045759609518,
          0.06447020540980272,
          0.052471018913971934,
          0.0014236322961155175,
          0.09233272320520643,
          0.05104738661785642,
          0.024405125076266018,
          0.14744763066910718,
          0.03803131991051454,
          0.03925157616432784,
          0.02216798861094163,
          0.07219849501728696,
          0.04230221679886109,
          0.02989627821842587,
          0.017083587553386213,
          0.04942037827943868,
          0.02216798861094163,
          0.04555623347569656,
          0.08745169818995323,
          0.025828757372381533
         ]
        },
        {
         "name": "1990s",
         "type": "bar",
         "visible": false,
         "x": [
          "Action",
          "Action/Adventure",
          "Adventure",
          "Black-and-white",
          "Comedy",
          "Crime Fiction",
          "Crime Thriller",
          "Drama",
          "Family Film",
          "Fantasy",
          "Film adaptation",
          "Horror",
          "Indie",
          "Mystery",
          "Period piece",
          "Romance Film",
          "Romantic drama",
          "Science Fiction",
          "Thriller",
          "World cinema"
         ],
         "y": [
          0.07252478609262529,
          0.05256009778622844,
          0.042509846529947035,
          0.0012223278554936846,
          0.09642808637783512,
          0.060844764362352304,
          0.03300285209832948,
          0.15618633709085972,
          0.04020100502512563,
          0.03666983566481054,
          0.02879261170718457,
          0.038299606138802116,
          0.04128751867445335,
          0.026483770202363168,
          0.03150889583050387,
          0.06478337634116528,
          0.028928425913350535,
          0.026347955996197204,
          0.09683552899633302,
          0.02458237131603966
         ]
        },
        {
         "name": "2000s",
         "type": "bar",
         "visible": false,
         "x": [
          "Action",
          "Action/Adventure",
          "Adventure",
          "Black-and-white",
          "Comedy",
          "Crime Fiction",
          "Crime Thriller",
          "Drama",
          "Family Film",
          "Fantasy",
          "Film adaptation",
          "Horror",
          "Indie",
          "Mystery",
          "Period piece",
          "Romance Film",
          "Romantic drama",
          "Science Fiction",
          "Thriller",
          "World cinema"
         ],
         "y": [
          0.06784850926672038,
          0.052699435938759066,
          0.03682514101531023,
          0.0008058017727639,
          0.08686543110394843,
          0.054552780016116034,
          0.031184528605962932,
          0.15616438356164383,
          0.02643029814665592,
          0.030862207896857372,
          0.024496373892022562,
          0.056889605157131345,
          0.04633360193392425,
          0.03263497179693795,
          0.0273972602739726,
          0.06269137792103142,
          0.026994359387590653,
          0.029814665592264304,
          0.10668815471394037,
          0.04182111200644641
         ]
        },
        {
         "name": "2010s",
         "type": "bar",
         "visible": false,
         "x": [
          "Action",
          "Action/Adventure",
          "Adventure",
          "Black-and-white",
          "Comedy",
          "Crime Fiction",
          "Crime Thriller",
          "Drama",
          "Family Film",
          "Fantasy",
          "Film adaptation",
          "Horror",
          "Indie",
          "Mystery",
          "Period piece",
          "Romance Film",
          "Romantic drama",
          "Science Fiction",
          "Thriller",
          "World cinema"
         ],
         "y": [
          0.11475976494987902,
          0.051157967507777395,
          0.05046664362253716,
          0.00138264777048047,
          0.07569996543380574,
          0.0473556861389561,
          0.01693743518838576,
          0.17836156239198064,
          0.024196335983408226,
          0.03318354649153128,
          0.01106118216384376,
          0.06429312132734186,
          0.020739716557207053,
          0.029726927065330106,
          0.012789491876944349,
          0.0611821638437608,
          0.015900449360525405,
          0.038368475630833045,
          0.13653646733494643,
          0.015900449360525405
         ]
        }
       ],
       "layout": {
        "barmode": "group",
        "sliders": [
         {
          "active": 0,
          "currentvalue": {
           "prefix": "Decade: "
          },
          "pad": {
           "t": 50
          },
          "steps": [
           {
            "args": [
             {
              "visible": [
               true,
               false,
               false,
               false,
               false,
               false,
               false,
               false,
               false,
               false,
               false,
               false,
               false
              ]
             }
            ],
            "label": "1890s",
            "method": "update"
           },
           {
            "args": [
             {
              "visible": [
               false,
               true,
               false,
               false,
               false,
               false,
               false,
               false,
               false,
               false,
               false,
               false,
               false
              ]
             }
            ],
            "label": "1900s",
            "method": "update"
           },
           {
            "args": [
             {
              "visible": [
               false,
               false,
               true,
               false,
               false,
               false,
               false,
               false,
               false,
               false,
               false,
               false,
               false
              ]
             }
            ],
            "label": "1910s",
            "method": "update"
           },
           {
            "args": [
             {
              "visible": [
               false,
               false,
               false,
               true,
               false,
               false,
               false,
               false,
               false,
               false,
               false,
               false,
               false
              ]
             }
            ],
            "label": "1920s",
            "method": "update"
           },
           {
            "args": [
             {
              "visible": [
               false,
               false,
               false,
               false,
               true,
               false,
               false,
               false,
               false,
               false,
               false,
               false,
               false
              ]
             }
            ],
            "label": "1930s",
            "method": "update"
           },
           {
            "args": [
             {
              "visible": [
               false,
               false,
               false,
               false,
               false,
               true,
               false,
               false,
               false,
               false,
               false,
               false,
               false
              ]
             }
            ],
            "label": "1940s",
            "method": "update"
           },
           {
            "args": [
             {
              "visible": [
               false,
               false,
               false,
               false,
               false,
               false,
               true,
               false,
               false,
               false,
               false,
               false,
               false
              ]
             }
            ],
            "label": "1950s",
            "method": "update"
           },
           {
            "args": [
             {
              "visible": [
               false,
               false,
               false,
               false,
               false,
               false,
               false,
               true,
               false,
               false,
               false,
               false,
               false
              ]
             }
            ],
            "label": "1960s",
            "method": "update"
           },
           {
            "args": [
             {
              "visible": [
               false,
               false,
               false,
               false,
               false,
               false,
               false,
               false,
               true,
               false,
               false,
               false,
               false
              ]
             }
            ],
            "label": "1970s",
            "method": "update"
           },
           {
            "args": [
             {
              "visible": [
               false,
               false,
               false,
               false,
               false,
               false,
               false,
               false,
               false,
               true,
               false,
               false,
               false
              ]
             }
            ],
            "label": "1980s",
            "method": "update"
           },
           {
            "args": [
             {
              "visible": [
               false,
               false,
               false,
               false,
               false,
               false,
               false,
               false,
               false,
               false,
               true,
               false,
               false
              ]
             }
            ],
            "label": "1990s",
            "method": "update"
           },
           {
            "args": [
             {
              "visible": [
               false,
               false,
               false,
               false,
               false,
               false,
               false,
               false,
               false,
               false,
               false,
               true,
               false
              ]
             }
            ],
            "label": "2000s",
            "method": "update"
           },
           {
            "args": [
             {
              "visible": [
               false,
               false,
               false,
               false,
               false,
               false,
               false,
               false,
               false,
               false,
               false,
               false,
               true
              ]
             }
            ],
            "label": "2010s",
            "method": "update"
           }
          ]
         }
        ],
        "template": {
         "data": {
          "bar": [
           {
            "error_x": {
             "color": "#2a3f5f"
            },
            "error_y": {
             "color": "#2a3f5f"
            },
            "marker": {
             "line": {
              "color": "#E5ECF6",
              "width": 0.5
             },
             "pattern": {
              "fillmode": "overlay",
              "size": 10,
              "solidity": 0.2
             }
            },
            "type": "bar"
           }
          ],
          "barpolar": [
           {
            "marker": {
             "line": {
              "color": "#E5ECF6",
              "width": 0.5
             },
             "pattern": {
              "fillmode": "overlay",
              "size": 10,
              "solidity": 0.2
             }
            },
            "type": "barpolar"
           }
          ],
          "carpet": [
           {
            "aaxis": {
             "endlinecolor": "#2a3f5f",
             "gridcolor": "white",
             "linecolor": "white",
             "minorgridcolor": "white",
             "startlinecolor": "#2a3f5f"
            },
            "baxis": {
             "endlinecolor": "#2a3f5f",
             "gridcolor": "white",
             "linecolor": "white",
             "minorgridcolor": "white",
             "startlinecolor": "#2a3f5f"
            },
            "type": "carpet"
           }
          ],
          "choropleth": [
           {
            "colorbar": {
             "outlinewidth": 0,
             "ticks": ""
            },
            "type": "choropleth"
           }
          ],
          "contour": [
           {
            "colorbar": {
             "outlinewidth": 0,
             "ticks": ""
            },
            "colorscale": [
             [
              0,
              "#0d0887"
             ],
             [
              0.1111111111111111,
              "#46039f"
             ],
             [
              0.2222222222222222,
              "#7201a8"
             ],
             [
              0.3333333333333333,
              "#9c179e"
             ],
             [
              0.4444444444444444,
              "#bd3786"
             ],
             [
              0.5555555555555556,
              "#d8576b"
             ],
             [
              0.6666666666666666,
              "#ed7953"
             ],
             [
              0.7777777777777778,
              "#fb9f3a"
             ],
             [
              0.8888888888888888,
              "#fdca26"
             ],
             [
              1,
              "#f0f921"
             ]
            ],
            "type": "contour"
           }
          ],
          "contourcarpet": [
           {
            "colorbar": {
             "outlinewidth": 0,
             "ticks": ""
            },
            "type": "contourcarpet"
           }
          ],
          "heatmap": [
           {
            "colorbar": {
             "outlinewidth": 0,
             "ticks": ""
            },
            "colorscale": [
             [
              0,
              "#0d0887"
             ],
             [
              0.1111111111111111,
              "#46039f"
             ],
             [
              0.2222222222222222,
              "#7201a8"
             ],
             [
              0.3333333333333333,
              "#9c179e"
             ],
             [
              0.4444444444444444,
              "#bd3786"
             ],
             [
              0.5555555555555556,
              "#d8576b"
             ],
             [
              0.6666666666666666,
              "#ed7953"
             ],
             [
              0.7777777777777778,
              "#fb9f3a"
             ],
             [
              0.8888888888888888,
              "#fdca26"
             ],
             [
              1,
              "#f0f921"
             ]
            ],
            "type": "heatmap"
           }
          ],
          "heatmapgl": [
           {
            "colorbar": {
             "outlinewidth": 0,
             "ticks": ""
            },
            "colorscale": [
             [
              0,
              "#0d0887"
             ],
             [
              0.1111111111111111,
              "#46039f"
             ],
             [
              0.2222222222222222,
              "#7201a8"
             ],
             [
              0.3333333333333333,
              "#9c179e"
             ],
             [
              0.4444444444444444,
              "#bd3786"
             ],
             [
              0.5555555555555556,
              "#d8576b"
             ],
             [
              0.6666666666666666,
              "#ed7953"
             ],
             [
              0.7777777777777778,
              "#fb9f3a"
             ],
             [
              0.8888888888888888,
              "#fdca26"
             ],
             [
              1,
              "#f0f921"
             ]
            ],
            "type": "heatmapgl"
           }
          ],
          "histogram": [
           {
            "marker": {
             "pattern": {
              "fillmode": "overlay",
              "size": 10,
              "solidity": 0.2
             }
            },
            "type": "histogram"
           }
          ],
          "histogram2d": [
           {
            "colorbar": {
             "outlinewidth": 0,
             "ticks": ""
            },
            "colorscale": [
             [
              0,
              "#0d0887"
             ],
             [
              0.1111111111111111,
              "#46039f"
             ],
             [
              0.2222222222222222,
              "#7201a8"
             ],
             [
              0.3333333333333333,
              "#9c179e"
             ],
             [
              0.4444444444444444,
              "#bd3786"
             ],
             [
              0.5555555555555556,
              "#d8576b"
             ],
             [
              0.6666666666666666,
              "#ed7953"
             ],
             [
              0.7777777777777778,
              "#fb9f3a"
             ],
             [
              0.8888888888888888,
              "#fdca26"
             ],
             [
              1,
              "#f0f921"
             ]
            ],
            "type": "histogram2d"
           }
          ],
          "histogram2dcontour": [
           {
            "colorbar": {
             "outlinewidth": 0,
             "ticks": ""
            },
            "colorscale": [
             [
              0,
              "#0d0887"
             ],
             [
              0.1111111111111111,
              "#46039f"
             ],
             [
              0.2222222222222222,
              "#7201a8"
             ],
             [
              0.3333333333333333,
              "#9c179e"
             ],
             [
              0.4444444444444444,
              "#bd3786"
             ],
             [
              0.5555555555555556,
              "#d8576b"
             ],
             [
              0.6666666666666666,
              "#ed7953"
             ],
             [
              0.7777777777777778,
              "#fb9f3a"
             ],
             [
              0.8888888888888888,
              "#fdca26"
             ],
             [
              1,
              "#f0f921"
             ]
            ],
            "type": "histogram2dcontour"
           }
          ],
          "mesh3d": [
           {
            "colorbar": {
             "outlinewidth": 0,
             "ticks": ""
            },
            "type": "mesh3d"
           }
          ],
          "parcoords": [
           {
            "line": {
             "colorbar": {
              "outlinewidth": 0,
              "ticks": ""
             }
            },
            "type": "parcoords"
           }
          ],
          "pie": [
           {
            "automargin": true,
            "type": "pie"
           }
          ],
          "scatter": [
           {
            "fillpattern": {
             "fillmode": "overlay",
             "size": 10,
             "solidity": 0.2
            },
            "type": "scatter"
           }
          ],
          "scatter3d": [
           {
            "line": {
             "colorbar": {
              "outlinewidth": 0,
              "ticks": ""
             }
            },
            "marker": {
             "colorbar": {
              "outlinewidth": 0,
              "ticks": ""
             }
            },
            "type": "scatter3d"
           }
          ],
          "scattercarpet": [
           {
            "marker": {
             "colorbar": {
              "outlinewidth": 0,
              "ticks": ""
             }
            },
            "type": "scattercarpet"
           }
          ],
          "scattergeo": [
           {
            "marker": {
             "colorbar": {
              "outlinewidth": 0,
              "ticks": ""
             }
            },
            "type": "scattergeo"
           }
          ],
          "scattergl": [
           {
            "marker": {
             "colorbar": {
              "outlinewidth": 0,
              "ticks": ""
             }
            },
            "type": "scattergl"
           }
          ],
          "scattermapbox": [
           {
            "marker": {
             "colorbar": {
              "outlinewidth": 0,
              "ticks": ""
             }
            },
            "type": "scattermapbox"
           }
          ],
          "scatterpolar": [
           {
            "marker": {
             "colorbar": {
              "outlinewidth": 0,
              "ticks": ""
             }
            },
            "type": "scatterpolar"
           }
          ],
          "scatterpolargl": [
           {
            "marker": {
             "colorbar": {
              "outlinewidth": 0,
              "ticks": ""
             }
            },
            "type": "scatterpolargl"
           }
          ],
          "scatterternary": [
           {
            "marker": {
             "colorbar": {
              "outlinewidth": 0,
              "ticks": ""
             }
            },
            "type": "scatterternary"
           }
          ],
          "surface": [
           {
            "colorbar": {
             "outlinewidth": 0,
             "ticks": ""
            },
            "colorscale": [
             [
              0,
              "#0d0887"
             ],
             [
              0.1111111111111111,
              "#46039f"
             ],
             [
              0.2222222222222222,
              "#7201a8"
             ],
             [
              0.3333333333333333,
              "#9c179e"
             ],
             [
              0.4444444444444444,
              "#bd3786"
             ],
             [
              0.5555555555555556,
              "#d8576b"
             ],
             [
              0.6666666666666666,
              "#ed7953"
             ],
             [
              0.7777777777777778,
              "#fb9f3a"
             ],
             [
              0.8888888888888888,
              "#fdca26"
             ],
             [
              1,
              "#f0f921"
             ]
            ],
            "type": "surface"
           }
          ],
          "table": [
           {
            "cells": {
             "fill": {
              "color": "#EBF0F8"
             },
             "line": {
              "color": "white"
             }
            },
            "header": {
             "fill": {
              "color": "#C8D4E3"
             },
             "line": {
              "color": "white"
             }
            },
            "type": "table"
           }
          ]
         },
         "layout": {
          "annotationdefaults": {
           "arrowcolor": "#2a3f5f",
           "arrowhead": 0,
           "arrowwidth": 1
          },
          "autotypenumbers": "strict",
          "coloraxis": {
           "colorbar": {
            "outlinewidth": 0,
            "ticks": ""
           }
          },
          "colorscale": {
           "diverging": [
            [
             0,
             "#8e0152"
            ],
            [
             0.1,
             "#c51b7d"
            ],
            [
             0.2,
             "#de77ae"
            ],
            [
             0.3,
             "#f1b6da"
            ],
            [
             0.4,
             "#fde0ef"
            ],
            [
             0.5,
             "#f7f7f7"
            ],
            [
             0.6,
             "#e6f5d0"
            ],
            [
             0.7,
             "#b8e186"
            ],
            [
             0.8,
             "#7fbc41"
            ],
            [
             0.9,
             "#4d9221"
            ],
            [
             1,
             "#276419"
            ]
           ],
           "sequential": [
            [
             0,
             "#0d0887"
            ],
            [
             0.1111111111111111,
             "#46039f"
            ],
            [
             0.2222222222222222,
             "#7201a8"
            ],
            [
             0.3333333333333333,
             "#9c179e"
            ],
            [
             0.4444444444444444,
             "#bd3786"
            ],
            [
             0.5555555555555556,
             "#d8576b"
            ],
            [
             0.6666666666666666,
             "#ed7953"
            ],
            [
             0.7777777777777778,
             "#fb9f3a"
            ],
            [
             0.8888888888888888,
             "#fdca26"
            ],
            [
             1,
             "#f0f921"
            ]
           ],
           "sequentialminus": [
            [
             0,
             "#0d0887"
            ],
            [
             0.1111111111111111,
             "#46039f"
            ],
            [
             0.2222222222222222,
             "#7201a8"
            ],
            [
             0.3333333333333333,
             "#9c179e"
            ],
            [
             0.4444444444444444,
             "#bd3786"
            ],
            [
             0.5555555555555556,
             "#d8576b"
            ],
            [
             0.6666666666666666,
             "#ed7953"
            ],
            [
             0.7777777777777778,
             "#fb9f3a"
            ],
            [
             0.8888888888888888,
             "#fdca26"
            ],
            [
             1,
             "#f0f921"
            ]
           ]
          },
          "colorway": [
           "#636efa",
           "#EF553B",
           "#00cc96",
           "#ab63fa",
           "#FFA15A",
           "#19d3f3",
           "#FF6692",
           "#B6E880",
           "#FF97FF",
           "#FECB52"
          ],
          "font": {
           "color": "#2a3f5f"
          },
          "geo": {
           "bgcolor": "white",
           "lakecolor": "white",
           "landcolor": "#E5ECF6",
           "showlakes": true,
           "showland": true,
           "subunitcolor": "white"
          },
          "hoverlabel": {
           "align": "left"
          },
          "hovermode": "closest",
          "mapbox": {
           "style": "light"
          },
          "paper_bgcolor": "white",
          "plot_bgcolor": "#E5ECF6",
          "polar": {
           "angularaxis": {
            "gridcolor": "white",
            "linecolor": "white",
            "ticks": ""
           },
           "bgcolor": "#E5ECF6",
           "radialaxis": {
            "gridcolor": "white",
            "linecolor": "white",
            "ticks": ""
           }
          },
          "scene": {
           "xaxis": {
            "backgroundcolor": "#E5ECF6",
            "gridcolor": "white",
            "gridwidth": 2,
            "linecolor": "white",
            "showbackground": true,
            "ticks": "",
            "zerolinecolor": "white"
           },
           "yaxis": {
            "backgroundcolor": "#E5ECF6",
            "gridcolor": "white",
            "gridwidth": 2,
            "linecolor": "white",
            "showbackground": true,
            "ticks": "",
            "zerolinecolor": "white"
           },
           "zaxis": {
            "backgroundcolor": "#E5ECF6",
            "gridcolor": "white",
            "gridwidth": 2,
            "linecolor": "white",
            "showbackground": true,
            "ticks": "",
            "zerolinecolor": "white"
           }
          },
          "shapedefaults": {
           "line": {
            "color": "#2a3f5f"
           }
          },
          "ternary": {
           "aaxis": {
            "gridcolor": "white",
            "linecolor": "white",
            "ticks": ""
           },
           "baxis": {
            "gridcolor": "white",
            "linecolor": "white",
            "ticks": ""
           },
           "bgcolor": "#E5ECF6",
           "caxis": {
            "gridcolor": "white",
            "linecolor": "white",
            "ticks": ""
           }
          },
          "title": {
           "x": 0.05
          },
          "xaxis": {
           "automargin": true,
           "gridcolor": "white",
           "linecolor": "white",
           "ticks": "",
           "title": {
            "standoff": 15
           },
           "zerolinecolor": "white",
           "zerolinewidth": 2
          },
          "yaxis": {
           "automargin": true,
           "gridcolor": "white",
           "linecolor": "white",
           "ticks": "",
           "title": {
            "standoff": 15
           },
           "zerolinecolor": "white",
           "zerolinewidth": 2
          }
         }
        },
        "title": {
         "text": "Proportion of Movies Released by Genre in Each Decade"
        },
        "xaxis": {
         "title": {
          "text": "Genre"
         }
        },
        "yaxis": {
         "tickformat": ".1%",
         "title": {
          "text": "Percentage of Movies"
         }
        }
       }
      }
     },
     "metadata": {},
     "output_type": "display_data"
    }
   ],
   "source": [
    "# Create an interactive figure\n",
    "fig = go.Figure()\n",
    "\n",
    "# Iterate through each decade and create a bar plot for it\n",
    "for decade in movies_per_decade_by_genre_normalized.index:\n",
    "    fig.add_trace(go.Bar(\n",
    "        x=movies_per_decade_by_genre_normalized.columns,\n",
    "        y=movies_per_decade_by_genre_normalized.loc[decade],  # Convert to percentage\n",
    "        name=f'{decade}s',\n",
    "        visible=False  # Initially set all traces to invisible\n",
    "    ))\n",
    "\n",
    "# Set the first decade to be visible\n",
    "fig.data[0].visible = True\n",
    "\n",
    "# Create the slider steps\n",
    "steps = []\n",
    "for i, decade in enumerate(movies_per_decade_by_genre_normalized.index):\n",
    "    step = dict(\n",
    "        method=\"update\",\n",
    "        args=[{\"visible\": [False] * len(fig.data)}],  # Hide all traces\n",
    "        label=f\"{decade}s\"\n",
    "    )\n",
    "    step[\"args\"][0][\"visible\"][i] = True  # Set the current decade's trace to visible\n",
    "    steps.append(step)\n",
    "\n",
    "# Create slider\n",
    "sliders = [dict(\n",
    "    active=0,\n",
    "    currentvalue={\"prefix\": \"Decade: \"},\n",
    "    pad={\"t\": 50},\n",
    "    steps=steps\n",
    ")]\n",
    "\n",
    "# Update the layout to include the slider\n",
    "fig.update_layout(\n",
    "    sliders=sliders,\n",
    "    title='Proportion of Movies Released by Genre in Each Decade',\n",
    "    xaxis_title='Genre',\n",
    "    yaxis_title='Percentage of Movies',\n",
    "    yaxis=dict(tickformat=\".1%\"),\n",
    "    barmode='group'\n",
    ")\n",
    "\n",
    "# Show the plot\n",
    "fig.show()\n"
   ]
  },
  {
   "cell_type": "markdown",
   "metadata": {},
   "source": [
    "## COMMENTER"
   ]
  },
  {
   "cell_type": "code",
   "execution_count": 112,
   "metadata": {},
   "outputs": [
    {
     "data": {
      "application/vnd.plotly.v1+json": {
       "config": {
        "plotlyServerURL": "https://plot.ly"
       },
       "data": [
        {
         "name": "Action",
         "type": "bar",
         "visible": true,
         "x": [
          1890,
          1900,
          1910,
          1920,
          1930,
          1940,
          1950,
          1960,
          1970,
          1980,
          1990,
          2000,
          2010
         ],
         "y": [
          0,
          0,
          0.0007202016564638099,
          0.00792221822110191,
          0.037450486136118115,
          0.03204897371263954,
          0.03925099027727764,
          0.04825351098307526,
          0.08642419877565719,
          0.1328772056175729,
          0.19229384227583723,
          0.30320489737126394,
          0.11955347497299244
         ]
        },
        {
         "name": "Action/Adventure",
         "type": "bar",
         "visible": false,
         "x": [
          1890,
          1900,
          1910,
          1920,
          1930,
          1940,
          1950,
          1960,
          1970,
          1980,
          1990,
          2000,
          2010
         ],
         "y": [
          0,
          0,
          0.000944733112895607,
          0.01228153046764289,
          0.03731695795937648,
          0.03117619272555503,
          0.0543221539914974,
          0.05810108644307983,
          0.0944733112895607,
          0.14974019839395372,
          0.18280585734529994,
          0.30892772791686346,
          0.06991025035427492
         ]
        },
        {
         "name": "Adventure",
         "type": "bar",
         "visible": false,
         "x": [
          1890,
          1900,
          1910,
          1920,
          1930,
          1940,
          1950,
          1960,
          1970,
          1980,
          1990,
          2000,
          2010
         ],
         "y": [
          0,
          0,
          0.009361233480176211,
          0.011563876651982379,
          0.06332599118942732,
          0.05561674008810573,
          0.06552863436123348,
          0.0671806167400881,
          0.08094713656387666,
          0.1420704845814978,
          0.1723568281938326,
          0.2516519823788546,
          0.08039647577092511
         ]
        },
        {
         "name": "Black-and-white",
         "type": "bar",
         "visible": false,
         "x": [
          1890,
          1900,
          1910,
          1920,
          1930,
          1940,
          1950,
          1960,
          1970,
          1980,
          1990,
          2000,
          2010
         ],
         "y": [
          0,
          0.01680672268907563,
          0.08532643826761474,
          0.11764705882352941,
          0.2870071105365223,
          0.2766645119586296,
          0.12411118293471235,
          0.06399482870071105,
          0.00904977375565611,
          0.004524886877828055,
          0.005817711700064641,
          0.006464124111182934,
          0.002585649644473174
         ]
        },
        {
         "name": "Comedy",
         "type": "bar",
         "visible": false,
         "x": [
          1890,
          1900,
          1910,
          1920,
          1930,
          1940,
          1950,
          1960,
          1970,
          1980,
          1990,
          2000,
          2010
         ],
         "y": [
          0,
          0,
          0.0042004200420042,
          0.0102010201020102,
          0.039603960396039604,
          0.052805280528052806,
          0.037803780378037805,
          0.056105610561056105,
          0.06090609060906091,
          0.13621362136213622,
          0.21302130213021303,
          0.3234323432343234,
          0.06570657065706571
         ]
        },
        {
         "name": "Crime Fiction",
         "type": "bar",
         "visible": false,
         "x": [
          1890,
          1900,
          1910,
          1920,
          1930,
          1940,
          1950,
          1960,
          1970,
          1980,
          1990,
          2000,
          2010
         ],
         "y": [
          0,
          0,
          0,
          0.017217942908926143,
          0.03624830086089714,
          0.06751246035342093,
          0.06524694154961486,
          0.03942002718622564,
          0.08880833710919801,
          0.1137290439510648,
          0.20299048482102403,
          0.3067512460353421,
          0.06207521522428636
         ]
        },
        {
         "name": "Crime Thriller",
         "type": "bar",
         "visible": false,
         "x": [
          1890,
          1900,
          1910,
          1920,
          1930,
          1940,
          1950,
          1960,
          1970,
          1980,
          1990,
          2000,
          2010
         ],
         "y": [
          0,
          0,
          0,
          0.003693444136657433,
          0.02585410895660203,
          0.07386888273314866,
          0.05263157894736842,
          0.029547553093259463,
          0.07663896583564174,
          0.11080332409972299,
          0.22437673130193905,
          0.3573407202216066,
          0.04524469067405355
         ]
        },
        {
         "name": "Drama",
         "type": "bar",
         "visible": false,
         "x": [
          1890,
          1900,
          1910,
          1920,
          1930,
          1940,
          1950,
          1960,
          1970,
          1980,
          1990,
          2000,
          2010
         ],
         "y": [
          0.0005731480154749964,
          0.004728471127668721,
          0.020060180541624874,
          0.023069207622868605,
          0.04800114629603095,
          0.06734489181831207,
          0.0732196589769308,
          0.060467115632612124,
          0.08224674022066199,
          0.1038830778048431,
          0.16478005444906146,
          0.2776902134976358,
          0.07393609399627454
         ]
        },
        {
         "name": "Family Film",
         "type": "bar",
         "visible": false,
         "x": [
          1890,
          1900,
          1910,
          1920,
          1930,
          1940,
          1950,
          1960,
          1970,
          1980,
          1990,
          2000,
          2010
         ],
         "y": [
          0,
          0.0007698229407236335,
          0.0007698229407236335,
          0.006158583525789068,
          0.049268668206312545,
          0.059276366435719784,
          0.07698229407236336,
          0.07082371054657428,
          0.057736720554272515,
          0.14395688991531946,
          0.22786759045419552,
          0.2525019245573518,
          0.05388760585065435
         ]
        },
        {
         "name": "Fantasy",
         "type": "bar",
         "visible": false,
         "x": [
          1890,
          1900,
          1910,
          1920,
          1930,
          1940,
          1950,
          1960,
          1970,
          1980,
          1990,
          2000,
          2010
         ],
         "y": [
          0,
          0.0064,
          0.0176,
          0.0136,
          0.0304,
          0.0464,
          0.0424,
          0.036,
          0.0536,
          0.1544,
          0.216,
          0.3064,
          0.0768
         ]
        },
        {
         "name": "Film adaptation",
         "type": "bar",
         "visible": false,
         "x": [
          1890,
          1900,
          1910,
          1920,
          1930,
          1940,
          1950,
          1960,
          1970,
          1980,
          1990,
          2000,
          2010
         ],
         "y": [
          0,
          0,
          0,
          0.015384615384615385,
          0.06877828054298643,
          0.06244343891402715,
          0.06968325791855204,
          0.07963800904977375,
          0.10950226244343891,
          0.09864253393665158,
          0.19185520361990951,
          0.2751131221719457,
          0.02895927601809955
         ]
        },
        {
         "name": "Horror",
         "type": "bar",
         "visible": false,
         "x": [
          1890,
          1900,
          1910,
          1920,
          1930,
          1940,
          1950,
          1960,
          1970,
          1980,
          1990,
          2000,
          2010
         ],
         "y": [
          0,
          0.0009233610341643582,
          0.0046168051708217915,
          0.009695290858725761,
          0.039242843951985226,
          0.02585410895660203,
          0.043859649122807015,
          0.054016620498614956,
          0.11588180978762697,
          0.16389658356417358,
          0.13019390581717452,
          0.32594644506001846,
          0.08587257617728532
         ]
        },
        {
         "name": "Indie",
         "type": "bar",
         "visible": false,
         "x": [
          1890,
          1900,
          1910,
          1920,
          1930,
          1940,
          1950,
          1960,
          1970,
          1980,
          1990,
          2000,
          2010
         ],
         "y": [
          0,
          0.01607717041800643,
          0.06752411575562701,
          0.0797427652733119,
          0.0019292604501607716,
          0.0006430868167202572,
          0.0077170418006430866,
          0.02765273311897106,
          0.06109324758842444,
          0.1337620578778135,
          0.1954983922829582,
          0.36977491961414793,
          0.03858520900321544
         ]
        },
        {
         "name": "Mystery",
         "type": "bar",
         "visible": false,
         "x": [
          1890,
          1900,
          1910,
          1920,
          1930,
          1940,
          1950,
          1960,
          1970,
          1980,
          1990,
          2000,
          2010
         ],
         "y": [
          0,
          0,
          0,
          0.012762762762762763,
          0.06306306306306306,
          0.10510510510510511,
          0.05780780780780781,
          0.04354354354354354,
          0.09234234234234234,
          0.11036036036036036,
          0.1463963963963964,
          0.30405405405405406,
          0.06456456456456457
         ]
        },
        {
         "name": "Period piece",
         "type": "bar",
         "visible": false,
         "x": [
          1890,
          1900,
          1910,
          1920,
          1930,
          1940,
          1950,
          1960,
          1970,
          1980,
          1990,
          2000,
          2010
         ],
         "y": [
          0,
          0,
          0,
          0.0022675736961451248,
          0.023809523809523808,
          0.023809523809523808,
          0.030612244897959183,
          0.022675736961451247,
          0.1111111111111111,
          0.09523809523809523,
          0.26303854875283444,
          0.3854875283446712,
          0.04195011337868481
         ]
        },
        {
         "name": "Romance Film",
         "type": "bar",
         "visible": false,
         "x": [
          1890,
          1900,
          1910,
          1920,
          1930,
          1940,
          1950,
          1960,
          1970,
          1980,
          1990,
          2000,
          2010
         ],
         "y": [
          0,
          0.001997602876548142,
          0.004794246903715541,
          0.013583699560527367,
          0.05793048341989612,
          0.07111466240511387,
          0.0743108270075909,
          0.055533359968038355,
          0.05153815421494207,
          0.09708349980023971,
          0.19057131442269276,
          0.31082700759089094,
          0.07071514182980423
         ]
        },
        {
         "name": "Romantic drama",
         "type": "bar",
         "visible": false,
         "x": [
          1890,
          1900,
          1910,
          1920,
          1930,
          1940,
          1950,
          1960,
          1970,
          1980,
          1990,
          2000,
          2010
         ],
         "y": [
          0,
          0,
          0,
          0.013026052104208416,
          0.04408817635270541,
          0.06713426853707415,
          0.06713426853707415,
          0.04909819639278557,
          0.05511022044088176,
          0.1092184368737475,
          0.21342685370741482,
          0.33567134268537074,
          0.04609218436873747
         ]
        },
        {
         "name": "Science Fiction",
         "type": "bar",
         "visible": false,
         "x": [
          1890,
          1900,
          1910,
          1920,
          1930,
          1940,
          1950,
          1960,
          1970,
          1980,
          1990,
          2000,
          2010
         ],
         "y": [
          0,
          0,
          0.005037783375314861,
          0.007556675062972292,
          0.01595298068849706,
          0.015113350125944584,
          0.0654911838790932,
          0.04450041981528128,
          0.09151973131821999,
          0.18807724601175482,
          0.16288832913518053,
          0.31066330814441645,
          0.09319899244332494
         ]
        },
        {
         "name": "Thriller",
         "type": "bar",
         "visible": false,
         "x": [
          1890,
          1900,
          1910,
          1920,
          1930,
          1940,
          1950,
          1960,
          1970,
          1980,
          1990,
          2000,
          2010
         ],
         "y": [
          0,
          0,
          0.0008055853920515575,
          0.003490870032223416,
          0.02040816326530612,
          0.04779806659505908,
          0.04054779806659506,
          0.03705692803437164,
          0.08136412459720731,
          0.11546723952738991,
          0.1914607948442535,
          0.35553168635875404,
          0.1060687432867884
         ]
        },
        {
         "name": "World cinema",
         "type": "bar",
         "visible": false,
         "x": [
          1890,
          1900,
          1910,
          1920,
          1930,
          1940,
          1950,
          1960,
          1970,
          1980,
          1990,
          2000,
          2010
         ],
         "y": [
          0,
          0,
          0.0009208103130755065,
          0.006445672191528545,
          0.007366482504604052,
          0.020257826887661142,
          0.029465930018416207,
          0.0570902394106814,
          0.07458563535911603,
          0.11694290976058933,
          0.16666666666666666,
          0.47790055248618785,
          0.0423572744014733
         ]
        },
        {
         "name": "Action",
         "type": "bar",
         "visible": false,
         "x": [
          1890,
          1900,
          1910,
          1920,
          1930,
          1940,
          1950,
          1960,
          1970,
          1980,
          1990,
          2000,
          2010
         ],
         "y": [
          0,
          0,
          0.0007202016564638099,
          0.00792221822110191,
          0.037450486136118115,
          0.03204897371263954,
          0.03925099027727764,
          0.04825351098307526,
          0.08642419877565719,
          0.1328772056175729,
          0.19229384227583723,
          0.30320489737126394,
          0.11955347497299244
         ]
        },
        {
         "name": "Action/Adventure",
         "type": "bar",
         "visible": false,
         "x": [
          1890,
          1900,
          1910,
          1920,
          1930,
          1940,
          1950,
          1960,
          1970,
          1980,
          1990,
          2000,
          2010
         ],
         "y": [
          0,
          0,
          0.000944733112895607,
          0.01228153046764289,
          0.03731695795937648,
          0.03117619272555503,
          0.0543221539914974,
          0.05810108644307983,
          0.0944733112895607,
          0.14974019839395372,
          0.18280585734529994,
          0.30892772791686346,
          0.06991025035427492
         ]
        },
        {
         "name": "Adventure",
         "type": "bar",
         "visible": false,
         "x": [
          1890,
          1900,
          1910,
          1920,
          1930,
          1940,
          1950,
          1960,
          1970,
          1980,
          1990,
          2000,
          2010
         ],
         "y": [
          0,
          0,
          0.009361233480176211,
          0.011563876651982379,
          0.06332599118942732,
          0.05561674008810573,
          0.06552863436123348,
          0.0671806167400881,
          0.08094713656387666,
          0.1420704845814978,
          0.1723568281938326,
          0.2516519823788546,
          0.08039647577092511
         ]
        },
        {
         "name": "Black-and-white",
         "type": "bar",
         "visible": false,
         "x": [
          1890,
          1900,
          1910,
          1920,
          1930,
          1940,
          1950,
          1960,
          1970,
          1980,
          1990,
          2000,
          2010
         ],
         "y": [
          0,
          0.01680672268907563,
          0.08532643826761474,
          0.11764705882352941,
          0.2870071105365223,
          0.2766645119586296,
          0.12411118293471235,
          0.06399482870071105,
          0.00904977375565611,
          0.004524886877828055,
          0.005817711700064641,
          0.006464124111182934,
          0.002585649644473174
         ]
        },
        {
         "name": "Comedy",
         "type": "bar",
         "visible": false,
         "x": [
          1890,
          1900,
          1910,
          1920,
          1930,
          1940,
          1950,
          1960,
          1970,
          1980,
          1990,
          2000,
          2010
         ],
         "y": [
          0,
          0,
          0.0042004200420042,
          0.0102010201020102,
          0.039603960396039604,
          0.052805280528052806,
          0.037803780378037805,
          0.056105610561056105,
          0.06090609060906091,
          0.13621362136213622,
          0.21302130213021303,
          0.3234323432343234,
          0.06570657065706571
         ]
        },
        {
         "name": "Crime Fiction",
         "type": "bar",
         "visible": false,
         "x": [
          1890,
          1900,
          1910,
          1920,
          1930,
          1940,
          1950,
          1960,
          1970,
          1980,
          1990,
          2000,
          2010
         ],
         "y": [
          0,
          0,
          0,
          0.017217942908926143,
          0.03624830086089714,
          0.06751246035342093,
          0.06524694154961486,
          0.03942002718622564,
          0.08880833710919801,
          0.1137290439510648,
          0.20299048482102403,
          0.3067512460353421,
          0.06207521522428636
         ]
        },
        {
         "name": "Crime Thriller",
         "type": "bar",
         "visible": false,
         "x": [
          1890,
          1900,
          1910,
          1920,
          1930,
          1940,
          1950,
          1960,
          1970,
          1980,
          1990,
          2000,
          2010
         ],
         "y": [
          0,
          0,
          0,
          0.003693444136657433,
          0.02585410895660203,
          0.07386888273314866,
          0.05263157894736842,
          0.029547553093259463,
          0.07663896583564174,
          0.11080332409972299,
          0.22437673130193905,
          0.3573407202216066,
          0.04524469067405355
         ]
        },
        {
         "name": "Drama",
         "type": "bar",
         "visible": false,
         "x": [
          1890,
          1900,
          1910,
          1920,
          1930,
          1940,
          1950,
          1960,
          1970,
          1980,
          1990,
          2000,
          2010
         ],
         "y": [
          0.0005731480154749964,
          0.004728471127668721,
          0.020060180541624874,
          0.023069207622868605,
          0.04800114629603095,
          0.06734489181831207,
          0.0732196589769308,
          0.060467115632612124,
          0.08224674022066199,
          0.1038830778048431,
          0.16478005444906146,
          0.2776902134976358,
          0.07393609399627454
         ]
        },
        {
         "name": "Family Film",
         "type": "bar",
         "visible": false,
         "x": [
          1890,
          1900,
          1910,
          1920,
          1930,
          1940,
          1950,
          1960,
          1970,
          1980,
          1990,
          2000,
          2010
         ],
         "y": [
          0,
          0.0007698229407236335,
          0.0007698229407236335,
          0.006158583525789068,
          0.049268668206312545,
          0.059276366435719784,
          0.07698229407236336,
          0.07082371054657428,
          0.057736720554272515,
          0.14395688991531946,
          0.22786759045419552,
          0.2525019245573518,
          0.05388760585065435
         ]
        },
        {
         "name": "Fantasy",
         "type": "bar",
         "visible": false,
         "x": [
          1890,
          1900,
          1910,
          1920,
          1930,
          1940,
          1950,
          1960,
          1970,
          1980,
          1990,
          2000,
          2010
         ],
         "y": [
          0,
          0.0064,
          0.0176,
          0.0136,
          0.0304,
          0.0464,
          0.0424,
          0.036,
          0.0536,
          0.1544,
          0.216,
          0.3064,
          0.0768
         ]
        },
        {
         "name": "Film adaptation",
         "type": "bar",
         "visible": false,
         "x": [
          1890,
          1900,
          1910,
          1920,
          1930,
          1940,
          1950,
          1960,
          1970,
          1980,
          1990,
          2000,
          2010
         ],
         "y": [
          0,
          0,
          0,
          0.015384615384615385,
          0.06877828054298643,
          0.06244343891402715,
          0.06968325791855204,
          0.07963800904977375,
          0.10950226244343891,
          0.09864253393665158,
          0.19185520361990951,
          0.2751131221719457,
          0.02895927601809955
         ]
        },
        {
         "name": "Horror",
         "type": "bar",
         "visible": false,
         "x": [
          1890,
          1900,
          1910,
          1920,
          1930,
          1940,
          1950,
          1960,
          1970,
          1980,
          1990,
          2000,
          2010
         ],
         "y": [
          0,
          0.0009233610341643582,
          0.0046168051708217915,
          0.009695290858725761,
          0.039242843951985226,
          0.02585410895660203,
          0.043859649122807015,
          0.054016620498614956,
          0.11588180978762697,
          0.16389658356417358,
          0.13019390581717452,
          0.32594644506001846,
          0.08587257617728532
         ]
        },
        {
         "name": "Indie",
         "type": "bar",
         "visible": false,
         "x": [
          1890,
          1900,
          1910,
          1920,
          1930,
          1940,
          1950,
          1960,
          1970,
          1980,
          1990,
          2000,
          2010
         ],
         "y": [
          0,
          0.01607717041800643,
          0.06752411575562701,
          0.0797427652733119,
          0.0019292604501607716,
          0.0006430868167202572,
          0.0077170418006430866,
          0.02765273311897106,
          0.06109324758842444,
          0.1337620578778135,
          0.1954983922829582,
          0.36977491961414793,
          0.03858520900321544
         ]
        },
        {
         "name": "Mystery",
         "type": "bar",
         "visible": false,
         "x": [
          1890,
          1900,
          1910,
          1920,
          1930,
          1940,
          1950,
          1960,
          1970,
          1980,
          1990,
          2000,
          2010
         ],
         "y": [
          0,
          0,
          0,
          0.012762762762762763,
          0.06306306306306306,
          0.10510510510510511,
          0.05780780780780781,
          0.04354354354354354,
          0.09234234234234234,
          0.11036036036036036,
          0.1463963963963964,
          0.30405405405405406,
          0.06456456456456457
         ]
        },
        {
         "name": "Period piece",
         "type": "bar",
         "visible": false,
         "x": [
          1890,
          1900,
          1910,
          1920,
          1930,
          1940,
          1950,
          1960,
          1970,
          1980,
          1990,
          2000,
          2010
         ],
         "y": [
          0,
          0,
          0,
          0.0022675736961451248,
          0.023809523809523808,
          0.023809523809523808,
          0.030612244897959183,
          0.022675736961451247,
          0.1111111111111111,
          0.09523809523809523,
          0.26303854875283444,
          0.3854875283446712,
          0.04195011337868481
         ]
        },
        {
         "name": "Romance Film",
         "type": "bar",
         "visible": false,
         "x": [
          1890,
          1900,
          1910,
          1920,
          1930,
          1940,
          1950,
          1960,
          1970,
          1980,
          1990,
          2000,
          2010
         ],
         "y": [
          0,
          0.001997602876548142,
          0.004794246903715541,
          0.013583699560527367,
          0.05793048341989612,
          0.07111466240511387,
          0.0743108270075909,
          0.055533359968038355,
          0.05153815421494207,
          0.09708349980023971,
          0.19057131442269276,
          0.31082700759089094,
          0.07071514182980423
         ]
        },
        {
         "name": "Romantic drama",
         "type": "bar",
         "visible": false,
         "x": [
          1890,
          1900,
          1910,
          1920,
          1930,
          1940,
          1950,
          1960,
          1970,
          1980,
          1990,
          2000,
          2010
         ],
         "y": [
          0,
          0,
          0,
          0.013026052104208416,
          0.04408817635270541,
          0.06713426853707415,
          0.06713426853707415,
          0.04909819639278557,
          0.05511022044088176,
          0.1092184368737475,
          0.21342685370741482,
          0.33567134268537074,
          0.04609218436873747
         ]
        },
        {
         "name": "Science Fiction",
         "type": "bar",
         "visible": false,
         "x": [
          1890,
          1900,
          1910,
          1920,
          1930,
          1940,
          1950,
          1960,
          1970,
          1980,
          1990,
          2000,
          2010
         ],
         "y": [
          0,
          0,
          0.005037783375314861,
          0.007556675062972292,
          0.01595298068849706,
          0.015113350125944584,
          0.0654911838790932,
          0.04450041981528128,
          0.09151973131821999,
          0.18807724601175482,
          0.16288832913518053,
          0.31066330814441645,
          0.09319899244332494
         ]
        },
        {
         "name": "Thriller",
         "type": "bar",
         "visible": false,
         "x": [
          1890,
          1900,
          1910,
          1920,
          1930,
          1940,
          1950,
          1960,
          1970,
          1980,
          1990,
          2000,
          2010
         ],
         "y": [
          0,
          0,
          0.0008055853920515575,
          0.003490870032223416,
          0.02040816326530612,
          0.04779806659505908,
          0.04054779806659506,
          0.03705692803437164,
          0.08136412459720731,
          0.11546723952738991,
          0.1914607948442535,
          0.35553168635875404,
          0.1060687432867884
         ]
        },
        {
         "name": "World cinema",
         "type": "bar",
         "visible": false,
         "x": [
          1890,
          1900,
          1910,
          1920,
          1930,
          1940,
          1950,
          1960,
          1970,
          1980,
          1990,
          2000,
          2010
         ],
         "y": [
          0,
          0,
          0.0009208103130755065,
          0.006445672191528545,
          0.007366482504604052,
          0.020257826887661142,
          0.029465930018416207,
          0.0570902394106814,
          0.07458563535911603,
          0.11694290976058933,
          0.16666666666666666,
          0.47790055248618785,
          0.0423572744014733
         ]
        }
       ],
       "layout": {
        "barmode": "group",
        "sliders": [
         {
          "active": 0,
          "currentvalue": {
           "prefix": "Genre: "
          },
          "pad": {
           "t": 50
          },
          "steps": [
           {
            "args": [
             {
              "visible": [
               true,
               false,
               false,
               false,
               false,
               false,
               false,
               false,
               false,
               false,
               false,
               false,
               false,
               false,
               false,
               false,
               false,
               false,
               false,
               false,
               false,
               false,
               false,
               false,
               false,
               false,
               false,
               false,
               false,
               false,
               false,
               false,
               false,
               false,
               false,
               false,
               false,
               false,
               false,
               false
              ]
             }
            ],
            "label": "Action",
            "method": "update"
           },
           {
            "args": [
             {
              "visible": [
               false,
               true,
               false,
               false,
               false,
               false,
               false,
               false,
               false,
               false,
               false,
               false,
               false,
               false,
               false,
               false,
               false,
               false,
               false,
               false,
               false,
               false,
               false,
               false,
               false,
               false,
               false,
               false,
               false,
               false,
               false,
               false,
               false,
               false,
               false,
               false,
               false,
               false,
               false,
               false
              ]
             }
            ],
            "label": "Action/Adventure",
            "method": "update"
           },
           {
            "args": [
             {
              "visible": [
               false,
               false,
               true,
               false,
               false,
               false,
               false,
               false,
               false,
               false,
               false,
               false,
               false,
               false,
               false,
               false,
               false,
               false,
               false,
               false,
               false,
               false,
               false,
               false,
               false,
               false,
               false,
               false,
               false,
               false,
               false,
               false,
               false,
               false,
               false,
               false,
               false,
               false,
               false,
               false
              ]
             }
            ],
            "label": "Adventure",
            "method": "update"
           },
           {
            "args": [
             {
              "visible": [
               false,
               false,
               false,
               true,
               false,
               false,
               false,
               false,
               false,
               false,
               false,
               false,
               false,
               false,
               false,
               false,
               false,
               false,
               false,
               false,
               false,
               false,
               false,
               false,
               false,
               false,
               false,
               false,
               false,
               false,
               false,
               false,
               false,
               false,
               false,
               false,
               false,
               false,
               false,
               false
              ]
             }
            ],
            "label": "Black-and-white",
            "method": "update"
           },
           {
            "args": [
             {
              "visible": [
               false,
               false,
               false,
               false,
               true,
               false,
               false,
               false,
               false,
               false,
               false,
               false,
               false,
               false,
               false,
               false,
               false,
               false,
               false,
               false,
               false,
               false,
               false,
               false,
               false,
               false,
               false,
               false,
               false,
               false,
               false,
               false,
               false,
               false,
               false,
               false,
               false,
               false,
               false,
               false
              ]
             }
            ],
            "label": "Comedy",
            "method": "update"
           },
           {
            "args": [
             {
              "visible": [
               false,
               false,
               false,
               false,
               false,
               true,
               false,
               false,
               false,
               false,
               false,
               false,
               false,
               false,
               false,
               false,
               false,
               false,
               false,
               false,
               false,
               false,
               false,
               false,
               false,
               false,
               false,
               false,
               false,
               false,
               false,
               false,
               false,
               false,
               false,
               false,
               false,
               false,
               false,
               false
              ]
             }
            ],
            "label": "Crime Fiction",
            "method": "update"
           },
           {
            "args": [
             {
              "visible": [
               false,
               false,
               false,
               false,
               false,
               false,
               true,
               false,
               false,
               false,
               false,
               false,
               false,
               false,
               false,
               false,
               false,
               false,
               false,
               false,
               false,
               false,
               false,
               false,
               false,
               false,
               false,
               false,
               false,
               false,
               false,
               false,
               false,
               false,
               false,
               false,
               false,
               false,
               false,
               false
              ]
             }
            ],
            "label": "Crime Thriller",
            "method": "update"
           },
           {
            "args": [
             {
              "visible": [
               false,
               false,
               false,
               false,
               false,
               false,
               false,
               true,
               false,
               false,
               false,
               false,
               false,
               false,
               false,
               false,
               false,
               false,
               false,
               false,
               false,
               false,
               false,
               false,
               false,
               false,
               false,
               false,
               false,
               false,
               false,
               false,
               false,
               false,
               false,
               false,
               false,
               false,
               false,
               false
              ]
             }
            ],
            "label": "Drama",
            "method": "update"
           },
           {
            "args": [
             {
              "visible": [
               false,
               false,
               false,
               false,
               false,
               false,
               false,
               false,
               true,
               false,
               false,
               false,
               false,
               false,
               false,
               false,
               false,
               false,
               false,
               false,
               false,
               false,
               false,
               false,
               false,
               false,
               false,
               false,
               false,
               false,
               false,
               false,
               false,
               false,
               false,
               false,
               false,
               false,
               false,
               false
              ]
             }
            ],
            "label": "Family Film",
            "method": "update"
           },
           {
            "args": [
             {
              "visible": [
               false,
               false,
               false,
               false,
               false,
               false,
               false,
               false,
               false,
               true,
               false,
               false,
               false,
               false,
               false,
               false,
               false,
               false,
               false,
               false,
               false,
               false,
               false,
               false,
               false,
               false,
               false,
               false,
               false,
               false,
               false,
               false,
               false,
               false,
               false,
               false,
               false,
               false,
               false,
               false
              ]
             }
            ],
            "label": "Fantasy",
            "method": "update"
           },
           {
            "args": [
             {
              "visible": [
               false,
               false,
               false,
               false,
               false,
               false,
               false,
               false,
               false,
               false,
               true,
               false,
               false,
               false,
               false,
               false,
               false,
               false,
               false,
               false,
               false,
               false,
               false,
               false,
               false,
               false,
               false,
               false,
               false,
               false,
               false,
               false,
               false,
               false,
               false,
               false,
               false,
               false,
               false,
               false
              ]
             }
            ],
            "label": "Film adaptation",
            "method": "update"
           },
           {
            "args": [
             {
              "visible": [
               false,
               false,
               false,
               false,
               false,
               false,
               false,
               false,
               false,
               false,
               false,
               true,
               false,
               false,
               false,
               false,
               false,
               false,
               false,
               false,
               false,
               false,
               false,
               false,
               false,
               false,
               false,
               false,
               false,
               false,
               false,
               false,
               false,
               false,
               false,
               false,
               false,
               false,
               false,
               false
              ]
             }
            ],
            "label": "Horror",
            "method": "update"
           },
           {
            "args": [
             {
              "visible": [
               false,
               false,
               false,
               false,
               false,
               false,
               false,
               false,
               false,
               false,
               false,
               false,
               true,
               false,
               false,
               false,
               false,
               false,
               false,
               false,
               false,
               false,
               false,
               false,
               false,
               false,
               false,
               false,
               false,
               false,
               false,
               false,
               false,
               false,
               false,
               false,
               false,
               false,
               false,
               false
              ]
             }
            ],
            "label": "Indie",
            "method": "update"
           },
           {
            "args": [
             {
              "visible": [
               false,
               false,
               false,
               false,
               false,
               false,
               false,
               false,
               false,
               false,
               false,
               false,
               false,
               true,
               false,
               false,
               false,
               false,
               false,
               false,
               false,
               false,
               false,
               false,
               false,
               false,
               false,
               false,
               false,
               false,
               false,
               false,
               false,
               false,
               false,
               false,
               false,
               false,
               false,
               false
              ]
             }
            ],
            "label": "Mystery",
            "method": "update"
           },
           {
            "args": [
             {
              "visible": [
               false,
               false,
               false,
               false,
               false,
               false,
               false,
               false,
               false,
               false,
               false,
               false,
               false,
               false,
               true,
               false,
               false,
               false,
               false,
               false,
               false,
               false,
               false,
               false,
               false,
               false,
               false,
               false,
               false,
               false,
               false,
               false,
               false,
               false,
               false,
               false,
               false,
               false,
               false,
               false
              ]
             }
            ],
            "label": "Period piece",
            "method": "update"
           },
           {
            "args": [
             {
              "visible": [
               false,
               false,
               false,
               false,
               false,
               false,
               false,
               false,
               false,
               false,
               false,
               false,
               false,
               false,
               false,
               true,
               false,
               false,
               false,
               false,
               false,
               false,
               false,
               false,
               false,
               false,
               false,
               false,
               false,
               false,
               false,
               false,
               false,
               false,
               false,
               false,
               false,
               false,
               false,
               false
              ]
             }
            ],
            "label": "Romance Film",
            "method": "update"
           },
           {
            "args": [
             {
              "visible": [
               false,
               false,
               false,
               false,
               false,
               false,
               false,
               false,
               false,
               false,
               false,
               false,
               false,
               false,
               false,
               false,
               true,
               false,
               false,
               false,
               false,
               false,
               false,
               false,
               false,
               false,
               false,
               false,
               false,
               false,
               false,
               false,
               false,
               false,
               false,
               false,
               false,
               false,
               false,
               false
              ]
             }
            ],
            "label": "Romantic drama",
            "method": "update"
           },
           {
            "args": [
             {
              "visible": [
               false,
               false,
               false,
               false,
               false,
               false,
               false,
               false,
               false,
               false,
               false,
               false,
               false,
               false,
               false,
               false,
               false,
               true,
               false,
               false,
               false,
               false,
               false,
               false,
               false,
               false,
               false,
               false,
               false,
               false,
               false,
               false,
               false,
               false,
               false,
               false,
               false,
               false,
               false,
               false
              ]
             }
            ],
            "label": "Science Fiction",
            "method": "update"
           },
           {
            "args": [
             {
              "visible": [
               false,
               false,
               false,
               false,
               false,
               false,
               false,
               false,
               false,
               false,
               false,
               false,
               false,
               false,
               false,
               false,
               false,
               false,
               true,
               false,
               false,
               false,
               false,
               false,
               false,
               false,
               false,
               false,
               false,
               false,
               false,
               false,
               false,
               false,
               false,
               false,
               false,
               false,
               false,
               false
              ]
             }
            ],
            "label": "Thriller",
            "method": "update"
           },
           {
            "args": [
             {
              "visible": [
               false,
               false,
               false,
               false,
               false,
               false,
               false,
               false,
               false,
               false,
               false,
               false,
               false,
               false,
               false,
               false,
               false,
               false,
               false,
               true,
               false,
               false,
               false,
               false,
               false,
               false,
               false,
               false,
               false,
               false,
               false,
               false,
               false,
               false,
               false,
               false,
               false,
               false,
               false,
               false
              ]
             }
            ],
            "label": "World cinema",
            "method": "update"
           }
          ]
         }
        ],
        "template": {
         "data": {
          "bar": [
           {
            "error_x": {
             "color": "#2a3f5f"
            },
            "error_y": {
             "color": "#2a3f5f"
            },
            "marker": {
             "line": {
              "color": "#E5ECF6",
              "width": 0.5
             },
             "pattern": {
              "fillmode": "overlay",
              "size": 10,
              "solidity": 0.2
             }
            },
            "type": "bar"
           }
          ],
          "barpolar": [
           {
            "marker": {
             "line": {
              "color": "#E5ECF6",
              "width": 0.5
             },
             "pattern": {
              "fillmode": "overlay",
              "size": 10,
              "solidity": 0.2
             }
            },
            "type": "barpolar"
           }
          ],
          "carpet": [
           {
            "aaxis": {
             "endlinecolor": "#2a3f5f",
             "gridcolor": "white",
             "linecolor": "white",
             "minorgridcolor": "white",
             "startlinecolor": "#2a3f5f"
            },
            "baxis": {
             "endlinecolor": "#2a3f5f",
             "gridcolor": "white",
             "linecolor": "white",
             "minorgridcolor": "white",
             "startlinecolor": "#2a3f5f"
            },
            "type": "carpet"
           }
          ],
          "choropleth": [
           {
            "colorbar": {
             "outlinewidth": 0,
             "ticks": ""
            },
            "type": "choropleth"
           }
          ],
          "contour": [
           {
            "colorbar": {
             "outlinewidth": 0,
             "ticks": ""
            },
            "colorscale": [
             [
              0,
              "#0d0887"
             ],
             [
              0.1111111111111111,
              "#46039f"
             ],
             [
              0.2222222222222222,
              "#7201a8"
             ],
             [
              0.3333333333333333,
              "#9c179e"
             ],
             [
              0.4444444444444444,
              "#bd3786"
             ],
             [
              0.5555555555555556,
              "#d8576b"
             ],
             [
              0.6666666666666666,
              "#ed7953"
             ],
             [
              0.7777777777777778,
              "#fb9f3a"
             ],
             [
              0.8888888888888888,
              "#fdca26"
             ],
             [
              1,
              "#f0f921"
             ]
            ],
            "type": "contour"
           }
          ],
          "contourcarpet": [
           {
            "colorbar": {
             "outlinewidth": 0,
             "ticks": ""
            },
            "type": "contourcarpet"
           }
          ],
          "heatmap": [
           {
            "colorbar": {
             "outlinewidth": 0,
             "ticks": ""
            },
            "colorscale": [
             [
              0,
              "#0d0887"
             ],
             [
              0.1111111111111111,
              "#46039f"
             ],
             [
              0.2222222222222222,
              "#7201a8"
             ],
             [
              0.3333333333333333,
              "#9c179e"
             ],
             [
              0.4444444444444444,
              "#bd3786"
             ],
             [
              0.5555555555555556,
              "#d8576b"
             ],
             [
              0.6666666666666666,
              "#ed7953"
             ],
             [
              0.7777777777777778,
              "#fb9f3a"
             ],
             [
              0.8888888888888888,
              "#fdca26"
             ],
             [
              1,
              "#f0f921"
             ]
            ],
            "type": "heatmap"
           }
          ],
          "heatmapgl": [
           {
            "colorbar": {
             "outlinewidth": 0,
             "ticks": ""
            },
            "colorscale": [
             [
              0,
              "#0d0887"
             ],
             [
              0.1111111111111111,
              "#46039f"
             ],
             [
              0.2222222222222222,
              "#7201a8"
             ],
             [
              0.3333333333333333,
              "#9c179e"
             ],
             [
              0.4444444444444444,
              "#bd3786"
             ],
             [
              0.5555555555555556,
              "#d8576b"
             ],
             [
              0.6666666666666666,
              "#ed7953"
             ],
             [
              0.7777777777777778,
              "#fb9f3a"
             ],
             [
              0.8888888888888888,
              "#fdca26"
             ],
             [
              1,
              "#f0f921"
             ]
            ],
            "type": "heatmapgl"
           }
          ],
          "histogram": [
           {
            "marker": {
             "pattern": {
              "fillmode": "overlay",
              "size": 10,
              "solidity": 0.2
             }
            },
            "type": "histogram"
           }
          ],
          "histogram2d": [
           {
            "colorbar": {
             "outlinewidth": 0,
             "ticks": ""
            },
            "colorscale": [
             [
              0,
              "#0d0887"
             ],
             [
              0.1111111111111111,
              "#46039f"
             ],
             [
              0.2222222222222222,
              "#7201a8"
             ],
             [
              0.3333333333333333,
              "#9c179e"
             ],
             [
              0.4444444444444444,
              "#bd3786"
             ],
             [
              0.5555555555555556,
              "#d8576b"
             ],
             [
              0.6666666666666666,
              "#ed7953"
             ],
             [
              0.7777777777777778,
              "#fb9f3a"
             ],
             [
              0.8888888888888888,
              "#fdca26"
             ],
             [
              1,
              "#f0f921"
             ]
            ],
            "type": "histogram2d"
           }
          ],
          "histogram2dcontour": [
           {
            "colorbar": {
             "outlinewidth": 0,
             "ticks": ""
            },
            "colorscale": [
             [
              0,
              "#0d0887"
             ],
             [
              0.1111111111111111,
              "#46039f"
             ],
             [
              0.2222222222222222,
              "#7201a8"
             ],
             [
              0.3333333333333333,
              "#9c179e"
             ],
             [
              0.4444444444444444,
              "#bd3786"
             ],
             [
              0.5555555555555556,
              "#d8576b"
             ],
             [
              0.6666666666666666,
              "#ed7953"
             ],
             [
              0.7777777777777778,
              "#fb9f3a"
             ],
             [
              0.8888888888888888,
              "#fdca26"
             ],
             [
              1,
              "#f0f921"
             ]
            ],
            "type": "histogram2dcontour"
           }
          ],
          "mesh3d": [
           {
            "colorbar": {
             "outlinewidth": 0,
             "ticks": ""
            },
            "type": "mesh3d"
           }
          ],
          "parcoords": [
           {
            "line": {
             "colorbar": {
              "outlinewidth": 0,
              "ticks": ""
             }
            },
            "type": "parcoords"
           }
          ],
          "pie": [
           {
            "automargin": true,
            "type": "pie"
           }
          ],
          "scatter": [
           {
            "fillpattern": {
             "fillmode": "overlay",
             "size": 10,
             "solidity": 0.2
            },
            "type": "scatter"
           }
          ],
          "scatter3d": [
           {
            "line": {
             "colorbar": {
              "outlinewidth": 0,
              "ticks": ""
             }
            },
            "marker": {
             "colorbar": {
              "outlinewidth": 0,
              "ticks": ""
             }
            },
            "type": "scatter3d"
           }
          ],
          "scattercarpet": [
           {
            "marker": {
             "colorbar": {
              "outlinewidth": 0,
              "ticks": ""
             }
            },
            "type": "scattercarpet"
           }
          ],
          "scattergeo": [
           {
            "marker": {
             "colorbar": {
              "outlinewidth": 0,
              "ticks": ""
             }
            },
            "type": "scattergeo"
           }
          ],
          "scattergl": [
           {
            "marker": {
             "colorbar": {
              "outlinewidth": 0,
              "ticks": ""
             }
            },
            "type": "scattergl"
           }
          ],
          "scattermapbox": [
           {
            "marker": {
             "colorbar": {
              "outlinewidth": 0,
              "ticks": ""
             }
            },
            "type": "scattermapbox"
           }
          ],
          "scatterpolar": [
           {
            "marker": {
             "colorbar": {
              "outlinewidth": 0,
              "ticks": ""
             }
            },
            "type": "scatterpolar"
           }
          ],
          "scatterpolargl": [
           {
            "marker": {
             "colorbar": {
              "outlinewidth": 0,
              "ticks": ""
             }
            },
            "type": "scatterpolargl"
           }
          ],
          "scatterternary": [
           {
            "marker": {
             "colorbar": {
              "outlinewidth": 0,
              "ticks": ""
             }
            },
            "type": "scatterternary"
           }
          ],
          "surface": [
           {
            "colorbar": {
             "outlinewidth": 0,
             "ticks": ""
            },
            "colorscale": [
             [
              0,
              "#0d0887"
             ],
             [
              0.1111111111111111,
              "#46039f"
             ],
             [
              0.2222222222222222,
              "#7201a8"
             ],
             [
              0.3333333333333333,
              "#9c179e"
             ],
             [
              0.4444444444444444,
              "#bd3786"
             ],
             [
              0.5555555555555556,
              "#d8576b"
             ],
             [
              0.6666666666666666,
              "#ed7953"
             ],
             [
              0.7777777777777778,
              "#fb9f3a"
             ],
             [
              0.8888888888888888,
              "#fdca26"
             ],
             [
              1,
              "#f0f921"
             ]
            ],
            "type": "surface"
           }
          ],
          "table": [
           {
            "cells": {
             "fill": {
              "color": "#EBF0F8"
             },
             "line": {
              "color": "white"
             }
            },
            "header": {
             "fill": {
              "color": "#C8D4E3"
             },
             "line": {
              "color": "white"
             }
            },
            "type": "table"
           }
          ]
         },
         "layout": {
          "annotationdefaults": {
           "arrowcolor": "#2a3f5f",
           "arrowhead": 0,
           "arrowwidth": 1
          },
          "autotypenumbers": "strict",
          "coloraxis": {
           "colorbar": {
            "outlinewidth": 0,
            "ticks": ""
           }
          },
          "colorscale": {
           "diverging": [
            [
             0,
             "#8e0152"
            ],
            [
             0.1,
             "#c51b7d"
            ],
            [
             0.2,
             "#de77ae"
            ],
            [
             0.3,
             "#f1b6da"
            ],
            [
             0.4,
             "#fde0ef"
            ],
            [
             0.5,
             "#f7f7f7"
            ],
            [
             0.6,
             "#e6f5d0"
            ],
            [
             0.7,
             "#b8e186"
            ],
            [
             0.8,
             "#7fbc41"
            ],
            [
             0.9,
             "#4d9221"
            ],
            [
             1,
             "#276419"
            ]
           ],
           "sequential": [
            [
             0,
             "#0d0887"
            ],
            [
             0.1111111111111111,
             "#46039f"
            ],
            [
             0.2222222222222222,
             "#7201a8"
            ],
            [
             0.3333333333333333,
             "#9c179e"
            ],
            [
             0.4444444444444444,
             "#bd3786"
            ],
            [
             0.5555555555555556,
             "#d8576b"
            ],
            [
             0.6666666666666666,
             "#ed7953"
            ],
            [
             0.7777777777777778,
             "#fb9f3a"
            ],
            [
             0.8888888888888888,
             "#fdca26"
            ],
            [
             1,
             "#f0f921"
            ]
           ],
           "sequentialminus": [
            [
             0,
             "#0d0887"
            ],
            [
             0.1111111111111111,
             "#46039f"
            ],
            [
             0.2222222222222222,
             "#7201a8"
            ],
            [
             0.3333333333333333,
             "#9c179e"
            ],
            [
             0.4444444444444444,
             "#bd3786"
            ],
            [
             0.5555555555555556,
             "#d8576b"
            ],
            [
             0.6666666666666666,
             "#ed7953"
            ],
            [
             0.7777777777777778,
             "#fb9f3a"
            ],
            [
             0.8888888888888888,
             "#fdca26"
            ],
            [
             1,
             "#f0f921"
            ]
           ]
          },
          "colorway": [
           "#636efa",
           "#EF553B",
           "#00cc96",
           "#ab63fa",
           "#FFA15A",
           "#19d3f3",
           "#FF6692",
           "#B6E880",
           "#FF97FF",
           "#FECB52"
          ],
          "font": {
           "color": "#2a3f5f"
          },
          "geo": {
           "bgcolor": "white",
           "lakecolor": "white",
           "landcolor": "#E5ECF6",
           "showlakes": true,
           "showland": true,
           "subunitcolor": "white"
          },
          "hoverlabel": {
           "align": "left"
          },
          "hovermode": "closest",
          "mapbox": {
           "style": "light"
          },
          "paper_bgcolor": "white",
          "plot_bgcolor": "#E5ECF6",
          "polar": {
           "angularaxis": {
            "gridcolor": "white",
            "linecolor": "white",
            "ticks": ""
           },
           "bgcolor": "#E5ECF6",
           "radialaxis": {
            "gridcolor": "white",
            "linecolor": "white",
            "ticks": ""
           }
          },
          "scene": {
           "xaxis": {
            "backgroundcolor": "#E5ECF6",
            "gridcolor": "white",
            "gridwidth": 2,
            "linecolor": "white",
            "showbackground": true,
            "ticks": "",
            "zerolinecolor": "white"
           },
           "yaxis": {
            "backgroundcolor": "#E5ECF6",
            "gridcolor": "white",
            "gridwidth": 2,
            "linecolor": "white",
            "showbackground": true,
            "ticks": "",
            "zerolinecolor": "white"
           },
           "zaxis": {
            "backgroundcolor": "#E5ECF6",
            "gridcolor": "white",
            "gridwidth": 2,
            "linecolor": "white",
            "showbackground": true,
            "ticks": "",
            "zerolinecolor": "white"
           }
          },
          "shapedefaults": {
           "line": {
            "color": "#2a3f5f"
           }
          },
          "ternary": {
           "aaxis": {
            "gridcolor": "white",
            "linecolor": "white",
            "ticks": ""
           },
           "baxis": {
            "gridcolor": "white",
            "linecolor": "white",
            "ticks": ""
           },
           "bgcolor": "#E5ECF6",
           "caxis": {
            "gridcolor": "white",
            "linecolor": "white",
            "ticks": ""
           }
          },
          "title": {
           "x": 0.05
          },
          "xaxis": {
           "automargin": true,
           "gridcolor": "white",
           "linecolor": "white",
           "ticks": "",
           "title": {
            "standoff": 15
           },
           "zerolinecolor": "white",
           "zerolinewidth": 2
          },
          "yaxis": {
           "automargin": true,
           "gridcolor": "white",
           "linecolor": "white",
           "ticks": "",
           "title": {
            "standoff": 15
           },
           "zerolinecolor": "white",
           "zerolinewidth": 2
          }
         }
        },
        "title": {
         "text": "Proportion of Movies Released per Decade by Selected Genre"
        },
        "xaxis": {
         "title": {
          "text": "Decade"
         }
        },
        "yaxis": {
         "tickformat": ".1%",
         "title": {
          "text": "Percentage of Movies"
         }
        }
       }
      }
     },
     "metadata": {},
     "output_type": "display_data"
    }
   ],
   "source": [
    "ig = go.Figure()\n",
    "\n",
    "for genre in movies_per_decade_genres_20_percentage.index:\n",
    "    fig.add_trace(go.Bar(\n",
    "        x=movies_per_decade_genres_20_percentage.columns,  # Decades\n",
    "        y=movies_per_decade_genres_20_percentage.loc[genre],  # Percentage values for each decade\n",
    "        name=genre,\n",
    "        visible=False  \n",
    "    ))\n",
    "\n",
    "fig.data[0].visible = True\n",
    "\n",
    "# Create the slider steps for each genre\n",
    "steps = []\n",
    "for i, genre in enumerate(movies_per_decade_genres_20_percentage.index):\n",
    "    step = dict(\n",
    "        method=\"update\",\n",
    "        args=[{\"visible\": [False] * len(fig.data)}],  \n",
    "        label=genre\n",
    "    )\n",
    "    step[\"args\"][0][\"visible\"][i] = True  \n",
    "    steps.append(step)\n",
    "\n",
    "# Create slider\n",
    "sliders = [dict(\n",
    "    active=0,\n",
    "    currentvalue={\"prefix\": \"Genre: \"},\n",
    "    pad={\"t\": 50},\n",
    "    steps=steps\n",
    ")]\n",
    "\n",
    "# Update the layout to include the slider\n",
    "fig.update_layout(\n",
    "    sliders=sliders,\n",
    "    title='Proportion of Movies Released per Decade by Selected Genre',\n",
    "    xaxis_title='Decade',\n",
    "    yaxis_title='Percentage of Movies',\n",
    "    yaxis=dict(tickformat=\".1%\"),\n",
    "    barmode='group'\n",
    ")\n",
    "\n",
    "# Show the plot\n",
    "fig.show()\n"
   ]
  },
  {
   "cell_type": "code",
   "execution_count": null,
   "metadata": {},
   "outputs": [],
   "source": []
  }
 ],
 "metadata": {
  "kernelspec": {
   "display_name": "base",
   "language": "python",
   "name": "python3"
  },
  "language_info": {
   "codemirror_mode": {
    "name": "ipython",
    "version": 3
   },
   "file_extension": ".py",
   "mimetype": "text/x-python",
   "name": "python",
   "nbconvert_exporter": "python",
   "pygments_lexer": "ipython3",
   "version": "3.8.18"
  }
 },
 "nbformat": 4,
 "nbformat_minor": 2
}
