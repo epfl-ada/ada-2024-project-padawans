{
 "cells": [
  {
   "cell_type": "markdown",
   "metadata": {
    "id": "PcFgLMUCWWKA"
   },
   "source": [
    "# TITLE"
   ]
  },
  {
   "cell_type": "markdown",
   "metadata": {},
   "source": [
    "# Introduction\n",
    "\n",
    "To fill"
   ]
  },
  {
   "cell_type": "markdown",
   "metadata": {},
   "source": [
    "<div style=\"border-left: 6px solid rgba(69, 157, 185, 1);border-radius:5px; box-shadow: 3px 3px 3px rgba(221, 221, 221, 1);\" >\n",
    "    <p style=\"background-color: rgba(69, 157, 185, 0.1); font-weight:bold; padding: 8px 0 8px 15px;\">Analysis</p>\n",
    "    <div style=\"padding: 0 0 2px 10px;\">\n",
    "    \n",
    "**What will be covered :**\n",
    "- **Part 1 :** fill\n",
    "- **Part 2 :** fill\n",
    "- **Part 3 :** fill\n",
    "\n",
    "</div></div>\n",
    "<br/>\n",
    "\n",
    "---"
   ]
  },
  {
   "cell_type": "markdown",
   "metadata": {},
   "source": [
    "# Part 1: Movie Dataset"
   ]
  },
  {
   "cell_type": "markdown",
   "metadata": {
    "id": "lia0IkqUWjEc"
   },
   "source": [
    "### Import libraries"
   ]
  },
  {
   "cell_type": "code",
   "execution_count": 2,
   "metadata": {
    "colab": {
     "base_uri": "https://localhost:8080/"
    },
    "execution": {
     "iopub.execute_input": "2024-11-11T17:01:10.219356Z",
     "iopub.status.busy": "2024-11-11T17:01:10.215555Z",
     "iopub.status.idle": "2024-11-11T17:01:27.672821Z",
     "shell.execute_reply": "2024-11-11T17:01:27.671267Z",
     "shell.execute_reply.started": "2024-11-11T17:01:10.219180Z"
    },
    "id": "rupUYEVdWjxz",
    "outputId": "f1a39524-90bc-456c-d187-0556d4d4dac7"
   },
   "outputs": [
    {
     "name": "stderr",
     "output_type": "stream",
     "text": [
      "[nltk_data] Downloading package punkt to /Users/serge/nltk_data...\n",
      "[nltk_data]   Unzipping tokenizers/punkt.zip.\n",
      "[nltk_data] Downloading package stopwords to /Users/serge/nltk_data...\n",
      "[nltk_data]   Unzipping corpora/stopwords.zip.\n"
     ]
    },
    {
     "data": {
      "text/plain": [
       "True"
      ]
     },
     "execution_count": 2,
     "metadata": {},
     "output_type": "execute_result"
    }
   ],
   "source": [
    "import numpy as np\n",
    "import pandas as pd\n",
    "\n",
    "# LDA\n",
    "# gensim is a popular library for topic modelling\n",
    "# pip install gensim\n",
    "# pip install nltk\n",
    "# pip install kagglehub\n",
    "# pip install spacy\n",
    "from gensim.corpora import Dictionary\n",
    "from gensim.models import LdaModel\n",
    "from nltk.tokenize import word_tokenize\n",
    "from nltk.corpus import stopwords\n",
    "import nltk\n",
    "import kagglehub # To extract synopsis dataframes\n",
    "import spacy\n",
    "\n",
    "\n",
    "nltk.download('punkt')\n",
    "nltk.download('stopwords')"
   ]
  },
  {
   "cell_type": "markdown",
   "metadata": {},
   "source": [
    "### Load data"
   ]
  },
  {
   "cell_type": "code",
   "execution_count": 5,
   "metadata": {
    "colab": {
     "base_uri": "https://localhost:8080/",
     "height": 345
    },
    "execution": {
     "iopub.execute_input": "2024-11-11T17:03:36.036193Z",
     "iopub.status.busy": "2024-11-11T17:03:36.031857Z",
     "iopub.status.idle": "2024-11-11T17:03:37.039182Z",
     "shell.execute_reply": "2024-11-11T17:03:37.037227Z",
     "shell.execute_reply.started": "2024-11-11T17:03:36.036071Z"
    },
    "id": "LrvPNJMwW3e0",
    "outputId": "e1d6add8-3661-4f7c-cc83-4a878cefce5a"
   },
   "outputs": [
    {
     "data": {
      "text/html": [
       "<div>\n",
       "<style scoped>\n",
       "    .dataframe tbody tr th:only-of-type {\n",
       "        vertical-align: middle;\n",
       "    }\n",
       "\n",
       "    .dataframe tbody tr th {\n",
       "        vertical-align: top;\n",
       "    }\n",
       "\n",
       "    .dataframe thead th {\n",
       "        text-align: right;\n",
       "    }\n",
       "</style>\n",
       "<table border=\"1\" class=\"dataframe\">\n",
       "  <thead>\n",
       "    <tr style=\"text-align: right;\">\n",
       "      <th></th>\n",
       "      <th>Wikipedia movie ID</th>\n",
       "      <th>Freebase movie ID</th>\n",
       "      <th>Movie name</th>\n",
       "      <th>Movie release date</th>\n",
       "      <th>Movie box office revenue</th>\n",
       "      <th>Movie runtime</th>\n",
       "      <th>Movie languages</th>\n",
       "      <th>Movie countries</th>\n",
       "      <th>Movie genres</th>\n",
       "    </tr>\n",
       "  </thead>\n",
       "  <tbody>\n",
       "    <tr>\n",
       "      <th>0</th>\n",
       "      <td>975900</td>\n",
       "      <td>/m/03vyhn</td>\n",
       "      <td>Ghosts of Mars</td>\n",
       "      <td>2001-08-24</td>\n",
       "      <td>14010832.0</td>\n",
       "      <td>98.0</td>\n",
       "      <td>{\"/m/02h40lc\": \"English Language\"}</td>\n",
       "      <td>{\"/m/09c7w0\": \"United States of America\"}</td>\n",
       "      <td>{\"/m/01jfsb\": \"Thriller\", \"/m/06n90\": \"Science...</td>\n",
       "    </tr>\n",
       "    <tr>\n",
       "      <th>1</th>\n",
       "      <td>3196793</td>\n",
       "      <td>/m/08yl5d</td>\n",
       "      <td>Getting Away with Murder: The JonBenét Ramsey ...</td>\n",
       "      <td>2000-02-16</td>\n",
       "      <td>NaN</td>\n",
       "      <td>95.0</td>\n",
       "      <td>{\"/m/02h40lc\": \"English Language\"}</td>\n",
       "      <td>{\"/m/09c7w0\": \"United States of America\"}</td>\n",
       "      <td>{\"/m/02n4kr\": \"Mystery\", \"/m/03bxz7\": \"Biograp...</td>\n",
       "    </tr>\n",
       "    <tr>\n",
       "      <th>2</th>\n",
       "      <td>28463795</td>\n",
       "      <td>/m/0crgdbh</td>\n",
       "      <td>Brun bitter</td>\n",
       "      <td>1988</td>\n",
       "      <td>NaN</td>\n",
       "      <td>83.0</td>\n",
       "      <td>{\"/m/05f_3\": \"Norwegian Language\"}</td>\n",
       "      <td>{\"/m/05b4w\": \"Norway\"}</td>\n",
       "      <td>{\"/m/0lsxr\": \"Crime Fiction\", \"/m/07s9rl0\": \"D...</td>\n",
       "    </tr>\n",
       "    <tr>\n",
       "      <th>3</th>\n",
       "      <td>9363483</td>\n",
       "      <td>/m/0285_cd</td>\n",
       "      <td>White Of The Eye</td>\n",
       "      <td>1987</td>\n",
       "      <td>NaN</td>\n",
       "      <td>110.0</td>\n",
       "      <td>{\"/m/02h40lc\": \"English Language\"}</td>\n",
       "      <td>{\"/m/07ssc\": \"United Kingdom\"}</td>\n",
       "      <td>{\"/m/01jfsb\": \"Thriller\", \"/m/0glj9q\": \"Erotic...</td>\n",
       "    </tr>\n",
       "    <tr>\n",
       "      <th>4</th>\n",
       "      <td>261236</td>\n",
       "      <td>/m/01mrr1</td>\n",
       "      <td>A Woman in Flames</td>\n",
       "      <td>1983</td>\n",
       "      <td>NaN</td>\n",
       "      <td>106.0</td>\n",
       "      <td>{\"/m/04306rv\": \"German Language\"}</td>\n",
       "      <td>{\"/m/0345h\": \"Germany\"}</td>\n",
       "      <td>{\"/m/07s9rl0\": \"Drama\"}</td>\n",
       "    </tr>\n",
       "  </tbody>\n",
       "</table>\n",
       "</div>"
      ],
      "text/plain": [
       "   Wikipedia movie ID Freebase movie ID  \\\n",
       "0              975900         /m/03vyhn   \n",
       "1             3196793         /m/08yl5d   \n",
       "2            28463795        /m/0crgdbh   \n",
       "3             9363483        /m/0285_cd   \n",
       "4              261236         /m/01mrr1   \n",
       "\n",
       "                                          Movie name Movie release date  \\\n",
       "0                                     Ghosts of Mars         2001-08-24   \n",
       "1  Getting Away with Murder: The JonBenét Ramsey ...         2000-02-16   \n",
       "2                                        Brun bitter               1988   \n",
       "3                                   White Of The Eye               1987   \n",
       "4                                  A Woman in Flames               1983   \n",
       "\n",
       "   Movie box office revenue  Movie runtime  \\\n",
       "0                14010832.0           98.0   \n",
       "1                       NaN           95.0   \n",
       "2                       NaN           83.0   \n",
       "3                       NaN          110.0   \n",
       "4                       NaN          106.0   \n",
       "\n",
       "                      Movie languages  \\\n",
       "0  {\"/m/02h40lc\": \"English Language\"}   \n",
       "1  {\"/m/02h40lc\": \"English Language\"}   \n",
       "2  {\"/m/05f_3\": \"Norwegian Language\"}   \n",
       "3  {\"/m/02h40lc\": \"English Language\"}   \n",
       "4   {\"/m/04306rv\": \"German Language\"}   \n",
       "\n",
       "                             Movie countries  \\\n",
       "0  {\"/m/09c7w0\": \"United States of America\"}   \n",
       "1  {\"/m/09c7w0\": \"United States of America\"}   \n",
       "2                     {\"/m/05b4w\": \"Norway\"}   \n",
       "3             {\"/m/07ssc\": \"United Kingdom\"}   \n",
       "4                    {\"/m/0345h\": \"Germany\"}   \n",
       "\n",
       "                                        Movie genres  \n",
       "0  {\"/m/01jfsb\": \"Thriller\", \"/m/06n90\": \"Science...  \n",
       "1  {\"/m/02n4kr\": \"Mystery\", \"/m/03bxz7\": \"Biograp...  \n",
       "2  {\"/m/0lsxr\": \"Crime Fiction\", \"/m/07s9rl0\": \"D...  \n",
       "3  {\"/m/01jfsb\": \"Thriller\", \"/m/0glj9q\": \"Erotic...  \n",
       "4                            {\"/m/07s9rl0\": \"Drama\"}  "
      ]
     },
     "execution_count": 5,
     "metadata": {},
     "output_type": "execute_result"
    }
   ],
   "source": [
    "movie_columnns =['Wikipedia movie ID','Freebase movie ID', 'Movie name', 'Movie release date', 'Movie box office revenue', 'Movie runtime', 'Movie languages', 'Movie countries', 'Movie genres']\n",
    "movie = pd.read_csv('Data/movie.metadata.tsv', sep='\\t', header=None, names=movie_columnns)\n",
    "movie.head()"
   ]
  },
  {
   "cell_type": "markdown",
   "metadata": {
    "id": "Q1QqV0aSRYy4"
   },
   "source": [
    "## Latent Dirichlet Allocation (LDA)\n",
    "To group movies together based on something more precise than their genre, we will use Latent Dirichlet Allocation. LDA offers a way to cluster together movies that reflect similar themes, based on textual descriptions. The model is based on unsupervised learning, as the subjects are not known. However the movie summaries only give us too few informations to use LDA. That's why we will extract the synopsis of the movies through another dataset called \"Movie Plot Synopses with Tags\" (MPST). Those synopsis are around 10 times longer than the summaries, giving way more informations to the LDA model."
   ]
  },
  {
   "cell_type": "markdown",
   "metadata": {
    "id": "FBMps4_KA7YU"
   },
   "source": [
    "### Exploratory Data Analysis of Synopsis Dataframe"
   ]
  },
  {
   "cell_type": "code",
   "execution_count": 7,
   "metadata": {
    "colab": {
     "base_uri": "https://localhost:8080/",
     "height": 241
    },
    "execution": {
     "iopub.execute_input": "2024-11-11T17:07:07.175678Z",
     "iopub.status.busy": "2024-11-11T17:07:07.174118Z",
     "iopub.status.idle": "2024-11-11T17:07:08.066571Z",
     "shell.execute_reply": "2024-11-11T17:07:08.065107Z",
     "shell.execute_reply.started": "2024-11-11T17:07:07.175557Z"
    },
    "id": "nCK52QIEA6xj",
    "outputId": "50deb3c0-eac6-4986-a6f7-c41b7484767b"
   },
   "outputs": [
    {
     "name": "stdout",
     "output_type": "stream",
     "text": [
      "This synopsis dataframe is of size: (14828, 6)\n"
     ]
    },
    {
     "data": {
      "text/html": [
       "<div>\n",
       "<style scoped>\n",
       "    .dataframe tbody tr th:only-of-type {\n",
       "        vertical-align: middle;\n",
       "    }\n",
       "\n",
       "    .dataframe tbody tr th {\n",
       "        vertical-align: top;\n",
       "    }\n",
       "\n",
       "    .dataframe thead th {\n",
       "        text-align: right;\n",
       "    }\n",
       "</style>\n",
       "<table border=\"1\" class=\"dataframe\">\n",
       "  <thead>\n",
       "    <tr style=\"text-align: right;\">\n",
       "      <th></th>\n",
       "      <th>imdb_id</th>\n",
       "      <th>title</th>\n",
       "      <th>plot_synopsis</th>\n",
       "      <th>tags</th>\n",
       "      <th>split</th>\n",
       "      <th>synopsis_source</th>\n",
       "    </tr>\n",
       "  </thead>\n",
       "  <tbody>\n",
       "    <tr>\n",
       "      <th>0</th>\n",
       "      <td>tt0057603</td>\n",
       "      <td>I tre volti della paura</td>\n",
       "      <td>Note: this synopsis is for the orginal Italian...</td>\n",
       "      <td>cult, horror, gothic, murder, atmospheric</td>\n",
       "      <td>train</td>\n",
       "      <td>imdb</td>\n",
       "    </tr>\n",
       "    <tr>\n",
       "      <th>1</th>\n",
       "      <td>tt1733125</td>\n",
       "      <td>Dungeons &amp; Dragons: The Book of Vile Darkness</td>\n",
       "      <td>Two thousand years ago, Nhagruul the Foul, a s...</td>\n",
       "      <td>violence</td>\n",
       "      <td>train</td>\n",
       "      <td>imdb</td>\n",
       "    </tr>\n",
       "    <tr>\n",
       "      <th>2</th>\n",
       "      <td>tt0033045</td>\n",
       "      <td>The Shop Around the Corner</td>\n",
       "      <td>Matuschek's, a gift store in Budapest, is the ...</td>\n",
       "      <td>romantic</td>\n",
       "      <td>test</td>\n",
       "      <td>imdb</td>\n",
       "    </tr>\n",
       "    <tr>\n",
       "      <th>3</th>\n",
       "      <td>tt0113862</td>\n",
       "      <td>Mr. Holland's Opus</td>\n",
       "      <td>Glenn Holland, not a morning person by anyone'...</td>\n",
       "      <td>inspiring, romantic, stupid, feel-good</td>\n",
       "      <td>train</td>\n",
       "      <td>imdb</td>\n",
       "    </tr>\n",
       "    <tr>\n",
       "      <th>4</th>\n",
       "      <td>tt0086250</td>\n",
       "      <td>Scarface</td>\n",
       "      <td>In May 1980, a Cuban man named Tony Montana (A...</td>\n",
       "      <td>cruelty, murder, dramatic, cult, violence, atm...</td>\n",
       "      <td>val</td>\n",
       "      <td>imdb</td>\n",
       "    </tr>\n",
       "  </tbody>\n",
       "</table>\n",
       "</div>"
      ],
      "text/plain": [
       "     imdb_id                                          title  \\\n",
       "0  tt0057603                        I tre volti della paura   \n",
       "1  tt1733125  Dungeons & Dragons: The Book of Vile Darkness   \n",
       "2  tt0033045                     The Shop Around the Corner   \n",
       "3  tt0113862                             Mr. Holland's Opus   \n",
       "4  tt0086250                                       Scarface   \n",
       "\n",
       "                                       plot_synopsis  \\\n",
       "0  Note: this synopsis is for the orginal Italian...   \n",
       "1  Two thousand years ago, Nhagruul the Foul, a s...   \n",
       "2  Matuschek's, a gift store in Budapest, is the ...   \n",
       "3  Glenn Holland, not a morning person by anyone'...   \n",
       "4  In May 1980, a Cuban man named Tony Montana (A...   \n",
       "\n",
       "                                                tags  split synopsis_source  \n",
       "0          cult, horror, gothic, murder, atmospheric  train            imdb  \n",
       "1                                           violence  train            imdb  \n",
       "2                                           romantic   test            imdb  \n",
       "3             inspiring, romantic, stupid, feel-good  train            imdb  \n",
       "4  cruelty, murder, dramatic, cult, violence, atm...    val            imdb  "
      ]
     },
     "execution_count": 7,
     "metadata": {},
     "output_type": "execute_result"
    }
   ],
   "source": [
    "# Load data\n",
    "synopsis = pd.read_csv('Data/mpst_full_data.csv')\n",
    "\n",
    "# Check data shape\n",
    "print(\"This synopsis dataframe is of size:\", synopsis.shape)\n",
    "\n",
    "# Display df\n",
    "synopsis.head()"
   ]
  },
  {
   "cell_type": "markdown",
   "metadata": {
    "id": "2UAJMz6JDX6D"
   },
   "source": [
    "### Comment\n",
    "The dataframe offers extra movie tags and the full movie synopsis which would give the LDA more context to group movies together. On the other hand there a only 14'828 rows/movies which is consequently smaller than the summaries dataframe. Another important notice is that this dataframe uses imdb_id not wikipedia movie ids."
   ]
  },
  {
   "cell_type": "markdown",
   "metadata": {
    "id": "MV5vh5iMEAvc"
   },
   "source": [
    "## Adding synopsis and tags to the initial movie df\n",
    "To match the two dataset, we will retrieve the imdb ID of the movies in the initial dataset through the imdb library. It's safer than matching the titles and we will use the library later anyway (cf. part x)."
   ]
  },
  {
   "cell_type": "code",
   "execution_count": 11,
   "metadata": {},
   "outputs": [],
   "source": [
    "from imdb import IMDb\n",
    "ia = IMDb()\n",
    "movie_id = '1375666'\n",
    "movie = ia.get_movie(movie_id)\n",
    "wikipedia_id = movie.get('wikidata id')"
   ]
  },
  {
   "cell_type": "code",
   "execution_count": 9,
   "metadata": {
    "colab": {
     "base_uri": "https://localhost:8080/",
     "height": 660
    },
    "execution": {
     "iopub.execute_input": "2024-11-11T17:07:45.602576Z",
     "iopub.status.busy": "2024-11-11T17:07:45.600649Z",
     "iopub.status.idle": "2024-11-11T17:07:45.701557Z",
     "shell.execute_reply": "2024-11-11T17:07:45.699109Z",
     "shell.execute_reply.started": "2024-11-11T17:07:45.602486Z"
    },
    "id": "avIqtZ3oDWJ9",
    "outputId": "134a26fb-3079-4ed6-9a6d-b81f6313635b"
   },
   "outputs": [
    {
     "data": {
      "text/html": [
       "<div>\n",
       "<style scoped>\n",
       "    .dataframe tbody tr th:only-of-type {\n",
       "        vertical-align: middle;\n",
       "    }\n",
       "\n",
       "    .dataframe tbody tr th {\n",
       "        vertical-align: top;\n",
       "    }\n",
       "\n",
       "    .dataframe thead th {\n",
       "        text-align: right;\n",
       "    }\n",
       "</style>\n",
       "<table border=\"1\" class=\"dataframe\">\n",
       "  <thead>\n",
       "    <tr style=\"text-align: right;\">\n",
       "      <th></th>\n",
       "      <th>imdb_id</th>\n",
       "      <th>title</th>\n",
       "      <th>plot_synopsis</th>\n",
       "      <th>tags</th>\n",
       "      <th>split</th>\n",
       "      <th>synopsis_source</th>\n",
       "      <th>Wikipedia movie ID</th>\n",
       "      <th>Freebase movie ID</th>\n",
       "      <th>Movie name</th>\n",
       "      <th>Movie release date</th>\n",
       "      <th>Movie box office revenue</th>\n",
       "      <th>Movie runtime</th>\n",
       "      <th>Movie languages</th>\n",
       "      <th>Movie countries</th>\n",
       "      <th>Movie genres</th>\n",
       "    </tr>\n",
       "  </thead>\n",
       "  <tbody>\n",
       "    <tr>\n",
       "      <th>0</th>\n",
       "      <td>tt1733125</td>\n",
       "      <td>Dungeons &amp; Dragons: The Book of Vile Darkness</td>\n",
       "      <td>Two thousand years ago, Nhagruul the Foul, a s...</td>\n",
       "      <td>violence</td>\n",
       "      <td>train</td>\n",
       "      <td>imdb</td>\n",
       "      <td>30855958</td>\n",
       "      <td>/m/0gfjl1f</td>\n",
       "      <td>Dungeons &amp; Dragons: The Book of Vile Darkness</td>\n",
       "      <td>2012-08-09</td>\n",
       "      <td>NaN</td>\n",
       "      <td>90.0</td>\n",
       "      <td>{}</td>\n",
       "      <td>{\"/m/07ssc\": \"United Kingdom\"}</td>\n",
       "      <td>{\"/m/01hmnh\": \"Fantasy\"}</td>\n",
       "    </tr>\n",
       "    <tr>\n",
       "      <th>1</th>\n",
       "      <td>tt0033045</td>\n",
       "      <td>The Shop Around the Corner</td>\n",
       "      <td>Matuschek's, a gift store in Budapest, is the ...</td>\n",
       "      <td>romantic</td>\n",
       "      <td>test</td>\n",
       "      <td>imdb</td>\n",
       "      <td>76353</td>\n",
       "      <td>/m/0k4bt</td>\n",
       "      <td>The Shop Around the Corner</td>\n",
       "      <td>1940-01-12</td>\n",
       "      <td>NaN</td>\n",
       "      <td>98.0</td>\n",
       "      <td>{\"/m/02h40lc\": \"English Language\"}</td>\n",
       "      <td>{\"/m/09c7w0\": \"United States of America\"}</td>\n",
       "      <td>{\"/m/06cvj\": \"Romantic comedy\", \"/m/0hj3nyp\": ...</td>\n",
       "    </tr>\n",
       "    <tr>\n",
       "      <th>2</th>\n",
       "      <td>tt0113862</td>\n",
       "      <td>Mr. Holland's Opus</td>\n",
       "      <td>Glenn Holland, not a morning person by anyone'...</td>\n",
       "      <td>inspiring, romantic, stupid, feel-good</td>\n",
       "      <td>train</td>\n",
       "      <td>imdb</td>\n",
       "      <td>171076</td>\n",
       "      <td>/m/016z98</td>\n",
       "      <td>Mr. Holland's Opus</td>\n",
       "      <td>1995-12-29</td>\n",
       "      <td>106269971.0</td>\n",
       "      <td>130.0</td>\n",
       "      <td>{\"/m/02h40lc\": \"English Language\", \"/m/0my5\": ...</td>\n",
       "      <td>{\"/m/09c7w0\": \"United States of America\"}</td>\n",
       "      <td>{\"/m/0hj3n84\": \"Inspirational Drama\", \"/m/0hqx...</td>\n",
       "    </tr>\n",
       "    <tr>\n",
       "      <th>3</th>\n",
       "      <td>tt0086250</td>\n",
       "      <td>Scarface</td>\n",
       "      <td>In May 1980, a Cuban man named Tony Montana (A...</td>\n",
       "      <td>cruelty, murder, dramatic, cult, violence, atm...</td>\n",
       "      <td>val</td>\n",
       "      <td>imdb</td>\n",
       "      <td>76331</td>\n",
       "      <td>/m/0k44g</td>\n",
       "      <td>Scarface</td>\n",
       "      <td>1932</td>\n",
       "      <td>NaN</td>\n",
       "      <td>94.0</td>\n",
       "      <td>{\"/m/02bjrlw\": \"Italian Language\", \"/m/02h40lc...</td>\n",
       "      <td>{\"/m/09c7w0\": \"United States of America\"}</td>\n",
       "      <td>{\"/m/0lsxr\": \"Crime Fiction\", \"/m/0gw5w78\": \"G...</td>\n",
       "    </tr>\n",
       "    <tr>\n",
       "      <th>4</th>\n",
       "      <td>tt0086250</td>\n",
       "      <td>Scarface</td>\n",
       "      <td>In May 1980, a Cuban man named Tony Montana (A...</td>\n",
       "      <td>cruelty, murder, dramatic, cult, violence, atm...</td>\n",
       "      <td>val</td>\n",
       "      <td>imdb</td>\n",
       "      <td>267848</td>\n",
       "      <td>/m/01nln3</td>\n",
       "      <td>Scarface</td>\n",
       "      <td>1983-12-01</td>\n",
       "      <td>65884703.0</td>\n",
       "      <td>170.0</td>\n",
       "      <td>{\"/m/02h40lc\": \"English Language\", \"/m/06nm1\":...</td>\n",
       "      <td>{\"/m/09c7w0\": \"United States of America\"}</td>\n",
       "      <td>{\"/m/0lsxr\": \"Crime Fiction\", \"/m/01jfsb\": \"Th...</td>\n",
       "    </tr>\n",
       "  </tbody>\n",
       "</table>\n",
       "</div>"
      ],
      "text/plain": [
       "     imdb_id                                          title  \\\n",
       "0  tt1733125  Dungeons & Dragons: The Book of Vile Darkness   \n",
       "1  tt0033045                     The Shop Around the Corner   \n",
       "2  tt0113862                             Mr. Holland's Opus   \n",
       "3  tt0086250                                       Scarface   \n",
       "4  tt0086250                                       Scarface   \n",
       "\n",
       "                                       plot_synopsis  \\\n",
       "0  Two thousand years ago, Nhagruul the Foul, a s...   \n",
       "1  Matuschek's, a gift store in Budapest, is the ...   \n",
       "2  Glenn Holland, not a morning person by anyone'...   \n",
       "3  In May 1980, a Cuban man named Tony Montana (A...   \n",
       "4  In May 1980, a Cuban man named Tony Montana (A...   \n",
       "\n",
       "                                                tags  split synopsis_source  \\\n",
       "0                                           violence  train            imdb   \n",
       "1                                           romantic   test            imdb   \n",
       "2             inspiring, romantic, stupid, feel-good  train            imdb   \n",
       "3  cruelty, murder, dramatic, cult, violence, atm...    val            imdb   \n",
       "4  cruelty, murder, dramatic, cult, violence, atm...    val            imdb   \n",
       "\n",
       "   Wikipedia movie ID Freebase movie ID  \\\n",
       "0            30855958        /m/0gfjl1f   \n",
       "1               76353          /m/0k4bt   \n",
       "2              171076         /m/016z98   \n",
       "3               76331          /m/0k44g   \n",
       "4              267848         /m/01nln3   \n",
       "\n",
       "                                      Movie name Movie release date  \\\n",
       "0  Dungeons & Dragons: The Book of Vile Darkness         2012-08-09   \n",
       "1                     The Shop Around the Corner         1940-01-12   \n",
       "2                             Mr. Holland's Opus         1995-12-29   \n",
       "3                                       Scarface               1932   \n",
       "4                                       Scarface         1983-12-01   \n",
       "\n",
       "   Movie box office revenue  Movie runtime  \\\n",
       "0                       NaN           90.0   \n",
       "1                       NaN           98.0   \n",
       "2               106269971.0          130.0   \n",
       "3                       NaN           94.0   \n",
       "4                65884703.0          170.0   \n",
       "\n",
       "                                     Movie languages  \\\n",
       "0                                                 {}   \n",
       "1                 {\"/m/02h40lc\": \"English Language\"}   \n",
       "2  {\"/m/02h40lc\": \"English Language\", \"/m/0my5\": ...   \n",
       "3  {\"/m/02bjrlw\": \"Italian Language\", \"/m/02h40lc...   \n",
       "4  {\"/m/02h40lc\": \"English Language\", \"/m/06nm1\":...   \n",
       "\n",
       "                             Movie countries  \\\n",
       "0             {\"/m/07ssc\": \"United Kingdom\"}   \n",
       "1  {\"/m/09c7w0\": \"United States of America\"}   \n",
       "2  {\"/m/09c7w0\": \"United States of America\"}   \n",
       "3  {\"/m/09c7w0\": \"United States of America\"}   \n",
       "4  {\"/m/09c7w0\": \"United States of America\"}   \n",
       "\n",
       "                                        Movie genres  \n",
       "0                           {\"/m/01hmnh\": \"Fantasy\"}  \n",
       "1  {\"/m/06cvj\": \"Romantic comedy\", \"/m/0hj3nyp\": ...  \n",
       "2  {\"/m/0hj3n84\": \"Inspirational Drama\", \"/m/0hqx...  \n",
       "3  {\"/m/0lsxr\": \"Crime Fiction\", \"/m/0gw5w78\": \"G...  \n",
       "4  {\"/m/0lsxr\": \"Crime Fiction\", \"/m/01jfsb\": \"Th...  "
      ]
     },
     "execution_count": 9,
     "metadata": {},
     "output_type": "execute_result"
    }
   ],
   "source": [
    "movies_synopsis = synopsis.merge(movie, left_on='title', right_on='Movie name', how='inner')\n",
    "movies_synopsis.drop(columns=['title', 'split']) # Does not work\n",
    "movies_synopsis.head()"
   ]
  },
  {
   "cell_type": "markdown",
   "metadata": {
    "id": "c2eKy8mhTIdz"
   },
   "source": [
    "### Comment\n",
    "\n",
    "1. Movie loss\n",
    "\n",
    "\n",
    "The size fo the dataframe has not significantly changed, only ... rows did not match thus our original movie df contained most of the movies present in the synopsis df.\n",
    "\n",
    "2. Same title\n",
    "\n",
    "\n",
    "We also observe that Scarface appears twice since there was a remake but for the rest for the analyis we will assume taht their is no significant change between their synopses"
   ]
  },
  {
   "cell_type": "markdown",
   "metadata": {
    "id": "puGRuU1FJF0M"
   },
   "source": [
    "# Can we observe new movies' groups using LDA?"
   ]
  },
  {
   "cell_type": "markdown",
   "metadata": {
    "id": "7ufNxJcGV14R"
   },
   "source": [
    "## Preprocessing\n",
    "Removing stop words and names before using LDA is important such that those very frequent words are not used to predict themes + lowercase "
   ]
  },
  {
   "cell_type": "code",
   "execution_count": 10,
   "metadata": {
    "colab": {
     "base_uri": "https://localhost:8080/"
    },
    "id": "fmy51tqAWDA9",
    "outputId": "a29527a5-fb56-47b7-86a9-10b862af2514"
   },
   "outputs": [
    {
     "name": "stdout",
     "output_type": "stream",
     "text": [
      "Their are 14734 sentences\n",
      "After removing names their are 14734 sentences\n",
      "After total processing their are 14734 sentences\n"
     ]
    }
   ],
   "source": [
    "# This cell takes long to run you can use the movies_synopsis df instead\n",
    "\n",
    "\"\"\"\n",
    "# Load the spaCy model\n",
    "nlp = spacy.load(\"en_core_web_sm\")\n",
    "\n",
    "def remove_named_entities(text):\n",
    "    doc = nlp(text)\n",
    "    return ' '.join([token.text for token in doc if token.ent_type_ != \"PERSON\"])  # Exclude PERSON entities\n",
    "\n",
    "stop_words = set(stopwords.words('english'))\n",
    "\n",
    "# Sample movie summaries\n",
    "sentences = movies_synopsis['plot_synopsis'].tolist()\n",
    "print(\"Their are\", len(sentences), \"sentences\")\n",
    "\n",
    "# Remove names\n",
    "cleaned_sentences= [remove_named_entities(doc) for doc in sentences]\n",
    "print(\"After removing names their are\", len(cleaned_sentences), \"sentences\")\n",
    "\n",
    "# Remove stop words lowercase\n",
    "processed_sentences = [\n",
    "    [word for word in word_tokenize(sentence.lower()) if word.isalnum() and word not in stop_words]\n",
    "    for sentence in cleaned_sentences\n",
    "]\n",
    "print(\"After total processing their are\", len(processed_sentences), \"sentences\")\n",
    "\n",
    "# stores processed_sentences in a df so that those steps do not have to be repeated\n",
    "movies_synopsis['processed synopsis'] = processed_sentences\n",
    "movies_synopsis.to_csv('movies_synopsis.csv', index=False)\n",
    "\"\"\"\n"
   ]
  },
  {
   "cell_type": "code",
   "execution_count": 23,
   "metadata": {
    "execution": {
     "iopub.execute_input": "2024-11-11T17:19:34.735771Z",
     "iopub.status.busy": "2024-11-11T17:19:34.734207Z",
     "iopub.status.idle": "2024-11-11T17:19:36.771269Z",
     "shell.execute_reply": "2024-11-11T17:19:36.770251Z",
     "shell.execute_reply.started": "2024-11-11T17:19:34.735656Z"
    }
   },
   "outputs": [],
   "source": [
    "# Create a dictionary and corpus for the LDA model\n",
    "movies_synopsis = pd.read_csv('Data/movies_synopsis.csv')\n",
    "processed_sentences = movies_synopsis['processed synopsis'].tolist()"
   ]
  },
  {
   "cell_type": "code",
   "execution_count": 21,
   "metadata": {
    "execution": {
     "iopub.execute_input": "2024-11-11T17:19:07.956265Z",
     "iopub.status.busy": "2024-11-11T17:19:07.954768Z",
     "iopub.status.idle": "2024-11-11T17:19:08.069738Z",
     "shell.execute_reply": "2024-11-11T17:19:08.067878Z",
     "shell.execute_reply.started": "2024-11-11T17:19:07.956218Z"
    },
    "id": "eNggPkuRM0QJ"
   },
   "outputs": [
    {
     "ename": "TypeError",
     "evalue": "doc2bow expects an array of unicode tokens on input, not a single string",
     "output_type": "error",
     "traceback": [
      "\u001b[0;31m---------------------------------------------------------------------------\u001b[0m",
      "\u001b[0;31mTypeError\u001b[0m                                 Traceback (most recent call last)",
      "Cell \u001b[0;32mIn[21], line 1\u001b[0m\n\u001b[0;32m----> 1\u001b[0m dictionary \u001b[38;5;241m=\u001b[39m \u001b[43mDictionary\u001b[49m\u001b[43m(\u001b[49m\u001b[43mprocessed_sentences\u001b[49m\u001b[43m)\u001b[49m\n\u001b[1;32m      2\u001b[0m corpus \u001b[38;5;241m=\u001b[39m [dictionary\u001b[38;5;241m.\u001b[39mdoc2bow(sentence) \u001b[38;5;28;01mfor\u001b[39;00m sentence \u001b[38;5;129;01min\u001b[39;00m processed_sentences]\n\u001b[1;32m      4\u001b[0m \u001b[38;5;66;03m# Train LDA model\u001b[39;00m\n",
      "File \u001b[0;32m~/my_venvs/ADA/lib/python3.12/site-packages/gensim/corpora/dictionary.py:78\u001b[0m, in \u001b[0;36mDictionary.__init__\u001b[0;34m(self, documents, prune_at)\u001b[0m\n\u001b[1;32m     75\u001b[0m \u001b[38;5;28mself\u001b[39m\u001b[38;5;241m.\u001b[39mnum_nnz \u001b[38;5;241m=\u001b[39m \u001b[38;5;241m0\u001b[39m\n\u001b[1;32m     77\u001b[0m \u001b[38;5;28;01mif\u001b[39;00m documents \u001b[38;5;129;01mis\u001b[39;00m \u001b[38;5;129;01mnot\u001b[39;00m \u001b[38;5;28;01mNone\u001b[39;00m:\n\u001b[0;32m---> 78\u001b[0m     \u001b[38;5;28;43mself\u001b[39;49m\u001b[38;5;241;43m.\u001b[39;49m\u001b[43madd_documents\u001b[49m\u001b[43m(\u001b[49m\u001b[43mdocuments\u001b[49m\u001b[43m,\u001b[49m\u001b[43m \u001b[49m\u001b[43mprune_at\u001b[49m\u001b[38;5;241;43m=\u001b[39;49m\u001b[43mprune_at\u001b[49m\u001b[43m)\u001b[49m\n\u001b[1;32m     79\u001b[0m     \u001b[38;5;28mself\u001b[39m\u001b[38;5;241m.\u001b[39madd_lifecycle_event(\n\u001b[1;32m     80\u001b[0m         \u001b[38;5;124m\"\u001b[39m\u001b[38;5;124mcreated\u001b[39m\u001b[38;5;124m\"\u001b[39m,\n\u001b[1;32m     81\u001b[0m         msg\u001b[38;5;241m=\u001b[39m\u001b[38;5;124mf\u001b[39m\u001b[38;5;124m\"\u001b[39m\u001b[38;5;124mbuilt \u001b[39m\u001b[38;5;132;01m{\u001b[39;00m\u001b[38;5;28mself\u001b[39m\u001b[38;5;132;01m}\u001b[39;00m\u001b[38;5;124m from \u001b[39m\u001b[38;5;132;01m{\u001b[39;00m\u001b[38;5;28mself\u001b[39m\u001b[38;5;241m.\u001b[39mnum_docs\u001b[38;5;132;01m}\u001b[39;00m\u001b[38;5;124m documents (total \u001b[39m\u001b[38;5;132;01m{\u001b[39;00m\u001b[38;5;28mself\u001b[39m\u001b[38;5;241m.\u001b[39mnum_pos\u001b[38;5;132;01m}\u001b[39;00m\u001b[38;5;124m corpus positions)\u001b[39m\u001b[38;5;124m\"\u001b[39m,\n\u001b[1;32m     82\u001b[0m     )\n",
      "File \u001b[0;32m~/my_venvs/ADA/lib/python3.12/site-packages/gensim/corpora/dictionary.py:204\u001b[0m, in \u001b[0;36mDictionary.add_documents\u001b[0;34m(self, documents, prune_at)\u001b[0m\n\u001b[1;32m    201\u001b[0m         logger\u001b[38;5;241m.\u001b[39minfo(\u001b[38;5;124m\"\u001b[39m\u001b[38;5;124madding document #\u001b[39m\u001b[38;5;132;01m%i\u001b[39;00m\u001b[38;5;124m to \u001b[39m\u001b[38;5;132;01m%s\u001b[39;00m\u001b[38;5;124m\"\u001b[39m, docno, \u001b[38;5;28mself\u001b[39m)\n\u001b[1;32m    203\u001b[0m     \u001b[38;5;66;03m# update Dictionary with the document\u001b[39;00m\n\u001b[0;32m--> 204\u001b[0m     \u001b[38;5;28;43mself\u001b[39;49m\u001b[38;5;241;43m.\u001b[39;49m\u001b[43mdoc2bow\u001b[49m\u001b[43m(\u001b[49m\u001b[43mdocument\u001b[49m\u001b[43m,\u001b[49m\u001b[43m \u001b[49m\u001b[43mallow_update\u001b[49m\u001b[38;5;241;43m=\u001b[39;49m\u001b[38;5;28;43;01mTrue\u001b[39;49;00m\u001b[43m)\u001b[49m  \u001b[38;5;66;03m# ignore the result, here we only care about updating token ids\u001b[39;00m\n\u001b[1;32m    206\u001b[0m logger\u001b[38;5;241m.\u001b[39minfo(\u001b[38;5;124m\"\u001b[39m\u001b[38;5;124mbuilt \u001b[39m\u001b[38;5;132;01m%s\u001b[39;00m\u001b[38;5;124m from \u001b[39m\u001b[38;5;132;01m%i\u001b[39;00m\u001b[38;5;124m documents (total \u001b[39m\u001b[38;5;132;01m%i\u001b[39;00m\u001b[38;5;124m corpus positions)\u001b[39m\u001b[38;5;124m\"\u001b[39m, \u001b[38;5;28mself\u001b[39m, \u001b[38;5;28mself\u001b[39m\u001b[38;5;241m.\u001b[39mnum_docs, \u001b[38;5;28mself\u001b[39m\u001b[38;5;241m.\u001b[39mnum_pos)\n",
      "File \u001b[0;32m~/my_venvs/ADA/lib/python3.12/site-packages/gensim/corpora/dictionary.py:241\u001b[0m, in \u001b[0;36mDictionary.doc2bow\u001b[0;34m(self, document, allow_update, return_missing)\u001b[0m\n\u001b[1;32m    209\u001b[0m \u001b[38;5;250m\u001b[39m\u001b[38;5;124;03m\"\"\"Convert `document` into the bag-of-words (BoW) format = list of `(token_id, token_count)` tuples.\u001b[39;00m\n\u001b[1;32m    210\u001b[0m \n\u001b[1;32m    211\u001b[0m \u001b[38;5;124;03mParameters\u001b[39;00m\n\u001b[0;32m   (...)\u001b[0m\n\u001b[1;32m    238\u001b[0m \n\u001b[1;32m    239\u001b[0m \u001b[38;5;124;03m\"\"\"\u001b[39;00m\n\u001b[1;32m    240\u001b[0m \u001b[38;5;28;01mif\u001b[39;00m \u001b[38;5;28misinstance\u001b[39m(document, \u001b[38;5;28mstr\u001b[39m):\n\u001b[0;32m--> 241\u001b[0m     \u001b[38;5;28;01mraise\u001b[39;00m \u001b[38;5;167;01mTypeError\u001b[39;00m(\u001b[38;5;124m\"\u001b[39m\u001b[38;5;124mdoc2bow expects an array of unicode tokens on input, not a single string\u001b[39m\u001b[38;5;124m\"\u001b[39m)\n\u001b[1;32m    243\u001b[0m \u001b[38;5;66;03m# Construct (word, frequency) mapping.\u001b[39;00m\n\u001b[1;32m    244\u001b[0m counter \u001b[38;5;241m=\u001b[39m defaultdict(\u001b[38;5;28mint\u001b[39m)\n",
      "\u001b[0;31mTypeError\u001b[0m: doc2bow expects an array of unicode tokens on input, not a single string"
     ]
    }
   ],
   "source": [
    "dictionary = Dictionary(processed_sentences)\n",
    "corpus = [dictionary.doc2bow(sentence) for sentence in processed_sentences]\n",
    "\n",
    "# Train LDA model\n",
    "lda_model = LdaModel(corpus=corpus, id2word=dictionary, num_topics=10, random_state=42, passes=10, iterations=50)"
   ]
  },
  {
   "cell_type": "code",
   "execution_count": 13,
   "metadata": {
    "colab": {
     "base_uri": "https://localhost:8080/"
    },
    "id": "jXXtnxL8QZ65",
    "outputId": "05888b1d-cf0a-47f3-fa28-a9b24e120b39"
   },
   "outputs": [
    {
     "name": "stdout",
     "output_type": "stream",
     "text": [
      "Topic 0: 0.016*\"police\" + 0.008*\"car\" + 0.007*\"man\" + 0.007*\"kill\" + 0.007*\"killed\" + 0.007*\"house\" + 0.005*\"finds\" + 0.005*\"dead\" + 0.005*\"gun\" + 0.005*\"one\" + 0.005*\"find\" + 0.005*\"body\" + 0.005*\"death\" + 0.005*\"murder\" + 0.005*\"shoots\"\n",
      "Topic 1: 0.005*\"one\" + 0.004*\"war\" + 0.004*\"team\" + 0.004*\"men\" + 0.003*\"ship\" + 0.003*\"escape\" + 0.003*\"killed\" + 0.003*\"two\" + 0.003*\"attack\" + 0.003*\"world\" + 0.003*\"army\" + 0.003*\"earth\" + 0.003*\"group\" + 0.003*\"bomb\" + 0.003*\"time\"\n",
      "Topic 2: 0.022*\"hamlet\" + 0.018*\"king\" + 0.012*\"macbeth\" + 0.009*\"claudius\" + 0.006*\"prince\" + 0.006*\"banquo\" + 0.005*\"act\" + 0.005*\"witches\" + 0.005*\"ghost\" + 0.005*\"queen\" + 0.004*\"castle\" + 0.004*\"musketeers\" + 0.004*\"father\" + 0.004*\"england\" + 0.004*\"love\"\n",
      "Topic 3: 0.007*\"father\" + 0.005*\"love\" + 0.005*\"family\" + 0.005*\"one\" + 0.005*\"life\" + 0.005*\"new\" + 0.005*\"mother\" + 0.004*\"film\" + 0.004*\"home\" + 0.004*\"time\" + 0.004*\"also\" + 0.004*\"wife\" + 0.003*\"son\" + 0.003*\"later\" + 0.003*\"two\"\n",
      "Topic 4: 0.007*\"back\" + 0.005*\"town\" + 0.005*\"one\" + 0.005*\"men\" + 0.004*\"find\" + 0.004*\"man\" + 0.004*\"away\" + 0.003*\"two\" + 0.003*\"sheriff\" + 0.003*\"kill\" + 0.003*\"tells\" + 0.003*\"however\" + 0.003*\"help\" + 0.003*\"horse\" + 0.003*\"escape\"\n",
      "Topic 5: 0.012*\"ship\" + 0.010*\"island\" + 0.010*\"boat\" + 0.008*\"uncle\" + 0.008*\"treasure\" + 0.008*\"captain\" + 0.007*\"one\" + 0.007*\"crew\" + 0.007*\"house\" + 0.007*\"sea\" + 0.006*\"silver\" + 0.006*\"helen\" + 0.006*\"bond\" + 0.005*\"back\" + 0.005*\"money\"\n",
      "Topic 6: 0.012*\"sir\" + 0.011*\"beast\" + 0.007*\"beauty\" + 0.007*\"merchant\" + 0.006*\"children\" + 0.006*\"heathcliff\" + 0.005*\"love\" + 0.005*\"rose\" + 0.005*\"prince\" + 0.005*\"marry\" + 0.005*\"one\" + 0.004*\"castle\" + 0.004*\"later\" + 0.004*\"house\" + 0.004*\"family\"\n",
      "Topic 7: 0.008*\"money\" + 0.008*\"get\" + 0.007*\"tells\" + 0.006*\"back\" + 0.006*\"car\" + 0.005*\"one\" + 0.005*\"gets\" + 0.005*\"go\" + 0.005*\"two\" + 0.004*\"new\" + 0.004*\"goes\" + 0.004*\"next\" + 0.004*\"job\" + 0.003*\"take\" + 0.003*\"hotel\"\n",
      "Topic 8: 0.012*\"tells\" + 0.009*\"back\" + 0.007*\"says\" + 0.007*\"house\" + 0.006*\"room\" + 0.006*\"asks\" + 0.006*\"one\" + 0.006*\"goes\" + 0.005*\"go\" + 0.005*\"see\" + 0.005*\"get\" + 0.005*\"sees\" + 0.005*\"home\" + 0.004*\"door\" + 0.004*\"away\"\n",
      "Topic 9: 0.008*\"sean\" + 0.008*\"lincoln\" + 0.007*\"french\" + 0.007*\"edmund\" + 0.006*\"lear\" + 0.006*\"echo\" + 0.006*\"julian\" + 0.005*\"carrie\" + 0.005*\"british\" + 0.005*\"family\" + 0.005*\"father\" + 0.005*\"lucie\" + 0.005*\"albany\" + 0.005*\"troy\" + 0.004*\"wilson\"\n"
     ]
    }
   ],
   "source": [
    "for topic_id, topic_words in lda_model.print_topics(num_words=15):\n",
    "    print(f\"Topic {topic_id}: {topic_words}\")"
   ]
  },
  {
   "cell_type": "markdown",
   "metadata": {
    "id": "Gv5zexcKzCTL"
   },
   "source": [
    "This approcah seems promising! With very basic preprocessing can already interpret some themes:\n",
    "\n",
    "*   Topic 0: Police + Kill -> Detective\n",
    "*   Topic 1: War + team --> War\n",
    "*   Topic 2: King + witches --> Medevial\n",
    "*   Topic 3: Father + Love --> Family\n",
    "*   Topic 4: Twon + Sherrif + Horse --> Western\n",
    "*   Topic 5: Sea + treasure --> Pirate\n",
    "*   Topic 6: Prince + Castle --> Fairy tale\n",
    "*   Topic 7: Money + job --> Buisness\n",
    "*   Topic 8: ?\n",
    "*   Topic 9: ?\n",
    "\n",
    "\n",
    "But we also observe that this still has room for improvement in example topics 9 still carries many names thus for further analysis the name removal step should be fine tuned. And also lemmatization should be applied to avoid reoccurences of declinaison of the same word (e.g killed and kill in topic 0)\n",
    "\n",
    "\n",
    "\n",
    "\n",
    "\n"
   ]
  },
  {
   "cell_type": "markdown",
   "metadata": {
    "id": "49xlWbHIKeAi"
   },
   "source": [
    "passes: refers to the number of complete passes through the entire dataset. Increasing it gives the model more chances to learn the structure of your data.\n",
    "\n",
    "iterations controls how many times the model iterates through each document per pass. Increasing iterations can help improve convergence for smaller datasets."
   ]
  }
 ],
 "metadata": {
  "colab": {
   "provenance": []
  },
  "kernelspec": {
   "display_name": "Python 3",
   "language": "python",
   "name": "python3"
  },
  "language_info": {
   "codemirror_mode": {
    "name": "ipython",
    "version": 3
   },
   "file_extension": ".py",
   "mimetype": "text/x-python",
   "name": "python",
   "nbconvert_exporter": "python",
   "pygments_lexer": "ipython3",
   "version": "3.12.1"
  }
 },
 "nbformat": 4,
 "nbformat_minor": 4
}
